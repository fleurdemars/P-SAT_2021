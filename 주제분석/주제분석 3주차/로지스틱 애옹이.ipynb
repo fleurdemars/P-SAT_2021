{
 "cells": [
  {
   "cell_type": "code",
   "execution_count": 1,
   "metadata": {},
   "outputs": [],
   "source": [
    "setwd('C:/Users/fleur/2021 P-SAT/주제분석/주제분석 2주차/데이터')"
   ]
  },
  {
   "cell_type": "code",
   "execution_count": 2,
   "metadata": {},
   "outputs": [
    {
     "name": "stderr",
     "output_type": "stream",
     "text": [
      "-- \u001b[1mAttaching packages\u001b[22m ------------------------------------------------------------------------------- tidyverse 1.3.0 --\n",
      "\n",
      "\u001b[32m√\u001b[39m \u001b[34mggplot2\u001b[39m 3.3.3     \u001b[32m√\u001b[39m \u001b[34mpurrr  \u001b[39m 0.3.4\n",
      "\u001b[32m√\u001b[39m \u001b[34mtibble \u001b[39m 3.0.4     \u001b[32m√\u001b[39m \u001b[34mdplyr  \u001b[39m 1.0.2\n",
      "\u001b[32m√\u001b[39m \u001b[34mtidyr  \u001b[39m 1.1.2     \u001b[32m√\u001b[39m \u001b[34mstringr\u001b[39m 1.4.0\n",
      "\u001b[32m√\u001b[39m \u001b[34mreadr  \u001b[39m 1.4.0     \u001b[32m√\u001b[39m \u001b[34mforcats\u001b[39m 0.5.0\n",
      "\n",
      "-- \u001b[1mConflicts\u001b[22m ---------------------------------------------------------------------------------- tidyverse_conflicts() --\n",
      "\u001b[31mx\u001b[39m \u001b[34mdplyr\u001b[39m::\u001b[32mbetween()\u001b[39m   masks \u001b[34mdata.table\u001b[39m::between()\n",
      "\u001b[31mx\u001b[39m \u001b[34mdplyr\u001b[39m::\u001b[32mfilter()\u001b[39m    masks \u001b[34mstats\u001b[39m::filter()\n",
      "\u001b[31mx\u001b[39m \u001b[34mdplyr\u001b[39m::\u001b[32mfirst()\u001b[39m     masks \u001b[34mdata.table\u001b[39m::first()\n",
      "\u001b[31mx\u001b[39m \u001b[34mdplyr\u001b[39m::\u001b[32mlag()\u001b[39m       masks \u001b[34mstats\u001b[39m::lag()\n",
      "\u001b[31mx\u001b[39m \u001b[34mdplyr\u001b[39m::\u001b[32mlast()\u001b[39m      masks \u001b[34mdata.table\u001b[39m::last()\n",
      "\u001b[31mx\u001b[39m \u001b[34mpurrr\u001b[39m::\u001b[32mtranspose()\u001b[39m masks \u001b[34mdata.table\u001b[39m::transpose()\n",
      "\n",
      "Warning message:\n",
      "\"package 'fastDummies' was built under R version 4.0.5\"\n",
      "Warning message:\n",
      "\"package 'car' was built under R version 4.0.4\"\n",
      "Loading required package: carData\n",
      "\n",
      "\n",
      "Attaching package: 'car'\n",
      "\n",
      "\n",
      "The following object is masked from 'package:dplyr':\n",
      "\n",
      "    recode\n",
      "\n",
      "\n",
      "The following object is masked from 'package:purrr':\n",
      "\n",
      "    some\n",
      "\n",
      "\n",
      "Warning message:\n",
      "\"package 'MLmetrics' was built under R version 4.0.4\"\n",
      "\n",
      "Attaching package: 'MLmetrics'\n",
      "\n",
      "\n",
      "The following object is masked from 'package:base':\n",
      "\n",
      "    Recall\n",
      "\n",
      "\n"
     ]
    }
   ],
   "source": [
    "library(data.table)\n",
    "library(tidyverse)\n",
    "library(fastDummies)\n",
    "library(car)\n",
    "library(MLmetrics)"
   ]
  },
  {
   "cell_type": "code",
   "execution_count": 18,
   "metadata": {},
   "outputs": [],
   "source": [
    "set.seed(613)"
   ]
  },
  {
   "cell_type": "code",
   "execution_count": 19,
   "metadata": {},
   "outputs": [],
   "source": [
    "# 오즈비 출력 함수 정의\n",
    "ORtable = function(x, digits = 7){\n",
    "    suppressMessages(a <- confint(x))\n",
    "    result = data.frame(exp(coef(x)), exp(a))\n",
    "    result = round(result, digits)\n",
    "    result = cbind(result, round(summary(x)$coefficient[,4],5))\n",
    "    colnames(result) = c(\"OR\", \"2.5%\", \"97.%\", \"p-value\")\n",
    "    result\n",
    "}"
   ]
  },
  {
   "cell_type": "code",
   "execution_count": 20,
   "metadata": {},
   "outputs": [],
   "source": [
    "cat = fread('flt_train_cat.csv', data.table = FALSE)"
   ]
  },
  {
   "cell_type": "code",
   "execution_count": 21,
   "metadata": {},
   "outputs": [
    {
     "data": {
      "text/html": [
       "<table>\n",
       "<caption>A data.frame: 6 × 13</caption>\n",
       "<thead>\n",
       "\t<tr><th></th><th scope=col>adoptionYN</th><th scope=col>age</th><th scope=col>season</th><th scope=col>neuterYN</th><th scope=col>sex</th><th scope=col>disease_cnt</th><th scope=col>positives</th><th scope=col>negatives</th><th scope=col>hair</th><th scope=col>grdp</th><th scope=col>economy</th><th scope=col>hospital_num</th><th scope=col>color</th></tr>\n",
       "\t<tr><th></th><th scope=col>&lt;int&gt;</th><th scope=col>&lt;int&gt;</th><th scope=col>&lt;int&gt;</th><th scope=col>&lt;int&gt;</th><th scope=col>&lt;int&gt;</th><th scope=col>&lt;int&gt;</th><th scope=col>&lt;int&gt;</th><th scope=col>&lt;int&gt;</th><th scope=col>&lt;int&gt;</th><th scope=col>&lt;dbl&gt;</th><th scope=col>&lt;dbl&gt;</th><th scope=col>&lt;int&gt;</th><th scope=col>&lt;int&gt;</th></tr>\n",
       "</thead>\n",
       "<tbody>\n",
       "\t<tr><th scope=row>1</th><td>1</td><td>3</td><td>4</td><td>0</td><td>1</td><td>0</td><td>0</td><td>1</td><td>1</td><td>33275552</td><td>63007147</td><td>17</td><td>4</td></tr>\n",
       "\t<tr><th scope=row>2</th><td>1</td><td>3</td><td>4</td><td>0</td><td>1</td><td>1</td><td>0</td><td>1</td><td>1</td><td>33275552</td><td>63007147</td><td>17</td><td>3</td></tr>\n",
       "\t<tr><th scope=row>3</th><td>0</td><td>2</td><td>4</td><td>0</td><td>1</td><td>2</td><td>0</td><td>1</td><td>1</td><td>33275552</td><td>63007147</td><td>17</td><td>0</td></tr>\n",
       "\t<tr><th scope=row>4</th><td>1</td><td>2</td><td>4</td><td>0</td><td>1</td><td>0</td><td>1</td><td>0</td><td>1</td><td>31765708</td><td>76346777</td><td>12</td><td>6</td></tr>\n",
       "\t<tr><th scope=row>5</th><td>1</td><td>2</td><td>4</td><td>0</td><td>1</td><td>0</td><td>1</td><td>0</td><td>1</td><td>31765708</td><td>76346777</td><td>12</td><td>6</td></tr>\n",
       "\t<tr><th scope=row>6</th><td>1</td><td>8</td><td>4</td><td>2</td><td>2</td><td>1</td><td>0</td><td>0</td><td>0</td><td>40023584</td><td>67504454</td><td>12</td><td>6</td></tr>\n",
       "</tbody>\n",
       "</table>\n"
      ],
      "text/latex": [
       "A data.frame: 6 × 13\n",
       "\\begin{tabular}{r|lllllllllllll}\n",
       "  & adoptionYN & age & season & neuterYN & sex & disease\\_cnt & positives & negatives & hair & grdp & economy & hospital\\_num & color\\\\\n",
       "  & <int> & <int> & <int> & <int> & <int> & <int> & <int> & <int> & <int> & <dbl> & <dbl> & <int> & <int>\\\\\n",
       "\\hline\n",
       "\t1 & 1 & 3 & 4 & 0 & 1 & 0 & 0 & 1 & 1 & 33275552 & 63007147 & 17 & 4\\\\\n",
       "\t2 & 1 & 3 & 4 & 0 & 1 & 1 & 0 & 1 & 1 & 33275552 & 63007147 & 17 & 3\\\\\n",
       "\t3 & 0 & 2 & 4 & 0 & 1 & 2 & 0 & 1 & 1 & 33275552 & 63007147 & 17 & 0\\\\\n",
       "\t4 & 1 & 2 & 4 & 0 & 1 & 0 & 1 & 0 & 1 & 31765708 & 76346777 & 12 & 6\\\\\n",
       "\t5 & 1 & 2 & 4 & 0 & 1 & 0 & 1 & 0 & 1 & 31765708 & 76346777 & 12 & 6\\\\\n",
       "\t6 & 1 & 8 & 4 & 2 & 2 & 1 & 0 & 0 & 0 & 40023584 & 67504454 & 12 & 6\\\\\n",
       "\\end{tabular}\n"
      ],
      "text/markdown": [
       "\n",
       "A data.frame: 6 × 13\n",
       "\n",
       "| <!--/--> | adoptionYN &lt;int&gt; | age &lt;int&gt; | season &lt;int&gt; | neuterYN &lt;int&gt; | sex &lt;int&gt; | disease_cnt &lt;int&gt; | positives &lt;int&gt; | negatives &lt;int&gt; | hair &lt;int&gt; | grdp &lt;dbl&gt; | economy &lt;dbl&gt; | hospital_num &lt;int&gt; | color &lt;int&gt; |\n",
       "|---|---|---|---|---|---|---|---|---|---|---|---|---|---|\n",
       "| 1 | 1 | 3 | 4 | 0 | 1 | 0 | 0 | 1 | 1 | 33275552 | 63007147 | 17 | 4 |\n",
       "| 2 | 1 | 3 | 4 | 0 | 1 | 1 | 0 | 1 | 1 | 33275552 | 63007147 | 17 | 3 |\n",
       "| 3 | 0 | 2 | 4 | 0 | 1 | 2 | 0 | 1 | 1 | 33275552 | 63007147 | 17 | 0 |\n",
       "| 4 | 1 | 2 | 4 | 0 | 1 | 0 | 1 | 0 | 1 | 31765708 | 76346777 | 12 | 6 |\n",
       "| 5 | 1 | 2 | 4 | 0 | 1 | 0 | 1 | 0 | 1 | 31765708 | 76346777 | 12 | 6 |\n",
       "| 6 | 1 | 8 | 4 | 2 | 2 | 1 | 0 | 0 | 0 | 40023584 | 67504454 | 12 | 6 |\n",
       "\n"
      ],
      "text/plain": [
       "  adoptionYN age season neuterYN sex disease_cnt positives negatives hair\n",
       "1 1          3   4      0        1   0           0         1         1   \n",
       "2 1          3   4      0        1   1           0         1         1   \n",
       "3 0          2   4      0        1   2           0         1         1   \n",
       "4 1          2   4      0        1   0           1         0         1   \n",
       "5 1          2   4      0        1   0           1         0         1   \n",
       "6 1          8   4      2        2   1           0         0         0   \n",
       "  grdp     economy  hospital_num color\n",
       "1 33275552 63007147 17           4    \n",
       "2 33275552 63007147 17           3    \n",
       "3 33275552 63007147 17           0    \n",
       "4 31765708 76346777 12           6    \n",
       "5 31765708 76346777 12           6    \n",
       "6 40023584 67504454 12           6    "
      ]
     },
     "metadata": {},
     "output_type": "display_data"
    }
   ],
   "source": [
    "cat %>% head()"
   ]
  },
  {
   "cell_type": "code",
   "execution_count": 22,
   "metadata": {},
   "outputs": [],
   "source": [
    "cat$adoptionYN = cat$adoptionYN %>% as.factor()\n",
    "cat$season = cat$season %>% as.factor()\n",
    "cat$neuterYN = cat$neuterYN %>% as.factor()\n",
    "cat$sex = cat$sex %>% as.factor()\n",
    "cat$hair = cat$hair %>% as.factor()\n",
    "cat$color = cat$color %>% as.factor()"
   ]
  },
  {
   "cell_type": "code",
   "execution_count": 23,
   "metadata": {},
   "outputs": [],
   "source": [
    "cat_cate = c('season', 'neuterYN', 'sex', 'hair', 'color')"
   ]
  },
  {
   "cell_type": "code",
   "execution_count": 24,
   "metadata": {},
   "outputs": [],
   "source": [
    "cat_nume = c('age', 'disease_cnt', 'positives', 'negatives', 'grdp', 'economy', 'hospital_num')"
   ]
  },
  {
   "cell_type": "code",
   "execution_count": 25,
   "metadata": {},
   "outputs": [],
   "source": [
    "cat_trainx = select(cat, -'adoptionYN')\n",
    "cat_trainy = cat['adoptionYN']"
   ]
  },
  {
   "cell_type": "code",
   "execution_count": 26,
   "metadata": {},
   "outputs": [
    {
     "data": {
      "text/html": [
       "<table>\n",
       "<caption>A data.frame: 6 × 12</caption>\n",
       "<thead>\n",
       "\t<tr><th></th><th scope=col>age</th><th scope=col>season</th><th scope=col>neuterYN</th><th scope=col>sex</th><th scope=col>disease_cnt</th><th scope=col>positives</th><th scope=col>negatives</th><th scope=col>hair</th><th scope=col>grdp</th><th scope=col>economy</th><th scope=col>hospital_num</th><th scope=col>color</th></tr>\n",
       "\t<tr><th></th><th scope=col>&lt;int&gt;</th><th scope=col>&lt;fct&gt;</th><th scope=col>&lt;fct&gt;</th><th scope=col>&lt;fct&gt;</th><th scope=col>&lt;int&gt;</th><th scope=col>&lt;int&gt;</th><th scope=col>&lt;int&gt;</th><th scope=col>&lt;fct&gt;</th><th scope=col>&lt;dbl&gt;</th><th scope=col>&lt;dbl&gt;</th><th scope=col>&lt;int&gt;</th><th scope=col>&lt;fct&gt;</th></tr>\n",
       "</thead>\n",
       "<tbody>\n",
       "\t<tr><th scope=row>1</th><td>3</td><td>4</td><td>0</td><td>1</td><td>0</td><td>0</td><td>1</td><td>1</td><td>33275552</td><td>63007147</td><td>17</td><td>4</td></tr>\n",
       "\t<tr><th scope=row>2</th><td>3</td><td>4</td><td>0</td><td>1</td><td>1</td><td>0</td><td>1</td><td>1</td><td>33275552</td><td>63007147</td><td>17</td><td>3</td></tr>\n",
       "\t<tr><th scope=row>3</th><td>2</td><td>4</td><td>0</td><td>1</td><td>2</td><td>0</td><td>1</td><td>1</td><td>33275552</td><td>63007147</td><td>17</td><td>0</td></tr>\n",
       "\t<tr><th scope=row>4</th><td>2</td><td>4</td><td>0</td><td>1</td><td>0</td><td>1</td><td>0</td><td>1</td><td>31765708</td><td>76346777</td><td>12</td><td>6</td></tr>\n",
       "\t<tr><th scope=row>5</th><td>2</td><td>4</td><td>0</td><td>1</td><td>0</td><td>1</td><td>0</td><td>1</td><td>31765708</td><td>76346777</td><td>12</td><td>6</td></tr>\n",
       "\t<tr><th scope=row>6</th><td>8</td><td>4</td><td>2</td><td>2</td><td>1</td><td>0</td><td>0</td><td>0</td><td>40023584</td><td>67504454</td><td>12</td><td>6</td></tr>\n",
       "</tbody>\n",
       "</table>\n"
      ],
      "text/latex": [
       "A data.frame: 6 × 12\n",
       "\\begin{tabular}{r|llllllllllll}\n",
       "  & age & season & neuterYN & sex & disease\\_cnt & positives & negatives & hair & grdp & economy & hospital\\_num & color\\\\\n",
       "  & <int> & <fct> & <fct> & <fct> & <int> & <int> & <int> & <fct> & <dbl> & <dbl> & <int> & <fct>\\\\\n",
       "\\hline\n",
       "\t1 & 3 & 4 & 0 & 1 & 0 & 0 & 1 & 1 & 33275552 & 63007147 & 17 & 4\\\\\n",
       "\t2 & 3 & 4 & 0 & 1 & 1 & 0 & 1 & 1 & 33275552 & 63007147 & 17 & 3\\\\\n",
       "\t3 & 2 & 4 & 0 & 1 & 2 & 0 & 1 & 1 & 33275552 & 63007147 & 17 & 0\\\\\n",
       "\t4 & 2 & 4 & 0 & 1 & 0 & 1 & 0 & 1 & 31765708 & 76346777 & 12 & 6\\\\\n",
       "\t5 & 2 & 4 & 0 & 1 & 0 & 1 & 0 & 1 & 31765708 & 76346777 & 12 & 6\\\\\n",
       "\t6 & 8 & 4 & 2 & 2 & 1 & 0 & 0 & 0 & 40023584 & 67504454 & 12 & 6\\\\\n",
       "\\end{tabular}\n"
      ],
      "text/markdown": [
       "\n",
       "A data.frame: 6 × 12\n",
       "\n",
       "| <!--/--> | age &lt;int&gt; | season &lt;fct&gt; | neuterYN &lt;fct&gt; | sex &lt;fct&gt; | disease_cnt &lt;int&gt; | positives &lt;int&gt; | negatives &lt;int&gt; | hair &lt;fct&gt; | grdp &lt;dbl&gt; | economy &lt;dbl&gt; | hospital_num &lt;int&gt; | color &lt;fct&gt; |\n",
       "|---|---|---|---|---|---|---|---|---|---|---|---|---|\n",
       "| 1 | 3 | 4 | 0 | 1 | 0 | 0 | 1 | 1 | 33275552 | 63007147 | 17 | 4 |\n",
       "| 2 | 3 | 4 | 0 | 1 | 1 | 0 | 1 | 1 | 33275552 | 63007147 | 17 | 3 |\n",
       "| 3 | 2 | 4 | 0 | 1 | 2 | 0 | 1 | 1 | 33275552 | 63007147 | 17 | 0 |\n",
       "| 4 | 2 | 4 | 0 | 1 | 0 | 1 | 0 | 1 | 31765708 | 76346777 | 12 | 6 |\n",
       "| 5 | 2 | 4 | 0 | 1 | 0 | 1 | 0 | 1 | 31765708 | 76346777 | 12 | 6 |\n",
       "| 6 | 8 | 4 | 2 | 2 | 1 | 0 | 0 | 0 | 40023584 | 67504454 | 12 | 6 |\n",
       "\n"
      ],
      "text/plain": [
       "  age season neuterYN sex disease_cnt positives negatives hair grdp    \n",
       "1 3   4      0        1   0           0         1         1    33275552\n",
       "2 3   4      0        1   1           0         1         1    33275552\n",
       "3 2   4      0        1   2           0         1         1    33275552\n",
       "4 2   4      0        1   0           1         0         1    31765708\n",
       "5 2   4      0        1   0           1         0         1    31765708\n",
       "6 8   4      2        2   1           0         0         0    40023584\n",
       "  economy  hospital_num color\n",
       "1 63007147 17           4    \n",
       "2 63007147 17           3    \n",
       "3 63007147 17           0    \n",
       "4 76346777 12           6    \n",
       "5 76346777 12           6    \n",
       "6 67504454 12           6    "
      ]
     },
     "metadata": {},
     "output_type": "display_data"
    }
   ],
   "source": [
    "cat_trainx %>% head()"
   ]
  },
  {
   "cell_type": "code",
   "execution_count": 27,
   "metadata": {},
   "outputs": [],
   "source": [
    "cat_trainx_dum = dummy_cols(cat_trainx, select_columns = cat_cate, remove_first_dummy = TRUE)"
   ]
  },
  {
   "cell_type": "code",
   "execution_count": 28,
   "metadata": {
    "scrolled": true
   },
   "outputs": [],
   "source": [
    "cat_trainx_dum = select(cat_trainx_dum, -cat_cate)"
   ]
  },
  {
   "cell_type": "code",
   "execution_count": 29,
   "metadata": {},
   "outputs": [],
   "source": [
    "cat_trainx_dum[cat_nume] = scale(cat_trainx_dum[cat_nume], center = TRUE, scale = TRUE)"
   ]
  },
  {
   "cell_type": "code",
   "execution_count": 30,
   "metadata": {},
   "outputs": [],
   "source": [
    "cat_data = cbind(cat_trainy, cat_trainx_dum)"
   ]
  },
  {
   "cell_type": "code",
   "execution_count": 31,
   "metadata": {},
   "outputs": [
    {
     "data": {
      "text/html": [
       "<table>\n",
       "<caption>A data.frame: 6 × 24</caption>\n",
       "<thead>\n",
       "\t<tr><th></th><th scope=col>adoptionYN</th><th scope=col>age</th><th scope=col>disease_cnt</th><th scope=col>positives</th><th scope=col>negatives</th><th scope=col>grdp</th><th scope=col>economy</th><th scope=col>hospital_num</th><th scope=col>season_2</th><th scope=col>season_3</th><th scope=col>...</th><th scope=col>sex_2</th><th scope=col>hair_1</th><th scope=col>hair_2</th><th scope=col>color_1</th><th scope=col>color_2</th><th scope=col>color_3</th><th scope=col>color_4</th><th scope=col>color_5</th><th scope=col>color_6</th><th scope=col>color_7</th></tr>\n",
       "\t<tr><th></th><th scope=col>&lt;fct&gt;</th><th scope=col>&lt;dbl&gt;</th><th scope=col>&lt;dbl&gt;</th><th scope=col>&lt;dbl&gt;</th><th scope=col>&lt;dbl&gt;</th><th scope=col>&lt;dbl&gt;</th><th scope=col>&lt;dbl&gt;</th><th scope=col>&lt;dbl&gt;</th><th scope=col>&lt;int&gt;</th><th scope=col>&lt;int&gt;</th><th scope=col>...</th><th scope=col>&lt;int&gt;</th><th scope=col>&lt;int&gt;</th><th scope=col>&lt;int&gt;</th><th scope=col>&lt;int&gt;</th><th scope=col>&lt;int&gt;</th><th scope=col>&lt;int&gt;</th><th scope=col>&lt;int&gt;</th><th scope=col>&lt;int&gt;</th><th scope=col>&lt;int&gt;</th><th scope=col>&lt;int&gt;</th></tr>\n",
       "</thead>\n",
       "<tbody>\n",
       "\t<tr><th scope=row>1</th><td>1</td><td>1.3145460</td><td>-0.70222841</td><td>-0.3783636</td><td> 0.3740513</td><td>-0.26859438</td><td>-1.1095041</td><td>-0.6308720</td><td>0</td><td>0</td><td>...</td><td>0</td><td>1</td><td>0</td><td>0</td><td>0</td><td>0</td><td>1</td><td>0</td><td>0</td><td>0</td></tr>\n",
       "\t<tr><th scope=row>2</th><td>1</td><td>1.3145460</td><td>-0.09656346</td><td>-0.3783636</td><td> 0.3740513</td><td>-0.26859438</td><td>-1.1095041</td><td>-0.6308720</td><td>0</td><td>0</td><td>...</td><td>0</td><td>1</td><td>0</td><td>0</td><td>0</td><td>1</td><td>0</td><td>0</td><td>0</td><td>0</td></tr>\n",
       "\t<tr><th scope=row>3</th><td>0</td><td>0.4669407</td><td> 0.50910149</td><td>-0.3783636</td><td> 0.3740513</td><td>-0.26859438</td><td>-1.1095041</td><td>-0.6308720</td><td>0</td><td>0</td><td>...</td><td>0</td><td>1</td><td>0</td><td>0</td><td>0</td><td>0</td><td>0</td><td>0</td><td>0</td><td>0</td></tr>\n",
       "\t<tr><th scope=row>4</th><td>1</td><td>0.4669407</td><td>-0.70222841</td><td> 1.4217553</td><td>-0.7218730</td><td>-0.31599116</td><td> 0.4766053</td><td>-0.8388315</td><td>0</td><td>0</td><td>...</td><td>0</td><td>1</td><td>0</td><td>0</td><td>0</td><td>0</td><td>0</td><td>0</td><td>1</td><td>0</td></tr>\n",
       "\t<tr><th scope=row>5</th><td>1</td><td>0.4669407</td><td>-0.70222841</td><td> 1.4217553</td><td>-0.7218730</td><td>-0.31599116</td><td> 0.4766053</td><td>-0.8388315</td><td>0</td><td>0</td><td>...</td><td>0</td><td>1</td><td>0</td><td>0</td><td>0</td><td>0</td><td>0</td><td>0</td><td>1</td><td>0</td></tr>\n",
       "\t<tr><th scope=row>6</th><td>1</td><td>5.5525724</td><td>-0.09656346</td><td>-0.3783636</td><td>-0.7218730</td><td>-0.05676135</td><td>-0.5747650</td><td>-0.8388315</td><td>0</td><td>0</td><td>...</td><td>1</td><td>0</td><td>0</td><td>0</td><td>0</td><td>0</td><td>0</td><td>0</td><td>1</td><td>0</td></tr>\n",
       "</tbody>\n",
       "</table>\n"
      ],
      "text/latex": [
       "A data.frame: 6 × 24\n",
       "\\begin{tabular}{r|lllllllllllllllllllll}\n",
       "  & adoptionYN & age & disease\\_cnt & positives & negatives & grdp & economy & hospital\\_num & season\\_2 & season\\_3 & ... & sex\\_2 & hair\\_1 & hair\\_2 & color\\_1 & color\\_2 & color\\_3 & color\\_4 & color\\_5 & color\\_6 & color\\_7\\\\\n",
       "  & <fct> & <dbl> & <dbl> & <dbl> & <dbl> & <dbl> & <dbl> & <dbl> & <int> & <int> & ... & <int> & <int> & <int> & <int> & <int> & <int> & <int> & <int> & <int> & <int>\\\\\n",
       "\\hline\n",
       "\t1 & 1 & 1.3145460 & -0.70222841 & -0.3783636 &  0.3740513 & -0.26859438 & -1.1095041 & -0.6308720 & 0 & 0 & ... & 0 & 1 & 0 & 0 & 0 & 0 & 1 & 0 & 0 & 0\\\\\n",
       "\t2 & 1 & 1.3145460 & -0.09656346 & -0.3783636 &  0.3740513 & -0.26859438 & -1.1095041 & -0.6308720 & 0 & 0 & ... & 0 & 1 & 0 & 0 & 0 & 1 & 0 & 0 & 0 & 0\\\\\n",
       "\t3 & 0 & 0.4669407 &  0.50910149 & -0.3783636 &  0.3740513 & -0.26859438 & -1.1095041 & -0.6308720 & 0 & 0 & ... & 0 & 1 & 0 & 0 & 0 & 0 & 0 & 0 & 0 & 0\\\\\n",
       "\t4 & 1 & 0.4669407 & -0.70222841 &  1.4217553 & -0.7218730 & -0.31599116 &  0.4766053 & -0.8388315 & 0 & 0 & ... & 0 & 1 & 0 & 0 & 0 & 0 & 0 & 0 & 1 & 0\\\\\n",
       "\t5 & 1 & 0.4669407 & -0.70222841 &  1.4217553 & -0.7218730 & -0.31599116 &  0.4766053 & -0.8388315 & 0 & 0 & ... & 0 & 1 & 0 & 0 & 0 & 0 & 0 & 0 & 1 & 0\\\\\n",
       "\t6 & 1 & 5.5525724 & -0.09656346 & -0.3783636 & -0.7218730 & -0.05676135 & -0.5747650 & -0.8388315 & 0 & 0 & ... & 1 & 0 & 0 & 0 & 0 & 0 & 0 & 0 & 1 & 0\\\\\n",
       "\\end{tabular}\n"
      ],
      "text/markdown": [
       "\n",
       "A data.frame: 6 × 24\n",
       "\n",
       "| <!--/--> | adoptionYN &lt;fct&gt; | age &lt;dbl&gt; | disease_cnt &lt;dbl&gt; | positives &lt;dbl&gt; | negatives &lt;dbl&gt; | grdp &lt;dbl&gt; | economy &lt;dbl&gt; | hospital_num &lt;dbl&gt; | season_2 &lt;int&gt; | season_3 &lt;int&gt; | ... ... | sex_2 &lt;int&gt; | hair_1 &lt;int&gt; | hair_2 &lt;int&gt; | color_1 &lt;int&gt; | color_2 &lt;int&gt; | color_3 &lt;int&gt; | color_4 &lt;int&gt; | color_5 &lt;int&gt; | color_6 &lt;int&gt; | color_7 &lt;int&gt; |\n",
       "|---|---|---|---|---|---|---|---|---|---|---|---|---|---|---|---|---|---|---|---|---|---|\n",
       "| 1 | 1 | 1.3145460 | -0.70222841 | -0.3783636 |  0.3740513 | -0.26859438 | -1.1095041 | -0.6308720 | 0 | 0 | ... | 0 | 1 | 0 | 0 | 0 | 0 | 1 | 0 | 0 | 0 |\n",
       "| 2 | 1 | 1.3145460 | -0.09656346 | -0.3783636 |  0.3740513 | -0.26859438 | -1.1095041 | -0.6308720 | 0 | 0 | ... | 0 | 1 | 0 | 0 | 0 | 1 | 0 | 0 | 0 | 0 |\n",
       "| 3 | 0 | 0.4669407 |  0.50910149 | -0.3783636 |  0.3740513 | -0.26859438 | -1.1095041 | -0.6308720 | 0 | 0 | ... | 0 | 1 | 0 | 0 | 0 | 0 | 0 | 0 | 0 | 0 |\n",
       "| 4 | 1 | 0.4669407 | -0.70222841 |  1.4217553 | -0.7218730 | -0.31599116 |  0.4766053 | -0.8388315 | 0 | 0 | ... | 0 | 1 | 0 | 0 | 0 | 0 | 0 | 0 | 1 | 0 |\n",
       "| 5 | 1 | 0.4669407 | -0.70222841 |  1.4217553 | -0.7218730 | -0.31599116 |  0.4766053 | -0.8388315 | 0 | 0 | ... | 0 | 1 | 0 | 0 | 0 | 0 | 0 | 0 | 1 | 0 |\n",
       "| 6 | 1 | 5.5525724 | -0.09656346 | -0.3783636 | -0.7218730 | -0.05676135 | -0.5747650 | -0.8388315 | 0 | 0 | ... | 1 | 0 | 0 | 0 | 0 | 0 | 0 | 0 | 1 | 0 |\n",
       "\n"
      ],
      "text/plain": [
       "  adoptionYN age       disease_cnt positives  negatives  grdp        economy   \n",
       "1 1          1.3145460 -0.70222841 -0.3783636  0.3740513 -0.26859438 -1.1095041\n",
       "2 1          1.3145460 -0.09656346 -0.3783636  0.3740513 -0.26859438 -1.1095041\n",
       "3 0          0.4669407  0.50910149 -0.3783636  0.3740513 -0.26859438 -1.1095041\n",
       "4 1          0.4669407 -0.70222841  1.4217553 -0.7218730 -0.31599116  0.4766053\n",
       "5 1          0.4669407 -0.70222841  1.4217553 -0.7218730 -0.31599116  0.4766053\n",
       "6 1          5.5525724 -0.09656346 -0.3783636 -0.7218730 -0.05676135 -0.5747650\n",
       "  hospital_num season_2 season_3 ... sex_2 hair_1 hair_2 color_1 color_2\n",
       "1 -0.6308720   0        0        ... 0     1      0      0       0      \n",
       "2 -0.6308720   0        0        ... 0     1      0      0       0      \n",
       "3 -0.6308720   0        0        ... 0     1      0      0       0      \n",
       "4 -0.8388315   0        0        ... 0     1      0      0       0      \n",
       "5 -0.8388315   0        0        ... 0     1      0      0       0      \n",
       "6 -0.8388315   0        0        ... 1     0      0      0       0      \n",
       "  color_3 color_4 color_5 color_6 color_7\n",
       "1 0       1       0       0       0      \n",
       "2 1       0       0       0       0      \n",
       "3 0       0       0       0       0      \n",
       "4 0       0       0       1       0      \n",
       "5 0       0       0       1       0      \n",
       "6 0       0       0       1       0      "
      ]
     },
     "metadata": {},
     "output_type": "display_data"
    }
   ],
   "source": [
    "cat_data %>% head()"
   ]
  },
  {
   "cell_type": "code",
   "execution_count": 32,
   "metadata": {},
   "outputs": [],
   "source": [
    "fit = glm(adoptionYN ~ ., cat_data, family = binomial)"
   ]
  },
  {
   "cell_type": "code",
   "execution_count": 33,
   "metadata": {},
   "outputs": [
    {
     "data": {
      "text/html": [
       "<style>\n",
       ".dl-inline {width: auto; margin:0; padding: 0}\n",
       ".dl-inline>dt, .dl-inline>dd {float: none; width: auto; display: inline-block}\n",
       ".dl-inline>dt::after {content: \":\\0020\"; padding-right: .5ex}\n",
       ".dl-inline>dt:not(:first-of-type) {padding-left: .5ex}\n",
       "</style><dl class=dl-inline><dt>age</dt><dd>1.27501816922951</dd><dt>disease_cnt</dt><dd>1.05480053986644</dd><dt>positives</dt><dd>1.02151007797969</dd><dt>negatives</dt><dd>1.08739985386314</dd><dt>grdp</dt><dd>1.21789388587427</dd><dt>economy</dt><dd>1.10185393007807</dd><dt>hospital_num</dt><dd>1.08722484466196</dd><dt>season_2</dt><dd>1.81046408630569</dd><dt>season_3</dt><dd>1.763087451431</dd><dt>season_4</dt><dd>1.37702085068839</dd><dt>neuterYN_1</dt><dd>1.12733769445529</dd><dt>neuterYN_2</dt><dd>1.09062140785412</dd><dt>sex_1</dt><dd>1.3463067506502</dd><dt>sex_2</dt><dd>1.37868489821692</dd><dt>hair_1</dt><dd>1.38910956768817</dd><dt>hair_2</dt><dd>1.50561461003359</dd><dt>color_1</dt><dd>1.22043867087269</dd><dt>color_2</dt><dd>1.14687538115099</dd><dt>color_3</dt><dd>1.45341449353274</dd><dt>color_4</dt><dd>1.51496641928876</dd><dt>color_5</dt><dd>1.49824386418872</dd><dt>color_6</dt><dd>1.47912713578354</dd><dt>color_7</dt><dd>1.2528467690675</dd></dl>\n"
      ],
      "text/latex": [
       "\\begin{description*}\n",
       "\\item[age] 1.27501816922951\n",
       "\\item[disease\\textbackslash{}\\_cnt] 1.05480053986644\n",
       "\\item[positives] 1.02151007797969\n",
       "\\item[negatives] 1.08739985386314\n",
       "\\item[grdp] 1.21789388587427\n",
       "\\item[economy] 1.10185393007807\n",
       "\\item[hospital\\textbackslash{}\\_num] 1.08722484466196\n",
       "\\item[season\\textbackslash{}\\_2] 1.81046408630569\n",
       "\\item[season\\textbackslash{}\\_3] 1.763087451431\n",
       "\\item[season\\textbackslash{}\\_4] 1.37702085068839\n",
       "\\item[neuterYN\\textbackslash{}\\_1] 1.12733769445529\n",
       "\\item[neuterYN\\textbackslash{}\\_2] 1.09062140785412\n",
       "\\item[sex\\textbackslash{}\\_1] 1.3463067506502\n",
       "\\item[sex\\textbackslash{}\\_2] 1.37868489821692\n",
       "\\item[hair\\textbackslash{}\\_1] 1.38910956768817\n",
       "\\item[hair\\textbackslash{}\\_2] 1.50561461003359\n",
       "\\item[color\\textbackslash{}\\_1] 1.22043867087269\n",
       "\\item[color\\textbackslash{}\\_2] 1.14687538115099\n",
       "\\item[color\\textbackslash{}\\_3] 1.45341449353274\n",
       "\\item[color\\textbackslash{}\\_4] 1.51496641928876\n",
       "\\item[color\\textbackslash{}\\_5] 1.49824386418872\n",
       "\\item[color\\textbackslash{}\\_6] 1.47912713578354\n",
       "\\item[color\\textbackslash{}\\_7] 1.2528467690675\n",
       "\\end{description*}\n"
      ],
      "text/markdown": [
       "age\n",
       ":   1.27501816922951disease_cnt\n",
       ":   1.05480053986644positives\n",
       ":   1.02151007797969negatives\n",
       ":   1.08739985386314grdp\n",
       ":   1.21789388587427economy\n",
       ":   1.10185393007807hospital_num\n",
       ":   1.08722484466196season_2\n",
       ":   1.81046408630569season_3\n",
       ":   1.763087451431season_4\n",
       ":   1.37702085068839neuterYN_1\n",
       ":   1.12733769445529neuterYN_2\n",
       ":   1.09062140785412sex_1\n",
       ":   1.3463067506502sex_2\n",
       ":   1.37868489821692hair_1\n",
       ":   1.38910956768817hair_2\n",
       ":   1.50561461003359color_1\n",
       ":   1.22043867087269color_2\n",
       ":   1.14687538115099color_3\n",
       ":   1.45341449353274color_4\n",
       ":   1.51496641928876color_5\n",
       ":   1.49824386418872color_6\n",
       ":   1.47912713578354color_7\n",
       ":   1.2528467690675\n",
       "\n"
      ],
      "text/plain": [
       "         age  disease_cnt    positives    negatives         grdp      economy \n",
       "    1.275018     1.054801     1.021510     1.087400     1.217894     1.101854 \n",
       "hospital_num     season_2     season_3     season_4   neuterYN_1   neuterYN_2 \n",
       "    1.087225     1.810464     1.763087     1.377021     1.127338     1.090621 \n",
       "       sex_1        sex_2       hair_1       hair_2      color_1      color_2 \n",
       "    1.346307     1.378685     1.389110     1.505615     1.220439     1.146875 \n",
       "     color_3      color_4      color_5      color_6      color_7 \n",
       "    1.453414     1.514966     1.498244     1.479127     1.252847 "
      ]
     },
     "metadata": {},
     "output_type": "display_data"
    }
   ],
   "source": [
    "vif(fit)"
   ]
  },
  {
   "cell_type": "markdown",
   "metadata": {},
   "source": [
    "다중공선성 없음, 독립성 가정 만족."
   ]
  },
  {
   "cell_type": "code",
   "execution_count": 34,
   "metadata": {},
   "outputs": [
    {
     "data": {
      "text/plain": [
       "\n",
       "Call:\n",
       "glm(formula = adoptionYN ~ ., family = binomial, data = cat_data)\n",
       "\n",
       "Deviance Residuals: \n",
       "    Min       1Q   Median       3Q      Max  \n",
       "-2.5846  -0.9381  -0.6078   1.1084   2.7653  \n",
       "\n",
       "Coefficients:\n",
       "               Estimate Std. Error z value Pr(>|z|)    \n",
       "(Intercept)   0.8113463  0.0841306   9.644  < 2e-16 ***\n",
       "age          -0.1914728  0.0199397  -9.603  < 2e-16 ***\n",
       "disease_cnt  -0.2261039  0.0176365 -12.820  < 2e-16 ***\n",
       "positives     0.3312302  0.0164771  20.102  < 2e-16 ***\n",
       "negatives    -0.5120555  0.0195924 -26.135  < 2e-16 ***\n",
       "grdp         -0.0633999  0.0178715  -3.548 0.000389 ***\n",
       "economy       0.1078051  0.0160639   6.711 1.93e-11 ***\n",
       "hospital_num  0.0007249  0.0156062   0.046 0.962954    \n",
       "season_2     -0.8207019  0.0420693 -19.508  < 2e-16 ***\n",
       "season_3     -0.5747225  0.0443069 -12.971  < 2e-16 ***\n",
       "season_4     -0.0612476  0.0589225  -1.039 0.298590    \n",
       "neuterYN_1    0.3288274  0.1223344   2.688 0.007189 ** \n",
       "neuterYN_2   -0.2880486  0.0376241  -7.656 1.92e-14 ***\n",
       "sex_1        -0.0088758  0.0362864  -0.245 0.806763    \n",
       "sex_2        -0.3612893  0.0439053  -8.229  < 2e-16 ***\n",
       "hair_1       -0.6990625  0.0708254  -9.870  < 2e-16 ***\n",
       "hair_2        1.1005469  0.1424026   7.728 1.09e-14 ***\n",
       "color_1      -0.2284134  0.0703058  -3.249 0.001159 ** \n",
       "color_2      -0.3619401  0.0812730  -4.453 8.45e-06 ***\n",
       "color_3      -0.0433847  0.0502088  -0.864 0.387542    \n",
       "color_4      -0.3123624  0.0502779  -6.213 5.21e-10 ***\n",
       "color_5       0.0620083  0.0514217   1.206 0.227864    \n",
       "color_6      -0.3061883  0.0528569  -5.793 6.92e-09 ***\n",
       "color_7       0.1969825  0.0921383   2.138 0.032525 *  \n",
       "---\n",
       "Signif. codes:  0 '***' 0.001 '**' 0.01 '*' 0.05 '.' 0.1 ' ' 1\n",
       "\n",
       "(Dispersion parameter for binomial family taken to be 1)\n",
       "\n",
       "    Null deviance: 28420  on 21475  degrees of freedom\n",
       "Residual deviance: 24992  on 21452  degrees of freedom\n",
       "AIC: 25040\n",
       "\n",
       "Number of Fisher Scoring iterations: 4\n"
      ]
     },
     "metadata": {},
     "output_type": "display_data"
    }
   ],
   "source": [
    "summary(fit)"
   ]
  },
  {
   "cell_type": "code",
   "execution_count": 35,
   "metadata": {},
   "outputs": [
    {
     "data": {
      "text/html": [
       "<table>\n",
       "<caption>A data.frame: 24 × 4</caption>\n",
       "<thead>\n",
       "\t<tr><th></th><th scope=col>OR</th><th scope=col>2.5%</th><th scope=col>97.%</th><th scope=col>p-value</th></tr>\n",
       "\t<tr><th></th><th scope=col>&lt;dbl&gt;</th><th scope=col>&lt;dbl&gt;</th><th scope=col>&lt;dbl&gt;</th><th scope=col>&lt;dbl&gt;</th></tr>\n",
       "</thead>\n",
       "<tbody>\n",
       "\t<tr><th scope=row>(Intercept)</th><td>2.2509365</td><td>1.9089618</td><td>2.6548527</td><td>0.00000</td></tr>\n",
       "\t<tr><th scope=row>age</th><td>0.8257421</td><td>0.7938166</td><td>0.8583625</td><td>0.00000</td></tr>\n",
       "\t<tr><th scope=row>disease_cnt</th><td>0.7976352</td><td>0.7704071</td><td>0.8255573</td><td>0.00000</td></tr>\n",
       "\t<tr><th scope=row>positives</th><td>1.3926804</td><td>1.3486989</td><td>1.4386930</td><td>0.00000</td></tr>\n",
       "\t<tr><th scope=row>negatives</th><td>0.5992625</td><td>0.5765669</td><td>0.6225949</td><td>0.00000</td></tr>\n",
       "\t<tr><th scope=row>grdp</th><td>0.9385681</td><td>0.9060558</td><td>0.9718297</td><td>0.00039</td></tr>\n",
       "\t<tr><th scope=row>economy</th><td>1.1138306</td><td>1.0792872</td><td>1.1494406</td><td>0.00000</td></tr>\n",
       "\t<tr><th scope=row>hospital_num</th><td>1.0007251</td><td>0.9705359</td><td>1.0317675</td><td>0.96295</td></tr>\n",
       "\t<tr><th scope=row>season_2</th><td>0.4401226</td><td>0.4052609</td><td>0.4779218</td><td>0.00000</td></tr>\n",
       "\t<tr><th scope=row>season_3</th><td>0.5628610</td><td>0.5160096</td><td>0.6138883</td><td>0.00000</td></tr>\n",
       "\t<tr><th scope=row>season_4</th><td>0.9405903</td><td>0.8379607</td><td>1.0557024</td><td>0.29859</td></tr>\n",
       "\t<tr><th scope=row>neuterYN_1</th><td>1.3893381</td><td>1.0928002</td><td>1.7656335</td><td>0.00719</td></tr>\n",
       "\t<tr><th scope=row>neuterYN_2</th><td>0.7497251</td><td>0.6963420</td><td>0.8070074</td><td>0.00000</td></tr>\n",
       "\t<tr><th scope=row>sex_1</th><td>0.9911635</td><td>0.9231118</td><td>1.0642177</td><td>0.80676</td></tr>\n",
       "\t<tr><th scope=row>sex_2</th><td>0.6967774</td><td>0.6392530</td><td>0.7593137</td><td>0.00000</td></tr>\n",
       "\t<tr><th scope=row>hair_1</th><td>0.4970511</td><td>0.4326242</td><td>0.5710983</td><td>0.00000</td></tr>\n",
       "\t<tr><th scope=row>hair_2</th><td>3.0058093</td><td>2.2799403</td><td>3.9854361</td><td>0.00000</td></tr>\n",
       "\t<tr><th scope=row>color_1</th><td>0.7957952</td><td>0.6930334</td><td>0.9129828</td><td>0.00116</td></tr>\n",
       "\t<tr><th scope=row>color_2</th><td>0.6963241</td><td>0.5932405</td><td>0.8158819</td><td>0.00001</td></tr>\n",
       "\t<tr><th scope=row>color_3</th><td>0.9575430</td><td>0.8677521</td><td>1.0565161</td><td>0.38754</td></tr>\n",
       "\t<tr><th scope=row>color_4</th><td>0.7317163</td><td>0.6629803</td><td>0.8074183</td><td>0.00000</td></tr>\n",
       "\t<tr><th scope=row>color_5</th><td>1.0639712</td><td>0.9619390</td><td>1.1767729</td><td>0.22786</td></tr>\n",
       "\t<tr><th scope=row>color_6</th><td>0.7362480</td><td>0.6636976</td><td>0.8165069</td><td>0.00000</td></tr>\n",
       "\t<tr><th scope=row>color_7</th><td>1.2177228</td><td>1.0163386</td><td>1.4586295</td><td>0.03252</td></tr>\n",
       "</tbody>\n",
       "</table>\n"
      ],
      "text/latex": [
       "A data.frame: 24 × 4\n",
       "\\begin{tabular}{r|llll}\n",
       "  & OR & 2.5\\% & 97.\\% & p-value\\\\\n",
       "  & <dbl> & <dbl> & <dbl> & <dbl>\\\\\n",
       "\\hline\n",
       "\t(Intercept) & 2.2509365 & 1.9089618 & 2.6548527 & 0.00000\\\\\n",
       "\tage & 0.8257421 & 0.7938166 & 0.8583625 & 0.00000\\\\\n",
       "\tdisease\\_cnt & 0.7976352 & 0.7704071 & 0.8255573 & 0.00000\\\\\n",
       "\tpositives & 1.3926804 & 1.3486989 & 1.4386930 & 0.00000\\\\\n",
       "\tnegatives & 0.5992625 & 0.5765669 & 0.6225949 & 0.00000\\\\\n",
       "\tgrdp & 0.9385681 & 0.9060558 & 0.9718297 & 0.00039\\\\\n",
       "\teconomy & 1.1138306 & 1.0792872 & 1.1494406 & 0.00000\\\\\n",
       "\thospital\\_num & 1.0007251 & 0.9705359 & 1.0317675 & 0.96295\\\\\n",
       "\tseason\\_2 & 0.4401226 & 0.4052609 & 0.4779218 & 0.00000\\\\\n",
       "\tseason\\_3 & 0.5628610 & 0.5160096 & 0.6138883 & 0.00000\\\\\n",
       "\tseason\\_4 & 0.9405903 & 0.8379607 & 1.0557024 & 0.29859\\\\\n",
       "\tneuterYN\\_1 & 1.3893381 & 1.0928002 & 1.7656335 & 0.00719\\\\\n",
       "\tneuterYN\\_2 & 0.7497251 & 0.6963420 & 0.8070074 & 0.00000\\\\\n",
       "\tsex\\_1 & 0.9911635 & 0.9231118 & 1.0642177 & 0.80676\\\\\n",
       "\tsex\\_2 & 0.6967774 & 0.6392530 & 0.7593137 & 0.00000\\\\\n",
       "\thair\\_1 & 0.4970511 & 0.4326242 & 0.5710983 & 0.00000\\\\\n",
       "\thair\\_2 & 3.0058093 & 2.2799403 & 3.9854361 & 0.00000\\\\\n",
       "\tcolor\\_1 & 0.7957952 & 0.6930334 & 0.9129828 & 0.00116\\\\\n",
       "\tcolor\\_2 & 0.6963241 & 0.5932405 & 0.8158819 & 0.00001\\\\\n",
       "\tcolor\\_3 & 0.9575430 & 0.8677521 & 1.0565161 & 0.38754\\\\\n",
       "\tcolor\\_4 & 0.7317163 & 0.6629803 & 0.8074183 & 0.00000\\\\\n",
       "\tcolor\\_5 & 1.0639712 & 0.9619390 & 1.1767729 & 0.22786\\\\\n",
       "\tcolor\\_6 & 0.7362480 & 0.6636976 & 0.8165069 & 0.00000\\\\\n",
       "\tcolor\\_7 & 1.2177228 & 1.0163386 & 1.4586295 & 0.03252\\\\\n",
       "\\end{tabular}\n"
      ],
      "text/markdown": [
       "\n",
       "A data.frame: 24 × 4\n",
       "\n",
       "| <!--/--> | OR &lt;dbl&gt; | 2.5% &lt;dbl&gt; | 97.% &lt;dbl&gt; | p-value &lt;dbl&gt; |\n",
       "|---|---|---|---|---|\n",
       "| (Intercept) | 2.2509365 | 1.9089618 | 2.6548527 | 0.00000 |\n",
       "| age | 0.8257421 | 0.7938166 | 0.8583625 | 0.00000 |\n",
       "| disease_cnt | 0.7976352 | 0.7704071 | 0.8255573 | 0.00000 |\n",
       "| positives | 1.3926804 | 1.3486989 | 1.4386930 | 0.00000 |\n",
       "| negatives | 0.5992625 | 0.5765669 | 0.6225949 | 0.00000 |\n",
       "| grdp | 0.9385681 | 0.9060558 | 0.9718297 | 0.00039 |\n",
       "| economy | 1.1138306 | 1.0792872 | 1.1494406 | 0.00000 |\n",
       "| hospital_num | 1.0007251 | 0.9705359 | 1.0317675 | 0.96295 |\n",
       "| season_2 | 0.4401226 | 0.4052609 | 0.4779218 | 0.00000 |\n",
       "| season_3 | 0.5628610 | 0.5160096 | 0.6138883 | 0.00000 |\n",
       "| season_4 | 0.9405903 | 0.8379607 | 1.0557024 | 0.29859 |\n",
       "| neuterYN_1 | 1.3893381 | 1.0928002 | 1.7656335 | 0.00719 |\n",
       "| neuterYN_2 | 0.7497251 | 0.6963420 | 0.8070074 | 0.00000 |\n",
       "| sex_1 | 0.9911635 | 0.9231118 | 1.0642177 | 0.80676 |\n",
       "| sex_2 | 0.6967774 | 0.6392530 | 0.7593137 | 0.00000 |\n",
       "| hair_1 | 0.4970511 | 0.4326242 | 0.5710983 | 0.00000 |\n",
       "| hair_2 | 3.0058093 | 2.2799403 | 3.9854361 | 0.00000 |\n",
       "| color_1 | 0.7957952 | 0.6930334 | 0.9129828 | 0.00116 |\n",
       "| color_2 | 0.6963241 | 0.5932405 | 0.8158819 | 0.00001 |\n",
       "| color_3 | 0.9575430 | 0.8677521 | 1.0565161 | 0.38754 |\n",
       "| color_4 | 0.7317163 | 0.6629803 | 0.8074183 | 0.00000 |\n",
       "| color_5 | 1.0639712 | 0.9619390 | 1.1767729 | 0.22786 |\n",
       "| color_6 | 0.7362480 | 0.6636976 | 0.8165069 | 0.00000 |\n",
       "| color_7 | 1.2177228 | 1.0163386 | 1.4586295 | 0.03252 |\n",
       "\n"
      ],
      "text/plain": [
       "             OR        2.5%      97.%      p-value\n",
       "(Intercept)  2.2509365 1.9089618 2.6548527 0.00000\n",
       "age          0.8257421 0.7938166 0.8583625 0.00000\n",
       "disease_cnt  0.7976352 0.7704071 0.8255573 0.00000\n",
       "positives    1.3926804 1.3486989 1.4386930 0.00000\n",
       "negatives    0.5992625 0.5765669 0.6225949 0.00000\n",
       "grdp         0.9385681 0.9060558 0.9718297 0.00039\n",
       "economy      1.1138306 1.0792872 1.1494406 0.00000\n",
       "hospital_num 1.0007251 0.9705359 1.0317675 0.96295\n",
       "season_2     0.4401226 0.4052609 0.4779218 0.00000\n",
       "season_3     0.5628610 0.5160096 0.6138883 0.00000\n",
       "season_4     0.9405903 0.8379607 1.0557024 0.29859\n",
       "neuterYN_1   1.3893381 1.0928002 1.7656335 0.00719\n",
       "neuterYN_2   0.7497251 0.6963420 0.8070074 0.00000\n",
       "sex_1        0.9911635 0.9231118 1.0642177 0.80676\n",
       "sex_2        0.6967774 0.6392530 0.7593137 0.00000\n",
       "hair_1       0.4970511 0.4326242 0.5710983 0.00000\n",
       "hair_2       3.0058093 2.2799403 3.9854361 0.00000\n",
       "color_1      0.7957952 0.6930334 0.9129828 0.00116\n",
       "color_2      0.6963241 0.5932405 0.8158819 0.00001\n",
       "color_3      0.9575430 0.8677521 1.0565161 0.38754\n",
       "color_4      0.7317163 0.6629803 0.8074183 0.00000\n",
       "color_5      1.0639712 0.9619390 1.1767729 0.22786\n",
       "color_6      0.7362480 0.6636976 0.8165069 0.00000\n",
       "color_7      1.2177228 1.0163386 1.4586295 0.03252"
      ]
     },
     "metadata": {},
     "output_type": "display_data"
    }
   ],
   "source": [
    "ORtable(fit)"
   ]
  },
  {
   "cell_type": "code",
   "execution_count": 36,
   "metadata": {},
   "outputs": [],
   "source": [
    "# 평가\n",
    "test_cat = fread('flt_test_cat.csv', data.table = FALSE)"
   ]
  },
  {
   "cell_type": "code",
   "execution_count": 37,
   "metadata": {},
   "outputs": [],
   "source": [
    "test_cat$adoptionYN = test_cat$adoptionYN %>% as.factor()"
   ]
  },
  {
   "cell_type": "code",
   "execution_count": 38,
   "metadata": {},
   "outputs": [],
   "source": [
    "test_cat$season = test_cat$season %>% as.factor()\n",
    "test_cat$neuterYN = test_cat$neuterYN %>% as.factor()\n",
    "test_cat$sex = test_cat$sex %>% as.factor()\n",
    "test_cat$hair = test_cat$hair %>% as.factor()\n",
    "test_cat$color = test_cat$color %>% as.factor()"
   ]
  },
  {
   "cell_type": "code",
   "execution_count": 39,
   "metadata": {},
   "outputs": [],
   "source": [
    "cat_testx = select(test_cat, -'adoptionYN')\n",
    "cat_testy = test_cat['adoptionYN']"
   ]
  },
  {
   "cell_type": "code",
   "execution_count": 40,
   "metadata": {},
   "outputs": [
    {
     "data": {
      "text/html": [
       "<table>\n",
       "<caption>A data.frame: 6 × 12</caption>\n",
       "<thead>\n",
       "\t<tr><th></th><th scope=col>age</th><th scope=col>season</th><th scope=col>neuterYN</th><th scope=col>sex</th><th scope=col>disease_cnt</th><th scope=col>positives</th><th scope=col>negatives</th><th scope=col>hair</th><th scope=col>grdp</th><th scope=col>economy</th><th scope=col>hospital_num</th><th scope=col>color</th></tr>\n",
       "\t<tr><th></th><th scope=col>&lt;int&gt;</th><th scope=col>&lt;fct&gt;</th><th scope=col>&lt;fct&gt;</th><th scope=col>&lt;fct&gt;</th><th scope=col>&lt;int&gt;</th><th scope=col>&lt;int&gt;</th><th scope=col>&lt;int&gt;</th><th scope=col>&lt;fct&gt;</th><th scope=col>&lt;dbl&gt;</th><th scope=col>&lt;dbl&gt;</th><th scope=col>&lt;int&gt;</th><th scope=col>&lt;fct&gt;</th></tr>\n",
       "</thead>\n",
       "<tbody>\n",
       "\t<tr><th scope=row>1</th><td>1</td><td>4</td><td>0</td><td>0</td><td>2</td><td>0</td><td>0</td><td>1</td><td>33275552</td><td>63007147</td><td>17</td><td>4</td></tr>\n",
       "\t<tr><th scope=row>2</th><td>3</td><td>4</td><td>0</td><td>0</td><td>0</td><td>0</td><td>1</td><td>1</td><td>33275552</td><td>63007147</td><td>17</td><td>4</td></tr>\n",
       "\t<tr><th scope=row>3</th><td>2</td><td>4</td><td>0</td><td>0</td><td>0</td><td>0</td><td>0</td><td>1</td><td>98854601</td><td>75944548</td><td>24</td><td>4</td></tr>\n",
       "\t<tr><th scope=row>4</th><td>3</td><td>4</td><td>0</td><td>1</td><td>0</td><td>2</td><td>0</td><td>2</td><td>31765708</td><td>76346777</td><td>12</td><td>7</td></tr>\n",
       "\t<tr><th scope=row>5</th><td>1</td><td>4</td><td>2</td><td>1</td><td>0</td><td>1</td><td>0</td><td>0</td><td>38946656</td><td>76346777</td><td>39</td><td>0</td></tr>\n",
       "\t<tr><th scope=row>6</th><td>1</td><td>4</td><td>0</td><td>1</td><td>4</td><td>0</td><td>1</td><td>1</td><td>33275552</td><td>63007147</td><td>17</td><td>0</td></tr>\n",
       "</tbody>\n",
       "</table>\n"
      ],
      "text/latex": [
       "A data.frame: 6 × 12\n",
       "\\begin{tabular}{r|llllllllllll}\n",
       "  & age & season & neuterYN & sex & disease\\_cnt & positives & negatives & hair & grdp & economy & hospital\\_num & color\\\\\n",
       "  & <int> & <fct> & <fct> & <fct> & <int> & <int> & <int> & <fct> & <dbl> & <dbl> & <int> & <fct>\\\\\n",
       "\\hline\n",
       "\t1 & 1 & 4 & 0 & 0 & 2 & 0 & 0 & 1 & 33275552 & 63007147 & 17 & 4\\\\\n",
       "\t2 & 3 & 4 & 0 & 0 & 0 & 0 & 1 & 1 & 33275552 & 63007147 & 17 & 4\\\\\n",
       "\t3 & 2 & 4 & 0 & 0 & 0 & 0 & 0 & 1 & 98854601 & 75944548 & 24 & 4\\\\\n",
       "\t4 & 3 & 4 & 0 & 1 & 0 & 2 & 0 & 2 & 31765708 & 76346777 & 12 & 7\\\\\n",
       "\t5 & 1 & 4 & 2 & 1 & 0 & 1 & 0 & 0 & 38946656 & 76346777 & 39 & 0\\\\\n",
       "\t6 & 1 & 4 & 0 & 1 & 4 & 0 & 1 & 1 & 33275552 & 63007147 & 17 & 0\\\\\n",
       "\\end{tabular}\n"
      ],
      "text/markdown": [
       "\n",
       "A data.frame: 6 × 12\n",
       "\n",
       "| <!--/--> | age &lt;int&gt; | season &lt;fct&gt; | neuterYN &lt;fct&gt; | sex &lt;fct&gt; | disease_cnt &lt;int&gt; | positives &lt;int&gt; | negatives &lt;int&gt; | hair &lt;fct&gt; | grdp &lt;dbl&gt; | economy &lt;dbl&gt; | hospital_num &lt;int&gt; | color &lt;fct&gt; |\n",
       "|---|---|---|---|---|---|---|---|---|---|---|---|---|\n",
       "| 1 | 1 | 4 | 0 | 0 | 2 | 0 | 0 | 1 | 33275552 | 63007147 | 17 | 4 |\n",
       "| 2 | 3 | 4 | 0 | 0 | 0 | 0 | 1 | 1 | 33275552 | 63007147 | 17 | 4 |\n",
       "| 3 | 2 | 4 | 0 | 0 | 0 | 0 | 0 | 1 | 98854601 | 75944548 | 24 | 4 |\n",
       "| 4 | 3 | 4 | 0 | 1 | 0 | 2 | 0 | 2 | 31765708 | 76346777 | 12 | 7 |\n",
       "| 5 | 1 | 4 | 2 | 1 | 0 | 1 | 0 | 0 | 38946656 | 76346777 | 39 | 0 |\n",
       "| 6 | 1 | 4 | 0 | 1 | 4 | 0 | 1 | 1 | 33275552 | 63007147 | 17 | 0 |\n",
       "\n"
      ],
      "text/plain": [
       "  age season neuterYN sex disease_cnt positives negatives hair grdp    \n",
       "1 1   4      0        0   2           0         0         1    33275552\n",
       "2 3   4      0        0   0           0         1         1    33275552\n",
       "3 2   4      0        0   0           0         0         1    98854601\n",
       "4 3   4      0        1   0           2         0         2    31765708\n",
       "5 1   4      2        1   0           1         0         0    38946656\n",
       "6 1   4      0        1   4           0         1         1    33275552\n",
       "  economy  hospital_num color\n",
       "1 63007147 17           4    \n",
       "2 63007147 17           4    \n",
       "3 75944548 24           4    \n",
       "4 76346777 12           7    \n",
       "5 76346777 39           0    \n",
       "6 63007147 17           0    "
      ]
     },
     "metadata": {},
     "output_type": "display_data"
    }
   ],
   "source": [
    "cat_testx %>% head()"
   ]
  },
  {
   "cell_type": "code",
   "execution_count": 41,
   "metadata": {},
   "outputs": [],
   "source": [
    "cat_testx_dum = dummy_cols(cat_testx, select_columns = cat_cate, remove_first_dummy = TRUE)"
   ]
  },
  {
   "cell_type": "code",
   "execution_count": 42,
   "metadata": {
    "scrolled": true
   },
   "outputs": [],
   "source": [
    "cat_testx_dum = select(cat_testx_dum, -cat_cate)"
   ]
  },
  {
   "cell_type": "code",
   "execution_count": 43,
   "metadata": {},
   "outputs": [],
   "source": [
    "cat_testx_dum[cat_nume] = scale(cat_testx_dum[cat_nume], center = TRUE, scale = TRUE)"
   ]
  },
  {
   "cell_type": "code",
   "execution_count": 44,
   "metadata": {},
   "outputs": [],
   "source": [
    "cat_test = cbind(cat_testy, cat_testx_dum)"
   ]
  },
  {
   "cell_type": "code",
   "execution_count": 45,
   "metadata": {},
   "outputs": [
    {
     "data": {
      "text/html": [
       "<table>\n",
       "<caption>A data.frame: 6 × 24</caption>\n",
       "<thead>\n",
       "\t<tr><th></th><th scope=col>adoptionYN</th><th scope=col>age</th><th scope=col>disease_cnt</th><th scope=col>positives</th><th scope=col>negatives</th><th scope=col>grdp</th><th scope=col>economy</th><th scope=col>hospital_num</th><th scope=col>season_2</th><th scope=col>season_3</th><th scope=col>...</th><th scope=col>sex_2</th><th scope=col>hair_1</th><th scope=col>hair_2</th><th scope=col>color_1</th><th scope=col>color_2</th><th scope=col>color_3</th><th scope=col>color_4</th><th scope=col>color_5</th><th scope=col>color_6</th><th scope=col>color_7</th></tr>\n",
       "\t<tr><th></th><th scope=col>&lt;fct&gt;</th><th scope=col>&lt;dbl&gt;</th><th scope=col>&lt;dbl&gt;</th><th scope=col>&lt;dbl&gt;</th><th scope=col>&lt;dbl&gt;</th><th scope=col>&lt;dbl&gt;</th><th scope=col>&lt;dbl&gt;</th><th scope=col>&lt;dbl&gt;</th><th scope=col>&lt;int&gt;</th><th scope=col>&lt;int&gt;</th><th scope=col>...</th><th scope=col>&lt;int&gt;</th><th scope=col>&lt;int&gt;</th><th scope=col>&lt;int&gt;</th><th scope=col>&lt;int&gt;</th><th scope=col>&lt;int&gt;</th><th scope=col>&lt;int&gt;</th><th scope=col>&lt;int&gt;</th><th scope=col>&lt;int&gt;</th><th scope=col>&lt;int&gt;</th><th scope=col>&lt;int&gt;</th></tr>\n",
       "</thead>\n",
       "<tbody>\n",
       "\t<tr><th scope=row>1</th><td>0</td><td>-0.3892979</td><td> 0.551606</td><td>-0.3848244</td><td>-0.7388560</td><td>-0.25909620</td><td>-1.1020430</td><td>-0.6284855</td><td>0</td><td>0</td><td>...</td><td>0</td><td>1</td><td>0</td><td>0</td><td>0</td><td>0</td><td>1</td><td>0</td><td>0</td><td>0</td></tr>\n",
       "\t<tr><th scope=row>2</th><td>0</td><td> 1.3016403</td><td>-0.712268</td><td>-0.3848244</td><td> 0.3588729</td><td>-0.25909620</td><td>-1.1020430</td><td>-0.6284855</td><td>0</td><td>0</td><td>...</td><td>0</td><td>1</td><td>0</td><td>0</td><td>0</td><td>0</td><td>1</td><td>0</td><td>0</td><td>0</td></tr>\n",
       "\t<tr><th scope=row>3</th><td>0</td><td> 0.4561712</td><td>-0.712268</td><td>-0.3848244</td><td>-0.7388560</td><td> 1.80135373</td><td> 0.4379490</td><td>-0.3286997</td><td>0</td><td>0</td><td>...</td><td>0</td><td>1</td><td>0</td><td>0</td><td>0</td><td>0</td><td>1</td><td>0</td><td>0</td><td>0</td></tr>\n",
       "\t<tr><th scope=row>4</th><td>1</td><td> 1.3016403</td><td>-0.712268</td><td> 3.2798662</td><td>-0.7388560</td><td>-0.30653450</td><td> 0.4858279</td><td>-0.8426181</td><td>0</td><td>0</td><td>...</td><td>0</td><td>0</td><td>1</td><td>0</td><td>0</td><td>0</td><td>0</td><td>0</td><td>0</td><td>1</td></tr>\n",
       "\t<tr><th scope=row>5</th><td>1</td><td>-0.3892979</td><td>-0.712268</td><td> 1.4475209</td><td>-0.7388560</td><td>-0.08091391</td><td> 0.4858279</td><td> 0.3136983</td><td>0</td><td>0</td><td>...</td><td>0</td><td>0</td><td>0</td><td>0</td><td>0</td><td>0</td><td>0</td><td>0</td><td>0</td><td>0</td></tr>\n",
       "\t<tr><th scope=row>6</th><td>0</td><td>-0.3892979</td><td> 1.815480</td><td>-0.3848244</td><td> 0.3588729</td><td>-0.25909620</td><td>-1.1020430</td><td>-0.6284855</td><td>0</td><td>0</td><td>...</td><td>0</td><td>1</td><td>0</td><td>0</td><td>0</td><td>0</td><td>0</td><td>0</td><td>0</td><td>0</td></tr>\n",
       "</tbody>\n",
       "</table>\n"
      ],
      "text/latex": [
       "A data.frame: 6 × 24\n",
       "\\begin{tabular}{r|lllllllllllllllllllll}\n",
       "  & adoptionYN & age & disease\\_cnt & positives & negatives & grdp & economy & hospital\\_num & season\\_2 & season\\_3 & ... & sex\\_2 & hair\\_1 & hair\\_2 & color\\_1 & color\\_2 & color\\_3 & color\\_4 & color\\_5 & color\\_6 & color\\_7\\\\\n",
       "  & <fct> & <dbl> & <dbl> & <dbl> & <dbl> & <dbl> & <dbl> & <dbl> & <int> & <int> & ... & <int> & <int> & <int> & <int> & <int> & <int> & <int> & <int> & <int> & <int>\\\\\n",
       "\\hline\n",
       "\t1 & 0 & -0.3892979 &  0.551606 & -0.3848244 & -0.7388560 & -0.25909620 & -1.1020430 & -0.6284855 & 0 & 0 & ... & 0 & 1 & 0 & 0 & 0 & 0 & 1 & 0 & 0 & 0\\\\\n",
       "\t2 & 0 &  1.3016403 & -0.712268 & -0.3848244 &  0.3588729 & -0.25909620 & -1.1020430 & -0.6284855 & 0 & 0 & ... & 0 & 1 & 0 & 0 & 0 & 0 & 1 & 0 & 0 & 0\\\\\n",
       "\t3 & 0 &  0.4561712 & -0.712268 & -0.3848244 & -0.7388560 &  1.80135373 &  0.4379490 & -0.3286997 & 0 & 0 & ... & 0 & 1 & 0 & 0 & 0 & 0 & 1 & 0 & 0 & 0\\\\\n",
       "\t4 & 1 &  1.3016403 & -0.712268 &  3.2798662 & -0.7388560 & -0.30653450 &  0.4858279 & -0.8426181 & 0 & 0 & ... & 0 & 0 & 1 & 0 & 0 & 0 & 0 & 0 & 0 & 1\\\\\n",
       "\t5 & 1 & -0.3892979 & -0.712268 &  1.4475209 & -0.7388560 & -0.08091391 &  0.4858279 &  0.3136983 & 0 & 0 & ... & 0 & 0 & 0 & 0 & 0 & 0 & 0 & 0 & 0 & 0\\\\\n",
       "\t6 & 0 & -0.3892979 &  1.815480 & -0.3848244 &  0.3588729 & -0.25909620 & -1.1020430 & -0.6284855 & 0 & 0 & ... & 0 & 1 & 0 & 0 & 0 & 0 & 0 & 0 & 0 & 0\\\\\n",
       "\\end{tabular}\n"
      ],
      "text/markdown": [
       "\n",
       "A data.frame: 6 × 24\n",
       "\n",
       "| <!--/--> | adoptionYN &lt;fct&gt; | age &lt;dbl&gt; | disease_cnt &lt;dbl&gt; | positives &lt;dbl&gt; | negatives &lt;dbl&gt; | grdp &lt;dbl&gt; | economy &lt;dbl&gt; | hospital_num &lt;dbl&gt; | season_2 &lt;int&gt; | season_3 &lt;int&gt; | ... ... | sex_2 &lt;int&gt; | hair_1 &lt;int&gt; | hair_2 &lt;int&gt; | color_1 &lt;int&gt; | color_2 &lt;int&gt; | color_3 &lt;int&gt; | color_4 &lt;int&gt; | color_5 &lt;int&gt; | color_6 &lt;int&gt; | color_7 &lt;int&gt; |\n",
       "|---|---|---|---|---|---|---|---|---|---|---|---|---|---|---|---|---|---|---|---|---|---|\n",
       "| 1 | 0 | -0.3892979 |  0.551606 | -0.3848244 | -0.7388560 | -0.25909620 | -1.1020430 | -0.6284855 | 0 | 0 | ... | 0 | 1 | 0 | 0 | 0 | 0 | 1 | 0 | 0 | 0 |\n",
       "| 2 | 0 |  1.3016403 | -0.712268 | -0.3848244 |  0.3588729 | -0.25909620 | -1.1020430 | -0.6284855 | 0 | 0 | ... | 0 | 1 | 0 | 0 | 0 | 0 | 1 | 0 | 0 | 0 |\n",
       "| 3 | 0 |  0.4561712 | -0.712268 | -0.3848244 | -0.7388560 |  1.80135373 |  0.4379490 | -0.3286997 | 0 | 0 | ... | 0 | 1 | 0 | 0 | 0 | 0 | 1 | 0 | 0 | 0 |\n",
       "| 4 | 1 |  1.3016403 | -0.712268 |  3.2798662 | -0.7388560 | -0.30653450 |  0.4858279 | -0.8426181 | 0 | 0 | ... | 0 | 0 | 1 | 0 | 0 | 0 | 0 | 0 | 0 | 1 |\n",
       "| 5 | 1 | -0.3892979 | -0.712268 |  1.4475209 | -0.7388560 | -0.08091391 |  0.4858279 |  0.3136983 | 0 | 0 | ... | 0 | 0 | 0 | 0 | 0 | 0 | 0 | 0 | 0 | 0 |\n",
       "| 6 | 0 | -0.3892979 |  1.815480 | -0.3848244 |  0.3588729 | -0.25909620 | -1.1020430 | -0.6284855 | 0 | 0 | ... | 0 | 1 | 0 | 0 | 0 | 0 | 0 | 0 | 0 | 0 |\n",
       "\n"
      ],
      "text/plain": [
       "  adoptionYN age        disease_cnt positives  negatives  grdp       \n",
       "1 0          -0.3892979  0.551606   -0.3848244 -0.7388560 -0.25909620\n",
       "2 0           1.3016403 -0.712268   -0.3848244  0.3588729 -0.25909620\n",
       "3 0           0.4561712 -0.712268   -0.3848244 -0.7388560  1.80135373\n",
       "4 1           1.3016403 -0.712268    3.2798662 -0.7388560 -0.30653450\n",
       "5 1          -0.3892979 -0.712268    1.4475209 -0.7388560 -0.08091391\n",
       "6 0          -0.3892979  1.815480   -0.3848244  0.3588729 -0.25909620\n",
       "  economy    hospital_num season_2 season_3 ... sex_2 hair_1 hair_2 color_1\n",
       "1 -1.1020430 -0.6284855   0        0        ... 0     1      0      0      \n",
       "2 -1.1020430 -0.6284855   0        0        ... 0     1      0      0      \n",
       "3  0.4379490 -0.3286997   0        0        ... 0     1      0      0      \n",
       "4  0.4858279 -0.8426181   0        0        ... 0     0      1      0      \n",
       "5  0.4858279  0.3136983   0        0        ... 0     0      0      0      \n",
       "6 -1.1020430 -0.6284855   0        0        ... 0     1      0      0      \n",
       "  color_2 color_3 color_4 color_5 color_6 color_7\n",
       "1 0       0       1       0       0       0      \n",
       "2 0       0       1       0       0       0      \n",
       "3 0       0       1       0       0       0      \n",
       "4 0       0       0       0       0       1      \n",
       "5 0       0       0       0       0       0      \n",
       "6 0       0       0       0       0       0      "
      ]
     },
     "metadata": {},
     "output_type": "display_data"
    }
   ],
   "source": [
    "cat_test %>% head()"
   ]
  },
  {
   "cell_type": "code",
   "execution_count": 46,
   "metadata": {},
   "outputs": [],
   "source": [
    "probabilities <- fit %>% predict(cat_test, type = \"response\")\n",
    "y_pred <- ifelse(probabilities > 0.5, 1, 0)"
   ]
  },
  {
   "cell_type": "code",
   "execution_count": 47,
   "metadata": {},
   "outputs": [
    {
     "data": {
      "text/html": [
       "0.778540237055521"
      ],
      "text/latex": [
       "0.778540237055521"
      ],
      "text/markdown": [
       "0.778540237055521"
      ],
      "text/plain": [
       "[1] 0.7785402"
      ]
     },
     "metadata": {},
     "output_type": "display_data"
    }
   ],
   "source": [
    "F1_Score(cat_testy$adoptionYN, y_pred, positive = NULL)"
   ]
  },
  {
   "cell_type": "code",
   "execution_count": 48,
   "metadata": {},
   "outputs": [
    {
     "data": {
      "text/html": [
       "0.691438504997827"
      ],
      "text/latex": [
       "0.691438504997827"
      ],
      "text/markdown": [
       "0.691438504997827"
      ],
      "text/plain": [
       "[1] 0.6914385"
      ]
     },
     "metadata": {},
     "output_type": "display_data"
    }
   ],
   "source": [
    "Accuracy(cat_testy$adoptionYN, y_pred)"
   ]
  }
 ],
 "metadata": {
  "kernelspec": {
   "display_name": "R 4.0.3",
   "language": "R",
   "name": "ir403"
  },
  "language_info": {
   "codemirror_mode": "r",
   "file_extension": ".r",
   "mimetype": "text/x-r-source",
   "name": "R",
   "pygments_lexer": "r",
   "version": "4.0.3"
  }
 },
 "nbformat": 4,
 "nbformat_minor": 4
}
