{
 "cells": [
  {
   "cell_type": "code",
   "execution_count": 3,
   "metadata": {},
   "outputs": [
    {
     "name": "stderr",
     "output_type": "stream",
     "text": [
      "-- \u001b[1mAttaching packages\u001b[22m ------------------------------------------------------------------------------- tidyverse 1.3.0 --\n",
      "\n",
      "\u001b[32m√\u001b[39m \u001b[34mggplot2\u001b[39m 3.3.3     \u001b[32m√\u001b[39m \u001b[34mpurrr  \u001b[39m 0.3.4\n",
      "\u001b[32m√\u001b[39m \u001b[34mtibble \u001b[39m 3.0.4     \u001b[32m√\u001b[39m \u001b[34mdplyr  \u001b[39m 1.0.2\n",
      "\u001b[32m√\u001b[39m \u001b[34mtidyr  \u001b[39m 1.1.2     \u001b[32m√\u001b[39m \u001b[34mstringr\u001b[39m 1.4.0\n",
      "\u001b[32m√\u001b[39m \u001b[34mreadr  \u001b[39m 1.4.0     \u001b[32m√\u001b[39m \u001b[34mforcats\u001b[39m 0.5.0\n",
      "\n",
      "-- \u001b[1mConflicts\u001b[22m ---------------------------------------------------------------------------------- tidyverse_conflicts() --\n",
      "\u001b[31mx\u001b[39m \u001b[34mdplyr\u001b[39m::\u001b[32mbetween()\u001b[39m   masks \u001b[34mdata.table\u001b[39m::between()\n",
      "\u001b[31mx\u001b[39m \u001b[34mdplyr\u001b[39m::\u001b[32mfilter()\u001b[39m    masks \u001b[34mstats\u001b[39m::filter()\n",
      "\u001b[31mx\u001b[39m \u001b[34mdplyr\u001b[39m::\u001b[32mfirst()\u001b[39m     masks \u001b[34mdata.table\u001b[39m::first()\n",
      "\u001b[31mx\u001b[39m \u001b[34mdplyr\u001b[39m::\u001b[32mlag()\u001b[39m       masks \u001b[34mstats\u001b[39m::lag()\n",
      "\u001b[31mx\u001b[39m \u001b[34mdplyr\u001b[39m::\u001b[32mlast()\u001b[39m      masks \u001b[34mdata.table\u001b[39m::last()\n",
      "\u001b[31mx\u001b[39m \u001b[34mpurrr\u001b[39m::\u001b[32mtranspose()\u001b[39m masks \u001b[34mdata.table\u001b[39m::transpose()\n",
      "\n",
      "Registered S3 method overwritten by 'gdata':\n",
      "  method         from     \n",
      "  reorder.factor DescTools\n",
      "\n"
     ]
    }
   ],
   "source": [
    "library(data.table)\n",
    "library(tidyverse)\n",
    "library(gmodels)"
   ]
  },
  {
   "cell_type": "code",
   "execution_count": 4,
   "metadata": {},
   "outputs": [],
   "source": [
    "dog = fread('C:/Users/fleur/2021 P-SAT/주제분석/주제분석 2주차/데이터/train_dog.csv', data.table = FALSE)\n",
    "cat = fread('C:/Users/fleur/2021 P-SAT/주제분석/주제분석 2주차/데이터/train_cat.csv', data.table = FALSE)"
   ]
  },
  {
   "cell_type": "code",
   "execution_count": 5,
   "metadata": {},
   "outputs": [],
   "source": [
    "dog_indepvar = c('season', 'neuterYN', 'sex', 'color')\n",
    "dog_target = c('adoptionYN')\n",
    "\n",
    "cat_indepvar = c('season', 'neuterYN', 'sex')\n",
    "cat_target = c('adoptionYN')"
   ]
  },
  {
   "cell_type": "code",
   "execution_count": 6,
   "metadata": {},
   "outputs": [],
   "source": [
    "dog$adoptionYN = dog$adoptionYN %>% as.factor()\n",
    "dog$season = dog$season %>% as.factor()\n",
    "dog$neuterYN = dog$neuterYN %>% as.factor()\n",
    "dog$sex = dog$sex %>% as.factor()\n",
    "dog$color = dog$color %>% as.factor()\n",
    "dog$size_google = dog$size_google %>% as.factor()\n",
    "dog$group_fic = dog$group_fic %>% as.factor()\n",
    "dog$size_akc = dog$size_akc %>% as.factor()\n",
    "dog$group_akc = dog$group_akc %>% as.factor()\n",
    "dog$activity_level = dog$activity_level %>% as.factor()\n",
    "\n",
    "cat$adoptionYN = cat$adoptionYN %>% as.factor()\n",
    "cat$season = cat$season %>% as.factor()\n",
    "cat$neuterYN = cat$neuterYN %>% as.factor()\n",
    "cat$sex = cat$sex %>% as.factor()\n",
    "cat$hair = cat$hair %>% as.factor()\n",
    "cat$color = cat$color %>% as.factor()"
   ]
  },
  {
   "cell_type": "code",
   "execution_count": 7,
   "metadata": {},
   "outputs": [
    {
     "data": {
      "text/html": [
       "<strong>Cramer V:</strong> 0.1677"
      ],
      "text/latex": [
       "\\textbf{Cramer V:} 0.1677"
      ],
      "text/markdown": [
       "**Cramer V:** 0.1677"
      ],
      "text/plain": [
       "Cramer V \n",
       "  0.1677 "
      ]
     },
     "metadata": {},
     "output_type": "display_data"
    }
   ],
   "source": [
    "cramerV(table(dog$neuterYN, dog$size_akc))"
   ]
  },
  {
   "cell_type": "code",
   "execution_count": 22,
   "metadata": {},
   "outputs": [
    {
     "data": {
      "text/html": [
       "<strong>Cramer V:</strong> 0.2995"
      ],
      "text/latex": [
       "\\textbf{Cramer V:} 0.2995"
      ],
      "text/markdown": [
       "**Cramer V:** 0.2995"
      ],
      "text/plain": [
       "Cramer V \n",
       "  0.2995 "
      ]
     },
     "metadata": {},
     "output_type": "display_data"
    }
   ],
   "source": [
    "cramerV(table(cat$hair, cat$color))"
   ]
  },
  {
   "cell_type": "code",
   "execution_count": 7,
   "metadata": {},
   "outputs": [
    {
     "data": {
      "text/html": [
       "<strong>Cramer V:</strong> 0.1677"
      ],
      "text/latex": [
       "\\textbf{Cramer V:} 0.1677"
      ],
      "text/markdown": [
       "**Cramer V:** 0.1677"
      ],
      "text/plain": [
       "Cramer V \n",
       "  0.1677 "
      ]
     },
     "metadata": {},
     "output_type": "display_data"
    }
   ],
   "source": [
    "cramerV(table(dog$neuterYN, dog$size_akc))"
   ]
  },
  {
   "cell_type": "code",
   "execution_count": 7,
   "metadata": {},
   "outputs": [
    {
     "data": {
      "text/html": [
       "<strong>Cramer V:</strong> 0.1677"
      ],
      "text/latex": [
       "\\textbf{Cramer V:} 0.1677"
      ],
      "text/markdown": [
       "**Cramer V:** 0.1677"
      ],
      "text/plain": [
       "Cramer V \n",
       "  0.1677 "
      ]
     },
     "metadata": {},
     "output_type": "display_data"
    }
   ],
   "source": [
    "cramerV(table(dog$neuterYN, dog$size_akc))"
   ]
  },
  {
   "cell_type": "markdown",
   "metadata": {},
   "source": [
    "# 망망이"
   ]
  },
  {
   "cell_type": "code",
   "execution_count": 23,
   "metadata": {},
   "outputs": [
    {
     "data": {
      "text/html": [
       "7.65551481601415"
      ],
      "text/latex": [
       "7.65551481601415"
      ],
      "text/markdown": [
       "7.65551481601415"
      ],
      "text/plain": [
       "[1] 7.655515"
      ]
     },
     "metadata": {},
     "output_type": "display_data"
    }
   ],
   "source": [
    "(9169-9306.526)^2/9306.526 + (5506-5368.474)^2/5368.474 + (9497-9462.534)^2/9462.534 + (5424-5458.466)^2/5458.466 + (8318-8272.186)^2/8272.186 + (4726-4771.814)^2/4771.814 + (8481 - 8423.754)^2/8423.754 + (4802 - 4859.246)^2/4859.246"
   ]
  },
  {
   "cell_type": "code",
   "execution_count": 70,
   "metadata": {},
   "outputs": [
    {
     "name": "stdout",
     "output_type": "stream",
     "text": [
      "\n",
      " \n",
      "   Cell Contents\n",
      "|-------------------------|\n",
      "|                       N |\n",
      "|              Expected N |\n",
      "| Chi-square contribution |\n",
      "|           N / Row Total |\n",
      "|           N / Col Total |\n",
      "|         N / Table Total |\n",
      "|-------------------------|\n",
      "\n",
      " \n",
      "Total Observations in Table:  55923 \n",
      "\n",
      " \n",
      "             | adoptionYN \n",
      "      season |         0 |         1 | Row Total | \n",
      "-------------|-----------|-----------|-----------|\n",
      "           1 |      9169 |      5506 |     14675 | \n",
      "             |  9306.526 |  5368.474 |           | \n",
      "             |     2.032 |     3.523 |           | \n",
      "             |     0.625 |     0.375 |     0.262 | \n",
      "             |     0.259 |     0.269 |           | \n",
      "             |     0.164 |     0.098 |           | \n",
      "-------------|-----------|-----------|-----------|\n",
      "           2 |      9497 |      5424 |     14921 | \n",
      "             |  9462.534 |  5458.466 |           | \n",
      "             |     0.126 |     0.218 |           | \n",
      "             |     0.636 |     0.364 |     0.267 | \n",
      "             |     0.268 |     0.265 |           | \n",
      "             |     0.170 |     0.097 |           | \n",
      "-------------|-----------|-----------|-----------|\n",
      "           3 |      8318 |      4726 |     13044 | \n",
      "             |  8272.186 |  4771.814 |           | \n",
      "             |     0.254 |     0.440 |           | \n",
      "             |     0.638 |     0.362 |     0.233 | \n",
      "             |     0.235 |     0.231 |           | \n",
      "             |     0.149 |     0.085 |           | \n",
      "-------------|-----------|-----------|-----------|\n",
      "           4 |      8481 |      4802 |     13283 | \n",
      "             |  8423.754 |  4859.246 |           | \n",
      "             |     0.389 |     0.674 |           | \n",
      "             |     0.638 |     0.362 |     0.238 | \n",
      "             |     0.239 |     0.235 |           | \n",
      "             |     0.152 |     0.086 |           | \n",
      "-------------|-----------|-----------|-----------|\n",
      "Column Total |     35465 |     20458 |     55923 | \n",
      "             |     0.634 |     0.366 |           | \n",
      "-------------|-----------|-----------|-----------|\n",
      "\n",
      " \n",
      "Statistics for All Table Factors\n",
      "\n",
      "\n",
      "Pearson's Chi-squared test \n",
      "------------------------------------------------------------\n",
      "Chi^2 =  7.655553     d.f. =  3     p =  0.05369349 \n",
      "\n",
      "\n",
      " \n"
     ]
    }
   ],
   "source": [
    "# (1) 계절 변수\n",
    "with(dog, CrossTable(season, adoptionYN, expected = TRUE, chisq = TRUE))"
   ]
  },
  {
   "cell_type": "markdown",
   "metadata": {},
   "source": [
    "* 일반횟수  \n",
    "* 카이 제곱 (기대치 비율)\n",
    "* 행을 기준으로 비율 값\n",
    "* 열을 기준으로 비율 값\n",
    "* 전체를 기준으로 비율 값"
   ]
  },
  {
   "cell_type": "markdown",
   "metadata": {},
   "source": [
    "귀무가설 H0: 두 변수들(종속변수 & 독립변수) 간에 관계가 없다.  \n",
    "대립가설 H1: 두 변수들 간 관계가 있다.  "
   ]
  },
  {
   "cell_type": "markdown",
   "metadata": {},
   "source": [
    "p-value > 0.05,  \n",
    "입양 유무(adoptionYN)와 계절(season)은 유의수준 0.05에서 관계가 없다."
   ]
  },
  {
   "cell_type": "code",
   "execution_count": 69,
   "metadata": {},
   "outputs": [
    {
     "name": "stdout",
     "output_type": "stream",
     "text": [
      "\n",
      " \n",
      "   Cell Contents\n",
      "|-------------------------|\n",
      "|                       N |\n",
      "|              Expected N |\n",
      "| Chi-square contribution |\n",
      "|           N / Row Total |\n",
      "|           N / Col Total |\n",
      "|         N / Table Total |\n",
      "|-------------------------|\n",
      "\n",
      " \n",
      "Total Observations in Table:  55923 \n",
      "\n",
      " \n",
      "             | adoptionYN \n",
      "    neuterYN |         0 |         1 | Row Total | \n",
      "-------------|-----------|-----------|-----------|\n",
      "           0 |     24245 |     14280 |     38525 | \n",
      "             | 24431.614 | 14093.386 |           | \n",
      "             |     1.425 |     2.471 |           | \n",
      "             |     0.629 |     0.371 |     0.689 | \n",
      "             |     0.684 |     0.698 |           | \n",
      "             |     0.434 |     0.255 |           | \n",
      "-------------|-----------|-----------|-----------|\n",
      "           1 |       521 |       981 |      1502 | \n",
      "             |   952.532 |   549.468 |           | \n",
      "             |   195.500 |   338.909 |           | \n",
      "             |     0.347 |     0.653 |     0.027 | \n",
      "             |     0.015 |     0.048 |           | \n",
      "             |     0.009 |     0.018 |           | \n",
      "-------------|-----------|-----------|-----------|\n",
      "           2 |     10699 |      5197 |     15896 | \n",
      "             | 10080.855 |  5815.145 |           | \n",
      "             |    37.904 |    65.708 |           | \n",
      "             |     0.673 |     0.327 |     0.284 | \n",
      "             |     0.302 |     0.254 |           | \n",
      "             |     0.191 |     0.093 |           | \n",
      "-------------|-----------|-----------|-----------|\n",
      "Column Total |     35465 |     20458 |     55923 | \n",
      "             |     0.634 |     0.366 |           | \n",
      "-------------|-----------|-----------|-----------|\n",
      "\n",
      " \n",
      "Statistics for All Table Factors\n",
      "\n",
      "\n",
      "Pearson's Chi-squared test \n",
      "------------------------------------------------------------\n",
      "Chi^2 =  641.917     d.f. =  2     p =  4.069111e-140 \n",
      "\n",
      "\n",
      " \n"
     ]
    }
   ],
   "source": [
    "# (2) 중성화여부 변수\n",
    "with(dog, CrossTable(neuterYN, adoptionYN, expected = TRUE, chisq = TRUE))"
   ]
  },
  {
   "cell_type": "markdown",
   "metadata": {},
   "source": [
    "입양 유무(adoptionYN)와 중성화여부(neuterYN)은 유의수준 0.05에서 관계가 있다."
   ]
  },
  {
   "cell_type": "code",
   "execution_count": 71,
   "metadata": {},
   "outputs": [
    {
     "name": "stdout",
     "output_type": "stream",
     "text": [
      "\n",
      " \n",
      "   Cell Contents\n",
      "|-------------------------|\n",
      "|                       N |\n",
      "|              Expected N |\n",
      "| Chi-square contribution |\n",
      "|           N / Row Total |\n",
      "|           N / Col Total |\n",
      "|         N / Table Total |\n",
      "|-------------------------|\n",
      "\n",
      " \n",
      "Total Observations in Table:  55923 \n",
      "\n",
      " \n",
      "             | adoptionYN \n",
      "         sex |         0 |         1 | Row Total | \n",
      "-------------|-----------|-----------|-----------|\n",
      "           0 |     16979 |     10185 |     27164 | \n",
      "             | 17226.745 |  9937.255 |           | \n",
      "             |     3.563 |     6.177 |           | \n",
      "             |     0.625 |     0.375 |     0.486 | \n",
      "             |     0.479 |     0.498 |           | \n",
      "             |     0.304 |     0.182 |           | \n",
      "-------------|-----------|-----------|-----------|\n",
      "           1 |     18065 |     10088 |     28153 | \n",
      "             | 17853.945 | 10299.055 |           | \n",
      "             |     2.495 |     4.325 |           | \n",
      "             |     0.642 |     0.358 |     0.503 | \n",
      "             |     0.509 |     0.493 |           | \n",
      "             |     0.323 |     0.180 |           | \n",
      "-------------|-----------|-----------|-----------|\n",
      "           2 |       421 |       185 |       606 | \n",
      "             |   384.310 |   221.690 |           | \n",
      "             |     3.503 |     6.072 |           | \n",
      "             |     0.695 |     0.305 |     0.011 | \n",
      "             |     0.012 |     0.009 |           | \n",
      "             |     0.008 |     0.003 |           | \n",
      "-------------|-----------|-----------|-----------|\n",
      "Column Total |     35465 |     20458 |     55923 | \n",
      "             |     0.634 |     0.366 |           | \n",
      "-------------|-----------|-----------|-----------|\n",
      "\n",
      " \n",
      "Statistics for All Table Factors\n",
      "\n",
      "\n",
      "Pearson's Chi-squared test \n",
      "------------------------------------------------------------\n",
      "Chi^2 =  26.1343     d.f. =  2     p =  2.113536e-06 \n",
      "\n",
      "\n",
      " \n"
     ]
    }
   ],
   "source": [
    "# (3) 성별 변수\n",
    "with(dog, CrossTable(sex, adoptionYN, expected = TRUE, chisq = TRUE))"
   ]
  },
  {
   "cell_type": "markdown",
   "metadata": {},
   "source": [
    "입양 유무(adoptionYN)와 성별(sex)은 유의수준 0.05에서 관계가 있다."
   ]
  },
  {
   "cell_type": "code",
   "execution_count": 72,
   "metadata": {},
   "outputs": [
    {
     "name": "stdout",
     "output_type": "stream",
     "text": [
      "\n",
      " \n",
      "   Cell Contents\n",
      "|-------------------------|\n",
      "|                       N |\n",
      "|              Expected N |\n",
      "| Chi-square contribution |\n",
      "|           N / Row Total |\n",
      "|           N / Col Total |\n",
      "|         N / Table Total |\n",
      "|-------------------------|\n",
      "\n",
      " \n",
      "Total Observations in Table:  55923 \n",
      "\n",
      " \n",
      "             | adoptionYN \n",
      "       color |         0 |         1 | Row Total | \n",
      "-------------|-----------|-----------|-----------|\n",
      "           0 |      1561 |      1136 |      2697 | \n",
      "             |  1710.371 |   986.629 |           | \n",
      "             |    13.045 |    22.614 |           | \n",
      "             |     0.579 |     0.421 |     0.048 | \n",
      "             |     0.044 |     0.056 |           | \n",
      "             |     0.028 |     0.020 |           | \n",
      "-------------|-----------|-----------|-----------|\n",
      "           1 |      2781 |      1524 |      4305 | \n",
      "             |  2730.126 |  1574.874 |           | \n",
      "             |     0.948 |     1.643 |           | \n",
      "             |     0.646 |     0.354 |     0.077 | \n",
      "             |     0.078 |     0.074 |           | \n",
      "             |     0.050 |     0.027 |           | \n",
      "-------------|-----------|-----------|-----------|\n",
      "           2 |      2585 |      1319 |      3904 | \n",
      "             |  2475.821 |  1428.179 |           | \n",
      "             |     4.815 |     8.346 |           | \n",
      "             |     0.662 |     0.338 |     0.070 | \n",
      "             |     0.073 |     0.064 |           | \n",
      "             |     0.046 |     0.024 |           | \n",
      "-------------|-----------|-----------|-----------|\n",
      "           3 |      1109 |       685 |      1794 | \n",
      "             |  1137.711 |   656.289 |           | \n",
      "             |     0.725 |     1.256 |           | \n",
      "             |     0.618 |     0.382 |     0.032 | \n",
      "             |     0.031 |     0.033 |           | \n",
      "             |     0.020 |     0.012 |           | \n",
      "-------------|-----------|-----------|-----------|\n",
      "           4 |      2077 |      1502 |      3579 | \n",
      "             |  2269.714 |  1309.286 |           | \n",
      "             |    16.363 |    28.366 |           | \n",
      "             |     0.580 |     0.420 |     0.064 | \n",
      "             |     0.059 |     0.073 |           | \n",
      "             |     0.037 |     0.027 |           | \n",
      "-------------|-----------|-----------|-----------|\n",
      "           5 |      8404 |      4174 |     12578 | \n",
      "             |  7976.660 |  4601.340 |           | \n",
      "             |    22.894 |    39.688 |           | \n",
      "             |     0.668 |     0.332 |     0.225 | \n",
      "             |     0.237 |     0.204 |           | \n",
      "             |     0.150 |     0.075 |           | \n",
      "-------------|-----------|-----------|-----------|\n",
      "           6 |      4416 |      2793 |      7209 | \n",
      "             |  4571.772 |  2637.228 |           | \n",
      "             |     5.308 |     9.201 |           | \n",
      "             |     0.613 |     0.387 |     0.129 | \n",
      "             |     0.125 |     0.137 |           | \n",
      "             |     0.079 |     0.050 |           | \n",
      "-------------|-----------|-----------|-----------|\n",
      "           7 |     12532 |      7325 |     19857 | \n",
      "             | 12592.824 |  7264.176 |           | \n",
      "             |     0.294 |     0.509 |           | \n",
      "             |     0.631 |     0.369 |     0.355 | \n",
      "             |     0.353 |     0.358 |           | \n",
      "             |     0.224 |     0.131 |           | \n",
      "-------------|-----------|-----------|-----------|\n",
      "Column Total |     35465 |     20458 |     55923 | \n",
      "             |     0.634 |     0.366 |           | \n",
      "-------------|-----------|-----------|-----------|\n",
      "\n",
      " \n",
      "Statistics for All Table Factors\n",
      "\n",
      "\n",
      "Pearson's Chi-squared test \n",
      "------------------------------------------------------------\n",
      "Chi^2 =  176.0145     d.f. =  7     p =  1.352141e-34 \n",
      "\n",
      "\n",
      " \n"
     ]
    }
   ],
   "source": [
    "# (4) 색깔 변수\n",
    "with(dog, CrossTable(color, adoptionYN, expected = TRUE, chisq = TRUE))"
   ]
  },
  {
   "cell_type": "markdown",
   "metadata": {},
   "source": [
    "입양 유무(adoptionYN)와 색깔(color)은 유의수준 0.05에서 관계가 있다."
   ]
  },
  {
   "cell_type": "markdown",
   "metadata": {},
   "source": [
    "# 애옹이"
   ]
  },
  {
   "cell_type": "code",
   "execution_count": 73,
   "metadata": {},
   "outputs": [
    {
     "name": "stdout",
     "output_type": "stream",
     "text": [
      "\n",
      " \n",
      "   Cell Contents\n",
      "|-------------------------|\n",
      "|                       N |\n",
      "|              Expected N |\n",
      "| Chi-square contribution |\n",
      "|           N / Row Total |\n",
      "|           N / Col Total |\n",
      "|         N / Table Total |\n",
      "|-------------------------|\n",
      "\n",
      " \n",
      "Total Observations in Table:  21476 \n",
      "\n",
      " \n",
      "             | adoptionYN \n",
      "      season |         0 |         1 | Row Total | \n",
      "-------------|-----------|-----------|-----------|\n",
      "           1 |      2061 |      2006 |      4067 | \n",
      "             |  2541.023 |  1525.977 |           | \n",
      "             |    90.681 |   151.000 |           | \n",
      "             |     0.507 |     0.493 |     0.189 | \n",
      "             |     0.154 |     0.249 |           | \n",
      "             |     0.096 |     0.093 |           | \n",
      "-------------|-----------|-----------|-----------|\n",
      "           2 |      6131 |      2767 |      8898 | \n",
      "             |  5559.386 |  3338.614 |           | \n",
      "             |    58.773 |    97.868 |           | \n",
      "             |     0.689 |     0.311 |     0.414 | \n",
      "             |     0.457 |     0.343 |           | \n",
      "             |     0.285 |     0.129 |           | \n",
      "-------------|-----------|-----------|-----------|\n",
      "           3 |      4018 |      2323 |      6341 | \n",
      "             |  3961.796 |  2379.204 |           | \n",
      "             |     0.797 |     1.328 |           | \n",
      "             |     0.634 |     0.366 |     0.295 | \n",
      "             |     0.299 |     0.288 |           | \n",
      "             |     0.187 |     0.108 |           | \n",
      "-------------|-----------|-----------|-----------|\n",
      "           4 |      1208 |       962 |      2170 | \n",
      "             |  1355.795 |   814.205 |           | \n",
      "             |    16.111 |    26.828 |           | \n",
      "             |     0.557 |     0.443 |     0.101 | \n",
      "             |     0.090 |     0.119 |           | \n",
      "             |     0.056 |     0.045 |           | \n",
      "-------------|-----------|-----------|-----------|\n",
      "Column Total |     13418 |      8058 |     21476 | \n",
      "             |     0.625 |     0.375 |           | \n",
      "-------------|-----------|-----------|-----------|\n",
      "\n",
      " \n",
      "Statistics for All Table Factors\n",
      "\n",
      "\n",
      "Pearson's Chi-squared test \n",
      "------------------------------------------------------------\n",
      "Chi^2 =  443.3856     d.f. =  3     p =  8.83784e-96 \n",
      "\n",
      "\n",
      " \n"
     ]
    }
   ],
   "source": [
    "# (1) 계절 변수\n",
    "with(cat, CrossTable(season, adoptionYN, expected = TRUE, chisq = TRUE))"
   ]
  },
  {
   "cell_type": "markdown",
   "metadata": {},
   "source": [
    "p-value > 0.05,  \n",
    "입양 유무(adoptionYN)와 계절(season)은 유의수준 0.05에서 관계가 있다."
   ]
  },
  {
   "cell_type": "code",
   "execution_count": 74,
   "metadata": {},
   "outputs": [
    {
     "name": "stdout",
     "output_type": "stream",
     "text": [
      "\n",
      " \n",
      "   Cell Contents\n",
      "|-------------------------|\n",
      "|                       N |\n",
      "|              Expected N |\n",
      "| Chi-square contribution |\n",
      "|           N / Row Total |\n",
      "|           N / Col Total |\n",
      "|         N / Table Total |\n",
      "|-------------------------|\n",
      "\n",
      " \n",
      "Total Observations in Table:  21476 \n",
      "\n",
      " \n",
      "             | adoptionYN \n",
      "    neuterYN |         0 |         1 | Row Total | \n",
      "-------------|-----------|-----------|-----------|\n",
      "           0 |      9237 |      6137 |     15374 | \n",
      "             |  9605.529 |  5768.471 |           | \n",
      "             |    14.139 |    23.544 |           | \n",
      "             |     0.601 |     0.399 |     0.716 | \n",
      "             |     0.688 |     0.762 |           | \n",
      "             |     0.430 |     0.286 |           | \n",
      "-------------|-----------|-----------|-----------|\n",
      "           1 |       224 |       203 |       427 | \n",
      "             |   266.786 |   160.214 |           | \n",
      "             |     6.862 |    11.426 |           | \n",
      "             |     0.525 |     0.475 |     0.020 | \n",
      "             |     0.017 |     0.025 |           | \n",
      "             |     0.010 |     0.009 |           | \n",
      "-------------|-----------|-----------|-----------|\n",
      "           2 |      3957 |      1718 |      5675 | \n",
      "             |  3545.686 |  2129.314 |           | \n",
      "             |    47.714 |    79.452 |           | \n",
      "             |     0.697 |     0.303 |     0.264 | \n",
      "             |     0.295 |     0.213 |           | \n",
      "             |     0.184 |     0.080 |           | \n",
      "-------------|-----------|-----------|-----------|\n",
      "Column Total |     13418 |      8058 |     21476 | \n",
      "             |     0.625 |     0.375 |           | \n",
      "-------------|-----------|-----------|-----------|\n",
      "\n",
      " \n",
      "Statistics for All Table Factors\n",
      "\n",
      "\n",
      "Pearson's Chi-squared test \n",
      "------------------------------------------------------------\n",
      "Chi^2 =  183.1374     d.f. =  2     p =  1.706937e-40 \n",
      "\n",
      "\n",
      " \n"
     ]
    }
   ],
   "source": [
    "# (2) 중성화여부 변수\n",
    "with(cat, CrossTable(neuterYN, adoptionYN, expected = TRUE, chisq = TRUE))"
   ]
  },
  {
   "cell_type": "markdown",
   "metadata": {},
   "source": [
    "입양 유무(adoptionYN)와 중성화여부(neuterYN)은 유의수준 0.05에서 관계가 있다."
   ]
  },
  {
   "cell_type": "code",
   "execution_count": 75,
   "metadata": {},
   "outputs": [
    {
     "name": "stdout",
     "output_type": "stream",
     "text": [
      "\n",
      " \n",
      "   Cell Contents\n",
      "|-------------------------|\n",
      "|                       N |\n",
      "|              Expected N |\n",
      "| Chi-square contribution |\n",
      "|           N / Row Total |\n",
      "|           N / Col Total |\n",
      "|         N / Table Total |\n",
      "|-------------------------|\n",
      "\n",
      " \n",
      "Total Observations in Table:  21476 \n",
      "\n",
      " \n",
      "             | adoptionYN \n",
      "         sex |         0 |         1 | Row Total | \n",
      "-------------|-----------|-----------|-----------|\n",
      "           0 |      4950 |      3319 |      8269 | \n",
      "             |  5166.392 |  3102.608 |           | \n",
      "             |     9.064 |    15.092 |           | \n",
      "             |     0.599 |     0.401 |     0.385 | \n",
      "             |     0.369 |     0.412 |           | \n",
      "             |     0.230 |     0.155 |           | \n",
      "-------------|-----------|-----------|-----------|\n",
      "           1 |      4880 |      3284 |      8164 | \n",
      "             |  5100.789 |  3063.211 |           | \n",
      "             |     9.557 |    15.914 |           | \n",
      "             |     0.598 |     0.402 |     0.380 | \n",
      "             |     0.364 |     0.408 |           | \n",
      "             |     0.227 |     0.153 |           | \n",
      "-------------|-----------|-----------|-----------|\n",
      "           2 |      3588 |      1455 |      5043 | \n",
      "             |  3150.818 |  1892.182 |           | \n",
      "             |    60.660 |   101.009 |           | \n",
      "             |     0.711 |     0.289 |     0.235 | \n",
      "             |     0.267 |     0.181 |           | \n",
      "             |     0.167 |     0.068 |           | \n",
      "-------------|-----------|-----------|-----------|\n",
      "Column Total |     13418 |      8058 |     21476 | \n",
      "             |     0.625 |     0.375 |           | \n",
      "-------------|-----------|-----------|-----------|\n",
      "\n",
      " \n",
      "Statistics for All Table Factors\n",
      "\n",
      "\n",
      "Pearson's Chi-squared test \n",
      "------------------------------------------------------------\n",
      "Chi^2 =  211.2958     d.f. =  2     p =  1.311305e-46 \n",
      "\n",
      "\n",
      " \n"
     ]
    }
   ],
   "source": [
    "# (3) 성별 변수\n",
    "with(cat, CrossTable(sex, adoptionYN, expected = TRUE, chisq = TRUE))"
   ]
  },
  {
   "cell_type": "markdown",
   "metadata": {},
   "source": [
    "입양 유무(adoptionYN)와 성별(sex)은 유의수준 0.05에서 관계가 있다."
   ]
  },
  {
   "cell_type": "code",
   "execution_count": 30,
   "metadata": {},
   "outputs": [
    {
     "name": "stdout",
     "output_type": "stream",
     "text": [
      "'data.frame':\t55923 obs. of  21 variables:\n",
      " $ adoptionYN    : Factor w/ 2 levels \"0\",\"1\": 1 2 2 1 2 1 1 1 1 1 ...\n",
      " $ age           : int  4 4 5 2 3 1 1 1 1 1 ...\n",
      " $ kind_spec     : chr  \"믹스\" \"푸들\" \"푸들\" \"믹스견\" ...\n",
      " $ weight_kg     : num  20 4 4.5 11 3.8 0.2 0.2 0.2 0.2 0.2 ...\n",
      " $ duration      : int  12 12 12 12 12 12 12 12 12 12 ...\n",
      " $ season        : Factor w/ 4 levels \"1\",\"2\",\"3\",\"4\": 4 4 4 4 4 4 4 4 4 4 ...\n",
      " $ neuterYN      : Factor w/ 3 levels \"0\",\"1\",\"2\": 1 1 1 1 1 1 1 1 1 1 ...\n",
      " $ sex           : Factor w/ 3 levels \"0\",\"1\",\"2\": 1 1 2 2 1 1 2 2 2 2 ...\n",
      " $ disease_cnt   : int  0 3 3 0 0 0 0 0 0 0 ...\n",
      " $ positives     : int  1 0 0 0 0 0 0 0 0 0 ...\n",
      " $ negatives     : int  0 0 0 0 0 0 0 0 0 0 ...\n",
      " $ size_google   : int  0 0 0 0 1 0 0 0 0 0 ...\n",
      " $ group_fic     : int  0 9 9 0 9 0 0 0 0 0 ...\n",
      " $ size_akc      : int  0 0 0 0 1 0 0 0 0 0 ...\n",
      " $ group_akc     : int  0 6 6 0 5 0 0 0 0 0 ...\n",
      " $ activity_level: int  0 0 0 0 3 0 0 0 0 0 ...\n",
      " $ careAddr_dosi : chr  \"전라북도 정읍시\" \"전라북도 군산시\" \"전라북도 군산시\" \"전라북도 군산시\" ...\n",
      " $ grdp          : num  25323188 33275552 33275552 33275552 33275552 ...\n",
      " $ economy       : num  6.3e+07 6.3e+07 6.3e+07 6.3e+07 6.3e+07 ...\n",
      " $ hospital_num  : int  22 17 17 17 17 17 17 17 17 17 ...\n",
      " $ color         : Factor w/ 8 levels \"0\",\"1\",\"2\",\"3\",..: 8 1 6 8 8 8 4 8 8 4 ...\n"
     ]
    }
   ],
   "source": [
    "dog %>% str()"
   ]
  },
  {
   "cell_type": "code",
   "execution_count": 31,
   "metadata": {},
   "outputs": [],
   "source": [
    "dog$size_google = dog$size_google %>% as.factor()\n",
    "dog$group_fic = dog$group_fic %>% as.factor()\n",
    "dog$size_akc = dog$size_akc %>% as.factor()\n",
    "dog$group_akc = dog$group_akc %>% as.factor()\n",
    "dog$activity_level = dog$activity_level %>% as.factor()"
   ]
  },
  {
   "cell_type": "code",
   "execution_count": 33,
   "metadata": {},
   "outputs": [],
   "source": [
    "logis = glm(adoptionYN ~ age + weight_kg + duration + season + neuterYN + sex + disease_cnt + positives + negatives + size_google + group_fic + size_akc + group_akc + activity_level + grdp + economy + hospital_num + color, data = dog, family = binomial)"
   ]
  },
  {
   "cell_type": "code",
   "execution_count": 37,
   "metadata": {},
   "outputs": [
    {
     "data": {
      "text/plain": [
       "\n",
       "Call:\n",
       "glm(formula = adoptionYN ~ age + weight_kg + duration + season + \n",
       "    neuterYN + sex + disease_cnt + positives + negatives + size_google + \n",
       "    group_fic + size_akc + group_akc + activity_level + grdp + \n",
       "    economy + hospital_num + color, family = binomial, data = dog)\n",
       "\n",
       "Deviance Residuals: \n",
       "    Min       1Q   Median       3Q      Max  \n",
       "-2.3920  -0.8943  -0.7004   1.1648   2.7647  \n",
       "\n",
       "Coefficients: (3 not defined because of singularities)\n",
       "                  Estimate Std. Error z value Pr(>|z|)    \n",
       "(Intercept)      6.206e-01  1.433e-01   4.331 1.48e-05 ***\n",
       "age             -1.258e-01  5.829e-03 -21.581  < 2e-16 ***\n",
       "weight_kg       -2.123e-02  2.061e-03 -10.302  < 2e-16 ***\n",
       "duration        -7.607e-02  6.096e-03 -12.478  < 2e-16 ***\n",
       "season2         -9.001e-02  2.599e-02  -3.464 0.000533 ***\n",
       "season3         -7.803e-02  2.688e-02  -2.903 0.003693 ** \n",
       "season4         -9.145e-02  2.668e-02  -3.428 0.000609 ***\n",
       "neuterYN1        3.163e-01  6.443e-02   4.910 9.13e-07 ***\n",
       "neuterYN2       -2.175e-01  2.224e-02  -9.778  < 2e-16 ***\n",
       "sex1             5.963e-02  1.948e-02   3.062 0.002201 ** \n",
       "sex2            -1.931e-02  9.475e-02  -0.204 0.838508    \n",
       "disease_cnt     -2.461e-02  9.042e-03  -2.722 0.006487 ** \n",
       "positives        2.840e-01  1.545e-02  18.379  < 2e-16 ***\n",
       "negatives       -2.464e-01  1.639e-02 -15.038  < 2e-16 ***\n",
       "size_google1     1.756e+00  4.726e-01   3.715 0.000203 ***\n",
       "size_google2     7.586e-01  4.468e-01   1.698 0.089520 .  \n",
       "size_google3     5.392e-01  3.985e-01   1.353 0.175999    \n",
       "group_fic1       3.260e+00  2.103e-01  15.501  < 2e-16 ***\n",
       "group_fic2       1.065e+01  5.924e+01   0.180 0.857385    \n",
       "group_fic3       1.055e+01  5.924e+01   0.178 0.858651    \n",
       "group_fic4       1.160e+01  5.924e+01   0.196 0.844697    \n",
       "group_fic5       1.114e+01  5.924e+01   0.188 0.850853    \n",
       "group_fic6       1.224e+01  5.924e+01   0.207 0.836315    \n",
       "group_fic7       2.088e+00  2.863e-01   7.294 3.01e-13 ***\n",
       "group_fic8       2.678e+00  2.368e-01  11.308  < 2e-16 ***\n",
       "group_fic9       1.070e+01  5.924e+01   0.181 0.856667    \n",
       "group_fic10      1.180e+01  5.924e+01   0.199 0.842174    \n",
       "group_fic11      1.030e+01  5.924e+01   0.174 0.861904    \n",
       "size_akc1       -1.007e+00  4.537e-01  -2.220 0.026394 *  \n",
       "size_akc2       -9.049e-01  4.422e-01  -2.046 0.040723 *  \n",
       "size_akc3       -1.141e+00  4.026e-01  -2.833 0.004609 ** \n",
       "size_akc4       -4.962e-01  3.668e-01  -1.353 0.176136    \n",
       "size_akc5               NA         NA      NA       NA    \n",
       "group_akc1              NA         NA      NA       NA    \n",
       "group_akc2      -9.299e+00  5.924e+01  -0.157 0.875265    \n",
       "group_akc3      -8.445e+00  5.924e+01  -0.143 0.886632    \n",
       "group_akc4      -8.612e+00  5.924e+01  -0.145 0.884416    \n",
       "group_akc5      -9.269e+00  5.924e+01  -0.156 0.875655    \n",
       "group_akc6      -8.542e+00  5.924e+01  -0.144 0.885344    \n",
       "group_akc7              NA         NA      NA       NA    \n",
       "group_akc9      -9.266e+00  5.924e+01  -0.156 0.875703    \n",
       "group_akc10     -9.483e+00  5.924e+01  -0.160 0.872810    \n",
       "activity_level1  1.321e-01  2.536e-01   0.521 0.602353    \n",
       "activity_level2 -7.070e-01  2.284e-01  -3.095 0.001966 ** \n",
       "activity_level3 -1.300e-01  2.138e-01  -0.608 0.543058    \n",
       "activity_level4 -2.471e-01  2.687e-01  -0.920 0.357635    \n",
       "grdp            -2.621e-09  4.237e-10  -6.185 6.23e-10 ***\n",
       "economy         -1.111e-09  1.765e-09  -0.630 0.528771    \n",
       "hospital_num     2.034e-03  3.229e-04   6.298 3.02e-10 ***\n",
       "color1          -2.092e-01  5.480e-02  -3.818 0.000134 ***\n",
       "color2          -2.377e-01  5.598e-02  -4.246 2.18e-05 ***\n",
       "color3           2.364e-02  6.693e-02   0.353 0.723951    \n",
       "color4           1.305e-01  5.618e-02   2.322 0.020225 *  \n",
       "color5          -2.927e-01  4.759e-02  -6.151 7.71e-10 ***\n",
       "color6           7.559e-02  5.011e-02   1.508 0.131461    \n",
       "color7          -1.262e-01  4.573e-02  -2.759 0.005798 ** \n",
       "---\n",
       "Signif. codes:  0 '***' 0.001 '**' 0.01 '*' 0.05 '.' 0.1 ' ' 1\n",
       "\n",
       "(Dispersion parameter for binomial family taken to be 1)\n",
       "\n",
       "    Null deviance: 73449  on 55922  degrees of freedom\n",
       "Residual deviance: 65702  on 55870  degrees of freedom\n",
       "AIC: 65808\n",
       "\n",
       "Number of Fisher Scoring iterations: 10\n"
      ]
     },
     "metadata": {},
     "output_type": "display_data"
    }
   ],
   "source": [
    "summary(logis)"
   ]
  },
  {
   "cell_type": "code",
   "execution_count": 36,
   "metadata": {},
   "outputs": [
    {
     "name": "stdout",
     "output_type": "stream",
     "text": [
      "Start:  AIC=65808\n",
      "adoptionYN ~ age + weight_kg + duration + season + neuterYN + \n",
      "    sex + disease_cnt + positives + negatives + size_google + \n",
      "    group_fic + size_akc + group_akc + activity_level + grdp + \n",
      "    economy + hospital_num + color\n",
      "\n",
      "                 Df Deviance   AIC\n",
      "- economy         1    65702 65806\n",
      "<none>                 65702 65808\n",
      "- disease_cnt     1    65709 65813\n",
      "- sex             2    65712 65814\n",
      "- size_akc        4    65716 65814\n",
      "- season          3    65719 65819\n",
      "- size_google     2    65729 65831\n",
      "- activity_level  4    65743 65841\n",
      "- grdp            1    65741 65845\n",
      "- hospital_num    1    65741 65845\n",
      "- group_fic       9    65760 65848\n",
      "- group_akc       7    65764 65856\n",
      "- weight_kg       1    65811 65915\n",
      "- neuterYN        2    65834 65936\n",
      "- duration        1    65867 65971\n",
      "- color           7    65897 65989\n",
      "- negatives       1    65937 66041\n",
      "- positives       1    66039 66143\n",
      "- age             1    66196 66300\n",
      "\n",
      "Step:  AIC=65806.39\n",
      "adoptionYN ~ age + weight_kg + duration + season + neuterYN + \n",
      "    sex + disease_cnt + positives + negatives + size_google + \n",
      "    group_fic + size_akc + group_akc + activity_level + grdp + \n",
      "    hospital_num + color\n",
      "\n",
      "                 Df Deviance   AIC\n",
      "<none>                 65702 65806\n",
      "+ economy         1    65702 65808\n",
      "- sex             2    65712 65812\n",
      "- disease_cnt     1    65710 65812\n",
      "- size_akc        4    65717 65813\n",
      "- season          3    65719 65817\n",
      "- size_google     2    65729 65829\n",
      "- activity_level  4    65743 65839\n",
      "- hospital_num    1    65741 65843\n",
      "- group_fic       9    65760 65846\n",
      "- grdp            1    65747 65849\n",
      "- group_akc       7    65765 65855\n",
      "- weight_kg       1    65812 65914\n",
      "- neuterYN        2    65834 65934\n",
      "- duration        1    65868 65970\n",
      "- color           7    65897 65987\n",
      "- negatives       1    65941 66043\n",
      "- positives       1    66043 66145\n",
      "- age             1    66196 66298\n"
     ]
    }
   ],
   "source": [
    "step_logis = step(logis, direction = 'both')"
   ]
  },
  {
   "cell_type": "code",
   "execution_count": 39,
   "metadata": {},
   "outputs": [
    {
     "name": "stdout",
     "output_type": "stream",
     "text": [
      "Start:  AIC=65808\n",
      "adoptionYN ~ age + weight_kg + duration + season + neuterYN + \n",
      "    sex + disease_cnt + positives + negatives + size_google + \n",
      "    group_fic + size_akc + group_akc + activity_level + grdp + \n",
      "    economy + hospital_num + color\n",
      "\n",
      "                 Df Deviance   AIC\n",
      "- economy         1    65702 65806\n",
      "<none>                 65702 65808\n",
      "- disease_cnt     1    65709 65813\n",
      "- sex             2    65712 65814\n",
      "- size_akc        4    65716 65814\n",
      "- season          3    65719 65819\n",
      "- size_google     2    65729 65831\n",
      "- activity_level  4    65743 65841\n",
      "- grdp            1    65741 65845\n",
      "- hospital_num    1    65741 65845\n",
      "- group_fic       9    65760 65848\n",
      "- group_akc       7    65764 65856\n",
      "- weight_kg       1    65811 65915\n",
      "- neuterYN        2    65834 65936\n",
      "- duration        1    65867 65971\n",
      "- color           7    65897 65989\n",
      "- negatives       1    65937 66041\n",
      "- positives       1    66039 66143\n",
      "- age             1    66196 66300\n",
      "\n",
      "Step:  AIC=65806.39\n",
      "adoptionYN ~ age + weight_kg + duration + season + neuterYN + \n",
      "    sex + disease_cnt + positives + negatives + size_google + \n",
      "    group_fic + size_akc + group_akc + activity_level + grdp + \n",
      "    hospital_num + color\n",
      "\n",
      "                 Df Deviance   AIC\n",
      "<none>                 65702 65806\n",
      "- sex             2    65712 65812\n",
      "- disease_cnt     1    65710 65812\n",
      "- size_akc        4    65717 65813\n",
      "- season          3    65719 65817\n",
      "- size_google     2    65729 65829\n",
      "- activity_level  4    65743 65839\n",
      "- hospital_num    1    65741 65843\n",
      "- group_fic       9    65760 65846\n",
      "- grdp            1    65747 65849\n",
      "- group_akc       7    65765 65855\n",
      "- weight_kg       1    65812 65914\n",
      "- neuterYN        2    65834 65934\n",
      "- duration        1    65868 65970\n",
      "- color           7    65897 65987\n",
      "- negatives       1    65941 66043\n",
      "- positives       1    66043 66145\n",
      "- age             1    66196 66298\n"
     ]
    }
   ],
   "source": [
    "step_logis_back = step(logis, direction = 'backward')"
   ]
  },
  {
   "cell_type": "code",
   "execution_count": 41,
   "metadata": {},
   "outputs": [
    {
     "data": {
      "text/plain": [
       "\n",
       "\tPearson's Chi-squared test\n",
       "\n",
       "data:  dog$season and dog$neuterYN\n",
       "X-squared = 31.086, df = 6, p-value = 2.441e-05\n"
      ]
     },
     "metadata": {},
     "output_type": "display_data"
    }
   ],
   "source": [
    "chisq.test(dog$season, dog$neuterYN)"
   ]
  },
  {
   "cell_type": "code",
   "execution_count": 42,
   "metadata": {},
   "outputs": [
    {
     "data": {
      "text/plain": [
       "\n",
       "\tPearson's Chi-squared test\n",
       "\n",
       "data:  dog$season and dog$sex\n",
       "X-squared = 31.802, df = 6, p-value = 1.781e-05\n"
      ]
     },
     "metadata": {},
     "output_type": "display_data"
    }
   ],
   "source": [
    "chisq.test(dog$season, dog$sex)"
   ]
  },
  {
   "cell_type": "code",
   "execution_count": 43,
   "metadata": {},
   "outputs": [
    {
     "data": {
      "text/plain": [
       "\n",
       "\tPearson's Chi-squared test\n",
       "\n",
       "data:  dog$season and dog$color\n",
       "X-squared = 53.173, df = 21, p-value = 0.0001299\n"
      ]
     },
     "metadata": {},
     "output_type": "display_data"
    }
   ],
   "source": [
    "chisq.test(dog$season, dog$color)"
   ]
  },
  {
   "cell_type": "code",
   "execution_count": 44,
   "metadata": {},
   "outputs": [
    {
     "data": {
      "text/plain": [
       "\n",
       "\tPearson's Chi-squared test\n",
       "\n",
       "data:  dog$neuterYN and dog$sex\n",
       "X-squared = 2467.3, df = 4, p-value < 2.2e-16\n"
      ]
     },
     "metadata": {},
     "output_type": "display_data"
    }
   ],
   "source": [
    "chisq.test(dog$neuterYN, dog$sex)"
   ]
  },
  {
   "cell_type": "code",
   "execution_count": 45,
   "metadata": {},
   "outputs": [
    {
     "data": {
      "text/plain": [
       "\n",
       "\tPearson's Chi-squared test\n",
       "\n",
       "data:  dog$neuterYN and dog$color\n",
       "X-squared = 180.83, df = 14, p-value < 2.2e-16\n"
      ]
     },
     "metadata": {},
     "output_type": "display_data"
    }
   ],
   "source": [
    "chisq.test(dog$neuterYN, dog$color)"
   ]
  },
  {
   "cell_type": "code",
   "execution_count": 46,
   "metadata": {},
   "outputs": [
    {
     "data": {
      "text/plain": [
       "\n",
       "\tPearson's Chi-squared test\n",
       "\n",
       "data:  dog$sex and dog$color\n",
       "X-squared = 33.417, df = 14, p-value = 0.002508\n"
      ]
     },
     "metadata": {},
     "output_type": "display_data"
    }
   ],
   "source": [
    "chisq.test(dog$sex, dog$color)"
   ]
  },
  {
   "cell_type": "code",
   "execution_count": 47,
   "metadata": {},
   "outputs": [
    {
     "data": {
      "text/plain": [
       "\n",
       "\tPearson's Chi-squared test\n",
       "\n",
       "data:  cat$season and cat$neuterYN\n",
       "X-squared = 212.82, df = 6, p-value < 2.2e-16\n"
      ]
     },
     "metadata": {},
     "output_type": "display_data"
    }
   ],
   "source": [
    "chisq.test(cat$season, cat$neuterYN)"
   ]
  },
  {
   "cell_type": "code",
   "execution_count": 48,
   "metadata": {},
   "outputs": [
    {
     "data": {
      "text/plain": [
       "\n",
       "\tPearson's Chi-squared test\n",
       "\n",
       "data:  cat$season and cat$sex\n",
       "X-squared = 63.314, df = 6, p-value = 9.526e-12\n"
      ]
     },
     "metadata": {},
     "output_type": "display_data"
    }
   ],
   "source": [
    "chisq.test(cat$season, cat$sex)"
   ]
  },
  {
   "cell_type": "code",
   "execution_count": 49,
   "metadata": {},
   "outputs": [
    {
     "data": {
      "text/plain": [
       "\n",
       "\tPearson's Chi-squared test\n",
       "\n",
       "data:  cat$neuterYN and cat$sex\n",
       "X-squared = 1196.5, df = 4, p-value < 2.2e-16\n"
      ]
     },
     "metadata": {},
     "output_type": "display_data"
    }
   ],
   "source": [
    "chisq.test(cat$neuterYN, cat$sex)"
   ]
  },
  {
   "cell_type": "code",
   "execution_count": 51,
   "metadata": {},
   "outputs": [
    {
     "data": {
      "text/plain": [
       "\n",
       "\tPearson's Chi-squared test\n",
       "\n",
       "data:  table(dog$season, dog$sex)\n",
       "X-squared = 31.802, df = 6, p-value = 1.781e-05\n"
      ]
     },
     "metadata": {},
     "output_type": "display_data"
    }
   ],
   "source": [
    "chisq.test(table(dog$season, dog$sex))"
   ]
  },
  {
   "cell_type": "code",
   "execution_count": 2,
   "metadata": {},
   "outputs": [
    {
     "name": "stderr",
     "output_type": "stream",
     "text": [
      "Warning message:\n",
      "\"package 'rcompanion' was built under R version 4.0.5\"\n"
     ]
    }
   ],
   "source": [
    "library('rcompanion')"
   ]
  },
  {
   "cell_type": "code",
   "execution_count": 57,
   "metadata": {},
   "outputs": [
    {
     "data": {
      "text/html": [
       "<strong>Cramer V:</strong> 0.1485"
      ],
      "text/latex": [
       "\\textbf{Cramer V:} 0.1485"
      ],
      "text/markdown": [
       "**Cramer V:** 0.1485"
      ],
      "text/plain": [
       "Cramer V \n",
       "  0.1485 "
      ]
     },
     "metadata": {},
     "output_type": "display_data"
    }
   ],
   "source": [
    "cramerV(table(dog$neuterYN, dog$sex))"
   ]
  },
  {
   "cell_type": "code",
   "execution_count": 58,
   "metadata": {},
   "outputs": [
    {
     "data": {
      "text/html": [
       "<strong>Cramer V:</strong> 0.04021"
      ],
      "text/latex": [
       "\\textbf{Cramer V:} 0.04021"
      ],
      "text/markdown": [
       "**Cramer V:** 0.04021"
      ],
      "text/plain": [
       "Cramer V \n",
       " 0.04021 "
      ]
     },
     "metadata": {},
     "output_type": "display_data"
    }
   ],
   "source": [
    "cramerV(table(dog$neuterYN, dog$color))"
   ]
  },
  {
   "cell_type": "code",
   "execution_count": 59,
   "metadata": {},
   "outputs": [
    {
     "data": {
      "text/html": [
       "<strong>Cramer V:</strong> 0.01729"
      ],
      "text/latex": [
       "\\textbf{Cramer V:} 0.01729"
      ],
      "text/markdown": [
       "**Cramer V:** 0.01729"
      ],
      "text/plain": [
       "Cramer V \n",
       " 0.01729 "
      ]
     },
     "metadata": {},
     "output_type": "display_data"
    }
   ],
   "source": [
    "cramerV(table(dog$sex, dog$color))"
   ]
  },
  {
   "cell_type": "code",
   "execution_count": 60,
   "metadata": {},
   "outputs": [
    {
     "data": {
      "text/html": [
       "<strong>Cramer V:</strong> 0.07039"
      ],
      "text/latex": [
       "\\textbf{Cramer V:} 0.07039"
      ],
      "text/markdown": [
       "**Cramer V:** 0.07039"
      ],
      "text/plain": [
       "Cramer V \n",
       " 0.07039 "
      ]
     },
     "metadata": {},
     "output_type": "display_data"
    }
   ],
   "source": [
    "cramerV(table(cat$season, cat$neuterYN))"
   ]
  },
  {
   "cell_type": "code",
   "execution_count": 61,
   "metadata": {},
   "outputs": [
    {
     "data": {
      "text/html": [
       "<strong>Cramer V:</strong> 0.03839"
      ],
      "text/latex": [
       "\\textbf{Cramer V:} 0.03839"
      ],
      "text/markdown": [
       "**Cramer V:** 0.03839"
      ],
      "text/plain": [
       "Cramer V \n",
       " 0.03839 "
      ]
     },
     "metadata": {},
     "output_type": "display_data"
    }
   ],
   "source": [
    "cramerV(table(cat$season, cat$sex))"
   ]
  },
  {
   "cell_type": "code",
   "execution_count": 62,
   "metadata": {},
   "outputs": [
    {
     "data": {
      "text/html": [
       "<strong>Cramer V:</strong> 0.1669"
      ],
      "text/latex": [
       "\\textbf{Cramer V:} 0.1669"
      ],
      "text/markdown": [
       "**Cramer V:** 0.1669"
      ],
      "text/plain": [
       "Cramer V \n",
       "  0.1669 "
      ]
     },
     "metadata": {},
     "output_type": "display_data"
    }
   ],
   "source": [
    "cramerV(table(cat$neuterYN, cat$sex))"
   ]
  },
  {
   "cell_type": "code",
   "execution_count": 68,
   "metadata": {},
   "outputs": [
    {
     "data": {
      "text/html": [
       "<strong>Cramer V:</strong> 0.02162"
      ],
      "text/latex": [
       "\\textbf{Cramer V:} 0.02162"
      ],
      "text/markdown": [
       "**Cramer V:** 0.02162"
      ],
      "text/plain": [
       "Cramer V \n",
       " 0.02162 "
      ]
     },
     "metadata": {},
     "output_type": "display_data"
    }
   ],
   "source": [
    "cramerV(table(dog$adoptionYN, dog$sex))"
   ]
  },
  {
   "cell_type": "code",
   "execution_count": 78,
   "metadata": {},
   "outputs": [
    {
     "name": "stderr",
     "output_type": "stream",
     "text": [
      "Warning message:\n",
      "\"package 'CORElearn' was built under R version 4.0.5\"\n"
     ]
    }
   ],
   "source": [
    "library(CORElearn)"
   ]
  },
  {
   "cell_type": "code",
   "execution_count": 94,
   "metadata": {},
   "outputs": [],
   "source": [
    "RE = attrEval(adoptionYN ~ weight_kg + neuterYN + sex + positives + negatives + size_akc + group_akc + activity_level + grdp + economy + hospital_num + color, data = dog,estimator='Relief',ReliefIterations=30)"
   ]
  },
  {
   "cell_type": "code",
   "execution_count": 95,
   "metadata": {},
   "outputs": [
    {
     "data": {
      "text/html": [
       "<style>\n",
       ".dl-inline {width: auto; margin:0; padding: 0}\n",
       ".dl-inline>dt, .dl-inline>dd {float: none; width: auto; display: inline-block}\n",
       ".dl-inline>dt::after {content: \":\\0020\"; padding-right: .5ex}\n",
       ".dl-inline>dt:not(:first-of-type) {padding-left: .5ex}\n",
       "</style><dl class=dl-inline><dt>economy</dt><dd>0.0356077348374101</dd><dt>color</dt><dd>0.0333333333333333</dd><dt>hospital_num</dt><dd>0.0288194444444444</dd><dt>weight_kg</dt><dd>0.00400916380297824</dd><dt>sex</dt><dd>0</dd><dt>negatives</dt><dd>0</dd><dt>size_akc</dt><dd>0</dd><dt>group_akc</dt><dd>0</dd><dt>activity_level</dt><dd>0</dd><dt>grdp</dt><dd>-0.0109630932905444</dd><dt>neuterYN</dt><dd>-0.0666666666666667</dd><dt>positives</dt><dd>-0.0666666666666667</dd></dl>\n"
      ],
      "text/latex": [
       "\\begin{description*}\n",
       "\\item[economy] 0.0356077348374101\n",
       "\\item[color] 0.0333333333333333\n",
       "\\item[hospital\\textbackslash{}\\_num] 0.0288194444444444\n",
       "\\item[weight\\textbackslash{}\\_kg] 0.00400916380297824\n",
       "\\item[sex] 0\n",
       "\\item[negatives] 0\n",
       "\\item[size\\textbackslash{}\\_akc] 0\n",
       "\\item[group\\textbackslash{}\\_akc] 0\n",
       "\\item[activity\\textbackslash{}\\_level] 0\n",
       "\\item[grdp] -0.0109630932905444\n",
       "\\item[neuterYN] -0.0666666666666667\n",
       "\\item[positives] -0.0666666666666667\n",
       "\\end{description*}\n"
      ],
      "text/markdown": [
       "economy\n",
       ":   0.0356077348374101color\n",
       ":   0.0333333333333333hospital_num\n",
       ":   0.0288194444444444weight_kg\n",
       ":   0.00400916380297824sex\n",
       ":   0negatives\n",
       ":   0size_akc\n",
       ":   0group_akc\n",
       ":   0activity_level\n",
       ":   0grdp\n",
       ":   -0.0109630932905444neuterYN\n",
       ":   -0.0666666666666667positives\n",
       ":   -0.0666666666666667\n",
       "\n"
      ],
      "text/plain": [
       "       economy          color   hospital_num      weight_kg            sex \n",
       "   0.035607735    0.033333333    0.028819444    0.004009164    0.000000000 \n",
       "     negatives       size_akc      group_akc activity_level           grdp \n",
       "   0.000000000    0.000000000    0.000000000    0.000000000   -0.010963093 \n",
       "      neuterYN      positives \n",
       "  -0.066666667   -0.066666667 "
      ]
     },
     "metadata": {},
     "output_type": "display_data"
    }
   ],
   "source": [
    "SRE = sort(RE, decreasing = T)\n",
    "SRE"
   ]
  },
  {
   "cell_type": "code",
   "execution_count": 96,
   "metadata": {},
   "outputs": [
    {
     "data": {
      "image/png": "[encoded data removed]",
      "text/plain": [
       "Plot with title \"Variable Importance\""
      ]
     },
     "metadata": {
      "image/png": {
       "height": 420,
       "width": 420
      }
     },
     "output_type": "display_data"
    }
   ],
   "source": [
    "plot(1:length(SRE),SRE, type='b', ylab='Separability', xlab ='variables', main='Variable Importance', xaxt='n')\n",
    "axis(side=1, at=1:length(SRE), labels=names(SRE), cex.axis=0.8,las=2)"
   ]
  },
  {
   "cell_type": "code",
   "execution_count": null,
   "metadata": {},
   "outputs": [],
   "source": [
    "adoptionYn ~ age + season + neuterYN + sex + disease_cnt + positives + negatives + hair + grdp + economy + hospital_num + color "
   ]
  },
  {
   "cell_type": "code",
   "execution_count": 91,
   "metadata": {},
   "outputs": [],
   "source": [
    "catRE = attrEval(adoptionYN ~ age + season + neuterYN + sex + disease_cnt + positives + negatives + hair + grdp + economy + hospital_num + color, data = cat,estimator='Relief',ReliefIterations=30)"
   ]
  },
  {
   "cell_type": "code",
   "execution_count": 92,
   "metadata": {},
   "outputs": [
    {
     "data": {
      "text/html": [
       "<style>\n",
       ".dl-inline {width: auto; margin:0; padding: 0}\n",
       ".dl-inline>dt, .dl-inline>dd {float: none; width: auto; display: inline-block}\n",
       ".dl-inline>dt::after {content: \":\\0020\"; padding-right: .5ex}\n",
       ".dl-inline>dt:not(:first-of-type) {padding-left: .5ex}\n",
       "</style><dl class=dl-inline><dt>season</dt><dd>0.133333333333333</dd><dt>negatives</dt><dd>0.0666666666666667</dd><dt>color</dt><dd>0.0666666666666667</dd><dt>disease_cnt</dt><dd>0.0523809523809524</dd><dt>sex</dt><dd>0.0333333333333333</dd><dt>hair</dt><dd>0.0333333333333333</dd><dt>economy</dt><dd>0.0331598254362568</dd><dt>age</dt><dd>0.0128205128205128</dd><dt>neuterYN</dt><dd>0</dd><dt>grdp</dt><dd>-0.0108408034859067</dd><dt>positives</dt><dd>-0.0333333333333333</dd><dt>hospital_num</dt><dd>-0.0664930555555556</dd></dl>\n"
      ],
      "text/latex": [
       "\\begin{description*}\n",
       "\\item[season] 0.133333333333333\n",
       "\\item[negatives] 0.0666666666666667\n",
       "\\item[color] 0.0666666666666667\n",
       "\\item[disease\\textbackslash{}\\_cnt] 0.0523809523809524\n",
       "\\item[sex] 0.0333333333333333\n",
       "\\item[hair] 0.0333333333333333\n",
       "\\item[economy] 0.0331598254362568\n",
       "\\item[age] 0.0128205128205128\n",
       "\\item[neuterYN] 0\n",
       "\\item[grdp] -0.0108408034859067\n",
       "\\item[positives] -0.0333333333333333\n",
       "\\item[hospital\\textbackslash{}\\_num] -0.0664930555555556\n",
       "\\end{description*}\n"
      ],
      "text/markdown": [
       "season\n",
       ":   0.133333333333333negatives\n",
       ":   0.0666666666666667color\n",
       ":   0.0666666666666667disease_cnt\n",
       ":   0.0523809523809524sex\n",
       ":   0.0333333333333333hair\n",
       ":   0.0333333333333333economy\n",
       ":   0.0331598254362568age\n",
       ":   0.0128205128205128neuterYN\n",
       ":   0grdp\n",
       ":   -0.0108408034859067positives\n",
       ":   -0.0333333333333333hospital_num\n",
       ":   -0.0664930555555556\n",
       "\n"
      ],
      "text/plain": [
       "      season    negatives        color  disease_cnt          sex         hair \n",
       "  0.13333333   0.06666667   0.06666667   0.05238095   0.03333333   0.03333333 \n",
       "     economy          age     neuterYN         grdp    positives hospital_num \n",
       "  0.03315983   0.01282051   0.00000000  -0.01084080  -0.03333333  -0.06649306 "
      ]
     },
     "metadata": {},
     "output_type": "display_data"
    }
   ],
   "source": [
    "catSRE = sort(catRE, decreasing = T)\n",
    "catSRE"
   ]
  },
  {
   "cell_type": "code",
   "execution_count": 93,
   "metadata": {},
   "outputs": [
    {
     "data": {
      "image/png": "[encoded data removed]",
      "text/plain": [
       "Plot with title \"Variable Importance\""
      ]
     },
     "metadata": {
      "image/png": {
       "height": 420,
       "width": 420
      }
     },
     "output_type": "display_data"
    }
   ],
   "source": [
    "plot(1:length(catSRE),catSRE, type='b', ylab='Separability', xlab ='variables', main='Variable Importance', xaxt='n')\n",
    "axis(side=1, at=1:length(catSRE), labels=names(catSRE), cex.axis=0.8,las=2)"
   ]
  },
  {
   "cell_type": "code",
   "execution_count": null,
   "metadata": {},
   "outputs": [],
   "source": [
    "########################################################################################"
   ]
  },
  {
   "cell_type": "code",
   "execution_count": 98,
   "metadata": {},
   "outputs": [
    {
     "name": "stderr",
     "output_type": "stream",
     "text": [
      "Warning message:\n",
      "\"package 'vcd' was built under R version 4.0.5\"\n",
      "Loading required package: grid\n",
      "\n"
     ]
    }
   ],
   "source": [
    "library(vcd)"
   ]
  },
  {
   "cell_type": "code",
   "execution_count": 100,
   "metadata": {},
   "outputs": [
    {
     "data": {
      "text/plain": [
       "   \n",
       "        0     1     2\n",
       "  0 16979 18065   421\n",
       "  1 10185 10088   185"
      ]
     },
     "metadata": {},
     "output_type": "display_data"
    }
   ],
   "source": [
    "table(dog$adoptionYN, dog$sex)"
   ]
  },
  {
   "cell_type": "code",
   "execution_count": 99,
   "metadata": {},
   "outputs": [
    {
     "data": {
      "text/plain": [
       "                    X^2 df   P(> X^2)\n",
       "Likelihood Ratio 26.380  2 1.8690e-06\n",
       "Pearson          26.134  2 2.1135e-06\n",
       "\n",
       "Phi-Coefficient   : NA \n",
       "Contingency Coeff.: 0.022 \n",
       "Cramer's V        : 0.022 "
      ]
     },
     "metadata": {},
     "output_type": "display_data"
    }
   ],
   "source": [
    "assocstats(table(dog$adoptionYN, dog$sex))"
   ]
  },
  {
   "cell_type": "code",
   "execution_count": 110,
   "metadata": {},
   "outputs": [
    {
     "name": "stderr",
     "output_type": "stream",
     "text": [
      "\n",
      "Attaching package: 'fmsb'\n",
      "\n",
      "\n",
      "The following objects are masked from 'package:epitools':\n",
      "\n",
      "    oddsratio, rateratio, riskratio\n",
      "\n",
      "\n",
      "The following object is masked from 'package:vcd':\n",
      "\n",
      "    oddsratio\n",
      "\n",
      "\n"
     ]
    }
   ],
   "source": [
    "library(fmsb)"
   ]
  },
  {
   "cell_type": "code",
   "execution_count": 113,
   "metadata": {},
   "outputs": [
    {
     "data": {
      "text/plain": [
       "   \n",
       "        0     1     2\n",
       "  0 16979 18065   421\n",
       "  1 10185 10088   185"
      ]
     },
     "metadata": {},
     "output_type": "display_data"
    }
   ],
   "source": [
    "table(dog$adoptionYN, dog$)"
   ]
  },
  {
   "cell_type": "code",
   "execution_count": 114,
   "metadata": {},
   "outputs": [
    {
     "ename": "ERROR",
     "evalue": "Error in fisher.test(xx): FEXACT error 6.  LDKEY=271 is too small for this problem,\n  (ii := key2[itp=284] = 719870047, ldstp=8130)\nTry increasing the size of the workspace and possibly 'mult'\n",
     "output_type": "error",
     "traceback": [
      "Error in fisher.test(xx): FEXACT error 6.  LDKEY=271 is too small for this problem,\n  (ii := key2[itp=284] = 719870047, ldstp=8130)\nTry increasing the size of the workspace and possibly 'mult'\nTraceback:\n",
      "1. oddsratio.wald(table(dog$adoptionYN, dog$sex))",
      "2. tab2by2.test(x, correction = correction)",
      "3. fisher.test(xx)"
     ]
    }
   ],
   "source": [
    "oddsratio.wald(table(dog$adoptionYN, dog$sex))"
   ]
  }
 ],
 "metadata": {
  "kernelspec": {
   "display_name": "R 4.0.3",
   "language": "R",
   "name": "ir403"
  },
  "language_info": {
   "codemirror_mode": "r",
   "file_extension": ".r",
   "mimetype": "text/x-r-source",
   "name": "R",
   "pygments_lexer": "r",
   "version": "4.0.3"
  }
 },
 "nbformat": 4,
 "nbformat_minor": 4
}
