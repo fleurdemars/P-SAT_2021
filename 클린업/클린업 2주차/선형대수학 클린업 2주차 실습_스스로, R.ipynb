{
 "cells": [
  {
   "cell_type": "markdown",
   "metadata": {},
   "source": [
    "# 행렬식 구하기"
   ]
  },
  {
   "cell_type": "code",
   "execution_count": 48,
   "metadata": {},
   "outputs": [
    {
     "data": {
      "text/html": [
       "<table>\n",
       "<caption>A matrix: 4 × 4 of type int</caption>\n",
       "<tbody>\n",
       "\t<tr><td> 1</td><td> 2</td><td> 3</td><td> 4</td></tr>\n",
       "\t<tr><td> 5</td><td> 6</td><td> 7</td><td> 8</td></tr>\n",
       "\t<tr><td> 9</td><td>10</td><td>11</td><td>12</td></tr>\n",
       "\t<tr><td>13</td><td>14</td><td>15</td><td>16</td></tr>\n",
       "</tbody>\n",
       "</table>\n"
      ],
      "text/latex": [
       "A matrix: 4 × 4 of type int\n",
       "\\begin{tabular}{llll}\n",
       "\t  1 &  2 &  3 &  4\\\\\n",
       "\t  5 &  6 &  7 &  8\\\\\n",
       "\t  9 & 10 & 11 & 12\\\\\n",
       "\t 13 & 14 & 15 & 16\\\\\n",
       "\\end{tabular}\n"
      ],
      "text/markdown": [
       "\n",
       "A matrix: 4 × 4 of type int\n",
       "\n",
       "|  1 |  2 |  3 |  4 |\n",
       "|  5 |  6 |  7 |  8 |\n",
       "|  9 | 10 | 11 | 12 |\n",
       "| 13 | 14 | 15 | 16 |\n",
       "\n"
      ],
      "text/plain": [
       "     [,1] [,2] [,3] [,4]\n",
       "[1,]  1    2    3    4  \n",
       "[2,]  5    6    7    8  \n",
       "[3,]  9   10   11   12  \n",
       "[4,] 13   14   15   16  "
      ]
     },
     "metadata": {},
     "output_type": "display_data"
    }
   ],
   "source": [
    "fbyf = matrix(1:16, nrow = 4, byrow = TRUE)\n",
    "fbyf"
   ]
  },
  {
   "cell_type": "code",
   "execution_count": 49,
   "metadata": {},
   "outputs": [
    {
     "data": {
      "text/html": [
       "4.73316543132613e-30"
      ],
      "text/latex": [
       "4.73316543132613e-30"
      ],
      "text/markdown": [
       "4.73316543132613e-30"
      ],
      "text/plain": [
       "[1] 4.733165e-30"
      ]
     },
     "metadata": {},
     "output_type": "display_data"
    }
   ],
   "source": [
    "det(fbyf)"
   ]
  },
  {
   "cell_type": "markdown",
   "metadata": {},
   "source": [
    "# 선형회귀모델"
   ]
  },
  {
   "cell_type": "code",
   "execution_count": 40,
   "metadata": {},
   "outputs": [
    {
     "name": "stderr",
     "output_type": "stream",
     "text": [
      "Warning message:\n",
      "\"package 'ISLR' was built under R version 4.0.4\"\n",
      "Warning message:\n",
      "\"package 'caret' was built under R version 4.0.4\"\n",
      "Loading required package: lattice\n",
      "\n",
      "\n",
      "Attaching package: 'caret'\n",
      "\n",
      "\n",
      "The following object is masked from 'package:purrr':\n",
      "\n",
      "    lift\n",
      "\n",
      "\n",
      "Warning message:\n",
      "\"package 'MLmetrics' was built under R version 4.0.4\"\n",
      "\n",
      "Attaching package: 'MLmetrics'\n",
      "\n",
      "\n",
      "The following objects are masked from 'package:caret':\n",
      "\n",
      "    MAE, RMSE\n",
      "\n",
      "\n",
      "The following object is masked from 'package:base':\n",
      "\n",
      "    Recall\n",
      "\n",
      "\n"
     ]
    }
   ],
   "source": [
    "library(tidyverse)\n",
    "library(ISLR)\n",
    "library(caret)\n",
    "library(MLmetrics)"
   ]
  },
  {
   "cell_type": "code",
   "execution_count": 41,
   "metadata": {},
   "outputs": [
    {
     "data": {
      "text/html": [
       "<table>\n",
       "<caption>A data.frame: 6 × 5</caption>\n",
       "<thead>\n",
       "\t<tr><th></th><th scope=col>Sales</th><th scope=col>Income</th><th scope=col>Population</th><th scope=col>Age</th><th scope=col>Education</th></tr>\n",
       "\t<tr><th></th><th scope=col>&lt;dbl&gt;</th><th scope=col>&lt;dbl&gt;</th><th scope=col>&lt;dbl&gt;</th><th scope=col>&lt;dbl&gt;</th><th scope=col>&lt;dbl&gt;</th></tr>\n",
       "</thead>\n",
       "<tbody>\n",
       "\t<tr><th scope=row>1</th><td> 9.50</td><td> 73</td><td>276</td><td>42</td><td>17</td></tr>\n",
       "\t<tr><th scope=row>2</th><td>11.22</td><td> 48</td><td>260</td><td>65</td><td>10</td></tr>\n",
       "\t<tr><th scope=row>3</th><td>10.06</td><td> 35</td><td>269</td><td>59</td><td>12</td></tr>\n",
       "\t<tr><th scope=row>4</th><td> 7.40</td><td>100</td><td>466</td><td>55</td><td>14</td></tr>\n",
       "\t<tr><th scope=row>5</th><td> 4.15</td><td> 64</td><td>340</td><td>38</td><td>13</td></tr>\n",
       "\t<tr><th scope=row>6</th><td>10.81</td><td>113</td><td>501</td><td>78</td><td>16</td></tr>\n",
       "</tbody>\n",
       "</table>\n"
      ],
      "text/latex": [
       "A data.frame: 6 × 5\n",
       "\\begin{tabular}{r|lllll}\n",
       "  & Sales & Income & Population & Age & Education\\\\\n",
       "  & <dbl> & <dbl> & <dbl> & <dbl> & <dbl>\\\\\n",
       "\\hline\n",
       "\t1 &  9.50 &  73 & 276 & 42 & 17\\\\\n",
       "\t2 & 11.22 &  48 & 260 & 65 & 10\\\\\n",
       "\t3 & 10.06 &  35 & 269 & 59 & 12\\\\\n",
       "\t4 &  7.40 & 100 & 466 & 55 & 14\\\\\n",
       "\t5 &  4.15 &  64 & 340 & 38 & 13\\\\\n",
       "\t6 & 10.81 & 113 & 501 & 78 & 16\\\\\n",
       "\\end{tabular}\n"
      ],
      "text/markdown": [
       "\n",
       "A data.frame: 6 × 5\n",
       "\n",
       "| <!--/--> | Sales &lt;dbl&gt; | Income &lt;dbl&gt; | Population &lt;dbl&gt; | Age &lt;dbl&gt; | Education &lt;dbl&gt; |\n",
       "|---|---|---|---|---|---|\n",
       "| 1 |  9.50 |  73 | 276 | 42 | 17 |\n",
       "| 2 | 11.22 |  48 | 260 | 65 | 10 |\n",
       "| 3 | 10.06 |  35 | 269 | 59 | 12 |\n",
       "| 4 |  7.40 | 100 | 466 | 55 | 14 |\n",
       "| 5 |  4.15 |  64 | 340 | 38 | 13 |\n",
       "| 6 | 10.81 | 113 | 501 | 78 | 16 |\n",
       "\n"
      ],
      "text/plain": [
       "  Sales Income Population Age Education\n",
       "1  9.50  73    276        42  17       \n",
       "2 11.22  48    260        65  10       \n",
       "3 10.06  35    269        59  12       \n",
       "4  7.40 100    466        55  14       \n",
       "5  4.15  64    340        38  13       \n",
       "6 10.81 113    501        78  16       "
      ]
     },
     "metadata": {},
     "output_type": "display_data"
    }
   ],
   "source": [
    "data = Carseats\n",
    "data = data[,c(1,3,5,8,9)]\n",
    "data %>% head()"
   ]
  },
  {
   "cell_type": "code",
   "execution_count": 43,
   "metadata": {},
   "outputs": [],
   "source": [
    "set.seed(1234)\n",
    "test_idx = createDataPartition(data$Sales, p = 0.3, list = FALSE)\n",
    "train = data[-test_idx,]\n",
    "test = data[test_idx,]"
   ]
  },
  {
   "cell_type": "code",
   "execution_count": 54,
   "metadata": {},
   "outputs": [
    {
     "data": {
      "text/html": [
       "<table>\n",
       "<caption>A matrix: 5 × 1 of type dbl</caption>\n",
       "<tbody>\n",
       "\t<tr><th scope=row>1</th><td>10.2025929252</td></tr>\n",
       "\t<tr><th scope=row>Income</th><td> 0.0156162755</td></tr>\n",
       "\t<tr><th scope=row>Population</th><td>-0.0005183994</td></tr>\n",
       "\t<tr><th scope=row>Age</th><td>-0.0426565413</td></tr>\n",
       "\t<tr><th scope=row>Education</th><td>-0.0960313547</td></tr>\n",
       "</tbody>\n",
       "</table>\n"
      ],
      "text/latex": [
       "A matrix: 5 × 1 of type dbl\n",
       "\\begin{tabular}{r|l}\n",
       "\t1 & 10.2025929252\\\\\n",
       "\tIncome &  0.0156162755\\\\\n",
       "\tPopulation & -0.0005183994\\\\\n",
       "\tAge & -0.0426565413\\\\\n",
       "\tEducation & -0.0960313547\\\\\n",
       "\\end{tabular}\n"
      ],
      "text/markdown": [
       "\n",
       "A matrix: 5 × 1 of type dbl\n",
       "\n",
       "| 1 | 10.2025929252 |\n",
       "| Income |  0.0156162755 |\n",
       "| Population | -0.0005183994 |\n",
       "| Age | -0.0426565413 |\n",
       "| Education | -0.0960313547 |\n",
       "\n"
      ],
      "text/plain": [
       "           [,1]         \n",
       "1          10.2025929252\n",
       "Income      0.0156162755\n",
       "Population -0.0005183994\n",
       "Age        -0.0426565413\n",
       "Education  -0.0960313547"
      ]
     },
     "metadata": {},
     "output_type": "display_data"
    }
   ],
   "source": [
    "# 행렬 생성\n",
    "X_tr = cbind(1, train[,-1]) %>% as.matrix\n",
    "Y_tr = train$Sales %>% as.matrix\n",
    "Bhat = solve(t(X_tr) %*% X_tr) %*% t(X_tr) %*% Y_tr\n",
    "Bhat"
   ]
  },
  {
   "cell_type": "code",
   "execution_count": 45,
   "metadata": {},
   "outputs": [
    {
     "data": {
      "text/html": [
       "2.74630293710737"
      ],
      "text/latex": [
       "2.74630293710737"
      ],
      "text/markdown": [
       "2.74630293710737"
      ],
      "text/plain": [
       "[1] 2.746303"
      ]
     },
     "metadata": {},
     "output_type": "display_data"
    }
   ],
   "source": [
    "X_te = cbind(1, test[,-1]) %>% as.matrix\n",
    "Y_te = test$Sales %>% as.matrix\n",
    "yhat_te = X_te %*% Bhat\n",
    "RMSE(yhat_te, Y_te)"
   ]
  },
  {
   "cell_type": "code",
   "execution_count": 46,
   "metadata": {},
   "outputs": [
    {
     "data": {
      "text/plain": [
       "\n",
       "Call:\n",
       "lm(formula = Sales ~ ., data = train)\n",
       "\n",
       "Residuals:\n",
       "    Min      1Q  Median      3Q     Max \n",
       "-8.0943 -1.9498 -0.2619  1.7160  8.2290 \n",
       "\n",
       "Coefficients:\n",
       "              Estimate Std. Error t value Pr(>|t|)    \n",
       "(Intercept) 10.2025929  1.2232914   8.340 3.66e-15 ***\n",
       "Income       0.0156163  0.0060043   2.601   0.0098 ** \n",
       "Population  -0.0005184  0.0011297  -0.459   0.6467    \n",
       "Age         -0.0426565  0.0103677  -4.114 5.14e-05 ***\n",
       "Education   -0.0960314  0.0627465  -1.530   0.1271    \n",
       "---\n",
       "Signif. codes:  0 '***' 0.001 '**' 0.01 '*' 0.05 '.' 0.1 ' ' 1\n",
       "\n",
       "Residual standard error: 2.726 on 274 degrees of freedom\n",
       "Multiple R-squared:  0.08613,\tAdjusted R-squared:  0.07279 \n",
       "F-statistic: 6.456 on 4 and 274 DF,  p-value: 5.6e-05\n"
      ]
     },
     "metadata": {},
     "output_type": "display_data"
    }
   ],
   "source": [
    "# (+) 모델링 통해\n",
    "fit = lm(Sales ~ ., data = train)\n",
    "fit %>% summary"
   ]
  },
  {
   "cell_type": "code",
   "execution_count": 47,
   "metadata": {},
   "outputs": [
    {
     "data": {
      "text/html": [
       "2.74630293710737"
      ],
      "text/latex": [
       "2.74630293710737"
      ],
      "text/markdown": [
       "2.74630293710737"
      ],
      "text/plain": [
       "[1] 2.746303"
      ]
     },
     "metadata": {},
     "output_type": "display_data"
    }
   ],
   "source": [
    "yhat = predict(fit, test)\n",
    "RMSE(yhat, test$Sales)"
   ]
  },
  {
   "cell_type": "markdown",
   "metadata": {},
   "source": [
    "# 가중선형회귀모델"
   ]
  },
  {
   "cell_type": "code",
   "execution_count": 55,
   "metadata": {},
   "outputs": [
    {
     "data": {
      "text/html": [
       "<table>\n",
       "<caption>A matrix: 2 × 1 of type dbl</caption>\n",
       "<tbody>\n",
       "\t<tr><th scope=row>1</th><td>3.1219645</td></tr>\n",
       "\t<tr><th scope=row>Age</th><td>0.1201618</td></tr>\n",
       "</tbody>\n",
       "</table>\n"
      ],
      "text/latex": [
       "A matrix: 2 × 1 of type dbl\n",
       "\\begin{tabular}{r|l}\n",
       "\t1 & 3.1219645\\\\\n",
       "\tAge & 0.1201618\\\\\n",
       "\\end{tabular}\n"
      ],
      "text/markdown": [
       "\n",
       "A matrix: 2 × 1 of type dbl\n",
       "\n",
       "| 1 | 3.1219645 |\n",
       "| Age | 0.1201618 |\n",
       "\n"
      ],
      "text/plain": [
       "    [,1]     \n",
       "1   3.1219645\n",
       "Age 0.1201618"
      ]
     },
     "metadata": {},
     "output_type": "display_data"
    }
   ],
   "source": [
    "X_tr = X_tr[1:5, c(1,4)]\n",
    "Y_tr = Y_tr[1:5,]\n",
    "W = diag(c(2,2,2,1,1))\n",
    "Bhat = solve(t(W %*% X_tr) %*% W %*% X_tr) %*% t(W %*% X_tr) %*% W %*% Y_tr\n",
    "Bhat"
   ]
  }
 ],
 "metadata": {
  "kernelspec": {
   "display_name": "R 4.0.3",
   "language": "R",
   "name": "ir403"
  },
  "language_info": {
   "codemirror_mode": "r",
   "file_extension": ".r",
   "mimetype": "text/x-r-source",
   "name": "R",
   "pygments_lexer": "r",
   "version": "4.0.3"
  }
 },
 "nbformat": 4,
 "nbformat_minor": 4
}
