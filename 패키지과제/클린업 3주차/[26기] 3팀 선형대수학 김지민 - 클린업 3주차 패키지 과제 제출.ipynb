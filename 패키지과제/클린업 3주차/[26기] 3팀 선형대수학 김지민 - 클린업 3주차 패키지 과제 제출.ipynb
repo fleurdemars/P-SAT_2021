{
 "cells": [
  {
   "cell_type": "markdown",
   "metadata": {},
   "source": [
    "# 클린업 3주차 패키지 과제 - 3팀 선형대수학팀 김지민"
   ]
  },
  {
   "cell_type": "markdown",
   "metadata": {},
   "source": [
    " "
   ]
  },
  {
   "cell_type": "markdown",
   "metadata": {},
   "source": [
    " "
   ]
  },
  {
   "cell_type": "markdown",
   "metadata": {},
   "source": [
    " "
   ]
  },
  {
   "cell_type": "markdown",
   "metadata": {},
   "source": [
    "## Chapter 1. 모델링을 위한 전처리"
   ]
  },
  {
   "cell_type": "markdown",
   "metadata": {},
   "source": [
    "### 문제 0 기본 세팅"
   ]
  },
  {
   "cell_type": "code",
   "execution_count": 1,
   "metadata": {},
   "outputs": [
    {
     "name": "stderr",
     "output_type": "stream",
     "text": [
      "-- \u001b[1mAttaching packages\u001b[22m ------------------------------------------------------------------------------- tidyverse 1.3.0 --\n",
      "\n",
      "\u001b[32m√\u001b[39m \u001b[34mggplot2\u001b[39m 3.3.3     \u001b[32m√\u001b[39m \u001b[34mpurrr  \u001b[39m 0.3.4\n",
      "\u001b[32m√\u001b[39m \u001b[34mtibble \u001b[39m 3.0.4     \u001b[32m√\u001b[39m \u001b[34mdplyr  \u001b[39m 1.0.2\n",
      "\u001b[32m√\u001b[39m \u001b[34mtidyr  \u001b[39m 1.1.2     \u001b[32m√\u001b[39m \u001b[34mstringr\u001b[39m 1.4.0\n",
      "\u001b[32m√\u001b[39m \u001b[34mreadr  \u001b[39m 1.4.0     \u001b[32m√\u001b[39m \u001b[34mforcats\u001b[39m 0.5.0\n",
      "\n",
      "-- \u001b[1mConflicts\u001b[22m ---------------------------------------------------------------------------------- tidyverse_conflicts() --\n",
      "\u001b[31mx\u001b[39m \u001b[34mdplyr\u001b[39m::\u001b[32mfilter()\u001b[39m masks \u001b[34mstats\u001b[39m::filter()\n",
      "\u001b[31mx\u001b[39m \u001b[34mdplyr\u001b[39m::\u001b[32mlag()\u001b[39m    masks \u001b[34mstats\u001b[39m::lag()\n",
      "\n",
      "\n",
      "Attaching package: 'data.table'\n",
      "\n",
      "\n",
      "The following objects are masked from 'package:dplyr':\n",
      "\n",
      "    between, first, last\n",
      "\n",
      "\n",
      "The following object is masked from 'package:purrr':\n",
      "\n",
      "    transpose\n",
      "\n",
      "\n",
      "\n",
      "Attaching package: 'gridExtra'\n",
      "\n",
      "\n",
      "The following object is masked from 'package:dplyr':\n",
      "\n",
      "    combine\n",
      "\n",
      "\n"
     ]
    }
   ],
   "source": [
    "library(tidyverse)\n",
    "library(data.table)\n",
    "library(gridExtra)"
   ]
  },
  {
   "cell_type": "code",
   "execution_count": 2,
   "metadata": {},
   "outputs": [],
   "source": [
    "setwd('C:/Users/fleur/2021 P-SAT/패키지과제/클린업 3주차')"
   ]
  },
  {
   "cell_type": "code",
   "execution_count": 3,
   "metadata": {},
   "outputs": [],
   "source": [
    "trainset = fread('data.csv', data.table = FALSE)\n",
    "testset = fread('test.csv', data.table = FALSE)"
   ]
  },
  {
   "cell_type": "code",
   "execution_count": 4,
   "metadata": {},
   "outputs": [
    {
     "data": {
      "text/html": [
       "<table>\n",
       "<caption>A data.frame: 6 × 12</caption>\n",
       "<thead>\n",
       "\t<tr><th></th><th scope=col>id</th><th scope=col>gender</th><th scope=col>age</th><th scope=col>hypertension</th><th scope=col>heart_disease</th><th scope=col>ever_married</th><th scope=col>work_type</th><th scope=col>Residence_type</th><th scope=col>avg_glucose_level</th><th scope=col>bmi</th><th scope=col>smoking_status</th><th scope=col>stroke</th></tr>\n",
       "\t<tr><th></th><th scope=col>&lt;int&gt;</th><th scope=col>&lt;chr&gt;</th><th scope=col>&lt;dbl&gt;</th><th scope=col>&lt;int&gt;</th><th scope=col>&lt;int&gt;</th><th scope=col>&lt;chr&gt;</th><th scope=col>&lt;chr&gt;</th><th scope=col>&lt;chr&gt;</th><th scope=col>&lt;dbl&gt;</th><th scope=col>&lt;chr&gt;</th><th scope=col>&lt;chr&gt;</th><th scope=col>&lt;int&gt;</th></tr>\n",
       "</thead>\n",
       "<tbody>\n",
       "\t<tr><th scope=row>1</th><td> 9046</td><td>Male  </td><td>67</td><td>0</td><td>1</td><td>Yes</td><td>Private      </td><td>Urban</td><td>228.69</td><td>36.6</td><td>formerly smoked</td><td>1</td></tr>\n",
       "\t<tr><th scope=row>2</th><td>51676</td><td>Female</td><td>61</td><td>0</td><td>0</td><td>Yes</td><td>Self-employed</td><td>Rural</td><td>202.21</td><td>N/A </td><td>never smoked   </td><td>1</td></tr>\n",
       "\t<tr><th scope=row>3</th><td>31112</td><td>Male  </td><td>80</td><td>0</td><td>1</td><td>Yes</td><td>Private      </td><td>Rural</td><td>105.92</td><td>32.5</td><td>never smoked   </td><td>1</td></tr>\n",
       "\t<tr><th scope=row>4</th><td>60182</td><td>Female</td><td>49</td><td>0</td><td>0</td><td>Yes</td><td>Private      </td><td>Urban</td><td>171.23</td><td>34.4</td><td>smokes         </td><td>1</td></tr>\n",
       "\t<tr><th scope=row>5</th><td> 1665</td><td>Female</td><td>79</td><td>1</td><td>0</td><td>Yes</td><td>Self-employed</td><td>Rural</td><td>174.12</td><td>24  </td><td>never smoked   </td><td>1</td></tr>\n",
       "\t<tr><th scope=row>6</th><td>53882</td><td>Male  </td><td>74</td><td>1</td><td>1</td><td>Yes</td><td>Private      </td><td>Rural</td><td> 70.09</td><td>27.4</td><td>never smoked   </td><td>1</td></tr>\n",
       "</tbody>\n",
       "</table>\n"
      ],
      "text/latex": [
       "A data.frame: 6 × 12\n",
       "\\begin{tabular}{r|llllllllllll}\n",
       "  & id & gender & age & hypertension & heart\\_disease & ever\\_married & work\\_type & Residence\\_type & avg\\_glucose\\_level & bmi & smoking\\_status & stroke\\\\\n",
       "  & <int> & <chr> & <dbl> & <int> & <int> & <chr> & <chr> & <chr> & <dbl> & <chr> & <chr> & <int>\\\\\n",
       "\\hline\n",
       "\t1 &  9046 & Male   & 67 & 0 & 1 & Yes & Private       & Urban & 228.69 & 36.6 & formerly smoked & 1\\\\\n",
       "\t2 & 51676 & Female & 61 & 0 & 0 & Yes & Self-employed & Rural & 202.21 & N/A  & never smoked    & 1\\\\\n",
       "\t3 & 31112 & Male   & 80 & 0 & 1 & Yes & Private       & Rural & 105.92 & 32.5 & never smoked    & 1\\\\\n",
       "\t4 & 60182 & Female & 49 & 0 & 0 & Yes & Private       & Urban & 171.23 & 34.4 & smokes          & 1\\\\\n",
       "\t5 &  1665 & Female & 79 & 1 & 0 & Yes & Self-employed & Rural & 174.12 & 24   & never smoked    & 1\\\\\n",
       "\t6 & 53882 & Male   & 74 & 1 & 1 & Yes & Private       & Rural &  70.09 & 27.4 & never smoked    & 1\\\\\n",
       "\\end{tabular}\n"
      ],
      "text/markdown": [
       "\n",
       "A data.frame: 6 × 12\n",
       "\n",
       "| <!--/--> | id &lt;int&gt; | gender &lt;chr&gt; | age &lt;dbl&gt; | hypertension &lt;int&gt; | heart_disease &lt;int&gt; | ever_married &lt;chr&gt; | work_type &lt;chr&gt; | Residence_type &lt;chr&gt; | avg_glucose_level &lt;dbl&gt; | bmi &lt;chr&gt; | smoking_status &lt;chr&gt; | stroke &lt;int&gt; |\n",
       "|---|---|---|---|---|---|---|---|---|---|---|---|---|\n",
       "| 1 |  9046 | Male   | 67 | 0 | 1 | Yes | Private       | Urban | 228.69 | 36.6 | formerly smoked | 1 |\n",
       "| 2 | 51676 | Female | 61 | 0 | 0 | Yes | Self-employed | Rural | 202.21 | N/A  | never smoked    | 1 |\n",
       "| 3 | 31112 | Male   | 80 | 0 | 1 | Yes | Private       | Rural | 105.92 | 32.5 | never smoked    | 1 |\n",
       "| 4 | 60182 | Female | 49 | 0 | 0 | Yes | Private       | Urban | 171.23 | 34.4 | smokes          | 1 |\n",
       "| 5 |  1665 | Female | 79 | 1 | 0 | Yes | Self-employed | Rural | 174.12 | 24   | never smoked    | 1 |\n",
       "| 6 | 53882 | Male   | 74 | 1 | 1 | Yes | Private       | Rural |  70.09 | 27.4 | never smoked    | 1 |\n",
       "\n"
      ],
      "text/plain": [
       "  id    gender age hypertension heart_disease ever_married work_type    \n",
       "1  9046 Male   67  0            1             Yes          Private      \n",
       "2 51676 Female 61  0            0             Yes          Self-employed\n",
       "3 31112 Male   80  0            1             Yes          Private      \n",
       "4 60182 Female 49  0            0             Yes          Private      \n",
       "5  1665 Female 79  1            0             Yes          Self-employed\n",
       "6 53882 Male   74  1            1             Yes          Private      \n",
       "  Residence_type avg_glucose_level bmi  smoking_status  stroke\n",
       "1 Urban          228.69            36.6 formerly smoked 1     \n",
       "2 Rural          202.21            N/A  never smoked    1     \n",
       "3 Rural          105.92            32.5 never smoked    1     \n",
       "4 Urban          171.23            34.4 smokes          1     \n",
       "5 Rural          174.12            24   never smoked    1     \n",
       "6 Rural           70.09            27.4 never smoked    1     "
      ]
     },
     "metadata": {},
     "output_type": "display_data"
    }
   ],
   "source": [
    "trainset %>% head"
   ]
  },
  {
   "cell_type": "code",
   "execution_count": 5,
   "metadata": {},
   "outputs": [
    {
     "data": {
      "text/html": [
       "<table>\n",
       "<caption>A data.frame: 6 × 12</caption>\n",
       "<thead>\n",
       "\t<tr><th></th><th scope=col>id</th><th scope=col>gender</th><th scope=col>age</th><th scope=col>hypertension</th><th scope=col>heart_disease</th><th scope=col>ever_married</th><th scope=col>work_type</th><th scope=col>Residence_type</th><th scope=col>avg_glucose_level</th><th scope=col>bmi</th><th scope=col>smoking_status</th><th scope=col>stroke</th></tr>\n",
       "\t<tr><th></th><th scope=col>&lt;int&gt;</th><th scope=col>&lt;chr&gt;</th><th scope=col>&lt;dbl&gt;</th><th scope=col>&lt;int&gt;</th><th scope=col>&lt;int&gt;</th><th scope=col>&lt;chr&gt;</th><th scope=col>&lt;chr&gt;</th><th scope=col>&lt;chr&gt;</th><th scope=col>&lt;dbl&gt;</th><th scope=col>&lt;chr&gt;</th><th scope=col>&lt;chr&gt;</th><th scope=col>&lt;int&gt;</th></tr>\n",
       "</thead>\n",
       "<tbody>\n",
       "\t<tr><th scope=row>1</th><td>56669</td><td>Male  </td><td>81</td><td>0</td><td>0</td><td>Yes</td><td>Private      </td><td>Urban</td><td>186.21</td><td>29  </td><td>formerly smoked</td><td>1</td></tr>\n",
       "\t<tr><th scope=row>2</th><td>58202</td><td>Female</td><td>50</td><td>1</td><td>0</td><td>Yes</td><td>Self-employed</td><td>Rural</td><td>167.41</td><td>30.9</td><td>never smoked   </td><td>1</td></tr>\n",
       "\t<tr><th scope=row>3</th><td>13861</td><td>Female</td><td>52</td><td>1</td><td>0</td><td>Yes</td><td>Self-employed</td><td>Urban</td><td>233.29</td><td>48.9</td><td>never smoked   </td><td>1</td></tr>\n",
       "\t<tr><th scope=row>4</th><td>38047</td><td>Female</td><td>65</td><td>0</td><td>0</td><td>Yes</td><td>Private      </td><td>Rural</td><td>100.98</td><td>28.2</td><td>formerly smoked</td><td>1</td></tr>\n",
       "\t<tr><th scope=row>5</th><td>69160</td><td>Male  </td><td>59</td><td>0</td><td>0</td><td>Yes</td><td>Private      </td><td>Rural</td><td>211.78</td><td>N/A </td><td>formerly smoked</td><td>1</td></tr>\n",
       "\t<tr><th scope=row>6</th><td>47306</td><td>Male  </td><td>58</td><td>0</td><td>0</td><td>No </td><td>Private      </td><td>Rural</td><td> 92.62</td><td>32  </td><td>Unknown        </td><td>1</td></tr>\n",
       "</tbody>\n",
       "</table>\n"
      ],
      "text/latex": [
       "A data.frame: 6 × 12\n",
       "\\begin{tabular}{r|llllllllllll}\n",
       "  & id & gender & age & hypertension & heart\\_disease & ever\\_married & work\\_type & Residence\\_type & avg\\_glucose\\_level & bmi & smoking\\_status & stroke\\\\\n",
       "  & <int> & <chr> & <dbl> & <int> & <int> & <chr> & <chr> & <chr> & <dbl> & <chr> & <chr> & <int>\\\\\n",
       "\\hline\n",
       "\t1 & 56669 & Male   & 81 & 0 & 0 & Yes & Private       & Urban & 186.21 & 29   & formerly smoked & 1\\\\\n",
       "\t2 & 58202 & Female & 50 & 1 & 0 & Yes & Self-employed & Rural & 167.41 & 30.9 & never smoked    & 1\\\\\n",
       "\t3 & 13861 & Female & 52 & 1 & 0 & Yes & Self-employed & Urban & 233.29 & 48.9 & never smoked    & 1\\\\\n",
       "\t4 & 38047 & Female & 65 & 0 & 0 & Yes & Private       & Rural & 100.98 & 28.2 & formerly smoked & 1\\\\\n",
       "\t5 & 69160 & Male   & 59 & 0 & 0 & Yes & Private       & Rural & 211.78 & N/A  & formerly smoked & 1\\\\\n",
       "\t6 & 47306 & Male   & 58 & 0 & 0 & No  & Private       & Rural &  92.62 & 32   & Unknown         & 1\\\\\n",
       "\\end{tabular}\n"
      ],
      "text/markdown": [
       "\n",
       "A data.frame: 6 × 12\n",
       "\n",
       "| <!--/--> | id &lt;int&gt; | gender &lt;chr&gt; | age &lt;dbl&gt; | hypertension &lt;int&gt; | heart_disease &lt;int&gt; | ever_married &lt;chr&gt; | work_type &lt;chr&gt; | Residence_type &lt;chr&gt; | avg_glucose_level &lt;dbl&gt; | bmi &lt;chr&gt; | smoking_status &lt;chr&gt; | stroke &lt;int&gt; |\n",
       "|---|---|---|---|---|---|---|---|---|---|---|---|---|\n",
       "| 1 | 56669 | Male   | 81 | 0 | 0 | Yes | Private       | Urban | 186.21 | 29   | formerly smoked | 1 |\n",
       "| 2 | 58202 | Female | 50 | 1 | 0 | Yes | Self-employed | Rural | 167.41 | 30.9 | never smoked    | 1 |\n",
       "| 3 | 13861 | Female | 52 | 1 | 0 | Yes | Self-employed | Urban | 233.29 | 48.9 | never smoked    | 1 |\n",
       "| 4 | 38047 | Female | 65 | 0 | 0 | Yes | Private       | Rural | 100.98 | 28.2 | formerly smoked | 1 |\n",
       "| 5 | 69160 | Male   | 59 | 0 | 0 | Yes | Private       | Rural | 211.78 | N/A  | formerly smoked | 1 |\n",
       "| 6 | 47306 | Male   | 58 | 0 | 0 | No  | Private       | Rural |  92.62 | 32   | Unknown         | 1 |\n",
       "\n"
      ],
      "text/plain": [
       "  id    gender age hypertension heart_disease ever_married work_type    \n",
       "1 56669 Male   81  0            0             Yes          Private      \n",
       "2 58202 Female 50  1            0             Yes          Self-employed\n",
       "3 13861 Female 52  1            0             Yes          Self-employed\n",
       "4 38047 Female 65  0            0             Yes          Private      \n",
       "5 69160 Male   59  0            0             Yes          Private      \n",
       "6 47306 Male   58  0            0             No           Private      \n",
       "  Residence_type avg_glucose_level bmi  smoking_status  stroke\n",
       "1 Urban          186.21            29   formerly smoked 1     \n",
       "2 Rural          167.41            30.9 never smoked    1     \n",
       "3 Urban          233.29            48.9 never smoked    1     \n",
       "4 Rural          100.98            28.2 formerly smoked 1     \n",
       "5 Rural          211.78            N/A  formerly smoked 1     \n",
       "6 Rural           92.62            32   Unknown         1     "
      ]
     },
     "metadata": {},
     "output_type": "display_data"
    }
   ],
   "source": [
    "testset %>% head"
   ]
  },
  {
   "cell_type": "markdown",
   "metadata": {},
   "source": [
    "### [ Train data(data.csv) 전처리 및 EDA ]"
   ]
  },
  {
   "cell_type": "markdown",
   "metadata": {},
   "source": [
    "### 문제 1 'bmi' 변수 numeric 자료형으로 변환 + mean imputation"
   ]
  },
  {
   "cell_type": "code",
   "execution_count": 6,
   "metadata": {},
   "outputs": [
    {
     "name": "stderr",
     "output_type": "stream",
     "text": [
      "Warning message in trainset$bmi %>% as.numeric:\n",
      "\"강제형변환에 의해 생성된 NA 입니다\"\n"
     ]
    }
   ],
   "source": [
    "trainset$bmi = trainset$bmi %>% as.numeric"
   ]
  },
  {
   "cell_type": "code",
   "execution_count": 7,
   "metadata": {},
   "outputs": [
    {
     "name": "stderr",
     "output_type": "stream",
     "text": [
      "Warning message in mean.default(x, na.rm = TRUE):\n",
      "\"argument is not numeric or logical: returning NA\"\n",
      "Warning message in mean.default(x, na.rm = TRUE):\n",
      "\"argument is not numeric or logical: returning NA\"\n",
      "Warning message in mean.default(x, na.rm = TRUE):\n",
      "\"argument is not numeric or logical: returning NA\"\n",
      "Warning message in mean.default(x, na.rm = TRUE):\n",
      "\"argument is not numeric or logical: returning NA\"\n",
      "Warning message in mean.default(x, na.rm = TRUE):\n",
      "\"argument is not numeric or logical: returning NA\"\n"
     ]
    }
   ],
   "source": [
    "mean_imp = function(x) replace(x, is.na(x), mean(x, na.rm = TRUE))\n",
    "trainset = trainset %>% lapply(mean_imp) %>% as.data.frame()"
   ]
  },
  {
   "cell_type": "code",
   "execution_count": 8,
   "metadata": {},
   "outputs": [
    {
     "data": {
      "text/html": [
       "<table>\n",
       "<caption>A data.frame: 6 × 12</caption>\n",
       "<thead>\n",
       "\t<tr><th></th><th scope=col>id</th><th scope=col>gender</th><th scope=col>age</th><th scope=col>hypertension</th><th scope=col>heart_disease</th><th scope=col>ever_married</th><th scope=col>work_type</th><th scope=col>Residence_type</th><th scope=col>avg_glucose_level</th><th scope=col>bmi</th><th scope=col>smoking_status</th><th scope=col>stroke</th></tr>\n",
       "\t<tr><th></th><th scope=col>&lt;dbl&gt;</th><th scope=col>&lt;chr&gt;</th><th scope=col>&lt;dbl&gt;</th><th scope=col>&lt;dbl&gt;</th><th scope=col>&lt;dbl&gt;</th><th scope=col>&lt;chr&gt;</th><th scope=col>&lt;chr&gt;</th><th scope=col>&lt;chr&gt;</th><th scope=col>&lt;dbl&gt;</th><th scope=col>&lt;dbl&gt;</th><th scope=col>&lt;chr&gt;</th><th scope=col>&lt;dbl&gt;</th></tr>\n",
       "</thead>\n",
       "<tbody>\n",
       "\t<tr><th scope=row>1</th><td> 9046</td><td>Male  </td><td>67</td><td>0</td><td>1</td><td>Yes</td><td>Private      </td><td>Urban</td><td>228.69</td><td>36.60000</td><td>formerly smoked</td><td>1</td></tr>\n",
       "\t<tr><th scope=row>2</th><td>51676</td><td>Female</td><td>61</td><td>0</td><td>0</td><td>Yes</td><td>Self-employed</td><td>Rural</td><td>202.21</td><td>28.82782</td><td>never smoked   </td><td>1</td></tr>\n",
       "\t<tr><th scope=row>3</th><td>31112</td><td>Male  </td><td>80</td><td>0</td><td>1</td><td>Yes</td><td>Private      </td><td>Rural</td><td>105.92</td><td>32.50000</td><td>never smoked   </td><td>1</td></tr>\n",
       "\t<tr><th scope=row>4</th><td>60182</td><td>Female</td><td>49</td><td>0</td><td>0</td><td>Yes</td><td>Private      </td><td>Urban</td><td>171.23</td><td>34.40000</td><td>smokes         </td><td>1</td></tr>\n",
       "\t<tr><th scope=row>5</th><td> 1665</td><td>Female</td><td>79</td><td>1</td><td>0</td><td>Yes</td><td>Self-employed</td><td>Rural</td><td>174.12</td><td>24.00000</td><td>never smoked   </td><td>1</td></tr>\n",
       "\t<tr><th scope=row>6</th><td>53882</td><td>Male  </td><td>74</td><td>1</td><td>1</td><td>Yes</td><td>Private      </td><td>Rural</td><td> 70.09</td><td>27.40000</td><td>never smoked   </td><td>1</td></tr>\n",
       "</tbody>\n",
       "</table>\n"
      ],
      "text/latex": [
       "A data.frame: 6 × 12\n",
       "\\begin{tabular}{r|llllllllllll}\n",
       "  & id & gender & age & hypertension & heart\\_disease & ever\\_married & work\\_type & Residence\\_type & avg\\_glucose\\_level & bmi & smoking\\_status & stroke\\\\\n",
       "  & <dbl> & <chr> & <dbl> & <dbl> & <dbl> & <chr> & <chr> & <chr> & <dbl> & <dbl> & <chr> & <dbl>\\\\\n",
       "\\hline\n",
       "\t1 &  9046 & Male   & 67 & 0 & 1 & Yes & Private       & Urban & 228.69 & 36.60000 & formerly smoked & 1\\\\\n",
       "\t2 & 51676 & Female & 61 & 0 & 0 & Yes & Self-employed & Rural & 202.21 & 28.82782 & never smoked    & 1\\\\\n",
       "\t3 & 31112 & Male   & 80 & 0 & 1 & Yes & Private       & Rural & 105.92 & 32.50000 & never smoked    & 1\\\\\n",
       "\t4 & 60182 & Female & 49 & 0 & 0 & Yes & Private       & Urban & 171.23 & 34.40000 & smokes          & 1\\\\\n",
       "\t5 &  1665 & Female & 79 & 1 & 0 & Yes & Self-employed & Rural & 174.12 & 24.00000 & never smoked    & 1\\\\\n",
       "\t6 & 53882 & Male   & 74 & 1 & 1 & Yes & Private       & Rural &  70.09 & 27.40000 & never smoked    & 1\\\\\n",
       "\\end{tabular}\n"
      ],
      "text/markdown": [
       "\n",
       "A data.frame: 6 × 12\n",
       "\n",
       "| <!--/--> | id &lt;dbl&gt; | gender &lt;chr&gt; | age &lt;dbl&gt; | hypertension &lt;dbl&gt; | heart_disease &lt;dbl&gt; | ever_married &lt;chr&gt; | work_type &lt;chr&gt; | Residence_type &lt;chr&gt; | avg_glucose_level &lt;dbl&gt; | bmi &lt;dbl&gt; | smoking_status &lt;chr&gt; | stroke &lt;dbl&gt; |\n",
       "|---|---|---|---|---|---|---|---|---|---|---|---|---|\n",
       "| 1 |  9046 | Male   | 67 | 0 | 1 | Yes | Private       | Urban | 228.69 | 36.60000 | formerly smoked | 1 |\n",
       "| 2 | 51676 | Female | 61 | 0 | 0 | Yes | Self-employed | Rural | 202.21 | 28.82782 | never smoked    | 1 |\n",
       "| 3 | 31112 | Male   | 80 | 0 | 1 | Yes | Private       | Rural | 105.92 | 32.50000 | never smoked    | 1 |\n",
       "| 4 | 60182 | Female | 49 | 0 | 0 | Yes | Private       | Urban | 171.23 | 34.40000 | smokes          | 1 |\n",
       "| 5 |  1665 | Female | 79 | 1 | 0 | Yes | Self-employed | Rural | 174.12 | 24.00000 | never smoked    | 1 |\n",
       "| 6 | 53882 | Male   | 74 | 1 | 1 | Yes | Private       | Rural |  70.09 | 27.40000 | never smoked    | 1 |\n",
       "\n"
      ],
      "text/plain": [
       "  id    gender age hypertension heart_disease ever_married work_type    \n",
       "1  9046 Male   67  0            1             Yes          Private      \n",
       "2 51676 Female 61  0            0             Yes          Self-employed\n",
       "3 31112 Male   80  0            1             Yes          Private      \n",
       "4 60182 Female 49  0            0             Yes          Private      \n",
       "5  1665 Female 79  1            0             Yes          Self-employed\n",
       "6 53882 Male   74  1            1             Yes          Private      \n",
       "  Residence_type avg_glucose_level bmi      smoking_status  stroke\n",
       "1 Urban          228.69            36.60000 formerly smoked 1     \n",
       "2 Rural          202.21            28.82782 never smoked    1     \n",
       "3 Rural          105.92            32.50000 never smoked    1     \n",
       "4 Urban          171.23            34.40000 smokes          1     \n",
       "5 Rural          174.12            24.00000 never smoked    1     \n",
       "6 Rural           70.09            27.40000 never smoked    1     "
      ]
     },
     "metadata": {},
     "output_type": "display_data"
    }
   ],
   "source": [
    "trainset %>% head"
   ]
  },
  {
   "cell_type": "code",
   "execution_count": 9,
   "metadata": {},
   "outputs": [
    {
     "data": {
      "text/html": [
       "0"
      ],
      "text/latex": [
       "0"
      ],
      "text/markdown": [
       "0"
      ],
      "text/plain": [
       "[1] 0"
      ]
     },
     "metadata": {},
     "output_type": "display_data"
    }
   ],
   "source": [
    "trainset %>% is.na %>% sum"
   ]
  },
  {
   "cell_type": "markdown",
   "metadata": {},
   "source": [
    "### 문제 2 문자형(character) 변수의 명목형(factor) 변수로의 변환"
   ]
  },
  {
   "cell_type": "code",
   "execution_count": 10,
   "metadata": {},
   "outputs": [],
   "source": [
    "trainset[sapply(trainset, is.character)] = trainset[sapply(trainset, is.character)] %>% lapply(as.factor) %>% as.data.frame()"
   ]
  },
  {
   "cell_type": "code",
   "execution_count": 11,
   "metadata": {},
   "outputs": [
    {
     "name": "stdout",
     "output_type": "stream",
     "text": [
      "'data.frame':\t4087 obs. of  12 variables:\n",
      " $ id               : num  9046 51676 31112 60182 1665 ...\n",
      " $ gender           : Factor w/ 3 levels \"Female\",\"Male\",..: 2 1 2 1 1 2 1 1 1 1 ...\n",
      " $ age              : num  67 61 80 49 79 74 69 59 78 81 ...\n",
      " $ hypertension     : num  0 0 0 0 1 1 0 0 0 1 ...\n",
      " $ heart_disease    : num  1 0 1 0 0 1 0 0 0 0 ...\n",
      " $ ever_married     : Factor w/ 2 levels \"No\",\"Yes\": 2 2 2 2 2 2 1 2 2 2 ...\n",
      " $ work_type        : Factor w/ 5 levels \"children\",\"Govt_job\",..: 4 5 4 4 5 4 4 4 4 4 ...\n",
      " $ Residence_type   : Factor w/ 2 levels \"Rural\",\"Urban\": 2 1 1 2 1 1 2 1 2 1 ...\n",
      " $ avg_glucose_level: num  229 202 106 171 174 ...\n",
      " $ bmi              : num  36.6 28.8 32.5 34.4 24 ...\n",
      " $ smoking_status   : Factor w/ 4 levels \"formerly smoked\",..: 1 2 2 3 2 2 2 4 4 2 ...\n",
      " $ stroke           : num  1 1 1 1 1 1 1 1 1 1 ...\n"
     ]
    }
   ],
   "source": [
    "trainset %>% str"
   ]
  },
  {
   "cell_type": "markdown",
   "metadata": {},
   "source": [
    "### 문제 3 'id' 변수 제거"
   ]
  },
  {
   "cell_type": "code",
   "execution_count": 13,
   "metadata": {},
   "outputs": [
    {
     "data": {
      "text/html": [
       "<table>\n",
       "<caption>A data.frame: 6 × 11</caption>\n",
       "<thead>\n",
       "\t<tr><th></th><th scope=col>gender</th><th scope=col>age</th><th scope=col>hypertension</th><th scope=col>heart_disease</th><th scope=col>ever_married</th><th scope=col>work_type</th><th scope=col>Residence_type</th><th scope=col>avg_glucose_level</th><th scope=col>bmi</th><th scope=col>smoking_status</th><th scope=col>stroke</th></tr>\n",
       "\t<tr><th></th><th scope=col>&lt;fct&gt;</th><th scope=col>&lt;dbl&gt;</th><th scope=col>&lt;dbl&gt;</th><th scope=col>&lt;dbl&gt;</th><th scope=col>&lt;fct&gt;</th><th scope=col>&lt;fct&gt;</th><th scope=col>&lt;fct&gt;</th><th scope=col>&lt;dbl&gt;</th><th scope=col>&lt;dbl&gt;</th><th scope=col>&lt;fct&gt;</th><th scope=col>&lt;dbl&gt;</th></tr>\n",
       "</thead>\n",
       "<tbody>\n",
       "\t<tr><th scope=row>1</th><td>Male  </td><td>67</td><td>0</td><td>1</td><td>Yes</td><td>Private      </td><td>Urban</td><td>228.69</td><td>36.60000</td><td>formerly smoked</td><td>1</td></tr>\n",
       "\t<tr><th scope=row>2</th><td>Female</td><td>61</td><td>0</td><td>0</td><td>Yes</td><td>Self-employed</td><td>Rural</td><td>202.21</td><td>28.82782</td><td>never smoked   </td><td>1</td></tr>\n",
       "\t<tr><th scope=row>3</th><td>Male  </td><td>80</td><td>0</td><td>1</td><td>Yes</td><td>Private      </td><td>Rural</td><td>105.92</td><td>32.50000</td><td>never smoked   </td><td>1</td></tr>\n",
       "\t<tr><th scope=row>4</th><td>Female</td><td>49</td><td>0</td><td>0</td><td>Yes</td><td>Private      </td><td>Urban</td><td>171.23</td><td>34.40000</td><td>smokes         </td><td>1</td></tr>\n",
       "\t<tr><th scope=row>5</th><td>Female</td><td>79</td><td>1</td><td>0</td><td>Yes</td><td>Self-employed</td><td>Rural</td><td>174.12</td><td>24.00000</td><td>never smoked   </td><td>1</td></tr>\n",
       "\t<tr><th scope=row>6</th><td>Male  </td><td>74</td><td>1</td><td>1</td><td>Yes</td><td>Private      </td><td>Rural</td><td> 70.09</td><td>27.40000</td><td>never smoked   </td><td>1</td></tr>\n",
       "</tbody>\n",
       "</table>\n"
      ],
      "text/latex": [
       "A data.frame: 6 × 11\n",
       "\\begin{tabular}{r|lllllllllll}\n",
       "  & gender & age & hypertension & heart\\_disease & ever\\_married & work\\_type & Residence\\_type & avg\\_glucose\\_level & bmi & smoking\\_status & stroke\\\\\n",
       "  & <fct> & <dbl> & <dbl> & <dbl> & <fct> & <fct> & <fct> & <dbl> & <dbl> & <fct> & <dbl>\\\\\n",
       "\\hline\n",
       "\t1 & Male   & 67 & 0 & 1 & Yes & Private       & Urban & 228.69 & 36.60000 & formerly smoked & 1\\\\\n",
       "\t2 & Female & 61 & 0 & 0 & Yes & Self-employed & Rural & 202.21 & 28.82782 & never smoked    & 1\\\\\n",
       "\t3 & Male   & 80 & 0 & 1 & Yes & Private       & Rural & 105.92 & 32.50000 & never smoked    & 1\\\\\n",
       "\t4 & Female & 49 & 0 & 0 & Yes & Private       & Urban & 171.23 & 34.40000 & smokes          & 1\\\\\n",
       "\t5 & Female & 79 & 1 & 0 & Yes & Self-employed & Rural & 174.12 & 24.00000 & never smoked    & 1\\\\\n",
       "\t6 & Male   & 74 & 1 & 1 & Yes & Private       & Rural &  70.09 & 27.40000 & never smoked    & 1\\\\\n",
       "\\end{tabular}\n"
      ],
      "text/markdown": [
       "\n",
       "A data.frame: 6 × 11\n",
       "\n",
       "| <!--/--> | gender &lt;fct&gt; | age &lt;dbl&gt; | hypertension &lt;dbl&gt; | heart_disease &lt;dbl&gt; | ever_married &lt;fct&gt; | work_type &lt;fct&gt; | Residence_type &lt;fct&gt; | avg_glucose_level &lt;dbl&gt; | bmi &lt;dbl&gt; | smoking_status &lt;fct&gt; | stroke &lt;dbl&gt; |\n",
       "|---|---|---|---|---|---|---|---|---|---|---|---|\n",
       "| 1 | Male   | 67 | 0 | 1 | Yes | Private       | Urban | 228.69 | 36.60000 | formerly smoked | 1 |\n",
       "| 2 | Female | 61 | 0 | 0 | Yes | Self-employed | Rural | 202.21 | 28.82782 | never smoked    | 1 |\n",
       "| 3 | Male   | 80 | 0 | 1 | Yes | Private       | Rural | 105.92 | 32.50000 | never smoked    | 1 |\n",
       "| 4 | Female | 49 | 0 | 0 | Yes | Private       | Urban | 171.23 | 34.40000 | smokes          | 1 |\n",
       "| 5 | Female | 79 | 1 | 0 | Yes | Self-employed | Rural | 174.12 | 24.00000 | never smoked    | 1 |\n",
       "| 6 | Male   | 74 | 1 | 1 | Yes | Private       | Rural |  70.09 | 27.40000 | never smoked    | 1 |\n",
       "\n"
      ],
      "text/plain": [
       "  gender age hypertension heart_disease ever_married work_type    \n",
       "1 Male   67  0            1             Yes          Private      \n",
       "2 Female 61  0            0             Yes          Self-employed\n",
       "3 Male   80  0            1             Yes          Private      \n",
       "4 Female 49  0            0             Yes          Private      \n",
       "5 Female 79  1            0             Yes          Self-employed\n",
       "6 Male   74  1            1             Yes          Private      \n",
       "  Residence_type avg_glucose_level bmi      smoking_status  stroke\n",
       "1 Urban          228.69            36.60000 formerly smoked 1     \n",
       "2 Rural          202.21            28.82782 never smoked    1     \n",
       "3 Rural          105.92            32.50000 never smoked    1     \n",
       "4 Urban          171.23            34.40000 smokes          1     \n",
       "5 Rural          174.12            24.00000 never smoked    1     \n",
       "6 Rural           70.09            27.40000 never smoked    1     "
      ]
     },
     "metadata": {},
     "output_type": "display_data"
    }
   ],
   "source": [
    "trainset = trainset %>% select(-'id')\n",
    "trainset %>% head"
   ]
  },
  {
   "cell_type": "markdown",
   "metadata": {},
   "source": [
    "### 문제 4 타겟('stroke')값별 범주형 변수 분포 시각화"
   ]
  },
  {
   "cell_type": "code",
   "execution_count": 14,
   "metadata": {},
   "outputs": [
    {
     "name": "stderr",
     "output_type": "stream",
     "text": [
      "Warning message:\n",
      "\"attributes are not identical across measure variables;\n",
      "they will be dropped\"\n"
     ]
    },
    {
     "data": {
      "text/html": [
       "<table>\n",
       "<caption>A data.frame: 6 × 6</caption>\n",
       "<thead>\n",
       "\t<tr><th></th><th scope=col>age</th><th scope=col>avg_glucose_level</th><th scope=col>bmi</th><th scope=col>stroke</th><th scope=col>key</th><th scope=col>value</th></tr>\n",
       "\t<tr><th></th><th scope=col>&lt;dbl&gt;</th><th scope=col>&lt;dbl&gt;</th><th scope=col>&lt;dbl&gt;</th><th scope=col>&lt;dbl&gt;</th><th scope=col>&lt;chr&gt;</th><th scope=col>&lt;chr&gt;</th></tr>\n",
       "</thead>\n",
       "<tbody>\n",
       "\t<tr><th scope=row>1</th><td>67</td><td>228.69</td><td>36.60000</td><td>1</td><td>work_type</td><td>Private      </td></tr>\n",
       "\t<tr><th scope=row>2</th><td>61</td><td>202.21</td><td>28.82782</td><td>1</td><td>work_type</td><td>Self-employed</td></tr>\n",
       "\t<tr><th scope=row>3</th><td>80</td><td>105.92</td><td>32.50000</td><td>1</td><td>work_type</td><td>Private      </td></tr>\n",
       "\t<tr><th scope=row>4</th><td>49</td><td>171.23</td><td>34.40000</td><td>1</td><td>work_type</td><td>Private      </td></tr>\n",
       "\t<tr><th scope=row>5</th><td>79</td><td>174.12</td><td>24.00000</td><td>1</td><td>work_type</td><td>Self-employed</td></tr>\n",
       "\t<tr><th scope=row>6</th><td>74</td><td> 70.09</td><td>27.40000</td><td>1</td><td>work_type</td><td>Private      </td></tr>\n",
       "</tbody>\n",
       "</table>\n"
      ],
      "text/latex": [
       "A data.frame: 6 × 6\n",
       "\\begin{tabular}{r|llllll}\n",
       "  & age & avg\\_glucose\\_level & bmi & stroke & key & value\\\\\n",
       "  & <dbl> & <dbl> & <dbl> & <dbl> & <chr> & <chr>\\\\\n",
       "\\hline\n",
       "\t1 & 67 & 228.69 & 36.60000 & 1 & work\\_type & Private      \\\\\n",
       "\t2 & 61 & 202.21 & 28.82782 & 1 & work\\_type & Self-employed\\\\\n",
       "\t3 & 80 & 105.92 & 32.50000 & 1 & work\\_type & Private      \\\\\n",
       "\t4 & 49 & 171.23 & 34.40000 & 1 & work\\_type & Private      \\\\\n",
       "\t5 & 79 & 174.12 & 24.00000 & 1 & work\\_type & Self-employed\\\\\n",
       "\t6 & 74 &  70.09 & 27.40000 & 1 & work\\_type & Private      \\\\\n",
       "\\end{tabular}\n"
      ],
      "text/markdown": [
       "\n",
       "A data.frame: 6 × 6\n",
       "\n",
       "| <!--/--> | age &lt;dbl&gt; | avg_glucose_level &lt;dbl&gt; | bmi &lt;dbl&gt; | stroke &lt;dbl&gt; | key &lt;chr&gt; | value &lt;chr&gt; |\n",
       "|---|---|---|---|---|---|---|\n",
       "| 1 | 67 | 228.69 | 36.60000 | 1 | work_type | Private       |\n",
       "| 2 | 61 | 202.21 | 28.82782 | 1 | work_type | Self-employed |\n",
       "| 3 | 80 | 105.92 | 32.50000 | 1 | work_type | Private       |\n",
       "| 4 | 49 | 171.23 | 34.40000 | 1 | work_type | Private       |\n",
       "| 5 | 79 | 174.12 | 24.00000 | 1 | work_type | Self-employed |\n",
       "| 6 | 74 |  70.09 | 27.40000 | 1 | work_type | Private       |\n",
       "\n"
      ],
      "text/plain": [
       "  age avg_glucose_level bmi      stroke key       value        \n",
       "1 67  228.69            36.60000 1      work_type Private      \n",
       "2 61  202.21            28.82782 1      work_type Self-employed\n",
       "3 80  105.92            32.50000 1      work_type Private      \n",
       "4 49  171.23            34.40000 1      work_type Private      \n",
       "5 79  174.12            24.00000 1      work_type Self-employed\n",
       "6 74   70.09            27.40000 1      work_type Private      "
      ]
     },
     "metadata": {},
     "output_type": "display_data"
    }
   ],
   "source": [
    "# 시각화 위한 데이터셋\n",
    "plotset_fctr = trainset %>% gather(key = 'key', value = 'value', work_type, smoking_status,\n",
    "                              Residence_type, hypertension, heart_disease, gender,\n",
    "                              ever_married)\n",
    "plotset_fctr %>% head"
   ]
  },
  {
   "cell_type": "code",
   "execution_count": 15,
   "metadata": {},
   "outputs": [
    {
     "name": "stderr",
     "output_type": "stream",
     "text": [
      "Warning message:\n",
      "\"Duplicated aesthetics after name standardisation: fill\"\n",
      "Warning message:\n",
      "\"Duplicated aesthetics after name standardisation: fill\"\n"
     ]
    },
    {
     "data": {
      "image/png": "[encoded data removed]",
      "text/plain": [
       "plot without title"
      ]
     },
     "metadata": {
      "image/png": {
       "height": 342,
       "width": 780
      }
     },
     "output_type": "display_data"
    }
   ],
   "source": [
    "options(repr.plot.width = 13, repr.plot.height = 5.7)\n",
    "\n",
    "fctr_stroke.1 <- plotset_fctr[plotset_fctr$stroke == 1,] %>% \n",
    "  ggplot(aes(y = key, fill = value, fill = value)) +\n",
    "  geom_bar(position='fill', alpha = 0.5) +\n",
    "  labs(x = '', y = 'variable', title = 'Stroke : 1') +\n",
    "  theme(axis.line = element_line(colour = \"black\"),\n",
    "        panel.background = element_blank(),\n",
    "        plot.title = element_text(hjust = 0.5),\n",
    "        legend.position = \"bottom\", legend.title = element_blank())\n",
    "\n",
    "fctr_stroke.0 <- plotset_fctr[plotset_fctr$stroke == 0,] %>% \n",
    "  ggplot(aes(y = key, fill = value, fill = value)) +\n",
    "  geom_bar(position='fill', alpha = 0.5) +\n",
    "  labs(x = '', y = 'variable', title = 'Stroke : 0') +\n",
    "  theme(axis.line = element_line(colour = \"black\"),\n",
    "        panel.background = element_blank(),\n",
    "        plot.title = element_text(hjust = 0.5),\n",
    "        legend.position = \"bottom\", legend.title = element_blank())\n",
    "\n",
    "grid.arrange(fctr_stroke.1, fctr_stroke.0, ncol=2)"
   ]
  },
  {
   "cell_type": "markdown",
   "metadata": {},
   "source": [
    "뇌졸중을 일으킨(1) 사람들과 일으키지 않은(0) 사람들의 데이터를 비교해보았을 때,  \n",
    "1) work_type: 양쪽 모두 'Private'의 유형이 가장 많고, 뚜렷한 차이가 있다면 뇌졸중을 일으키지 않은 경우 'children' 유형의 비율이 뇌졸중을 일으킨 쪽보다 눈에 띄게 많다.  \n",
    "2) smoking_status: 양쪽의 비율이 얼추 비슷한 듯 보이고 양쪽 모두 담배를 한번도 피지 않은 경우가 가장 많으나, 흡연자이거나 흡연자였던 경우가 뇌졸중을 일으킨 쪽에 더 많아 흡연 여부의 영향력을 무시할 수 없을 것으로 보인다. 뇌졸중을 일으키지 않은 쪽의 경우 'unknown' 값이 많다.  \n",
    "3) Residence_type: 양쪽 모두 비슷하나 뇌졸중을 일으킨 경우에는 'urban'이 조금 더 많고, 일으키지 않은 경우는 거의 1:1의 비율이다.  \n",
    "4) hypertension & heart_disease: 양쪽 모두 고혈압 또는 심장질환을 가지고 있지 않은 경우가 압도적으로 많지만 뇌졸중을 일으킨 쪽에 병을 가진 사람의 비율이 훨씬 높아 이 두 질병의 여부는 뇌졸중에 상당한 영향을 끼치는 것으로 예상된다.  \n",
    "5) gender: 양쪽 모두 여성이 조금 더 많다.  \n",
    "6) ever_married: 양쪽 모두 결혼을 한 사람의 비율이 높으나 뇌졸중을 일으킨 쪽에서 특히 더 높다."
   ]
  },
  {
   "cell_type": "markdown",
   "metadata": {},
   "source": [
    "### 문제 5 타겟(stroke)값별 수치형 변수 분포 시각화"
   ]
  },
  {
   "cell_type": "code",
   "execution_count": 16,
   "metadata": {},
   "outputs": [
    {
     "data": {
      "text/html": [
       "<table>\n",
       "<caption>A data.frame: 6 × 10</caption>\n",
       "<thead>\n",
       "\t<tr><th></th><th scope=col>gender</th><th scope=col>hypertension</th><th scope=col>heart_disease</th><th scope=col>ever_married</th><th scope=col>work_type</th><th scope=col>Residence_type</th><th scope=col>smoking_status</th><th scope=col>stroke</th><th scope=col>key</th><th scope=col>value</th></tr>\n",
       "\t<tr><th></th><th scope=col>&lt;fct&gt;</th><th scope=col>&lt;dbl&gt;</th><th scope=col>&lt;dbl&gt;</th><th scope=col>&lt;fct&gt;</th><th scope=col>&lt;fct&gt;</th><th scope=col>&lt;fct&gt;</th><th scope=col>&lt;fct&gt;</th><th scope=col>&lt;dbl&gt;</th><th scope=col>&lt;chr&gt;</th><th scope=col>&lt;dbl&gt;</th></tr>\n",
       "</thead>\n",
       "<tbody>\n",
       "\t<tr><th scope=row>1</th><td>Male  </td><td>0</td><td>1</td><td>Yes</td><td>Private      </td><td>Urban</td><td>formerly smoked</td><td>1</td><td>age</td><td>67</td></tr>\n",
       "\t<tr><th scope=row>2</th><td>Female</td><td>0</td><td>0</td><td>Yes</td><td>Self-employed</td><td>Rural</td><td>never smoked   </td><td>1</td><td>age</td><td>61</td></tr>\n",
       "\t<tr><th scope=row>3</th><td>Male  </td><td>0</td><td>1</td><td>Yes</td><td>Private      </td><td>Rural</td><td>never smoked   </td><td>1</td><td>age</td><td>80</td></tr>\n",
       "\t<tr><th scope=row>4</th><td>Female</td><td>0</td><td>0</td><td>Yes</td><td>Private      </td><td>Urban</td><td>smokes         </td><td>1</td><td>age</td><td>49</td></tr>\n",
       "\t<tr><th scope=row>5</th><td>Female</td><td>1</td><td>0</td><td>Yes</td><td>Self-employed</td><td>Rural</td><td>never smoked   </td><td>1</td><td>age</td><td>79</td></tr>\n",
       "\t<tr><th scope=row>6</th><td>Male  </td><td>1</td><td>1</td><td>Yes</td><td>Private      </td><td>Rural</td><td>never smoked   </td><td>1</td><td>age</td><td>74</td></tr>\n",
       "</tbody>\n",
       "</table>\n"
      ],
      "text/latex": [
       "A data.frame: 6 × 10\n",
       "\\begin{tabular}{r|llllllllll}\n",
       "  & gender & hypertension & heart\\_disease & ever\\_married & work\\_type & Residence\\_type & smoking\\_status & stroke & key & value\\\\\n",
       "  & <fct> & <dbl> & <dbl> & <fct> & <fct> & <fct> & <fct> & <dbl> & <chr> & <dbl>\\\\\n",
       "\\hline\n",
       "\t1 & Male   & 0 & 1 & Yes & Private       & Urban & formerly smoked & 1 & age & 67\\\\\n",
       "\t2 & Female & 0 & 0 & Yes & Self-employed & Rural & never smoked    & 1 & age & 61\\\\\n",
       "\t3 & Male   & 0 & 1 & Yes & Private       & Rural & never smoked    & 1 & age & 80\\\\\n",
       "\t4 & Female & 0 & 0 & Yes & Private       & Urban & smokes          & 1 & age & 49\\\\\n",
       "\t5 & Female & 1 & 0 & Yes & Self-employed & Rural & never smoked    & 1 & age & 79\\\\\n",
       "\t6 & Male   & 1 & 1 & Yes & Private       & Rural & never smoked    & 1 & age & 74\\\\\n",
       "\\end{tabular}\n"
      ],
      "text/markdown": [
       "\n",
       "A data.frame: 6 × 10\n",
       "\n",
       "| <!--/--> | gender &lt;fct&gt; | hypertension &lt;dbl&gt; | heart_disease &lt;dbl&gt; | ever_married &lt;fct&gt; | work_type &lt;fct&gt; | Residence_type &lt;fct&gt; | smoking_status &lt;fct&gt; | stroke &lt;dbl&gt; | key &lt;chr&gt; | value &lt;dbl&gt; |\n",
       "|---|---|---|---|---|---|---|---|---|---|---|\n",
       "| 1 | Male   | 0 | 1 | Yes | Private       | Urban | formerly smoked | 1 | age | 67 |\n",
       "| 2 | Female | 0 | 0 | Yes | Self-employed | Rural | never smoked    | 1 | age | 61 |\n",
       "| 3 | Male   | 0 | 1 | Yes | Private       | Rural | never smoked    | 1 | age | 80 |\n",
       "| 4 | Female | 0 | 0 | Yes | Private       | Urban | smokes          | 1 | age | 49 |\n",
       "| 5 | Female | 1 | 0 | Yes | Self-employed | Rural | never smoked    | 1 | age | 79 |\n",
       "| 6 | Male   | 1 | 1 | Yes | Private       | Rural | never smoked    | 1 | age | 74 |\n",
       "\n"
      ],
      "text/plain": [
       "  gender hypertension heart_disease ever_married work_type     Residence_type\n",
       "1 Male   0            1             Yes          Private       Urban         \n",
       "2 Female 0            0             Yes          Self-employed Rural         \n",
       "3 Male   0            1             Yes          Private       Rural         \n",
       "4 Female 0            0             Yes          Private       Urban         \n",
       "5 Female 1            0             Yes          Self-employed Rural         \n",
       "6 Male   1            1             Yes          Private       Rural         \n",
       "  smoking_status  stroke key value\n",
       "1 formerly smoked 1      age 67   \n",
       "2 never smoked    1      age 61   \n",
       "3 never smoked    1      age 80   \n",
       "4 smokes          1      age 49   \n",
       "5 never smoked    1      age 79   \n",
       "6 never smoked    1      age 74   "
      ]
     },
     "metadata": {},
     "output_type": "display_data"
    }
   ],
   "source": [
    "# 시각화 위한 데이터셋\n",
    "plotset_num = trainset %>% gather(key = 'key', value = 'value', age, avg_glucose_level, bmi)\n",
    "plotset_num %>% head"
   ]
  },
  {
   "cell_type": "code",
   "execution_count": 17,
   "metadata": {},
   "outputs": [
    {
     "data": {
      "image/png": "[encoded data removed]",
      "text/plain": [
       "plot without title"
      ]
     },
     "metadata": {
      "image/png": {
       "height": 342,
       "width": 558
      }
     },
     "output_type": "display_data"
    }
   ],
   "source": [
    "options(repr.plot.width = 9.3, repr.plot.height = 5.7)\n",
    "\n",
    "num_stroke.1 = plotset_num[plotset_num$stroke == 1,] %>% \n",
    "  ggplot(aes(x = value, color = key)) +\n",
    "  geom_density(aes(value, color = key)) +\n",
    "  labs(x = 'variable', y = 'density', title = 'Stroke : 1') +\n",
    "  theme(axis.line = element_line(colour = \"black\"),\n",
    "        panel.background = element_blank(),\n",
    "        plot.title = element_text(hjust = 0.5),\n",
    "        legend.position = \"right\", legend.title = element_blank())\n",
    "\n",
    "num_stroke.0 = plotset_num[plotset_num$stroke == 0,] %>% \n",
    "  ggplot(aes(x = value, color = key)) +\n",
    "  geom_density(aes(value, color = key)) +\n",
    "  labs(x = 'variable', y = 'density', title = 'Stroke : 0') +\n",
    "  theme(axis.line = element_line(colour = \"black\"),\n",
    "        panel.background = element_blank(),\n",
    "        plot.title = element_text(hjust = 0.5),\n",
    "        legend.position = \"right\", legend.title = element_blank())\n",
    "\n",
    "grid.arrange(num_stroke.1, num_stroke.0, ncol = 1)"
   ]
  },
  {
   "cell_type": "markdown",
   "metadata": {},
   "source": [
    "뇌졸중을 일으킨(1) 사람들과 일으키지 않은(0) 사람들의 데이터를 비교해보았을 때,  \n",
    "1) age: 뇌졸중을 일으킨 경우에는 고령의 비율이 높고 일으키지 않은 경우는 연령 간 비율이 흡사하다. 나이가 뇌졸중에 가지는 영향력이 꽤 큰 것으로 보인다.    \n",
    "2) avg_glucose_level: 뇌졸중을 일으키지 않은 쪽에는 약 90 정도의 평균 혈당 수치에 가장 많은 사람들이 밀집되어 있다는 뚜렷한 추세가 있는데, 뇌졸중을 일으킨 쪽에서는 그 추세가 훨씬 약하다.  \n",
    "3) bmi: 양쪽 모두 비슷한 지점에서 정점을 가진 bell shape으로 나타나 추세가 비슷하지만, 뇌졸중을 일으킨 쪽에 높은 bmi 지수를 보인 사람들이 조금 더 많이 존재하는 것으로 보인다."
   ]
  },
  {
   "cell_type": "markdown",
   "metadata": {},
   "source": [
    "### 문제 6 타겟 변수와 범주형 변수에 대한 카이스퀘어 독립성 검정"
   ]
  },
  {
   "cell_type": "code",
   "execution_count": 18,
   "metadata": {},
   "outputs": [],
   "source": [
    "chi_df = data.frame('cate_var' = c('gender', 'hypertension', 'heart_disease', 'ever_married', 'work_type', 'Residence_type', \n",
    "                                   'smoking_status'), 'chi' = NA)"
   ]
  },
  {
   "cell_type": "code",
   "execution_count": 19,
   "metadata": {},
   "outputs": [
    {
     "name": "stderr",
     "output_type": "stream",
     "text": [
      "Warning message in chisq.test(trainset$stroke, trainset[, chi_df[i, 1]]):\n",
      "\"Chi-squared approximation may be incorrect\"\n",
      "Warning message in chisq.test(trainset$stroke, trainset[, chi_df[i, 1]]):\n",
      "\"Chi-squared approximation may be incorrect\"\n"
     ]
    }
   ],
   "source": [
    "for (i in 1:nrow(chi_df)){\n",
    "    chi_df[i,2] = ifelse(chisq.test(trainset$stroke, trainset[,chi_df[i,1]])$p.value < 0.05, 'denied', 'accept')\n",
    "}"
   ]
  },
  {
   "cell_type": "code",
   "execution_count": 20,
   "metadata": {},
   "outputs": [
    {
     "data": {
      "text/html": [
       "<table>\n",
       "<caption>A data.frame: 7 × 2</caption>\n",
       "<thead>\n",
       "\t<tr><th scope=col>cate_var</th><th scope=col>chi</th></tr>\n",
       "\t<tr><th scope=col>&lt;chr&gt;</th><th scope=col>&lt;chr&gt;</th></tr>\n",
       "</thead>\n",
       "<tbody>\n",
       "\t<tr><td>gender        </td><td>accept</td></tr>\n",
       "\t<tr><td>hypertension  </td><td>denied</td></tr>\n",
       "\t<tr><td>heart_disease </td><td>denied</td></tr>\n",
       "\t<tr><td>ever_married  </td><td>denied</td></tr>\n",
       "\t<tr><td>work_type     </td><td>denied</td></tr>\n",
       "\t<tr><td>Residence_type</td><td>accept</td></tr>\n",
       "\t<tr><td>smoking_status</td><td>denied</td></tr>\n",
       "</tbody>\n",
       "</table>\n"
      ],
      "text/latex": [
       "A data.frame: 7 × 2\n",
       "\\begin{tabular}{ll}\n",
       " cate\\_var & chi\\\\\n",
       " <chr> & <chr>\\\\\n",
       "\\hline\n",
       "\t gender         & accept\\\\\n",
       "\t hypertension   & denied\\\\\n",
       "\t heart\\_disease  & denied\\\\\n",
       "\t ever\\_married   & denied\\\\\n",
       "\t work\\_type      & denied\\\\\n",
       "\t Residence\\_type & accept\\\\\n",
       "\t smoking\\_status & denied\\\\\n",
       "\\end{tabular}\n"
      ],
      "text/markdown": [
       "\n",
       "A data.frame: 7 × 2\n",
       "\n",
       "| cate_var &lt;chr&gt; | chi &lt;chr&gt; |\n",
       "|---|---|\n",
       "| gender         | accept |\n",
       "| hypertension   | denied |\n",
       "| heart_disease  | denied |\n",
       "| ever_married   | denied |\n",
       "| work_type      | denied |\n",
       "| Residence_type | accept |\n",
       "| smoking_status | denied |\n",
       "\n"
      ],
      "text/plain": [
       "  cate_var       chi   \n",
       "1 gender         accept\n",
       "2 hypertension   denied\n",
       "3 heart_disease  denied\n",
       "4 ever_married   denied\n",
       "5 work_type      denied\n",
       "6 Residence_type accept\n",
       "7 smoking_status denied"
      ]
     },
     "metadata": {},
     "output_type": "display_data"
    }
   ],
   "source": [
    "chi_df"
   ]
  },
  {
   "cell_type": "markdown",
   "metadata": {},
   "source": [
    "### 문제 7 카이스퀘어 독립성 검정에서 귀무가설을 accept한 범주형 변수 제거"
   ]
  },
  {
   "cell_type": "code",
   "execution_count": 21,
   "metadata": {},
   "outputs": [
    {
     "data": {
      "text/html": [
       "<table>\n",
       "<caption>A data.frame: 6 × 9</caption>\n",
       "<thead>\n",
       "\t<tr><th></th><th scope=col>age</th><th scope=col>hypertension</th><th scope=col>heart_disease</th><th scope=col>ever_married</th><th scope=col>work_type</th><th scope=col>avg_glucose_level</th><th scope=col>bmi</th><th scope=col>smoking_status</th><th scope=col>stroke</th></tr>\n",
       "\t<tr><th></th><th scope=col>&lt;dbl&gt;</th><th scope=col>&lt;dbl&gt;</th><th scope=col>&lt;dbl&gt;</th><th scope=col>&lt;fct&gt;</th><th scope=col>&lt;fct&gt;</th><th scope=col>&lt;dbl&gt;</th><th scope=col>&lt;dbl&gt;</th><th scope=col>&lt;fct&gt;</th><th scope=col>&lt;dbl&gt;</th></tr>\n",
       "</thead>\n",
       "<tbody>\n",
       "\t<tr><th scope=row>1</th><td>67</td><td>0</td><td>1</td><td>Yes</td><td>Private      </td><td>228.69</td><td>36.60000</td><td>formerly smoked</td><td>1</td></tr>\n",
       "\t<tr><th scope=row>2</th><td>61</td><td>0</td><td>0</td><td>Yes</td><td>Self-employed</td><td>202.21</td><td>28.82782</td><td>never smoked   </td><td>1</td></tr>\n",
       "\t<tr><th scope=row>3</th><td>80</td><td>0</td><td>1</td><td>Yes</td><td>Private      </td><td>105.92</td><td>32.50000</td><td>never smoked   </td><td>1</td></tr>\n",
       "\t<tr><th scope=row>4</th><td>49</td><td>0</td><td>0</td><td>Yes</td><td>Private      </td><td>171.23</td><td>34.40000</td><td>smokes         </td><td>1</td></tr>\n",
       "\t<tr><th scope=row>5</th><td>79</td><td>1</td><td>0</td><td>Yes</td><td>Self-employed</td><td>174.12</td><td>24.00000</td><td>never smoked   </td><td>1</td></tr>\n",
       "\t<tr><th scope=row>6</th><td>74</td><td>1</td><td>1</td><td>Yes</td><td>Private      </td><td> 70.09</td><td>27.40000</td><td>never smoked   </td><td>1</td></tr>\n",
       "</tbody>\n",
       "</table>\n"
      ],
      "text/latex": [
       "A data.frame: 6 × 9\n",
       "\\begin{tabular}{r|lllllllll}\n",
       "  & age & hypertension & heart\\_disease & ever\\_married & work\\_type & avg\\_glucose\\_level & bmi & smoking\\_status & stroke\\\\\n",
       "  & <dbl> & <dbl> & <dbl> & <fct> & <fct> & <dbl> & <dbl> & <fct> & <dbl>\\\\\n",
       "\\hline\n",
       "\t1 & 67 & 0 & 1 & Yes & Private       & 228.69 & 36.60000 & formerly smoked & 1\\\\\n",
       "\t2 & 61 & 0 & 0 & Yes & Self-employed & 202.21 & 28.82782 & never smoked    & 1\\\\\n",
       "\t3 & 80 & 0 & 1 & Yes & Private       & 105.92 & 32.50000 & never smoked    & 1\\\\\n",
       "\t4 & 49 & 0 & 0 & Yes & Private       & 171.23 & 34.40000 & smokes          & 1\\\\\n",
       "\t5 & 79 & 1 & 0 & Yes & Self-employed & 174.12 & 24.00000 & never smoked    & 1\\\\\n",
       "\t6 & 74 & 1 & 1 & Yes & Private       &  70.09 & 27.40000 & never smoked    & 1\\\\\n",
       "\\end{tabular}\n"
      ],
      "text/markdown": [
       "\n",
       "A data.frame: 6 × 9\n",
       "\n",
       "| <!--/--> | age &lt;dbl&gt; | hypertension &lt;dbl&gt; | heart_disease &lt;dbl&gt; | ever_married &lt;fct&gt; | work_type &lt;fct&gt; | avg_glucose_level &lt;dbl&gt; | bmi &lt;dbl&gt; | smoking_status &lt;fct&gt; | stroke &lt;dbl&gt; |\n",
       "|---|---|---|---|---|---|---|---|---|---|\n",
       "| 1 | 67 | 0 | 1 | Yes | Private       | 228.69 | 36.60000 | formerly smoked | 1 |\n",
       "| 2 | 61 | 0 | 0 | Yes | Self-employed | 202.21 | 28.82782 | never smoked    | 1 |\n",
       "| 3 | 80 | 0 | 1 | Yes | Private       | 105.92 | 32.50000 | never smoked    | 1 |\n",
       "| 4 | 49 | 0 | 0 | Yes | Private       | 171.23 | 34.40000 | smokes          | 1 |\n",
       "| 5 | 79 | 1 | 0 | Yes | Self-employed | 174.12 | 24.00000 | never smoked    | 1 |\n",
       "| 6 | 74 | 1 | 1 | Yes | Private       |  70.09 | 27.40000 | never smoked    | 1 |\n",
       "\n"
      ],
      "text/plain": [
       "  age hypertension heart_disease ever_married work_type     avg_glucose_level\n",
       "1 67  0            1             Yes          Private       228.69           \n",
       "2 61  0            0             Yes          Self-employed 202.21           \n",
       "3 80  0            1             Yes          Private       105.92           \n",
       "4 49  0            0             Yes          Private       171.23           \n",
       "5 79  1            0             Yes          Self-employed 174.12           \n",
       "6 74  1            1             Yes          Private        70.09           \n",
       "  bmi      smoking_status  stroke\n",
       "1 36.60000 formerly smoked 1     \n",
       "2 28.82782 never smoked    1     \n",
       "3 32.50000 never smoked    1     \n",
       "4 34.40000 smokes          1     \n",
       "5 24.00000 never smoked    1     \n",
       "6 27.40000 never smoked    1     "
      ]
     },
     "metadata": {},
     "output_type": "display_data"
    }
   ],
   "source": [
    "trainset = trainset %>% select(-'gender', -'Residence_type')\n",
    "trainset %>% head"
   ]
  },
  {
   "cell_type": "markdown",
   "metadata": {},
   "source": [
    "### [Test data(test.csv) 전처리]"
   ]
  },
  {
   "cell_type": "markdown",
   "metadata": {},
   "source": [
    "### 문제 8 test data에도 동일한 전처리"
   ]
  },
  {
   "cell_type": "code",
   "execution_count": 22,
   "metadata": {},
   "outputs": [
    {
     "name": "stderr",
     "output_type": "stream",
     "text": [
      "Warning message in testset$bmi %>% as.numeric:\n",
      "\"강제형변환에 의해 생성된 NA 입니다\"\n",
      "Warning message in mean.default(x, na.rm = TRUE):\n",
      "\"argument is not numeric or logical: returning NA\"\n",
      "Warning message in mean.default(x, na.rm = TRUE):\n",
      "\"argument is not numeric or logical: returning NA\"\n",
      "Warning message in mean.default(x, na.rm = TRUE):\n",
      "\"argument is not numeric or logical: returning NA\"\n",
      "Warning message in mean.default(x, na.rm = TRUE):\n",
      "\"argument is not numeric or logical: returning NA\"\n",
      "Warning message in mean.default(x, na.rm = TRUE):\n",
      "\"argument is not numeric or logical: returning NA\"\n"
     ]
    }
   ],
   "source": [
    "# 'bmi' 변수 자료형 변환 + mean imputation\n",
    "testset$bmi = testset$bmi %>% as.numeric\n",
    "testset = testset %>% lapply(mean_imp) %>% as.data.frame()\n",
    "\n",
    "# 문자형 변수 자료형 바꾸기\n",
    "testset[sapply(testset, is.character)] = testset[sapply(testset, is.character)] %>% lapply(as.factor) %>% as.data.frame()\n",
    "\n",
    "# 변수 추가적 제거\n",
    "testset = testset %>% select(-'id', -'gender', -'Residence_type')"
   ]
  },
  {
   "cell_type": "code",
   "execution_count": 23,
   "metadata": {},
   "outputs": [
    {
     "data": {
      "text/html": [
       "<table>\n",
       "<caption>A data.frame: 6 × 9</caption>\n",
       "<thead>\n",
       "\t<tr><th></th><th scope=col>age</th><th scope=col>hypertension</th><th scope=col>heart_disease</th><th scope=col>ever_married</th><th scope=col>work_type</th><th scope=col>avg_glucose_level</th><th scope=col>bmi</th><th scope=col>smoking_status</th><th scope=col>stroke</th></tr>\n",
       "\t<tr><th></th><th scope=col>&lt;dbl&gt;</th><th scope=col>&lt;dbl&gt;</th><th scope=col>&lt;dbl&gt;</th><th scope=col>&lt;fct&gt;</th><th scope=col>&lt;fct&gt;</th><th scope=col>&lt;dbl&gt;</th><th scope=col>&lt;dbl&gt;</th><th scope=col>&lt;fct&gt;</th><th scope=col>&lt;dbl&gt;</th></tr>\n",
       "</thead>\n",
       "<tbody>\n",
       "\t<tr><th scope=row>1</th><td>81</td><td>0</td><td>0</td><td>Yes</td><td>Private      </td><td>186.21</td><td>29.00000</td><td>formerly smoked</td><td>1</td></tr>\n",
       "\t<tr><th scope=row>2</th><td>50</td><td>1</td><td>0</td><td>Yes</td><td>Self-employed</td><td>167.41</td><td>30.90000</td><td>never smoked   </td><td>1</td></tr>\n",
       "\t<tr><th scope=row>3</th><td>52</td><td>1</td><td>0</td><td>Yes</td><td>Self-employed</td><td>233.29</td><td>48.90000</td><td>never smoked   </td><td>1</td></tr>\n",
       "\t<tr><th scope=row>4</th><td>65</td><td>0</td><td>0</td><td>Yes</td><td>Private      </td><td>100.98</td><td>28.20000</td><td>formerly smoked</td><td>1</td></tr>\n",
       "\t<tr><th scope=row>5</th><td>59</td><td>0</td><td>0</td><td>Yes</td><td>Private      </td><td>211.78</td><td>29.15319</td><td>formerly smoked</td><td>1</td></tr>\n",
       "\t<tr><th scope=row>6</th><td>58</td><td>0</td><td>0</td><td>No </td><td>Private      </td><td> 92.62</td><td>32.00000</td><td>Unknown        </td><td>1</td></tr>\n",
       "</tbody>\n",
       "</table>\n"
      ],
      "text/latex": [
       "A data.frame: 6 × 9\n",
       "\\begin{tabular}{r|lllllllll}\n",
       "  & age & hypertension & heart\\_disease & ever\\_married & work\\_type & avg\\_glucose\\_level & bmi & smoking\\_status & stroke\\\\\n",
       "  & <dbl> & <dbl> & <dbl> & <fct> & <fct> & <dbl> & <dbl> & <fct> & <dbl>\\\\\n",
       "\\hline\n",
       "\t1 & 81 & 0 & 0 & Yes & Private       & 186.21 & 29.00000 & formerly smoked & 1\\\\\n",
       "\t2 & 50 & 1 & 0 & Yes & Self-employed & 167.41 & 30.90000 & never smoked    & 1\\\\\n",
       "\t3 & 52 & 1 & 0 & Yes & Self-employed & 233.29 & 48.90000 & never smoked    & 1\\\\\n",
       "\t4 & 65 & 0 & 0 & Yes & Private       & 100.98 & 28.20000 & formerly smoked & 1\\\\\n",
       "\t5 & 59 & 0 & 0 & Yes & Private       & 211.78 & 29.15319 & formerly smoked & 1\\\\\n",
       "\t6 & 58 & 0 & 0 & No  & Private       &  92.62 & 32.00000 & Unknown         & 1\\\\\n",
       "\\end{tabular}\n"
      ],
      "text/markdown": [
       "\n",
       "A data.frame: 6 × 9\n",
       "\n",
       "| <!--/--> | age &lt;dbl&gt; | hypertension &lt;dbl&gt; | heart_disease &lt;dbl&gt; | ever_married &lt;fct&gt; | work_type &lt;fct&gt; | avg_glucose_level &lt;dbl&gt; | bmi &lt;dbl&gt; | smoking_status &lt;fct&gt; | stroke &lt;dbl&gt; |\n",
       "|---|---|---|---|---|---|---|---|---|---|\n",
       "| 1 | 81 | 0 | 0 | Yes | Private       | 186.21 | 29.00000 | formerly smoked | 1 |\n",
       "| 2 | 50 | 1 | 0 | Yes | Self-employed | 167.41 | 30.90000 | never smoked    | 1 |\n",
       "| 3 | 52 | 1 | 0 | Yes | Self-employed | 233.29 | 48.90000 | never smoked    | 1 |\n",
       "| 4 | 65 | 0 | 0 | Yes | Private       | 100.98 | 28.20000 | formerly smoked | 1 |\n",
       "| 5 | 59 | 0 | 0 | Yes | Private       | 211.78 | 29.15319 | formerly smoked | 1 |\n",
       "| 6 | 58 | 0 | 0 | No  | Private       |  92.62 | 32.00000 | Unknown         | 1 |\n",
       "\n"
      ],
      "text/plain": [
       "  age hypertension heart_disease ever_married work_type     avg_glucose_level\n",
       "1 81  0            0             Yes          Private       186.21           \n",
       "2 50  1            0             Yes          Self-employed 167.41           \n",
       "3 52  1            0             Yes          Self-employed 233.29           \n",
       "4 65  0            0             Yes          Private       100.98           \n",
       "5 59  0            0             Yes          Private       211.78           \n",
       "6 58  0            0             No           Private        92.62           \n",
       "  bmi      smoking_status  stroke\n",
       "1 29.00000 formerly smoked 1     \n",
       "2 30.90000 never smoked    1     \n",
       "3 48.90000 never smoked    1     \n",
       "4 28.20000 formerly smoked 1     \n",
       "5 29.15319 formerly smoked 1     \n",
       "6 32.00000 Unknown         1     "
      ]
     },
     "metadata": {},
     "output_type": "display_data"
    }
   ],
   "source": [
    "testset %>% head"
   ]
  },
  {
   "cell_type": "code",
   "execution_count": 24,
   "metadata": {},
   "outputs": [
    {
     "data": {
      "text/html": [
       "0"
      ],
      "text/latex": [
       "0"
      ],
      "text/markdown": [
       "0"
      ],
      "text/plain": [
       "[1] 0"
      ]
     },
     "metadata": {},
     "output_type": "display_data"
    }
   ],
   "source": [
    "testset %>% is.na %>% sum"
   ]
  },
  {
   "cell_type": "markdown",
   "metadata": {},
   "source": [
    " "
   ]
  },
  {
   "cell_type": "markdown",
   "metadata": {},
   "source": [
    " "
   ]
  },
  {
   "cell_type": "markdown",
   "metadata": {},
   "source": [
    " "
   ]
  },
  {
   "cell_type": "markdown",
   "metadata": {},
   "source": [
    " "
   ]
  },
  {
   "cell_type": "markdown",
   "metadata": {},
   "source": [
    " "
   ]
  },
  {
   "cell_type": "markdown",
   "metadata": {},
   "source": [
    "## Chapter 2. Catboost"
   ]
  },
  {
   "cell_type": "code",
   "execution_count": 26,
   "metadata": {},
   "outputs": [
    {
     "name": "stderr",
     "output_type": "stream",
     "text": [
      "Warning message:\n",
      "\"package 'caret' was built under R version 4.0.4\"\n",
      "Loading required package: lattice\n",
      "\n",
      "\n",
      "Attaching package: 'caret'\n",
      "\n",
      "\n",
      "The following object is masked from 'package:purrr':\n",
      "\n",
      "    lift\n",
      "\n",
      "\n",
      "Warning message:\n",
      "\"package 'MLmetrics' was built under R version 4.0.4\"\n",
      "\n",
      "Attaching package: 'MLmetrics'\n",
      "\n",
      "\n",
      "The following objects are masked from 'package:caret':\n",
      "\n",
      "    MAE, RMSE\n",
      "\n",
      "\n",
      "The following object is masked from 'package:base':\n",
      "\n",
      "    Recall\n",
      "\n",
      "\n"
     ]
    }
   ],
   "source": [
    "library(catboost)\n",
    "library(caret)\n",
    "library(MLmetrics)"
   ]
  },
  {
   "cell_type": "markdown",
   "metadata": {},
   "source": [
    "### 문제 0 Catboost 모델의 특성 및 대표적 파라미터"
   ]
  },
  {
   "cell_type": "markdown",
   "metadata": {},
   "source": [
    "**CatBoost**란 *'Categorical Boost'*의 약자로, **범주형 변수가 많은 경우에** 유용하게 쓰이는 부스팅 기법이며 **level-wise**로 트리를 만들어나간다. 또한 모델의 알고리즘이 잔차를 일괄적으로 계산하는 것이 아닌, **데이터의 일부**만 가지고 잔차를 계산한 뒤 이를 기반으로 모델을 만들고 남은 또다른 데이터의 잔차는 이 모델을 통해 예측하는 방식을 가진다는 것이 특징적이다. 파라미터 튜닝에 크게 민감한 모델은 아니며, 코드로 구현 시 학습에 사용될 데이터프레임을 **Pool 형태로 변환**해야 한다.  \n",
    "  \n",
    "  \n",
    "### parameter  \n",
    "* loss_function: loss function(분류 모형: Logloss)  \n",
    "* random_seed: 시드값 \n",
    "* depth: 트리의 depth\n",
    "* iterations: 생성할 트리 개수의 최대값  \n",
    "* train_dir: 모델링 결과를 저장할 directory\n",
    "* logging_level: 매 iteration마다 결과 출력 여부 (silent: 출력하지 않음, verbose: 출력)  \n",
    "* custom_loss: 모델링 시 추가적으로 추출할 값들(결과 파일에 담김)  \n",
    "\n"
   ]
  },
  {
   "cell_type": "markdown",
   "metadata": {},
   "source": [
    "### 문제 1 그리드서치 결과 담을 데이터프레임 생성"
   ]
  },
  {
   "cell_type": "code",
   "execution_count": 27,
   "metadata": {},
   "outputs": [
    {
     "data": {
      "text/html": [
       "<table>\n",
       "<caption>A data.frame: 6 × 3</caption>\n",
       "<thead>\n",
       "\t<tr><th scope=col>depth</th><th scope=col>iterations</th><th scope=col>logloss</th></tr>\n",
       "\t<tr><th scope=col>&lt;dbl&gt;</th><th scope=col>&lt;dbl&gt;</th><th scope=col>&lt;lgl&gt;</th></tr>\n",
       "</thead>\n",
       "<tbody>\n",
       "\t<tr><td>4</td><td>100</td><td>NA</td></tr>\n",
       "\t<tr><td>6</td><td>100</td><td>NA</td></tr>\n",
       "\t<tr><td>8</td><td>100</td><td>NA</td></tr>\n",
       "\t<tr><td>4</td><td>200</td><td>NA</td></tr>\n",
       "\t<tr><td>6</td><td>200</td><td>NA</td></tr>\n",
       "\t<tr><td>8</td><td>200</td><td>NA</td></tr>\n",
       "</tbody>\n",
       "</table>\n"
      ],
      "text/latex": [
       "A data.frame: 6 × 3\n",
       "\\begin{tabular}{lll}\n",
       " depth & iterations & logloss\\\\\n",
       " <dbl> & <dbl> & <lgl>\\\\\n",
       "\\hline\n",
       "\t 4 & 100 & NA\\\\\n",
       "\t 6 & 100 & NA\\\\\n",
       "\t 8 & 100 & NA\\\\\n",
       "\t 4 & 200 & NA\\\\\n",
       "\t 6 & 200 & NA\\\\\n",
       "\t 8 & 200 & NA\\\\\n",
       "\\end{tabular}\n"
      ],
      "text/markdown": [
       "\n",
       "A data.frame: 6 × 3\n",
       "\n",
       "| depth &lt;dbl&gt; | iterations &lt;dbl&gt; | logloss &lt;lgl&gt; |\n",
       "|---|---|---|\n",
       "| 4 | 100 | NA |\n",
       "| 6 | 100 | NA |\n",
       "| 8 | 100 | NA |\n",
       "| 4 | 200 | NA |\n",
       "| 6 | 200 | NA |\n",
       "| 8 | 200 | NA |\n",
       "\n"
      ],
      "text/plain": [
       "  depth iterations logloss\n",
       "1 4     100        NA     \n",
       "2 6     100        NA     \n",
       "3 8     100        NA     \n",
       "4 4     200        NA     \n",
       "5 6     200        NA     \n",
       "6 8     200        NA     "
      ]
     },
     "metadata": {},
     "output_type": "display_data"
    }
   ],
   "source": [
    "logloss_cb = expand.grid(depth = c(4,6,8), iterations = c(100, 200), logloss = NA)\n",
    "logloss_cb"
   ]
  },
  {
   "cell_type": "markdown",
   "metadata": {},
   "source": [
    "### 문제 2 depth & iterations 튜닝 위한 그리드서치 5-fold CV"
   ]
  },
  {
   "cell_type": "code",
   "execution_count": 33,
   "metadata": {},
   "outputs": [
    {
     "name": "stdout",
     "output_type": "stream",
     "text": [
      "[1] \"depth : 4, iterations : 100\"\n",
      "[1] \"FOLD : 1\"\n",
      "[1] \"FOLD : 2\"\n",
      "[1] \"FOLD : 3\"\n",
      "[1] \"FOLD : 4\"\n",
      "[1] \"FOLD : 5\"\n",
      "[1] \"depth : 6, iterations : 100\"\n",
      "[1] \"FOLD : 1\"\n",
      "[1] \"FOLD : 2\"\n",
      "[1] \"FOLD : 3\"\n",
      "[1] \"FOLD : 4\"\n",
      "[1] \"FOLD : 5\"\n",
      "[1] \"depth : 8, iterations : 100\"\n",
      "[1] \"FOLD : 1\"\n",
      "[1] \"FOLD : 2\"\n",
      "[1] \"FOLD : 3\"\n",
      "[1] \"FOLD : 4\"\n",
      "[1] \"FOLD : 5\"\n",
      "[1] \"depth : 4, iterations : 200\"\n",
      "[1] \"FOLD : 1\"\n",
      "[1] \"FOLD : 2\"\n",
      "[1] \"FOLD : 3\"\n",
      "[1] \"FOLD : 4\"\n",
      "[1] \"FOLD : 5\"\n",
      "[1] \"depth : 6, iterations : 200\"\n",
      "[1] \"FOLD : 1\"\n",
      "[1] \"FOLD : 2\"\n",
      "[1] \"FOLD : 3\"\n",
      "[1] \"FOLD : 4\"\n",
      "[1] \"FOLD : 5\"\n",
      "[1] \"depth : 8, iterations : 200\"\n",
      "[1] \"FOLD : 1\"\n",
      "[1] \"FOLD : 2\"\n",
      "[1] \"FOLD : 3\"\n",
      "[1] \"FOLD : 4\"\n",
      "[1] \"FOLD : 5\"\n"
     ]
    }
   ],
   "source": [
    "set.seed(1234)\n",
    "catb.cv <- createFolds(trainset$stroke, k = 5, list = TRUE)\n",
    "\n",
    "start = Sys.time()\n",
    "for (i in 1:nrow(logloss_cb)){\n",
    "  print(paste0(\"depth : \", logloss_cb$depth[i], \", iterations : \", logloss_cb$iterations[i]))\n",
    "  catb.logloss_temp <- c()\n",
    "  \n",
    "  for (j in 1:5){\n",
    "    print(paste0(\"FOLD : \", j))\n",
    "    \n",
    "    catb.vali_inx <- catb.cv[[j]] \n",
    "    catb.train <- trainset[-catb.vali_inx,]\n",
    "    catb.val <- trainset[catb.vali_inx,]\n",
    "    \n",
    "    # 데이터프레임 pool 형식으로 변환 \n",
    "    train_pool <- catboost.load_pool(\n",
    "        data = select(catb.train, -'stroke'), label = catb.train[,'stroke'],\n",
    "        cat_features = which(sapply(select(catb.train, -'stroke'), is.factor)))\n",
    "      \n",
    "    val_pool <- catboost.load_pool(\n",
    "        data = select(catb.val, -'stroke'), label = catb.val[,'stroke'],\n",
    "        cat_features = which(sapply(select(catb.val, -'stroke'), is.factor)))\n",
    "      \n",
    "    # 학습\n",
    "    params <- list(loss_function = 'Logloss', random_seed = 1234, depth = logloss_cb$depth[i], iterations = logloss_cb$iterations[i],\n",
    "                   train_dir = 'catboost', logging_level = 'Silent')\n",
    "    catb.fit <- catboost.train(learn_pool = train_pool, test_pool = val_pool, params = params)\n",
    "    \n",
    "    # evaluation\n",
    "    catb.testerr <- read.table('catboost/test_error.tsv', sep = \"\\t\", header = TRUE)\n",
    "    catb.logloss <- catb.testerr[which.max(catb.testerr$Logloss), c(\"Logloss\")]\n",
    "      \n",
    "    catb.logloss_temp[j] = catb.logloss\n",
    "  }\n",
    "  logloss_cb[i,\"logloss\"] = mean(catb.logloss_temp)\n",
    "}\n",
    "\n",
    "catb_runtime = Sys.time() - start"
   ]
  },
  {
   "cell_type": "code",
   "execution_count": 35,
   "metadata": {},
   "outputs": [
    {
     "data": {
      "text/plain": [
       "Time difference of 57.92137 secs"
      ]
     },
     "metadata": {},
     "output_type": "display_data"
    }
   ],
   "source": [
    "# 소요된 시간\n",
    "catb_runtime"
   ]
  },
  {
   "cell_type": "code",
   "execution_count": 36,
   "metadata": {},
   "outputs": [
    {
     "data": {
      "text/html": [
       "<table>\n",
       "<caption>A data.frame: 6 × 3</caption>\n",
       "<thead>\n",
       "\t<tr><th scope=col>depth</th><th scope=col>iterations</th><th scope=col>logloss</th></tr>\n",
       "\t<tr><th scope=col>&lt;dbl&gt;</th><th scope=col>&lt;dbl&gt;</th><th scope=col>&lt;dbl&gt;</th></tr>\n",
       "</thead>\n",
       "<tbody>\n",
       "\t<tr><td>4</td><td>100</td><td>0.6052186</td></tr>\n",
       "\t<tr><td>6</td><td>100</td><td>0.6071820</td></tr>\n",
       "\t<tr><td>8</td><td>100</td><td>0.6101628</td></tr>\n",
       "\t<tr><td>4</td><td>200</td><td>0.5813138</td></tr>\n",
       "\t<tr><td>6</td><td>200</td><td>0.5793058</td></tr>\n",
       "\t<tr><td>8</td><td>200</td><td>0.5650448</td></tr>\n",
       "</tbody>\n",
       "</table>\n"
      ],
      "text/latex": [
       "A data.frame: 6 × 3\n",
       "\\begin{tabular}{lll}\n",
       " depth & iterations & logloss\\\\\n",
       " <dbl> & <dbl> & <dbl>\\\\\n",
       "\\hline\n",
       "\t 4 & 100 & 0.6052186\\\\\n",
       "\t 6 & 100 & 0.6071820\\\\\n",
       "\t 8 & 100 & 0.6101628\\\\\n",
       "\t 4 & 200 & 0.5813138\\\\\n",
       "\t 6 & 200 & 0.5793058\\\\\n",
       "\t 8 & 200 & 0.5650448\\\\\n",
       "\\end{tabular}\n"
      ],
      "text/markdown": [
       "\n",
       "A data.frame: 6 × 3\n",
       "\n",
       "| depth &lt;dbl&gt; | iterations &lt;dbl&gt; | logloss &lt;dbl&gt; |\n",
       "|---|---|---|\n",
       "| 4 | 100 | 0.6052186 |\n",
       "| 6 | 100 | 0.6071820 |\n",
       "| 8 | 100 | 0.6101628 |\n",
       "| 4 | 200 | 0.5813138 |\n",
       "| 6 | 200 | 0.5793058 |\n",
       "| 8 | 200 | 0.5650448 |\n",
       "\n"
      ],
      "text/plain": [
       "  depth iterations logloss  \n",
       "1 4     100        0.6052186\n",
       "2 6     100        0.6071820\n",
       "3 8     100        0.6101628\n",
       "4 4     200        0.5813138\n",
       "5 6     200        0.5793058\n",
       "6 8     200        0.5650448"
      ]
     },
     "metadata": {},
     "output_type": "display_data"
    }
   ],
   "source": [
    "logloss_cb"
   ]
  },
  {
   "cell_type": "markdown",
   "metadata": {},
   "source": [
    "### 문제 3 그리드서치 결과 logloss값이 가장 낮게 도출된 파라미터 조합"
   ]
  },
  {
   "cell_type": "code",
   "execution_count": 37,
   "metadata": {},
   "outputs": [
    {
     "data": {
      "text/html": [
       "<table>\n",
       "<caption>A data.frame: 1 × 3</caption>\n",
       "<thead>\n",
       "\t<tr><th></th><th scope=col>depth</th><th scope=col>iterations</th><th scope=col>logloss</th></tr>\n",
       "\t<tr><th></th><th scope=col>&lt;dbl&gt;</th><th scope=col>&lt;dbl&gt;</th><th scope=col>&lt;dbl&gt;</th></tr>\n",
       "</thead>\n",
       "<tbody>\n",
       "\t<tr><th scope=row>6</th><td>8</td><td>200</td><td>0.5650448</td></tr>\n",
       "</tbody>\n",
       "</table>\n"
      ],
      "text/latex": [
       "A data.frame: 1 × 3\n",
       "\\begin{tabular}{r|lll}\n",
       "  & depth & iterations & logloss\\\\\n",
       "  & <dbl> & <dbl> & <dbl>\\\\\n",
       "\\hline\n",
       "\t6 & 8 & 200 & 0.5650448\\\\\n",
       "\\end{tabular}\n"
      ],
      "text/markdown": [
       "\n",
       "A data.frame: 1 × 3\n",
       "\n",
       "| <!--/--> | depth &lt;dbl&gt; | iterations &lt;dbl&gt; | logloss &lt;dbl&gt; |\n",
       "|---|---|---|---|\n",
       "| 6 | 8 | 200 | 0.5650448 |\n",
       "\n"
      ],
      "text/plain": [
       "  depth iterations logloss  \n",
       "6 8     200        0.5650448"
      ]
     },
     "metadata": {},
     "output_type": "display_data"
    }
   ],
   "source": [
    "logloss_cb %>% subset(logloss_cb$logloss == min(logloss_cb$logloss))"
   ]
  },
  {
   "cell_type": "markdown",
   "metadata": {},
   "source": [
    "### 문제 4 최적 파라미터로 모델 적합 및 평가"
   ]
  },
  {
   "cell_type": "code",
   "execution_count": 38,
   "metadata": {},
   "outputs": [],
   "source": [
    "train_poool <- catboost.load_pool(\n",
    "        data = select(trainset, -'stroke'), label = trainset[,'stroke'],\n",
    "        cat_features = which(sapply(select(trainset, -'stroke'), is.factor)))\n",
    "      \n",
    "test_poool <- catboost.load_pool(\n",
    "        data = select(testset, -'stroke'), label = testset[,'stroke'],\n",
    "        cat_features = which(sapply(select(testset, -'stroke'), is.factor)))\n",
    "      \n",
    "# 학습\n",
    "params <- list(loss_function = 'Logloss', random_seed = 1234, depth = 8, iterations = 200, train_dir = 'RESULT', logging_level = 'Silent')\n",
    "catb.fit <- catboost.train(learn_pool = train_poool, test_pool = test_poool, params = params)\n",
    "    \n",
    "# evaluation\n",
    "catb.testerr <- read.table('RESULT/test_error.tsv', sep = \"\\t\", header = TRUE)\n",
    "catb.logloss <- catb.testerr[which.max(catb.testerr$Logloss), c(\"Logloss\")]"
   ]
  },
  {
   "cell_type": "code",
   "execution_count": 39,
   "metadata": {},
   "outputs": [
    {
     "data": {
      "text/html": [
       "0.5576122442"
      ],
      "text/latex": [
       "0.5576122442"
      ],
      "text/markdown": [
       "0.5576122442"
      ],
      "text/plain": [
       "[1] 0.5576122"
      ]
     },
     "metadata": {},
     "output_type": "display_data"
    }
   ],
   "source": [
    "catb.logloss"
   ]
  },
  {
   "cell_type": "markdown",
   "metadata": {},
   "source": [
    " "
   ]
  },
  {
   "cell_type": "markdown",
   "metadata": {},
   "source": [
    " "
   ]
  },
  {
   "cell_type": "markdown",
   "metadata": {},
   "source": [
    " "
   ]
  },
  {
   "cell_type": "markdown",
   "metadata": {},
   "source": [
    " "
   ]
  },
  {
   "cell_type": "markdown",
   "metadata": {},
   "source": [
    " "
   ]
  },
  {
   "cell_type": "markdown",
   "metadata": {},
   "source": [
    "## Chapter 3. K-means Clustering"
   ]
  },
  {
   "cell_type": "code",
   "execution_count": 40,
   "metadata": {},
   "outputs": [
    {
     "name": "stderr",
     "output_type": "stream",
     "text": [
      "Warning message:\n",
      "\"package 'factoextra' was built under R version 4.0.4\"\n",
      "Welcome! Want to learn more? See two factoextra-related books at https://goo.gl/ve3WBa\n",
      "\n"
     ]
    }
   ],
   "source": [
    "library(factoextra)\n",
    "library(cluster)"
   ]
  },
  {
   "cell_type": "code",
   "execution_count": 41,
   "metadata": {},
   "outputs": [],
   "source": [
    "clust_data = trainset[,c('age','avg_glucose_level','bmi')]"
   ]
  },
  {
   "cell_type": "markdown",
   "metadata": {},
   "source": [
    "### 문제 1 수치형 변수의 정규화 스케일링(scale)"
   ]
  },
  {
   "cell_type": "code",
   "execution_count": 42,
   "metadata": {},
   "outputs": [],
   "source": [
    "clust_scaled = clust_data %>% scale(center = TRUE, scale = TRUE)"
   ]
  },
  {
   "cell_type": "code",
   "execution_count": 43,
   "metadata": {},
   "outputs": [
    {
     "data": {
      "text/html": [
       "<table>\n",
       "<caption>A matrix: 6 × 3 of type dbl</caption>\n",
       "<thead>\n",
       "\t<tr><th scope=col>age</th><th scope=col>avg_glucose_level</th><th scope=col>bmi</th></tr>\n",
       "</thead>\n",
       "<tbody>\n",
       "\t<tr><td>1.0512426</td><td> 2.713407641</td><td> 1.0068030</td></tr>\n",
       "\t<tr><td>0.7863068</td><td> 2.126676777</td><td> 0.0000000</td></tr>\n",
       "\t<tr><td>1.6252702</td><td>-0.006869858</td><td> 0.4756919</td></tr>\n",
       "\t<tr><td>0.2564352</td><td> 1.440237118</td><td> 0.7218166</td></tr>\n",
       "\t<tr><td>1.5811142</td><td> 1.504272322</td><td>-0.6253920</td></tr>\n",
       "\t<tr><td>1.3603344</td><td>-0.800773440</td><td>-0.1849585</td></tr>\n",
       "</tbody>\n",
       "</table>\n"
      ],
      "text/latex": [
       "A matrix: 6 × 3 of type dbl\n",
       "\\begin{tabular}{lll}\n",
       " age & avg\\_glucose\\_level & bmi\\\\\n",
       "\\hline\n",
       "\t 1.0512426 &  2.713407641 &  1.0068030\\\\\n",
       "\t 0.7863068 &  2.126676777 &  0.0000000\\\\\n",
       "\t 1.6252702 & -0.006869858 &  0.4756919\\\\\n",
       "\t 0.2564352 &  1.440237118 &  0.7218166\\\\\n",
       "\t 1.5811142 &  1.504272322 & -0.6253920\\\\\n",
       "\t 1.3603344 & -0.800773440 & -0.1849585\\\\\n",
       "\\end{tabular}\n"
      ],
      "text/markdown": [
       "\n",
       "A matrix: 6 × 3 of type dbl\n",
       "\n",
       "| age | avg_glucose_level | bmi |\n",
       "|---|---|---|\n",
       "| 1.0512426 |  2.713407641 |  1.0068030 |\n",
       "| 0.7863068 |  2.126676777 |  0.0000000 |\n",
       "| 1.6252702 | -0.006869858 |  0.4756919 |\n",
       "| 0.2564352 |  1.440237118 |  0.7218166 |\n",
       "| 1.5811142 |  1.504272322 | -0.6253920 |\n",
       "| 1.3603344 | -0.800773440 | -0.1849585 |\n",
       "\n"
      ],
      "text/plain": [
       "     age       avg_glucose_level bmi       \n",
       "[1,] 1.0512426  2.713407641       1.0068030\n",
       "[2,] 0.7863068  2.126676777       0.0000000\n",
       "[3,] 1.6252702 -0.006869858       0.4756919\n",
       "[4,] 0.2564352  1.440237118       0.7218166\n",
       "[5,] 1.5811142  1.504272322      -0.6253920\n",
       "[6,] 1.3603344 -0.800773440      -0.1849585"
      ]
     },
     "metadata": {},
     "output_type": "display_data"
    }
   ],
   "source": [
    "clust_scaled %>% head"
   ]
  },
  {
   "cell_type": "markdown",
   "metadata": {},
   "source": [
    "### 문제 2 적절한 k값 선정 위한 시각화"
   ]
  },
  {
   "cell_type": "code",
   "execution_count": 45,
   "metadata": {},
   "outputs": [
    {
     "data": {
      "image/png": "[encoded data removed]",
      "text/plain": [
       "plot without title"
      ]
     },
     "metadata": {
      "image/png": {
       "height": 300,
       "width": 1080
      }
     },
     "output_type": "display_data"
    }
   ],
   "source": [
    "options(repr.plot.width = 18, repr.plot.height = 5)\n",
    "\n",
    "wss = fviz_nbclust(x = clust_scaled, FUNcluster = kmeans, method='wss')\n",
    "sil = fviz_nbclust(x = clust_scaled, FUNcluster = kmeans, method = \"silhouette\") + geom_vline(xintercept = 4, linetype = 2)\n",
    "\n",
    "grid.arrange(wss, sil, ncol = 2)"
   ]
  },
  {
   "cell_type": "markdown",
   "metadata": {},
   "source": [
    "왼쪽의 WSS 플랏에서는 분산의 총합(y)이 급격하게 감소하는 지점인 k = 3 또는 4 정도가 적절한 듯 보이고, 오른쪽의 실루엣 계수 플랏에서도 k = 3 또는 4일 때 가장 높은 실루엣 계수를 가져 최적의 k값이 될 것으로 보인다. 따라서 적절한 k값은 k = 3 또는 4가 되겠다."
   ]
  },
  {
   "cell_type": "markdown",
   "metadata": {},
   "source": [
    "### 문제 3 K-means 클러스터링"
   ]
  },
  {
   "cell_type": "code",
   "execution_count": 46,
   "metadata": {},
   "outputs": [],
   "source": [
    "set.seed(1234)\n",
    "kmeans_res = kmeans(clust_scaled, nstart = 1, iter.max = 30, centers = 3)"
   ]
  },
  {
   "cell_type": "code",
   "execution_count": 49,
   "metadata": {},
   "outputs": [
    {
     "data": {
      "image/png": "[encoded data removed]",
      "text/plain": [
       "plot without title"
      ]
     },
     "metadata": {
      "image/png": {
       "height": 342,
       "width": 558
      }
     },
     "output_type": "display_data"
    }
   ],
   "source": [
    "options(repr.plot.width = 9.3, repr.plot.height = 5.7)\n",
    "fviz_cluster(kmeans_res, clust_scaled)+ theme(axis.line = element_line(colour = \"black\"),\n",
    "                                              panel.background = element_blank())"
   ]
  },
  {
   "cell_type": "markdown",
   "metadata": {},
   "source": [
    "### 문제 4 클러스터링 결과 box plot 시각화"
   ]
  },
  {
   "cell_type": "code",
   "execution_count": 50,
   "metadata": {},
   "outputs": [
    {
     "name": "stderr",
     "output_type": "stream",
     "text": [
      "Warning message in clust_scaled$cluster = kmeans_res$cluster:\n",
      "\"좌변을 리스트로 강제형변환합니다\"\n"
     ]
    },
    {
     "data": {
      "image/png": "[encoded data removed]",
      "text/plain": [
       "plot without title"
      ]
     },
     "metadata": {
      "image/png": {
       "height": 330,
       "width": 558
      }
     },
     "output_type": "display_data"
    }
   ],
   "source": [
    "clust_scaled$cluster = kmeans_res$cluster\n",
    "clust_data$cluster = kmeans_res$cluster\n",
    "\n",
    "# 시각화\n",
    "options(repr.plot.width = 9.3, repr.plot.height = 5.5)\n",
    "\n",
    "clust_age = clust_data %>%\n",
    "  ggplot(aes(x = as.factor(cluster),\n",
    "             y = age,\n",
    "             fill = as.factor(cluster),\n",
    "             color = as.factor(cluster))) +\n",
    "  stat_boxplot(geom = \"errorbar\",width=0.7) +\n",
    "  geom_boxplot(alpha=0.6,\n",
    "               outlier.shape = NA) +\n",
    "  theme_classic() +\n",
    "  theme(legend.position = \"none\") +\n",
    "  scale_fill_manual(values = c('#845ec2', '#ffc75f', '#ff5e78')) +\n",
    "  scale_color_manual(values = c('#845ec2', '#ffc75f', '#ff5e78')) +\n",
    "  labs(x = 'cluster')\n",
    "\n",
    "clust_glu = clust_data %>%\n",
    "  ggplot(aes(x = as.factor(cluster),\n",
    "             y = avg_glucose_level,\n",
    "             fill = as.factor(cluster),\n",
    "             color = as.factor(cluster))) +\n",
    "  stat_boxplot(geom = \"errorbar\",width=0.7) +\n",
    "  geom_boxplot(alpha=0.6,\n",
    "               outlier.shape = NA) +\n",
    "  theme_classic() +\n",
    "  theme(legend.position = \"none\") +\n",
    "  scale_fill_manual(values = c('#845ec2', '#ffc75f', '#ff5e78')) +\n",
    "  scale_color_manual(values = c('#845ec2', '#ffc75f', '#ff5e78')) +\n",
    "  labs(x = 'cluster')\n",
    "\n",
    "clust_bmi = clust_data %>%\n",
    "  ggplot(aes(x = as.factor(cluster),\n",
    "             y = bmi,\n",
    "             fill = as.factor(cluster),\n",
    "             color = as.factor(cluster))) +\n",
    "  stat_boxplot(geom = \"errorbar\",width=0.7) +\n",
    "  geom_boxplot(alpha=0.6,\n",
    "               outlier.shape = NA) +\n",
    "  theme_classic() +\n",
    "  theme(legend.position = \"none\") +\n",
    "  scale_fill_manual(values = c('#845ec2', '#ffc75f', '#ff5e78')) +\n",
    "  scale_color_manual(values = c('#845ec2', '#ffc75f', '#ff5e78')) +\n",
    "  labs(x = 'cluster')\n",
    "\n",
    "grid.arrange(clust_age, clust_glu, clust_bmi, ncol = 3)"
   ]
  },
  {
   "cell_type": "markdown",
   "metadata": {},
   "source": [
    "* **cluster 1:** 나이의 중간값이 60세 이상으로 고령이고, 혈당 수치가 눈에 띄게 높으며, bmi 지수도 높은 축에 속함  \n",
    "* **cluster 2:** 나이의 중간값이 20세가 채 안 되고 60세가 넘는 사람이 없어 상대적으로 매우 어린 편이며 혈당 수치가 낮고, bmi 지수도 가장 낮음  \n",
    "* **cluster 3:** 나이는 cluster 1의 경우보다는 조금 어리지만 중간값이 50세 이상이고 나이대의 범위가 넓으며, 혈당 수치는 가장 낮고 bmi 지수는 cluster 1의 것보다는 조금 낮지만 마냥 낮다고는 볼 수 없음  \n",
    "  \n",
    "cluster 1의 경우가 뇌졸중의 위험이 가장 높아 예의 주시해야 하는 그룹, 혹은 뇌졸중을 일으킨 사람이 대거 포진된 그룹인 것으로 보이고, cluster 2가 가장 뇌졸중의 위험으로부터 먼 그룹, cluster 3은 보통의 경우로 약간의 경계가 필요한 그룹인 것으로 보인다."
   ]
  }
 ],
 "metadata": {
  "kernelspec": {
   "display_name": "R 4.0.3",
   "language": "R",
   "name": "ir403"
  },
  "language_info": {
   "codemirror_mode": "r",
   "file_extension": ".r",
   "mimetype": "text/x-r-source",
   "name": "R",
   "pygments_lexer": "r",
   "version": "4.0.3"
  }
 },
 "nbformat": 4,
 "nbformat_minor": 4
}
