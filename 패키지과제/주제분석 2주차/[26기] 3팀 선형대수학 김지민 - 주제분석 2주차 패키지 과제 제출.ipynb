{
 "cells": [
  {
   "cell_type": "markdown",
   "metadata": {},
   "source": [
    "# 주제분석 2주차 패키지 과제 - 3팀 선형대수학팀 김지민"
   ]
  },
  {
   "cell_type": "markdown",
   "metadata": {},
   "source": [
    " "
   ]
  },
  {
   "cell_type": "markdown",
   "metadata": {},
   "source": [
    " "
   ]
  },
  {
   "cell_type": "markdown",
   "metadata": {},
   "source": [
    " "
   ]
  },
  {
   "cell_type": "code",
   "execution_count": 1,
   "metadata": {},
   "outputs": [],
   "source": [
    "import pandas as pd\n",
    "import numpy as np"
   ]
  },
  {
   "cell_type": "markdown",
   "metadata": {},
   "source": [
    "## Chapter 1. 데이터 분할"
   ]
  },
  {
   "cell_type": "markdown",
   "metadata": {},
   "source": [
    "### 1.1 데이터 불러오기"
   ]
  },
  {
   "cell_type": "code",
   "execution_count": 2,
   "metadata": {},
   "outputs": [],
   "source": [
    "trainset = pd.read_csv('train.csv')\n",
    "testset = pd.read_csv('test.csv')"
   ]
  },
  {
   "cell_type": "markdown",
   "metadata": {},
   "source": [
    "### 1.2 X와 Y 분리"
   ]
  },
  {
   "cell_type": "code",
   "execution_count": 3,
   "metadata": {},
   "outputs": [],
   "source": [
    "trainset_x = trainset.drop('price', axis = 1)\n",
    "trainset_y = trainset[['price']]"
   ]
  },
  {
   "cell_type": "markdown",
   "metadata": {},
   "source": [
    "### 1.3 validation set 분할 - 첫번째"
   ]
  },
  {
   "cell_type": "code",
   "execution_count": 4,
   "metadata": {},
   "outputs": [],
   "source": [
    "from sklearn.model_selection import train_test_split"
   ]
  },
  {
   "cell_type": "code",
   "execution_count": 5,
   "metadata": {},
   "outputs": [],
   "source": [
    "x_train, x_val, y_train, y_val = train_test_split(trainset_x, trainset_y, test_size=0.2)"
   ]
  },
  {
   "cell_type": "markdown",
   "metadata": {},
   "source": [
    "### 1.4 질문"
   ]
  },
  {
   "cell_type": "markdown",
   "metadata": {},
   "source": [
    "train_test_split을 통해 데이터를 나눌 경우 데이터셋이 어떠한 기준 없이 완전하게 랜덤한 방식으로 나뉜다. 따라서 현재 해당 아파트가 거래된 날짜에 대해 연도 변수와 월 / 일을 삼각변환 처리한 변수가 존재하는데, 이들이 마구잡이로 섞이게 되어 시간에 따른 추세의 변화를 분석에 사용하기에 적합하지 못하게 된다. 또한 서로 다른 train set과 validation set이 여러 개 만들어져 성능 추정에 반복적으로 활용되는 것이 아니라 각각 하나의 train set, validation set에 대해 한 번의 성능 추정만 이루어지기에 해당 문제를 해소할 수도 없다."
   ]
  },
  {
   "cell_type": "markdown",
   "metadata": {},
   "source": [
    "### 1.5 validation set 분할 - 두번째"
   ]
  },
  {
   "cell_type": "code",
   "execution_count": 6,
   "metadata": {},
   "outputs": [],
   "source": [
    "train_x = trainset.loc[trainset['transaction_year'] != 4, trainset.columns != \"price\"]\n",
    "train_y = trainset.loc[trainset['transaction_year'] != 4, trainset.columns == \"price\"]\n",
    "validation_x = trainset.loc[trainset['transaction_year'] == 4, trainset.columns != \"price\"]\n",
    "validation_y = trainset.loc[trainset['transaction_year'] == 4, trainset.columns == \"price\"]"
   ]
  },
  {
   "cell_type": "markdown",
   "metadata": {},
   "source": [
    "### 1.5 캣부스트 인코딩 전에"
   ]
  },
  {
   "cell_type": "code",
   "execution_count": 7,
   "metadata": {},
   "outputs": [],
   "source": [
    "# ! pip install category_encoders\n",
    "from category_encoders.cat_boost import CatBoostEncoder"
   ]
  },
  {
   "cell_type": "markdown",
   "metadata": {},
   "source": [
    "### 1.6 캣부스트 인코딩"
   ]
  },
  {
   "cell_type": "code",
   "execution_count": 8,
   "metadata": {},
   "outputs": [],
   "source": [
    "cbe_encoder = CatBoostEncoder()\n",
    "  \n",
    "cbe_encoder.fit(train_x, train_y)\n",
    "val_cbe = cbe_encoder.transform(validation_x)"
   ]
  },
  {
   "cell_type": "code",
   "execution_count": 9,
   "metadata": {},
   "outputs": [
    {
     "data": {
      "text/html": [
       "<div>\n",
       "<style scoped>\n",
       "    .dataframe tbody tr th:only-of-type {\n",
       "        vertical-align: middle;\n",
       "    }\n",
       "\n",
       "    .dataframe tbody tr th {\n",
       "        vertical-align: top;\n",
       "    }\n",
       "\n",
       "    .dataframe thead th {\n",
       "        text-align: right;\n",
       "    }\n",
       "</style>\n",
       "<table border=\"1\" class=\"dataframe\">\n",
       "  <thead>\n",
       "    <tr style=\"text-align: right;\">\n",
       "      <th></th>\n",
       "      <th>dong</th>\n",
       "      <th>apt</th>\n",
       "      <th>exclusive_use_area</th>\n",
       "      <th>floor</th>\n",
       "      <th>transaction_year</th>\n",
       "      <th>until_trans</th>\n",
       "      <th>sin_date</th>\n",
       "      <th>cos_date</th>\n",
       "    </tr>\n",
       "  </thead>\n",
       "  <tbody>\n",
       "    <tr>\n",
       "      <th>2451</th>\n",
       "      <td>89176.597368</td>\n",
       "      <td>86280.203194</td>\n",
       "      <td>107.91</td>\n",
       "      <td>14</td>\n",
       "      <td>4</td>\n",
       "      <td>9</td>\n",
       "      <td>-1.000000e+00</td>\n",
       "      <td>-1.836970e-16</td>\n",
       "    </tr>\n",
       "    <tr>\n",
       "      <th>2452</th>\n",
       "      <td>89176.597368</td>\n",
       "      <td>86280.203194</td>\n",
       "      <td>151.81</td>\n",
       "      <td>10</td>\n",
       "      <td>4</td>\n",
       "      <td>9</td>\n",
       "      <td>-1.000000e+00</td>\n",
       "      <td>-1.836970e-16</td>\n",
       "    </tr>\n",
       "    <tr>\n",
       "      <th>2453</th>\n",
       "      <td>89176.597368</td>\n",
       "      <td>86280.203194</td>\n",
       "      <td>94.51</td>\n",
       "      <td>2</td>\n",
       "      <td>4</td>\n",
       "      <td>9</td>\n",
       "      <td>-2.449294e-16</td>\n",
       "      <td>1.000000e+00</td>\n",
       "    </tr>\n",
       "    <tr>\n",
       "      <th>2454</th>\n",
       "      <td>89176.597368</td>\n",
       "      <td>86280.203194</td>\n",
       "      <td>94.28</td>\n",
       "      <td>12</td>\n",
       "      <td>4</td>\n",
       "      <td>9</td>\n",
       "      <td>-2.449294e-16</td>\n",
       "      <td>1.000000e+00</td>\n",
       "    </tr>\n",
       "    <tr>\n",
       "      <th>2455</th>\n",
       "      <td>103789.156533</td>\n",
       "      <td>107170.755379</td>\n",
       "      <td>145.96</td>\n",
       "      <td>13</td>\n",
       "      <td>4</td>\n",
       "      <td>13</td>\n",
       "      <td>-1.000000e+00</td>\n",
       "      <td>-1.836970e-16</td>\n",
       "    </tr>\n",
       "  </tbody>\n",
       "</table>\n",
       "</div>"
      ],
      "text/plain": [
       "               dong            apt  exclusive_use_area  floor  \\\n",
       "2451   89176.597368   86280.203194              107.91     14   \n",
       "2452   89176.597368   86280.203194              151.81     10   \n",
       "2453   89176.597368   86280.203194               94.51      2   \n",
       "2454   89176.597368   86280.203194               94.28     12   \n",
       "2455  103789.156533  107170.755379              145.96     13   \n",
       "\n",
       "      transaction_year  until_trans      sin_date      cos_date  \n",
       "2451                 4            9 -1.000000e+00 -1.836970e-16  \n",
       "2452                 4            9 -1.000000e+00 -1.836970e-16  \n",
       "2453                 4            9 -2.449294e-16  1.000000e+00  \n",
       "2454                 4            9 -2.449294e-16  1.000000e+00  \n",
       "2455                 4           13 -1.000000e+00 -1.836970e-16  "
      ]
     },
     "execution_count": 9,
     "metadata": {},
     "output_type": "execute_result"
    }
   ],
   "source": [
    "val_cbe.head()"
   ]
  },
  {
   "cell_type": "markdown",
   "metadata": {},
   "source": [
    " "
   ]
  },
  {
   "cell_type": "markdown",
   "metadata": {},
   "source": [
    " "
   ]
  },
  {
   "cell_type": "markdown",
   "metadata": {},
   "source": [
    " "
   ]
  },
  {
   "cell_type": "markdown",
   "metadata": {},
   "source": [
    "## Chapter 2. 릿지 회귀 (Ridge Regression)"
   ]
  },
  {
   "cell_type": "markdown",
   "metadata": {},
   "source": [
    "### 2.1 상관계수 플랏"
   ]
  },
  {
   "cell_type": "code",
   "execution_count": 10,
   "metadata": {},
   "outputs": [],
   "source": [
    "import matplotlib.pyplot as plt\n",
    "import seaborn as sns "
   ]
  },
  {
   "cell_type": "code",
   "execution_count": 11,
   "metadata": {},
   "outputs": [],
   "source": [
    "train_cbe = cbe_encoder.transform(train_x)"
   ]
  },
  {
   "cell_type": "code",
   "execution_count": 12,
   "metadata": {},
   "outputs": [
    {
     "data": {
      "text/plain": [
       "<AxesSubplot:>"
      ]
     },
     "execution_count": 12,
     "metadata": {},
     "output_type": "execute_result"
    },
    {
     "data": {
      "image/png": "[encoded data removed]",
      "text/plain": [
       "<Figure size 360x360 with 2 Axes>"
      ]
     },
     "metadata": {
      "needs_background": "light"
     },
     "output_type": "display_data"
    }
   ],
   "source": [
    "plt.figure(figsize=(5,5))\n",
    "\n",
    "mask = np.zeros_like(train_cbe.corr(), dtype = np.bool)\n",
    "mask[np.triu_indices_from(mask)] = True\n",
    "sns.heatmap(data = train_cbe.corr(), annot = True, fmt = '.2f', linewidths = .5, cmap = 'Purples', mask = mask)"
   ]
  },
  {
   "cell_type": "markdown",
   "metadata": {},
   "source": [
    "상관계수 플랏을 그린 결과,  \n",
    "'apt'와 'dong', 'apt'와 'exclusive_use_area'가 상당히 강한 양의 상관관계를, 'exclusive_use_area'와 'dong'이 양의 상관관계를, 'floor'가 'dong', 'apt', 'exclusive_use_area'와 매우 약한 양의 상관관계를, 'until_trans'는 'dong'과 'transaction_year'와는 매우 약한 양의 상관관계, 'apt', 'exclusive_use_area', 'floor'와는 매우 약한 음의 상관관계를 가지는 것으로 나타났다. 나머지 변수들은 변수들 간에 상관관계가 아예 없거나 없다고 보아도 무방할 정도의 약한 상관관계를 가지고 있었다. 릿지 회귀는 변수 간 상관관계가 높아도 좋은 성능을 보이기에 현 데이터셋에 대해 원활히 작동할 것으로 보인다."
   ]
  },
  {
   "cell_type": "markdown",
   "metadata": {},
   "source": [
    "### 2.2 해석과 무관하게 일단 릿지 튜닝"
   ]
  },
  {
   "cell_type": "code",
   "execution_count": 13,
   "metadata": {},
   "outputs": [],
   "source": [
    "from sklearn.linear_model import Ridge\n",
    "from sklearn.metrics import mean_squared_error\n",
    "from math import sqrt"
   ]
  },
  {
   "cell_type": "code",
   "execution_count": 14,
   "metadata": {},
   "outputs": [],
   "source": [
    "alphas = np.array([0.00001, 0.0001, 0.001, 0.01, 0.1])"
   ]
  },
  {
   "cell_type": "code",
   "execution_count": 15,
   "metadata": {},
   "outputs": [],
   "source": [
    "# 튜닝 결과 담을 데이터프레임\n",
    "rdg_tuning = pd.DataFrame(index = range(0,5), columns = ['alpha', 'RMSE'])\n",
    "rdg_tuning['alpha'] = alphas"
   ]
  },
  {
   "cell_type": "code",
   "execution_count": 16,
   "metadata": {},
   "outputs": [],
   "source": [
    "for i in range(0,5):\n",
    "    rdg = Ridge(alpha = alphas[i])\n",
    "    rdg.fit(train_cbe, train_y)\n",
    "    pred = rdg.predict(val_cbe)\n",
    "    \n",
    "    rdg_tuning.iloc[i,1] = sqrt(mean_squared_error(validation_y, pred))"
   ]
  },
  {
   "cell_type": "code",
   "execution_count": 17,
   "metadata": {},
   "outputs": [
    {
     "data": {
      "text/html": [
       "<div>\n",
       "<style scoped>\n",
       "    .dataframe tbody tr th:only-of-type {\n",
       "        vertical-align: middle;\n",
       "    }\n",
       "\n",
       "    .dataframe tbody tr th {\n",
       "        vertical-align: top;\n",
       "    }\n",
       "\n",
       "    .dataframe thead th {\n",
       "        text-align: right;\n",
       "    }\n",
       "</style>\n",
       "<table border=\"1\" class=\"dataframe\">\n",
       "  <thead>\n",
       "    <tr style=\"text-align: right;\">\n",
       "      <th></th>\n",
       "      <th>alpha</th>\n",
       "      <th>RMSE</th>\n",
       "    </tr>\n",
       "  </thead>\n",
       "  <tbody>\n",
       "    <tr>\n",
       "      <th>0</th>\n",
       "      <td>0.00001000</td>\n",
       "      <td>15377.97765908</td>\n",
       "    </tr>\n",
       "    <tr>\n",
       "      <th>1</th>\n",
       "      <td>0.00010000</td>\n",
       "      <td>15377.97765926</td>\n",
       "    </tr>\n",
       "    <tr>\n",
       "      <th>2</th>\n",
       "      <td>0.00100000</td>\n",
       "      <td>15377.97766103</td>\n",
       "    </tr>\n",
       "    <tr>\n",
       "      <th>3</th>\n",
       "      <td>0.01000000</td>\n",
       "      <td>15377.97767870</td>\n",
       "    </tr>\n",
       "    <tr>\n",
       "      <th>4</th>\n",
       "      <td>0.10000000</td>\n",
       "      <td>15377.97785546</td>\n",
       "    </tr>\n",
       "  </tbody>\n",
       "</table>\n",
       "</div>"
      ],
      "text/plain": [
       "       alpha           RMSE\n",
       "0 0.00001000 15377.97765908\n",
       "1 0.00010000 15377.97765926\n",
       "2 0.00100000 15377.97766103\n",
       "3 0.01000000 15377.97767870\n",
       "4 0.10000000 15377.97785546"
      ]
     },
     "execution_count": 17,
     "metadata": {},
     "output_type": "execute_result"
    }
   ],
   "source": [
    "pd.options.display.float_format = '{:.8f}'.format\n",
    "rdg_tuning"
   ]
  },
  {
   "cell_type": "markdown",
   "metadata": {},
   "source": [
    "### 2.3 튜닝결과 시각화"
   ]
  },
  {
   "cell_type": "code",
   "execution_count": 18,
   "metadata": {},
   "outputs": [
    {
     "data": {
      "text/plain": [
       "<AxesSubplot:xlabel='alpha', ylabel='RMSE'>"
      ]
     },
     "execution_count": 18,
     "metadata": {},
     "output_type": "execute_result"
    },
    {
     "data": {
      "image/png": "[encoded data removed]",
      "text/plain": [
       "<Figure size 432x288 with 1 Axes>"
      ]
     },
     "metadata": {
      "needs_background": "light"
     },
     "output_type": "display_data"
    }
   ],
   "source": [
    "sns.barplot(data = rdg_tuning, x = \"alpha\", y = \"RMSE\", palette = \"YlOrBr\")"
   ]
  },
  {
   "cell_type": "markdown",
   "metadata": {},
   "source": [
    "### 2.4 해석"
   ]
  },
  {
   "cell_type": "markdown",
   "metadata": {},
   "source": [
    "릿지 튜닝 결과 현 상황에서의 릿지 회귀는 alpha의 값에 크게 상관 없이 비등비등한 성능을 가지는 것으로 나타났다. 그러나 그중에서는 가장 성능이 좋았던 것은 0.00001, 좋지 않았던 것은 0.1로 나타나 강한 페널티를 줄수록 성능이 약해진 것으로 보인다. 하지만 RMSE의 값이 모두 매우 크며 서로 유사하므로 튜닝이 잘 되지는 않았다고 할 수 있겠다. 애초에 변수들끼리 강한 상관관계를 가졌던 경우가 드물었는데, 릿지 회귀는 가중치를 아예 0으로 만드는 것이 아니라 그 절댓값이 0에 최대한 가까이 가게끔 할 뿐이기에 alpha값에 따른 결과에의 차이가 매우 작았던 것으로 생각된다."
   ]
  },
  {
   "cell_type": "markdown",
   "metadata": {},
   "source": [
    "### 2.5 그냥 선형 모형으로!"
   ]
  },
  {
   "cell_type": "code",
   "execution_count": 19,
   "metadata": {},
   "outputs": [],
   "source": [
    "from sklearn.linear_model import LinearRegression"
   ]
  },
  {
   "cell_type": "code",
   "execution_count": 20,
   "metadata": {},
   "outputs": [
    {
     "data": {
      "text/plain": [
       "15377.977659062773"
      ]
     },
     "execution_count": 20,
     "metadata": {},
     "output_type": "execute_result"
    }
   ],
   "source": [
    "lr = LinearRegression()\n",
    "lr.fit(train_cbe, train_y)\n",
    "lr_pred = lr.predict(val_cbe)\n",
    "sqrt(mean_squared_error(validation_y, lr_pred)) #RMSE"
   ]
  },
  {
   "cell_type": "markdown",
   "metadata": {},
   "source": [
    "validation rmse의 측면에서 보았을 때 매우 근소한 차이로 linear regression이 더 좋은 성능을 보였으므로 선형 회귀 모형을 사용하는 쪽이 좋을 것으로 보인다."
   ]
  },
  {
   "cell_type": "markdown",
   "metadata": {},
   "source": [
    " "
   ]
  },
  {
   "cell_type": "markdown",
   "metadata": {},
   "source": [
    " "
   ]
  },
  {
   "cell_type": "markdown",
   "metadata": {},
   "source": [
    " "
   ]
  },
  {
   "cell_type": "markdown",
   "metadata": {},
   "source": [
    "## Chapter 3. LightGBM"
   ]
  },
  {
   "cell_type": "code",
   "execution_count": 21,
   "metadata": {},
   "outputs": [],
   "source": [
    "#! pip install lightgbm"
   ]
  },
  {
   "cell_type": "markdown",
   "metadata": {},
   "source": [
    "### 3.1 LightGBM 이해"
   ]
  },
  {
   "cell_type": "markdown",
   "metadata": {},
   "source": [
    "LGBM은 2016년 Microsoft에 의해 개발된 GBM계열 알고리즘이다. 특징적인 것은 LGBM은 여타 모델과는 달리 분기가 수직적으로 이루어져 비대칭적 트리를 생성하기에 트리의 균형을 맞추기 위한 연산이 불필요하고, 히스토그램에 대한 관측 결과 계산된 근사치로 분할을 수행하기에 split point를 찾는 데에 쓰이는 연산도 불필요하다. 따라서 다른 모델들에 비해 속도도 빠르고 메모리도 적게 차지하며 그와 동시에 성능도 좋다는 여러 장점을 가지고 있다. 그러나 데이터셋의 크기가 작을 때엔 overfitting에 취약하다는 단점이 있다."
   ]
  },
  {
   "cell_type": "markdown",
   "metadata": {},
   "source": [
    "### 3.2 LGBM 튜닝"
   ]
  },
  {
   "cell_type": "code",
   "execution_count": 22,
   "metadata": {},
   "outputs": [],
   "source": [
    "import lightgbm as lgb\n",
    "from lightgbm import LGBMModel,LGBMRegressor"
   ]
  },
  {
   "cell_type": "code",
   "execution_count": 23,
   "metadata": {},
   "outputs": [],
   "source": [
    "learning_rates = np.array([0.01, 0.05, 0.1, 0.3, 0.5, 0.7, 0.99])\n",
    "\n",
    "# 튜닝 결과 담을 데이터프레임\n",
    "lgbm_tuning = pd.DataFrame(index = range(0,7), columns = ['learning rate', 'RMSE'])\n",
    "lgbm_tuning['learning rate'] = learning_rates"
   ]
  },
  {
   "cell_type": "code",
   "execution_count": 24,
   "metadata": {},
   "outputs": [],
   "source": [
    "for i in range(0,7):\n",
    "    lgbm = LGBMRegressor(learning_rate = learning_rates[i])\n",
    "    lgbm.fit(train_cbe, train_y)\n",
    "    lgbm_pred = lgbm.predict(val_cbe)\n",
    "    \n",
    "    lgbm_tuning.iloc[i,1] = sqrt(mean_squared_error(validation_y, lgbm_pred))"
   ]
  },
  {
   "cell_type": "code",
   "execution_count": 25,
   "metadata": {},
   "outputs": [
    {
     "data": {
      "text/html": [
       "<div>\n",
       "<style scoped>\n",
       "    .dataframe tbody tr th:only-of-type {\n",
       "        vertical-align: middle;\n",
       "    }\n",
       "\n",
       "    .dataframe tbody tr th {\n",
       "        vertical-align: top;\n",
       "    }\n",
       "\n",
       "    .dataframe thead th {\n",
       "        text-align: right;\n",
       "    }\n",
       "</style>\n",
       "<table border=\"1\" class=\"dataframe\">\n",
       "  <thead>\n",
       "    <tr style=\"text-align: right;\">\n",
       "      <th></th>\n",
       "      <th>learning rate</th>\n",
       "      <th>RMSE</th>\n",
       "    </tr>\n",
       "  </thead>\n",
       "  <tbody>\n",
       "    <tr>\n",
       "      <th>0</th>\n",
       "      <td>0.01000000</td>\n",
       "      <td>20688.40132582</td>\n",
       "    </tr>\n",
       "    <tr>\n",
       "      <th>1</th>\n",
       "      <td>0.05000000</td>\n",
       "      <td>11209.65102700</td>\n",
       "    </tr>\n",
       "    <tr>\n",
       "      <th>2</th>\n",
       "      <td>0.10000000</td>\n",
       "      <td>10340.97469046</td>\n",
       "    </tr>\n",
       "    <tr>\n",
       "      <th>3</th>\n",
       "      <td>0.30000000</td>\n",
       "      <td>9725.42511357</td>\n",
       "    </tr>\n",
       "    <tr>\n",
       "      <th>4</th>\n",
       "      <td>0.50000000</td>\n",
       "      <td>9431.09437152</td>\n",
       "    </tr>\n",
       "    <tr>\n",
       "      <th>5</th>\n",
       "      <td>0.70000000</td>\n",
       "      <td>9726.41421830</td>\n",
       "    </tr>\n",
       "    <tr>\n",
       "      <th>6</th>\n",
       "      <td>0.99000000</td>\n",
       "      <td>10501.17737223</td>\n",
       "    </tr>\n",
       "  </tbody>\n",
       "</table>\n",
       "</div>"
      ],
      "text/plain": [
       "   learning rate           RMSE\n",
       "0     0.01000000 20688.40132582\n",
       "1     0.05000000 11209.65102700\n",
       "2     0.10000000 10340.97469046\n",
       "3     0.30000000  9725.42511357\n",
       "4     0.50000000  9431.09437152\n",
       "5     0.70000000  9726.41421830\n",
       "6     0.99000000 10501.17737223"
      ]
     },
     "execution_count": 25,
     "metadata": {},
     "output_type": "execute_result"
    }
   ],
   "source": [
    "lgbm_tuning"
   ]
  },
  {
   "cell_type": "markdown",
   "metadata": {},
   "source": [
    "### 3.3 튜닝결과 시각화"
   ]
  },
  {
   "cell_type": "code",
   "execution_count": 26,
   "metadata": {},
   "outputs": [
    {
     "data": {
      "text/plain": [
       "<AxesSubplot:xlabel='learning rate', ylabel='RMSE'>"
      ]
     },
     "execution_count": 26,
     "metadata": {},
     "output_type": "execute_result"
    },
    {
     "data": {
      "image/png": "[encoded data removed]",
      "text/plain": [
       "<Figure size 432x288 with 1 Axes>"
      ]
     },
     "metadata": {
      "needs_background": "light"
     },
     "output_type": "display_data"
    }
   ],
   "source": [
    "sns.barplot(data = lgbm_tuning, x = \"learning rate\", y = \"RMSE\", palette = \"YlGn\")"
   ]
  },
  {
   "cell_type": "markdown",
   "metadata": {},
   "source": [
    "learning rate을 0.01에 이어 0.05로 두었을 때 급격히 RMSE가 감소했으며, 0.5로 학습되었을 때 LGBM의 성능이 가장 좋았다."
   ]
  },
  {
   "cell_type": "markdown",
   "metadata": {},
   "source": [
    "### 3.4 튜닝에 대하여 알아보자"
   ]
  },
  {
   "cell_type": "markdown",
   "metadata": {},
   "source": [
    "#### 1. 그리드 서치(Grid Search)  \n",
    "그리드 서치는 정하고자 하는 하이퍼 파라미터에 넣을 수 있는 값들을 전부 순차적으로 입력하여 가장 높은 성능을 보이는 하이퍼 파라미터를 찾는 탐색 방법이다. 고려하고자 하는 모든 경우의 수를 평가해볼 수 있다는 장점이 있지만, 그렇기에 굉장히 많은 시간이 소요되고 중요하지 않은 하이퍼 파라미터까지 전부 탐색해 비효율적이라는 단점이 있다.\n",
    "  \n",
    "#### 2. Random Search  \n",
    "랜덤 서치는 이름처럼 하이퍼 파라미터 값을 '랜덤하게' 넣어 가장 우수한 성능을 보이는 하이퍼 파라미터를 선택해 모델을 짓는 방법이다. 정해진 범위 내에서 확률적으로 난수를 생성해 매개변수 조합을 선택하고 이를 모델의 하이퍼 파라미터로 넣기에 소요되는 시간도 적고, 그와 동시에 중요한 하이퍼 파라미터를 더 많이 탐색하여 성능도 그리드 서치에 비해 더 좋다. 하지만 다음 번에 넣어볼 하이퍼 파라미터 조합을 고를 때 이전 테스트 결과를 전혀 반영하지 않기 때문에 여전히 약간의 불필요한 탐색을 반복하는 경향이 있다.    \n",
    "  \n",
    "#### 3. Bayesian Optimization  \n",
    "Bayesian Optimization은 앞서 알아본 두 방법과는 달리 미지의 목적 함수 f(x)를 지정하고 그 함숫값을 최대로 만드는 최적해를 찾는 것을 목적으로 한다. 즉 목적 함수 f와 하이퍼 파라미터 조합을 대상으로 대체 모델을 만들고, 평가를 거듭해 이를 업데이트해가며 최적의 하이퍼 파라미터 조합을 탐색하는 것이다. 이때 대체 모델이 f에 대해 확률적으로 추정한 결과를 바탕으로 다음 번에 탐색해볼 하이퍼 파라미터 조합을 추천해주는 함수인 acquisition function이 쓰인다. 이 방법은 이전의 테스트 결과를 반영하여 추출 범위를 좁히기 때문에 효율적 시행을 도모할 수 있어 시간 대비 성능이 훌륭하지만, 검색 공간의 차원을 높이려면 더 많은 샘플을 필요로 한다."
   ]
  },
  {
   "cell_type": "markdown",
   "metadata": {},
   "source": [
    " "
   ]
  },
  {
   "cell_type": "markdown",
   "metadata": {},
   "source": [
    " "
   ]
  },
  {
   "cell_type": "markdown",
   "metadata": {},
   "source": [
    " "
   ]
  },
  {
   "cell_type": "markdown",
   "metadata": {},
   "source": [
    "## Chapter 4. Test Set"
   ]
  },
  {
   "cell_type": "markdown",
   "metadata": {},
   "source": [
    "### 4.1 test set 불러오기"
   ]
  },
  {
   "cell_type": "code",
   "execution_count": 27,
   "metadata": {},
   "outputs": [],
   "source": [
    "testset_x = testset.drop('price', axis = 1)\n",
    "testset_y = testset[['price']]"
   ]
  },
  {
   "cell_type": "markdown",
   "metadata": {},
   "source": [
    "### 4.2 캣부스트 인코딩"
   ]
  },
  {
   "cell_type": "code",
   "execution_count": 28,
   "metadata": {},
   "outputs": [],
   "source": [
    "cbe_encoder.fit(trainset_x, trainset_y)\n",
    "trainset_cbe = cbe_encoder.transform(trainset_x)\n",
    "testset_cbe = cbe_encoder.transform(testset_x)"
   ]
  },
  {
   "cell_type": "markdown",
   "metadata": {},
   "source": [
    "### 4.3 최적의 파라미터 적합"
   ]
  },
  {
   "cell_type": "code",
   "execution_count": 29,
   "metadata": {},
   "outputs": [
    {
     "data": {
      "text/plain": [
       "LinearRegression()"
      ]
     },
     "execution_count": 29,
     "metadata": {},
     "output_type": "execute_result"
    }
   ],
   "source": [
    "# Linear Regression fit\n",
    "lr = LinearRegression()\n",
    "lr.fit(trainset_cbe, trainset_y)"
   ]
  },
  {
   "cell_type": "code",
   "execution_count": 30,
   "metadata": {},
   "outputs": [
    {
     "data": {
      "text/plain": [
       "LGBMRegressor(learning_rate=0.5)"
      ]
     },
     "execution_count": 30,
     "metadata": {},
     "output_type": "execute_result"
    }
   ],
   "source": [
    "# LGBM fit\n",
    "lgbm = LGBMRegressor(learning_rate = 0.5)\n",
    "lgbm.fit(trainset_cbe, trainset_y)"
   ]
  },
  {
   "cell_type": "markdown",
   "metadata": {},
   "source": [
    "### 4.4 test set에 대해 평가"
   ]
  },
  {
   "cell_type": "code",
   "execution_count": 31,
   "metadata": {},
   "outputs": [
    {
     "data": {
      "text/plain": [
       "17721.880605156573"
      ]
     },
     "execution_count": 31,
     "metadata": {},
     "output_type": "execute_result"
    }
   ],
   "source": [
    "# Linear Regression evaluation\n",
    "lr_pred = lr.predict(testset_cbe)\n",
    "sqrt(mean_squared_error(testset_y, lr_pred))"
   ]
  },
  {
   "cell_type": "code",
   "execution_count": 32,
   "metadata": {},
   "outputs": [
    {
     "data": {
      "text/plain": [
       "11909.118492076514"
      ]
     },
     "execution_count": 32,
     "metadata": {},
     "output_type": "execute_result"
    }
   ],
   "source": [
    "# LGBM evaluation\n",
    "lgbm_pred = lgbm.predict(testset_cbe)\n",
    "sqrt(mean_squared_error(testset_y, lgbm_pred))"
   ]
  },
  {
   "cell_type": "markdown",
   "metadata": {},
   "source": [
    "두 모델을 test set에 대해 평가한 결과, LGBM의 성능이 RMSE의 측면에서 훨씬 좋은 것으로 나타났다."
   ]
  }
 ],
 "metadata": {
  "kernelspec": {
   "display_name": "Python 3",
   "language": "python",
   "name": "python3"
  },
  "language_info": {
   "codemirror_mode": {
    "name": "ipython",
    "version": 3
   },
   "file_extension": ".py",
   "mimetype": "text/x-python",
   "name": "python",
   "nbconvert_exporter": "python",
   "pygments_lexer": "ipython3",
   "version": "3.8.5"
  }
 },
 "nbformat": 4,
 "nbformat_minor": 4
}
