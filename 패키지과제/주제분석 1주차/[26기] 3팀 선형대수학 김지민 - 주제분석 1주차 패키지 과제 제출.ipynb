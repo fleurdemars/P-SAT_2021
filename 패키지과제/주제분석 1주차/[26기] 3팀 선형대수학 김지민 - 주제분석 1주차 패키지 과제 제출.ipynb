{
 "cells": [
  {
   "cell_type": "markdown",
   "metadata": {},
   "source": [
    "# 주제분석 1주차 패키지 과제 - 3팀 선형대수학팀 김지민"
   ]
  },
  {
   "cell_type": "markdown",
   "metadata": {},
   "source": [
    " "
   ]
  },
  {
   "cell_type": "markdown",
   "metadata": {},
   "source": [
    " "
   ]
  },
  {
   "cell_type": "markdown",
   "metadata": {},
   "source": [
    " "
   ]
  },
  {
   "cell_type": "markdown",
   "metadata": {},
   "source": [
    "## 0.3 본격적인 시작 전에"
   ]
  },
  {
   "cell_type": "code",
   "execution_count": 1,
   "metadata": {},
   "outputs": [],
   "source": [
    "import numpy as np\n",
    "import pandas as pd"
   ]
  },
  {
   "cell_type": "markdown",
   "metadata": {},
   "source": [
    " "
   ]
  },
  {
   "cell_type": "markdown",
   "metadata": {},
   "source": [
    " "
   ]
  },
  {
   "cell_type": "markdown",
   "metadata": {},
   "source": [
    " "
   ]
  },
  {
   "cell_type": "markdown",
   "metadata": {},
   "source": [
    "## Chapter 1. 데이터 전처리"
   ]
  },
  {
   "cell_type": "markdown",
   "metadata": {},
   "source": [
    "### 1.1 데이터 불러오기"
   ]
  },
  {
   "cell_type": "code",
   "execution_count": 2,
   "metadata": {},
   "outputs": [],
   "source": [
    "data = pd.read_csv('data.csv')"
   ]
  },
  {
   "cell_type": "markdown",
   "metadata": {},
   "source": [
    "### 1.2 데이터 확인"
   ]
  },
  {
   "cell_type": "code",
   "execution_count": 3,
   "metadata": {},
   "outputs": [
    {
     "data": {
      "text/plain": [
       "(1216553, 13)"
      ]
     },
     "execution_count": 3,
     "metadata": {},
     "output_type": "execute_result"
    }
   ],
   "source": [
    "data.shape"
   ]
  },
  {
   "cell_type": "markdown",
   "metadata": {},
   "source": [
    "행 1,216,553개, 열 13개의 데이터이다."
   ]
  },
  {
   "cell_type": "code",
   "execution_count": 4,
   "metadata": {},
   "outputs": [
    {
     "data": {
      "text/html": [
       "<div>\n",
       "<style scoped>\n",
       "    .dataframe tbody tr th:only-of-type {\n",
       "        vertical-align: middle;\n",
       "    }\n",
       "\n",
       "    .dataframe tbody tr th {\n",
       "        vertical-align: top;\n",
       "    }\n",
       "\n",
       "    .dataframe thead th {\n",
       "        text-align: right;\n",
       "    }\n",
       "</style>\n",
       "<table border=\"1\" class=\"dataframe\">\n",
       "  <thead>\n",
       "    <tr style=\"text-align: right;\">\n",
       "      <th></th>\n",
       "      <th>transaction_id</th>\n",
       "      <th>apartment_id</th>\n",
       "      <th>city</th>\n",
       "      <th>dong</th>\n",
       "      <th>jibun</th>\n",
       "      <th>apt</th>\n",
       "      <th>addr_kr</th>\n",
       "      <th>exclusive_use_area</th>\n",
       "      <th>year_of_completion</th>\n",
       "      <th>transaction_year_month</th>\n",
       "      <th>transaction_date</th>\n",
       "      <th>floor</th>\n",
       "      <th>transaction_real_price</th>\n",
       "    </tr>\n",
       "  </thead>\n",
       "  <tbody>\n",
       "    <tr>\n",
       "      <th>0</th>\n",
       "      <td>0</td>\n",
       "      <td>7622</td>\n",
       "      <td>서울특별시</td>\n",
       "      <td>신교동</td>\n",
       "      <td>6-13</td>\n",
       "      <td>신현(101동)</td>\n",
       "      <td>신교동 6-13 신현(101동)</td>\n",
       "      <td>84.82</td>\n",
       "      <td>2002</td>\n",
       "      <td>200801</td>\n",
       "      <td>21~31</td>\n",
       "      <td>2</td>\n",
       "      <td>37500</td>\n",
       "    </tr>\n",
       "    <tr>\n",
       "      <th>1</th>\n",
       "      <td>1</td>\n",
       "      <td>5399</td>\n",
       "      <td>서울특별시</td>\n",
       "      <td>필운동</td>\n",
       "      <td>142</td>\n",
       "      <td>사직파크맨션</td>\n",
       "      <td>필운동 142 사직파크맨션</td>\n",
       "      <td>99.17</td>\n",
       "      <td>1973</td>\n",
       "      <td>200801</td>\n",
       "      <td>1~10</td>\n",
       "      <td>6</td>\n",
       "      <td>20000</td>\n",
       "    </tr>\n",
       "    <tr>\n",
       "      <th>2</th>\n",
       "      <td>2</td>\n",
       "      <td>3578</td>\n",
       "      <td>서울특별시</td>\n",
       "      <td>필운동</td>\n",
       "      <td>174-1</td>\n",
       "      <td>두레엘리시안</td>\n",
       "      <td>필운동 174-1 두레엘리시안</td>\n",
       "      <td>84.74</td>\n",
       "      <td>2007</td>\n",
       "      <td>200801</td>\n",
       "      <td>1~10</td>\n",
       "      <td>6</td>\n",
       "      <td>38500</td>\n",
       "    </tr>\n",
       "    <tr>\n",
       "      <th>3</th>\n",
       "      <td>3</td>\n",
       "      <td>10957</td>\n",
       "      <td>서울특별시</td>\n",
       "      <td>내수동</td>\n",
       "      <td>95</td>\n",
       "      <td>파크팰리스</td>\n",
       "      <td>내수동 95 파크팰리스</td>\n",
       "      <td>146.39</td>\n",
       "      <td>2003</td>\n",
       "      <td>200801</td>\n",
       "      <td>11~20</td>\n",
       "      <td>15</td>\n",
       "      <td>118000</td>\n",
       "    </tr>\n",
       "    <tr>\n",
       "      <th>4</th>\n",
       "      <td>4</td>\n",
       "      <td>10639</td>\n",
       "      <td>서울특별시</td>\n",
       "      <td>내수동</td>\n",
       "      <td>110-15</td>\n",
       "      <td>킹스매너</td>\n",
       "      <td>내수동 110-15 킹스매너</td>\n",
       "      <td>194.43</td>\n",
       "      <td>2004</td>\n",
       "      <td>200801</td>\n",
       "      <td>21~31</td>\n",
       "      <td>3</td>\n",
       "      <td>120000</td>\n",
       "    </tr>\n",
       "  </tbody>\n",
       "</table>\n",
       "</div>"
      ],
      "text/plain": [
       "   transaction_id  apartment_id   city dong   jibun       apt  \\\n",
       "0               0          7622  서울특별시  신교동    6-13  신현(101동)   \n",
       "1               1          5399  서울특별시  필운동     142    사직파크맨션   \n",
       "2               2          3578  서울특별시  필운동   174-1    두레엘리시안   \n",
       "3               3         10957  서울특별시  내수동      95     파크팰리스   \n",
       "4               4         10639  서울특별시  내수동  110-15      킹스매너   \n",
       "\n",
       "             addr_kr  exclusive_use_area  year_of_completion  \\\n",
       "0  신교동 6-13 신현(101동)               84.82                2002   \n",
       "1     필운동 142 사직파크맨션               99.17                1973   \n",
       "2   필운동 174-1 두레엘리시안               84.74                2007   \n",
       "3       내수동 95 파크팰리스              146.39                2003   \n",
       "4    내수동 110-15 킹스매너              194.43                2004   \n",
       "\n",
       "   transaction_year_month transaction_date  floor  transaction_real_price  \n",
       "0                  200801            21~31      2                   37500  \n",
       "1                  200801             1~10      6                   20000  \n",
       "2                  200801             1~10      6                   38500  \n",
       "3                  200801            11~20     15                  118000  \n",
       "4                  200801            21~31      3                  120000  "
      ]
     },
     "execution_count": 4,
     "metadata": {},
     "output_type": "execute_result"
    }
   ],
   "source": [
    "# 데이터 생김새 확인\n",
    "data.head()"
   ]
  },
  {
   "cell_type": "code",
   "execution_count": 5,
   "metadata": {},
   "outputs": [
    {
     "name": "stdout",
     "output_type": "stream",
     "text": [
      "<class 'pandas.core.frame.DataFrame'>\n",
      "RangeIndex: 1216553 entries, 0 to 1216552\n",
      "Data columns (total 13 columns):\n",
      " #   Column                  Non-Null Count    Dtype  \n",
      "---  ------                  --------------    -----  \n",
      " 0   transaction_id          1216553 non-null  int64  \n",
      " 1   apartment_id            1216553 non-null  int64  \n",
      " 2   city                    1216553 non-null  object \n",
      " 3   dong                    1216553 non-null  object \n",
      " 4   jibun                   1216553 non-null  object \n",
      " 5   apt                     1216553 non-null  object \n",
      " 6   addr_kr                 1216553 non-null  object \n",
      " 7   exclusive_use_area      1216553 non-null  float64\n",
      " 8   year_of_completion      1216553 non-null  int64  \n",
      " 9   transaction_year_month  1216553 non-null  int64  \n",
      " 10  transaction_date        1216553 non-null  object \n",
      " 11  floor                   1216553 non-null  int64  \n",
      " 12  transaction_real_price  1216553 non-null  int64  \n",
      "dtypes: float64(1), int64(6), object(6)\n",
      "memory usage: 120.7+ MB\n"
     ]
    }
   ],
   "source": [
    "data.info()"
   ]
  },
  {
   "cell_type": "code",
   "execution_count": 6,
   "metadata": {},
   "outputs": [
    {
     "data": {
      "text/plain": [
       "transaction_id            0\n",
       "apartment_id              0\n",
       "city                      0\n",
       "dong                      0\n",
       "jibun                     0\n",
       "apt                       0\n",
       "addr_kr                   0\n",
       "exclusive_use_area        0\n",
       "year_of_completion        0\n",
       "transaction_year_month    0\n",
       "transaction_date          0\n",
       "floor                     0\n",
       "transaction_real_price    0\n",
       "dtype: int64"
      ]
     },
     "execution_count": 6,
     "metadata": {},
     "output_type": "execute_result"
    }
   ],
   "source": [
    "# 결측치 확인\n",
    "data.isnull().sum()"
   ]
  },
  {
   "cell_type": "markdown",
   "metadata": {},
   "source": [
    "결측값은 없다."
   ]
  },
  {
   "cell_type": "markdown",
   "metadata": {},
   "source": [
    "### 1.3 불필요한 행 삭제 (reset index)"
   ]
  },
  {
   "cell_type": "code",
   "execution_count": 7,
   "metadata": {},
   "outputs": [],
   "source": [
    "data = data[data['city'] == '서울특별시']\n",
    "data.reset_index(drop = True, inplace = True)"
   ]
  },
  {
   "cell_type": "code",
   "execution_count": 8,
   "metadata": {},
   "outputs": [
    {
     "data": {
      "text/plain": [
       "array(['서울특별시'], dtype=object)"
      ]
     },
     "execution_count": 8,
     "metadata": {},
     "output_type": "execute_result"
    }
   ],
   "source": [
    "data['city'].unique()"
   ]
  },
  {
   "cell_type": "markdown",
   "metadata": {},
   "source": [
    "### 1.4 변수 이름 바꾸기"
   ]
  },
  {
   "cell_type": "code",
   "execution_count": 9,
   "metadata": {},
   "outputs": [],
   "source": [
    "data.rename(columns = {'transaction_real_price':'price'}, inplace = True)"
   ]
  },
  {
   "cell_type": "markdown",
   "metadata": {},
   "source": [
    "### 1.5 불필요한 변수 삭제"
   ]
  },
  {
   "cell_type": "code",
   "execution_count": 10,
   "metadata": {},
   "outputs": [],
   "source": [
    "data.drop(['transaction_id', 'apartment_id', 'jibun', 'city'], axis = 1, inplace = True)"
   ]
  },
  {
   "cell_type": "code",
   "execution_count": 11,
   "metadata": {},
   "outputs": [
    {
     "data": {
      "text/plain": [
       "(742285, 9)"
      ]
     },
     "execution_count": 11,
     "metadata": {},
     "output_type": "execute_result"
    }
   ],
   "source": [
    "data.shape"
   ]
  },
  {
   "cell_type": "markdown",
   "metadata": {},
   "source": [
    "### 1.6 연/월 뽑기"
   ]
  },
  {
   "cell_type": "code",
   "execution_count": 12,
   "metadata": {},
   "outputs": [],
   "source": [
    "year = []\n",
    "month = []\n",
    "\n",
    "for i in range(0,len(data)):\n",
    "    year.append(str(data['transaction_year_month'].iloc[i])[:4])\n",
    "    month.append(str(data['transaction_year_month'].iloc[i])[4:])\n",
    "    \n",
    "data['transaction_year'] = year\n",
    "data['transaction_month'] = month"
   ]
  },
  {
   "cell_type": "markdown",
   "metadata": {},
   "source": [
    "### 1.7 필요 연도 뽑기"
   ]
  },
  {
   "cell_type": "code",
   "execution_count": 13,
   "metadata": {},
   "outputs": [],
   "source": [
    "data = data.astype({'transaction_year':'int'})"
   ]
  },
  {
   "cell_type": "code",
   "execution_count": 14,
   "metadata": {},
   "outputs": [],
   "source": [
    "data = data[data['transaction_year'] >= 2012]\n",
    "data = data.astype({'transaction_year':'object'})\n",
    "data.reset_index(drop = True, inplace = True)"
   ]
  },
  {
   "cell_type": "code",
   "execution_count": 15,
   "metadata": {},
   "outputs": [
    {
     "data": {
      "text/html": [
       "<div>\n",
       "<style scoped>\n",
       "    .dataframe tbody tr th:only-of-type {\n",
       "        vertical-align: middle;\n",
       "    }\n",
       "\n",
       "    .dataframe tbody tr th {\n",
       "        vertical-align: top;\n",
       "    }\n",
       "\n",
       "    .dataframe thead th {\n",
       "        text-align: right;\n",
       "    }\n",
       "</style>\n",
       "<table border=\"1\" class=\"dataframe\">\n",
       "  <thead>\n",
       "    <tr style=\"text-align: right;\">\n",
       "      <th></th>\n",
       "      <th>dong</th>\n",
       "      <th>apt</th>\n",
       "      <th>addr_kr</th>\n",
       "      <th>exclusive_use_area</th>\n",
       "      <th>year_of_completion</th>\n",
       "      <th>transaction_year_month</th>\n",
       "      <th>transaction_date</th>\n",
       "      <th>floor</th>\n",
       "      <th>price</th>\n",
       "      <th>transaction_year</th>\n",
       "      <th>transaction_month</th>\n",
       "    </tr>\n",
       "  </thead>\n",
       "  <tbody>\n",
       "    <tr>\n",
       "      <th>0</th>\n",
       "      <td>사직동</td>\n",
       "      <td>광화문풍림스페이스본(9-0)</td>\n",
       "      <td>사직동 9 광화문풍림스페이스본(9-0)</td>\n",
       "      <td>95.88</td>\n",
       "      <td>2008</td>\n",
       "      <td>201201</td>\n",
       "      <td>1~10</td>\n",
       "      <td>6</td>\n",
       "      <td>70000</td>\n",
       "      <td>2012</td>\n",
       "      <td>01</td>\n",
       "    </tr>\n",
       "    <tr>\n",
       "      <th>1</th>\n",
       "      <td>사직동</td>\n",
       "      <td>광화문풍림스페이스본(9-0)</td>\n",
       "      <td>사직동 9 광화문풍림스페이스본(9-0)</td>\n",
       "      <td>108.55</td>\n",
       "      <td>2008</td>\n",
       "      <td>201201</td>\n",
       "      <td>11~20</td>\n",
       "      <td>11</td>\n",
       "      <td>100500</td>\n",
       "      <td>2012</td>\n",
       "      <td>01</td>\n",
       "    </tr>\n",
       "    <tr>\n",
       "      <th>2</th>\n",
       "      <td>사직동</td>\n",
       "      <td>광화문풍림스페이스본(9-0)</td>\n",
       "      <td>사직동 9 광화문풍림스페이스본(9-0)</td>\n",
       "      <td>94.51</td>\n",
       "      <td>2008</td>\n",
       "      <td>201201</td>\n",
       "      <td>11~20</td>\n",
       "      <td>1</td>\n",
       "      <td>65800</td>\n",
       "      <td>2012</td>\n",
       "      <td>01</td>\n",
       "    </tr>\n",
       "    <tr>\n",
       "      <th>3</th>\n",
       "      <td>수송동</td>\n",
       "      <td>로얄팰리스스위트</td>\n",
       "      <td>수송동 85 로얄팰리스스위트</td>\n",
       "      <td>42.87</td>\n",
       "      <td>2005</td>\n",
       "      <td>201201</td>\n",
       "      <td>1~10</td>\n",
       "      <td>8</td>\n",
       "      <td>30500</td>\n",
       "      <td>2012</td>\n",
       "      <td>01</td>\n",
       "    </tr>\n",
       "    <tr>\n",
       "      <th>4</th>\n",
       "      <td>수송동</td>\n",
       "      <td>로얄팰리스스위트</td>\n",
       "      <td>수송동 85 로얄팰리스스위트</td>\n",
       "      <td>39.67</td>\n",
       "      <td>2005</td>\n",
       "      <td>201201</td>\n",
       "      <td>21~31</td>\n",
       "      <td>15</td>\n",
       "      <td>30500</td>\n",
       "      <td>2012</td>\n",
       "      <td>01</td>\n",
       "    </tr>\n",
       "  </tbody>\n",
       "</table>\n",
       "</div>"
      ],
      "text/plain": [
       "  dong              apt                addr_kr  exclusive_use_area  \\\n",
       "0  사직동  광화문풍림스페이스본(9-0)  사직동 9 광화문풍림스페이스본(9-0)               95.88   \n",
       "1  사직동  광화문풍림스페이스본(9-0)  사직동 9 광화문풍림스페이스본(9-0)              108.55   \n",
       "2  사직동  광화문풍림스페이스본(9-0)  사직동 9 광화문풍림스페이스본(9-0)               94.51   \n",
       "3  수송동         로얄팰리스스위트        수송동 85 로얄팰리스스위트               42.87   \n",
       "4  수송동         로얄팰리스스위트        수송동 85 로얄팰리스스위트               39.67   \n",
       "\n",
       "   year_of_completion  transaction_year_month transaction_date  floor   price  \\\n",
       "0                2008                  201201             1~10      6   70000   \n",
       "1                2008                  201201            11~20     11  100500   \n",
       "2                2008                  201201            11~20      1   65800   \n",
       "3                2005                  201201             1~10      8   30500   \n",
       "4                2005                  201201            21~31     15   30500   \n",
       "\n",
       "  transaction_year transaction_month  \n",
       "0             2012                01  \n",
       "1             2012                01  \n",
       "2             2012                01  \n",
       "3             2012                01  \n",
       "4             2012                01  "
      ]
     },
     "execution_count": 15,
     "metadata": {},
     "output_type": "execute_result"
    }
   ],
   "source": [
    "data.head()"
   ]
  },
  {
   "cell_type": "markdown",
   "metadata": {},
   "source": [
    " "
   ]
  },
  {
   "cell_type": "markdown",
   "metadata": {},
   "source": [
    " "
   ]
  },
  {
   "cell_type": "markdown",
   "metadata": {},
   "source": [
    " "
   ]
  },
  {
   "cell_type": "markdown",
   "metadata": {},
   "source": [
    "## Chapter 2. 데이터 시각화"
   ]
  },
  {
   "cell_type": "code",
   "execution_count": 16,
   "metadata": {},
   "outputs": [],
   "source": [
    "import matplotlib.pyplot as plt\n",
    "import seaborn as sns"
   ]
  },
  {
   "cell_type": "markdown",
   "metadata": {},
   "source": [
    "### 2.1 거래가격 분포 확인"
   ]
  },
  {
   "cell_type": "code",
   "execution_count": 17,
   "metadata": {},
   "outputs": [
    {
     "data": {
      "image/png": "[encoded data removed]",
      "text/plain": [
       "<Figure size 1440x720 with 2 Axes>"
      ]
     },
     "metadata": {
      "needs_background": "light"
     },
     "output_type": "display_data"
    }
   ],
   "source": [
    "firstplot = plt.figure(figsize=(20,10))\n",
    "axes1 = firstplot.add_subplot(1, 2, 1)\n",
    "axes2 = firstplot.add_subplot(1, 2, 2)\n",
    "\n",
    "axes1.boxplot(data['price'], vert = 0)\n",
    "axes1.set_title('Boxplot of Price', fontsize = 20)\n",
    "axes1.set_xlabel('Price', fontsize = 15)\n",
    "axes1.set_yticks([])\n",
    "axes1.set_frame_on(True)\n",
    "\n",
    "axes2.hist(data['price'])\n",
    "axes2.set_title('Histogram of Price', fontsize = 20)\n",
    "axes2.set_xlabel('Price', fontsize = 15)\n",
    "axes2.set_frame_on(True)"
   ]
  },
  {
   "cell_type": "code",
   "execution_count": 18,
   "metadata": {},
   "outputs": [
    {
     "name": "stderr",
     "output_type": "stream",
     "text": [
      "C:\\Users\\fleur\\anaconda3\\lib\\site-packages\\seaborn\\_decorators.py:36: FutureWarning: Pass the following variable as a keyword arg: x. From version 0.12, the only valid positional argument will be `data`, and passing other arguments without an explicit keyword will result in an error or misinterpretation.\n",
      "  warnings.warn(\n",
      "C:\\Users\\fleur\\anaconda3\\lib\\site-packages\\seaborn\\distributions.py:2551: FutureWarning: `distplot` is a deprecated function and will be removed in a future version. Please adapt your code to use either `displot` (a figure-level function with similar flexibility) or `histplot` (an axes-level function for histograms).\n",
      "  warnings.warn(msg, FutureWarning)\n"
     ]
    },
    {
     "data": {
      "text/plain": [
       "Text(0.5, 0, 'Price')"
      ]
     },
     "execution_count": 18,
     "metadata": {},
     "output_type": "execute_result"
    },
    {
     "data": {
      "image/png": "[encoded data removed]",
      "text/plain": [
       "<Figure size 1296x720 with 2 Axes>"
      ]
     },
     "metadata": {},
     "output_type": "display_data"
    }
   ],
   "source": [
    "sns.set(font_scale = 1.3) \n",
    "fig, axs = plt.subplots(ncols = 2, figsize = (18, 10))\n",
    "\n",
    "sns.boxplot(data['price'], ax = axs[0])\n",
    "axs[0].set_title('Boxplot of Price', fontsize = 18)\n",
    "axs[0].set_xlabel('Price', fontsize = 18)\n",
    "\n",
    "sns.distplot(data['price'], ax = axs[1])\n",
    "axs[1].set_title('Histogram of Price', fontsize = 18)\n",
    "axs[1].set_xlabel('Price', fontsize = 18)"
   ]
  },
  {
   "cell_type": "markdown",
   "metadata": {},
   "source": [
    "거래 가격의 경우 interquantile range가 매우 좁아 이상치처럼 여겨지는 값들이 많았다. 0에서 200000 사이의 값, 특히 100000 이하의 값으로 거래되는 경우가 두드러지게 많은 것으로 보인다."
   ]
  },
  {
   "cell_type": "markdown",
   "metadata": {},
   "source": [
    "### 2.2 거래연도 분포 확인 / 거래연도별 가격 분포 확인"
   ]
  },
  {
   "cell_type": "code",
   "execution_count": 19,
   "metadata": {},
   "outputs": [
    {
     "data": {
      "text/html": [
       "<div>\n",
       "<style scoped>\n",
       "    .dataframe tbody tr th:only-of-type {\n",
       "        vertical-align: middle;\n",
       "    }\n",
       "\n",
       "    .dataframe tbody tr th {\n",
       "        vertical-align: top;\n",
       "    }\n",
       "\n",
       "    .dataframe thead th {\n",
       "        text-align: right;\n",
       "    }\n",
       "</style>\n",
       "<table border=\"1\" class=\"dataframe\">\n",
       "  <thead>\n",
       "    <tr style=\"text-align: right;\">\n",
       "      <th></th>\n",
       "      <th>price</th>\n",
       "      <th>transaction_year</th>\n",
       "    </tr>\n",
       "    <tr>\n",
       "      <th>transaction_year</th>\n",
       "      <th></th>\n",
       "      <th></th>\n",
       "    </tr>\n",
       "  </thead>\n",
       "  <tbody>\n",
       "    <tr>\n",
       "      <th>2012</th>\n",
       "      <td>40693</td>\n",
       "      <td>2012</td>\n",
       "    </tr>\n",
       "    <tr>\n",
       "      <th>2013</th>\n",
       "      <td>67594</td>\n",
       "      <td>2013</td>\n",
       "    </tr>\n",
       "    <tr>\n",
       "      <th>2014</th>\n",
       "      <td>84825</td>\n",
       "      <td>2014</td>\n",
       "    </tr>\n",
       "    <tr>\n",
       "      <th>2015</th>\n",
       "      <td>119354</td>\n",
       "      <td>2015</td>\n",
       "    </tr>\n",
       "    <tr>\n",
       "      <th>2016</th>\n",
       "      <td>109698</td>\n",
       "      <td>2016</td>\n",
       "    </tr>\n",
       "    <tr>\n",
       "      <th>2017</th>\n",
       "      <td>91364</td>\n",
       "      <td>2017</td>\n",
       "    </tr>\n",
       "  </tbody>\n",
       "</table>\n",
       "</div>"
      ],
      "text/plain": [
       "                   price  transaction_year\n",
       "transaction_year                          \n",
       "2012               40693              2012\n",
       "2013               67594              2013\n",
       "2014               84825              2014\n",
       "2015              119354              2015\n",
       "2016              109698              2016\n",
       "2017               91364              2017"
      ]
     },
     "execution_count": 19,
     "metadata": {},
     "output_type": "execute_result"
    }
   ],
   "source": [
    "# 시각화 위한 데이터셋 1\n",
    "count_byyear = pd.DataFrame(data['price'].groupby(data['transaction_year']).count())\n",
    "count_byyear['transaction_year'] = count_byyear.index.values\n",
    "count_byyear"
   ]
  },
  {
   "cell_type": "code",
   "execution_count": 20,
   "metadata": {},
   "outputs": [
    {
     "data": {
      "text/html": [
       "<div>\n",
       "<style scoped>\n",
       "    .dataframe tbody tr th:only-of-type {\n",
       "        vertical-align: middle;\n",
       "    }\n",
       "\n",
       "    .dataframe tbody tr th {\n",
       "        vertical-align: top;\n",
       "    }\n",
       "\n",
       "    .dataframe thead th {\n",
       "        text-align: right;\n",
       "    }\n",
       "</style>\n",
       "<table border=\"1\" class=\"dataframe\">\n",
       "  <thead>\n",
       "    <tr style=\"text-align: right;\">\n",
       "      <th></th>\n",
       "      <th>price</th>\n",
       "      <th>transaction_year</th>\n",
       "    </tr>\n",
       "    <tr>\n",
       "      <th>transaction_year</th>\n",
       "      <th></th>\n",
       "      <th></th>\n",
       "    </tr>\n",
       "  </thead>\n",
       "  <tbody>\n",
       "    <tr>\n",
       "      <th>2012</th>\n",
       "      <td>44415.902268</td>\n",
       "      <td>2012</td>\n",
       "    </tr>\n",
       "    <tr>\n",
       "      <th>2013</th>\n",
       "      <td>44319.457718</td>\n",
       "      <td>2013</td>\n",
       "    </tr>\n",
       "    <tr>\n",
       "      <th>2014</th>\n",
       "      <td>45848.998208</td>\n",
       "      <td>2014</td>\n",
       "    </tr>\n",
       "    <tr>\n",
       "      <th>2015</th>\n",
       "      <td>47747.375873</td>\n",
       "      <td>2015</td>\n",
       "    </tr>\n",
       "    <tr>\n",
       "      <th>2016</th>\n",
       "      <td>53693.710223</td>\n",
       "      <td>2016</td>\n",
       "    </tr>\n",
       "    <tr>\n",
       "      <th>2017</th>\n",
       "      <td>61566.261558</td>\n",
       "      <td>2017</td>\n",
       "    </tr>\n",
       "  </tbody>\n",
       "</table>\n",
       "</div>"
      ],
      "text/plain": [
       "                         price  transaction_year\n",
       "transaction_year                                \n",
       "2012              44415.902268              2012\n",
       "2013              44319.457718              2013\n",
       "2014              45848.998208              2014\n",
       "2015              47747.375873              2015\n",
       "2016              53693.710223              2016\n",
       "2017              61566.261558              2017"
      ]
     },
     "execution_count": 20,
     "metadata": {},
     "output_type": "execute_result"
    }
   ],
   "source": [
    "# 시각화 위한 데이터셋 2\n",
    "price_byyear = pd.DataFrame(data['price'].groupby(data['transaction_year']).mean())\n",
    "price_byyear['transaction_year'] = price_byyear.index.values\n",
    "price_byyear"
   ]
  },
  {
   "cell_type": "code",
   "execution_count": 21,
   "metadata": {},
   "outputs": [],
   "source": [
    "# error bar\n",
    "std_error = np.std(price_byyear['price'], ddof=1) / np.sqrt(len(price_byyear))"
   ]
  },
  {
   "cell_type": "code",
   "execution_count": 22,
   "metadata": {},
   "outputs": [],
   "source": [
    "# color\n",
    "color = ['#5975A4', '#CC8963', '#5F9E6E', '#B55D60', '#857AAB', '#8D7866']"
   ]
  },
  {
   "cell_type": "code",
   "execution_count": 23,
   "metadata": {},
   "outputs": [
    {
     "data": {
      "image/png": "[encoded data removed]",
      "text/plain": [
       "<Figure size 1440x720 with 2 Axes>"
      ]
     },
     "metadata": {},
     "output_type": "display_data"
    }
   ],
   "source": [
    "secondplot = plt.figure(figsize=(20,10))\n",
    "axes1 = secondplot.add_subplot(1, 2, 1)\n",
    "axes2 = secondplot.add_subplot(1, 2, 2)\n",
    "\n",
    "axes1.bar(count_byyear['transaction_year'], count_byyear['price'], color = color)\n",
    "axes1.set_xlabel('transaction_year', fontsize = 20)\n",
    "axes1.set_ylabel('Count', fontsize = 20)\n",
    "axes1.grid(axis = 'x')\n",
    "\n",
    "axes2.bar(price_byyear['transaction_year'], price_byyear['price'], color = color)\n",
    "axes2.errorbar(price_byyear['transaction_year'], price_byyear['price'], yerr = std_error, ls = 'None', color = 'k', lolims = True)\n",
    "axes2.set_xlabel('transaction_year', fontsize = 20)\n",
    "axes2.set_ylabel('Price', fontsize = 20)\n",
    "axes2.grid(axis = 'x')"
   ]
  },
  {
   "cell_type": "markdown",
   "metadata": {},
   "source": [
    "첫째, 거래 연도별 거래 횟수의 경우 2012년에 유독 적게 거래되었다가 2015년까지 꾸준히 오르고, 2015년에서 정점에 다다른 후 2017년까지는 감소하였다. 둘째, 거래 연도별 거래 가격의 경우는 2013년에서 아주 조금 주춤했지만 대략적으로는 시간이 지날수록, 즉 2012년에서 2017년까지 계속해서 증가하는 추세를 보인 것으로 나타났다."
   ]
  },
  {
   "cell_type": "markdown",
   "metadata": {},
   "source": [
    "### 2.3 층 분포 확인 / 층별 가격 분포 확인"
   ]
  },
  {
   "cell_type": "code",
   "execution_count": 24,
   "metadata": {},
   "outputs": [],
   "source": [
    "# 시각화 위한 데이터셋 1\n",
    "count_byfloor = pd.DataFrame(data['price'].groupby(data['floor']).count())"
   ]
  },
  {
   "cell_type": "code",
   "execution_count": 25,
   "metadata": {},
   "outputs": [],
   "source": [
    "# 시각화 위한 데이터셋 2\n",
    "price_byfloor = pd.DataFrame(data['price'].groupby(data['floor']).mean())"
   ]
  },
  {
   "cell_type": "code",
   "execution_count": 26,
   "metadata": {
    "scrolled": false
   },
   "outputs": [
    {
     "data": {
      "image/png": "[encoded data removed]",
      "text/plain": [
       "<Figure size 1440x720 with 2 Axes>"
      ]
     },
     "metadata": {},
     "output_type": "display_data"
    }
   ],
   "source": [
    "floorplot = plt.figure(figsize=(20,10))\n",
    "axes1 = floorplot.add_subplot(1, 2, 1)\n",
    "axes2 = floorplot.add_subplot(1, 2, 2)\n",
    "\n",
    "axes1.bar(count_byfloor.index.values, count_byfloor['price'], color = ['salmon'], alpha = 0.8)\n",
    "axes1.set_xticks([])\n",
    "axes1.set_xlabel('floor', fontsize = 18)\n",
    "axes1.set_ylabel('Count', fontsize = 18)\n",
    "axes1.grid(axis = 'x')\n",
    "\n",
    "axes2.bar(price_byfloor.index.values, price_byfloor['price'], color = ['salmon'], alpha = 0.8)\n",
    "axes2.set_xticks([])\n",
    "axes2.set_xlabel('floor', fontsize = 18)\n",
    "axes2.set_ylabel('Price', fontsize = 18)\n",
    "axes2.grid(axis = 'x')"
   ]
  },
  {
   "cell_type": "markdown",
   "metadata": {},
   "source": [
    "첫째로 층별 거래 횟수의 분포를 살펴보면 저층과 고층의 차이가 꽤 뚜렷한 것으로 보인다. 저층의 경우가 훨씬 많은 횟수로 거래되었으며 대략 15층 정도 이상으로는 거래 횟수가 더욱 급격히 감소하였다. 애초에 15층 이상의 높이로 지어진 아파트의 개수가 적은 것도 영향이 있을 듯 보인다. 둘째로 층별 가격 분포 플랏에 따르면, '고층일수록 높은 가격에 거래될 것이다'라는 가설에 얼추 부합하는 결과가 나타났다. 3층에서 급격하게 높은 가격으로 거래된 것을 제외하면 저층의 경우 상대적으로 낮은 가격에 거래되었고, 고층으로 갈수록 높은 가격으로 거래되다가 어느 지점의 층에 다다르면 거래 가격이 조금 낮아졌다."
   ]
  },
  {
   "cell_type": "markdown",
   "metadata": {},
   "source": [
    "### 2.4 완공연도 분포 확인 / 완공연도별 가격 분포 확인"
   ]
  },
  {
   "cell_type": "code",
   "execution_count": 27,
   "metadata": {},
   "outputs": [],
   "source": [
    "# 시각화 위한 데이터셋 1\n",
    "count_bycompletion = pd.DataFrame(data['price'].groupby(data['year_of_completion']).count())"
   ]
  },
  {
   "cell_type": "code",
   "execution_count": 28,
   "metadata": {},
   "outputs": [],
   "source": [
    "# 시각화 위한 데이터셋 2\n",
    "price_bycompletion = pd.DataFrame(data['price'].groupby(data['year_of_completion']).mean())"
   ]
  },
  {
   "cell_type": "code",
   "execution_count": 29,
   "metadata": {
    "scrolled": false
   },
   "outputs": [
    {
     "data": {
      "image/png": "[encoded data removed]",
      "text/plain": [
       "<Figure size 1440x720 with 2 Axes>"
      ]
     },
     "metadata": {},
     "output_type": "display_data"
    }
   ],
   "source": [
    "completionplot = plt.figure(figsize=(20,10))\n",
    "axes1 = completionplot.add_subplot(1, 2, 1)\n",
    "axes2 = completionplot.add_subplot(1, 2, 2)\n",
    "\n",
    "axes1.bar(count_bycompletion.index.values, count_bycompletion['price'], color = ['salmon'], alpha = 0.8)\n",
    "axes1.set_xlabel('year_of_completion', fontsize = 18)\n",
    "axes1.set_ylabel('Count', fontsize = 18)\n",
    "axes1.set_xticks([])\n",
    "axes1.grid(axis = 'x')\n",
    "\n",
    "axes2.bar(price_bycompletion.index.values, price_bycompletion['price'], color = ['salmon'], alpha = 0.8)\n",
    "axes2.set_xlabel('year_of_completion', fontsize = 18)\n",
    "axes2.set_ylabel('Price', fontsize = 18)\n",
    "axes2.set_xticks([])\n",
    "axes2.grid(axis = 'x')"
   ]
  },
  {
   "cell_type": "markdown",
   "metadata": {},
   "source": [
    "첫째, 완공연도별 거래 횟수의 분포를 보면 아무래도 조금 연식이 있는 아파트의 경우 더 적은 횟수로 거래되었고 그와 동시에 또 매우 최근에 지어진 아파트의 경우도 그리 많지 않은 횟수로 거래가 이루어진 듯 보인다. 신식이면서도 적당히 연식 있는 아파트에 대한 선호가 높은 것으로 예측해볼 수도 있고, 최근에 지어진 아파트가 상대적으로 적어 위와 같은 결과가 나타난 것으로 해석해볼 수도 있겠다. 둘째, 완공연도별 가격 분포는 '최근의 아파트들이 더 비쌀 것이다'와 같은 가설과는 달리 오히려 조금 연식이 있는 편인 아파트들이 높은 가격에 거래된 것으로 보인다. 또, 꽤 최근에 지어진 아파트들이 지어진 지 적당히 오래된 아파트들보다 높은 가격에 거래된 것도 인상적이었다. 거래 횟수와 가격을 연결 지어 살펴보자면 거래 가격이 낮기 때문에 거래가 많이 된 것으로 예상해볼 수 있을 것이다."
   ]
  },
  {
   "cell_type": "markdown",
   "metadata": {},
   "source": [
    " "
   ]
  },
  {
   "cell_type": "markdown",
   "metadata": {},
   "source": [
    " "
   ]
  },
  {
   "cell_type": "markdown",
   "metadata": {},
   "source": [
    " "
   ]
  },
  {
   "cell_type": "markdown",
   "metadata": {},
   "source": [
    "## Chapter 3. 파생변수 생성"
   ]
  },
  {
   "cell_type": "markdown",
   "metadata": {},
   "source": [
    "### 3.1 아파트 연차 변수 생성"
   ]
  },
  {
   "cell_type": "code",
   "execution_count": 30,
   "metadata": {},
   "outputs": [],
   "source": [
    "# 아파트 연차 변수 'until_trans'\n",
    "data['until_trans'] = 2021 - data['year_of_completion'] + 1"
   ]
  },
  {
   "cell_type": "code",
   "execution_count": 31,
   "metadata": {},
   "outputs": [],
   "source": [
    "# 시각화 위한 데이터셋 1\n",
    "count_byuntil = pd.DataFrame(data['price'].groupby(data['until_trans']).count())"
   ]
  },
  {
   "cell_type": "code",
   "execution_count": 32,
   "metadata": {},
   "outputs": [],
   "source": [
    "# 시각화 위한 데이터셋 2\n",
    "price_byuntil = pd.DataFrame(data['price'].groupby(data['until_trans']).mean())"
   ]
  },
  {
   "cell_type": "code",
   "execution_count": 33,
   "metadata": {},
   "outputs": [],
   "source": [
    "# error bar\n",
    "std_error = np.std(price_byuntil.price, ddof=1) / np.sqrt(len(price_byuntil))"
   ]
  },
  {
   "cell_type": "code",
   "execution_count": 34,
   "metadata": {
    "scrolled": false
   },
   "outputs": [
    {
     "data": {
      "image/png": "[encoded data removed]",
      "text/plain": [
       "<Figure size 1440x720 with 2 Axes>"
      ]
     },
     "metadata": {},
     "output_type": "display_data"
    }
   ],
   "source": [
    "untilplot = plt.figure(figsize=(20,10))\n",
    "axes1 = untilplot.add_subplot(1, 2, 1)\n",
    "axes2 = untilplot.add_subplot(1, 2, 2)\n",
    "\n",
    "axes1.bar(count_byuntil.index.values, count_byuntil['price'], color = ['salmon'], alpha = 0.8)\n",
    "axes1.set_xlabel('until_trans', fontsize = 20)\n",
    "axes1.set_ylabel('Count', fontsize = 20)\n",
    "axes1.set_xticks([])\n",
    "axes1.grid(axis = 'x')\n",
    "\n",
    "axes2.bar(price_byuntil.index.values, price_byuntil['price'], color = ['salmon'], alpha = 0.8, yerr = std_error)\n",
    "axes2.set_xlabel('until_trans', fontsize = 20)\n",
    "axes2.set_ylabel('Price', fontsize = 20)\n",
    "axes2.set_xticks([])\n",
    "axes2.grid(axis = 'x')"
   ]
  },
  {
   "cell_type": "markdown",
   "metadata": {},
   "source": [
    "먼저 아파트 연차의 분포는 대칭은 아니지만 얼추 정점이 있는 bell shape을 하고 있어 비슷한 시기에 지어진 아파트가 꽤 많은 것으로 보였고, 정점을 지난 어느 시점에서 갑자기 해당하는 아파트의 개수가 늘어나는 것도 특이점으로 고려할 수 있었다. 또한 연차에 따른 거래 가격의 경우, 연차가 매우 오래 된 아파트에 대해 거래 가격이 낮게 산정된 것은 사실이나 중간 정도 연차의 아파트가 꽤 낮은 가격에 거래되고, 어느 시점을 지나면 가격이 치솟는 등의 추세가 나타나 아파트 연차와 가격 간에 분명한 관계가 있다고 단정 지을 수 없었다. 단순히 아파트의 연차를 넣는 것 이외에 연차와 상관 없이 아파트가 충분히 잘 관리되고 있는지를 나타낼 수 있는 '엘리베이터 교체 시기' 등의 변수를 생성하는 것이 보다 바람직할 것으로 보인다."
   ]
  },
  {
   "cell_type": "markdown",
   "metadata": {},
   "source": [
    "### 3.2 거래 일 변수 변환"
   ]
  },
  {
   "cell_type": "code",
   "execution_count": 35,
   "metadata": {},
   "outputs": [],
   "source": [
    "data['transaction_date'] = np.where(data['transaction_date']=='1~10', 0, np.where(data['transaction_date']=='11~20', 1, 2))"
   ]
  },
  {
   "cell_type": "markdown",
   "metadata": {},
   "source": [
    "### 3.3 월 변수와 10일 단위 변수 통합"
   ]
  },
  {
   "cell_type": "code",
   "execution_count": 36,
   "metadata": {},
   "outputs": [],
   "source": [
    "data = data.astype({'transaction_month':'int'})\n",
    "data['transaction_month_date'] = data['transaction_month'] * 3 + data['transaction_date']\n",
    "data = data.astype({'transaction_month':'object'})"
   ]
  },
  {
   "cell_type": "code",
   "execution_count": 37,
   "metadata": {},
   "outputs": [
    {
     "data": {
      "text/html": [
       "<div>\n",
       "<style scoped>\n",
       "    .dataframe tbody tr th:only-of-type {\n",
       "        vertical-align: middle;\n",
       "    }\n",
       "\n",
       "    .dataframe tbody tr th {\n",
       "        vertical-align: top;\n",
       "    }\n",
       "\n",
       "    .dataframe thead th {\n",
       "        text-align: right;\n",
       "    }\n",
       "</style>\n",
       "<table border=\"1\" class=\"dataframe\">\n",
       "  <thead>\n",
       "    <tr style=\"text-align: right;\">\n",
       "      <th></th>\n",
       "      <th>transaction_month_date</th>\n",
       "      <th>transaction_month</th>\n",
       "      <th>transaction_date</th>\n",
       "    </tr>\n",
       "  </thead>\n",
       "  <tbody>\n",
       "    <tr>\n",
       "      <th>0</th>\n",
       "      <td>3</td>\n",
       "      <td>1</td>\n",
       "      <td>0</td>\n",
       "    </tr>\n",
       "    <tr>\n",
       "      <th>1</th>\n",
       "      <td>4</td>\n",
       "      <td>1</td>\n",
       "      <td>1</td>\n",
       "    </tr>\n",
       "    <tr>\n",
       "      <th>2</th>\n",
       "      <td>4</td>\n",
       "      <td>1</td>\n",
       "      <td>1</td>\n",
       "    </tr>\n",
       "    <tr>\n",
       "      <th>3</th>\n",
       "      <td>3</td>\n",
       "      <td>1</td>\n",
       "      <td>0</td>\n",
       "    </tr>\n",
       "    <tr>\n",
       "      <th>4</th>\n",
       "      <td>5</td>\n",
       "      <td>1</td>\n",
       "      <td>2</td>\n",
       "    </tr>\n",
       "    <tr>\n",
       "      <th>...</th>\n",
       "      <td>...</td>\n",
       "      <td>...</td>\n",
       "      <td>...</td>\n",
       "    </tr>\n",
       "    <tr>\n",
       "      <th>513523</th>\n",
       "      <td>34</td>\n",
       "      <td>11</td>\n",
       "      <td>1</td>\n",
       "    </tr>\n",
       "    <tr>\n",
       "      <th>513524</th>\n",
       "      <td>35</td>\n",
       "      <td>11</td>\n",
       "      <td>2</td>\n",
       "    </tr>\n",
       "    <tr>\n",
       "      <th>513525</th>\n",
       "      <td>35</td>\n",
       "      <td>11</td>\n",
       "      <td>2</td>\n",
       "    </tr>\n",
       "    <tr>\n",
       "      <th>513526</th>\n",
       "      <td>35</td>\n",
       "      <td>11</td>\n",
       "      <td>2</td>\n",
       "    </tr>\n",
       "    <tr>\n",
       "      <th>513527</th>\n",
       "      <td>35</td>\n",
       "      <td>11</td>\n",
       "      <td>2</td>\n",
       "    </tr>\n",
       "  </tbody>\n",
       "</table>\n",
       "<p>513528 rows × 3 columns</p>\n",
       "</div>"
      ],
      "text/plain": [
       "        transaction_month_date transaction_month  transaction_date\n",
       "0                            3                 1                 0\n",
       "1                            4                 1                 1\n",
       "2                            4                 1                 1\n",
       "3                            3                 1                 0\n",
       "4                            5                 1                 2\n",
       "...                        ...               ...               ...\n",
       "513523                      34                11                 1\n",
       "513524                      35                11                 2\n",
       "513525                      35                11                 2\n",
       "513526                      35                11                 2\n",
       "513527                      35                11                 2\n",
       "\n",
       "[513528 rows x 3 columns]"
      ]
     },
     "execution_count": 37,
     "metadata": {},
     "output_type": "execute_result"
    }
   ],
   "source": [
    "data[['transaction_month_date', 'transaction_month', 'transaction_date']]"
   ]
  },
  {
   "cell_type": "markdown",
   "metadata": {},
   "source": [
    "### 3.4 연도별 주기성을 위한 파생변수 생성 (삼각변환)"
   ]
  },
  {
   "cell_type": "code",
   "execution_count": 38,
   "metadata": {},
   "outputs": [],
   "source": [
    "import math"
   ]
  },
  {
   "cell_type": "code",
   "execution_count": 39,
   "metadata": {},
   "outputs": [],
   "source": [
    "data['sin_date'] = np.sin(2 * np.pi * data.transaction_month_date / 4)\n",
    "data['cos_date'] = np.cos(2 * np.pi * data.transaction_month_date / 4)"
   ]
  },
  {
   "cell_type": "code",
   "execution_count": 40,
   "metadata": {},
   "outputs": [],
   "source": [
    "data.drop(['year_of_completion', 'transaction_year_month', 'transaction_date', 'transaction_month', 'transaction_month_date'], \n",
    "          axis = 1, inplace = True)"
   ]
  },
  {
   "cell_type": "markdown",
   "metadata": {},
   "source": [
    "### 3.5 삼각변환을 통한 장점"
   ]
  },
  {
   "cell_type": "markdown",
   "metadata": {},
   "source": [
    "삼각변환이 아닌 one-hot 인코딩 혹은 label 인코딩을 통해 절대적 숫자를 부여하게 되면, 11월의 11-20일에 거래된 것과 그다음 해 1월의 1-10일에 거래된 것은 그렇게 긴 시간 차가 아님에도 불구하고 34와 3, 즉 31의 시간 간격을 두고 거래된 것으로 여겨진다. 이때 cosine과 sine을 활용한 삼각변환을 통해 인코딩을 거치게 되면 모든 거래 일자의 값들을 서로 큰 차이가 나지 않는 비슷한 크기의 값들로 변환할 수 있고, 두 개의 다른 날짜가 같은 값을 가지는 cosine 변환의 단점을 sine 함수를 통해 보완함으로써 모든 날짜가 저마다의 고유한 값을 가지게끔 할 수 있다."
   ]
  },
  {
   "cell_type": "markdown",
   "metadata": {},
   "source": [
    " "
   ]
  },
  {
   "cell_type": "markdown",
   "metadata": {},
   "source": [
    " "
   ]
  },
  {
   "cell_type": "markdown",
   "metadata": {},
   "source": [
    " "
   ]
  },
  {
   "cell_type": "markdown",
   "metadata": {},
   "source": [
    "## Chapter 4. 텍스트 데이터 다루기"
   ]
  },
  {
   "cell_type": "markdown",
   "metadata": {},
   "source": [
    "### 4.1 아파트 이름 한글부분만 뽑기"
   ]
  },
  {
   "cell_type": "code",
   "execution_count": 41,
   "metadata": {},
   "outputs": [],
   "source": [
    "import re"
   ]
  },
  {
   "cell_type": "code",
   "execution_count": 42,
   "metadata": {
    "scrolled": true
   },
   "outputs": [],
   "source": [
    "apt = pd.DataFrame(data['apt'])\n",
    "\n",
    "for j in range(0, len(apt)):\n",
    "    han = re.compile('[^ ㄱ-ㅣ가-힣]+')\n",
    "    apt.loc[j] = han.sub(\"\", str(apt.loc[j]))"
   ]
  },
  {
   "cell_type": "code",
   "execution_count": 43,
   "metadata": {},
   "outputs": [
    {
     "data": {
      "text/html": [
       "<div>\n",
       "<style scoped>\n",
       "    .dataframe tbody tr th:only-of-type {\n",
       "        vertical-align: middle;\n",
       "    }\n",
       "\n",
       "    .dataframe tbody tr th {\n",
       "        vertical-align: top;\n",
       "    }\n",
       "\n",
       "    .dataframe thead th {\n",
       "        text-align: right;\n",
       "    }\n",
       "</style>\n",
       "<table border=\"1\" class=\"dataframe\">\n",
       "  <thead>\n",
       "    <tr style=\"text-align: right;\">\n",
       "      <th></th>\n",
       "      <th>apt</th>\n",
       "    </tr>\n",
       "  </thead>\n",
       "  <tbody>\n",
       "    <tr>\n",
       "      <th>0</th>\n",
       "      <td>광화문풍림스페이스본</td>\n",
       "    </tr>\n",
       "    <tr>\n",
       "      <th>1</th>\n",
       "      <td>광화문풍림스페이스본</td>\n",
       "    </tr>\n",
       "    <tr>\n",
       "      <th>2</th>\n",
       "      <td>광화문풍림스페이스본</td>\n",
       "    </tr>\n",
       "    <tr>\n",
       "      <th>3</th>\n",
       "      <td>로얄팰리스스위트</td>\n",
       "    </tr>\n",
       "    <tr>\n",
       "      <th>4</th>\n",
       "      <td>로얄팰리스스위트</td>\n",
       "    </tr>\n",
       "  </tbody>\n",
       "</table>\n",
       "</div>"
      ],
      "text/plain": [
       "                 apt\n",
       "0      광화문풍림스페이스본   \n",
       "1      광화문풍림스페이스본   \n",
       "2      광화문풍림스페이스본   \n",
       "3        로얄팰리스스위트   \n",
       "4        로얄팰리스스위트   "
      ]
     },
     "execution_count": 43,
     "metadata": {},
     "output_type": "execute_result"
    }
   ],
   "source": [
    "apt.head()"
   ]
  },
  {
   "cell_type": "markdown",
   "metadata": {},
   "source": [
    "### 4.2 아파트 이름 DTM"
   ]
  },
  {
   "cell_type": "code",
   "execution_count": 44,
   "metadata": {},
   "outputs": [],
   "source": [
    "from sklearn.feature_extraction.text import CountVectorizer"
   ]
  },
  {
   "cell_type": "code",
   "execution_count": 45,
   "metadata": {},
   "outputs": [
    {
     "data": {
      "text/plain": [
       "<513528x4023 sparse matrix of type '<class 'numpy.int64'>'\n",
       "\twith 531773 stored elements in Compressed Sparse Row format>"
      ]
     },
     "execution_count": 45,
     "metadata": {},
     "output_type": "execute_result"
    }
   ],
   "source": [
    "cv = CountVectorizer(min_df = 5).fit_transform(apt.apt)\n",
    "cv"
   ]
  },
  {
   "cell_type": "markdown",
   "metadata": {},
   "source": [
    "### 4.3 아파트 이름 tf-idf"
   ]
  },
  {
   "cell_type": "code",
   "execution_count": 46,
   "metadata": {},
   "outputs": [],
   "source": [
    "from sklearn.feature_extraction.text import TfidfVectorizer"
   ]
  },
  {
   "cell_type": "code",
   "execution_count": 47,
   "metadata": {},
   "outputs": [
    {
     "data": {
      "text/plain": [
       "<513528x4023 sparse matrix of type '<class 'numpy.float64'>'\n",
       "\twith 531773 stored elements in Compressed Sparse Row format>"
      ]
     },
     "execution_count": 47,
     "metadata": {},
     "output_type": "execute_result"
    }
   ],
   "source": [
    "tfidfv = TfidfVectorizer(min_df = 5).fit_transform(apt.apt)\n",
    "tfidfv"
   ]
  },
  {
   "cell_type": "markdown",
   "metadata": {},
   "source": [
    "### 4.4 질문"
   ]
  },
  {
   "cell_type": "markdown",
   "metadata": {},
   "source": [
    "앞서 4.2와 4.3에서의 두 방식으로 만들어진 행렬들은 모두 대부분의 값이 0인 sparse한 행렬로 용량의 낭비라는 문제점을 야기한다. 또한 이 행렬을 원래 데이터프레임에 붙여 분석을 진행하게 되면 데이터셋의 column 개수가 과도하게 증가해 차원의 저주로도 이어질 수 있다. 따라서 하나의 값마다 절대적 값을 부여해 column 개수를 늘리지 않는 등의 방식을 가진 다른 인코딩 방법(label encoding, mean encoding, ...)을 사용해야 한다."
   ]
  },
  {
   "cell_type": "markdown",
   "metadata": {},
   "source": [
    "### 4.5 질문"
   ]
  },
  {
   "cell_type": "markdown",
   "metadata": {},
   "source": [
    "word2vec의 경우 중심 단어를 기준으로 하여 양방향으로 n-1개의 주변 단어를 살피는데, 이때 이 one-hot encoding된 중심 단어가 입력값, 예측되는 주변 단어가 출력값이 된다. 그러나 현 데이터셋의 경우, 행의 개수가 매우 많아 size를 100으로 두면 예측에의 bias가 생겨 잘 작동하지 않을 것으로 보인다."
   ]
  },
  {
   "cell_type": "markdown",
   "metadata": {},
   "source": [
    " "
   ]
  },
  {
   "cell_type": "markdown",
   "metadata": {},
   "source": [
    " "
   ]
  },
  {
   "cell_type": "markdown",
   "metadata": {},
   "source": [
    " "
   ]
  },
  {
   "cell_type": "markdown",
   "metadata": {},
   "source": [
    "## Chapter 5. 인코딩"
   ]
  },
  {
   "cell_type": "code",
   "execution_count": 48,
   "metadata": {},
   "outputs": [],
   "source": [
    "data = data.drop(columns = ['addr_kr'])"
   ]
  },
  {
   "cell_type": "markdown",
   "metadata": {},
   "source": [
    "### 5.1 원핫 인코딩"
   ]
  },
  {
   "cell_type": "code",
   "execution_count": 49,
   "metadata": {},
   "outputs": [
    {
     "data": {
      "text/plain": [
       "(513528, 329)"
      ]
     },
     "execution_count": 49,
     "metadata": {},
     "output_type": "execute_result"
    }
   ],
   "source": [
    "# 변수 'dong'에 대해서\n",
    "dong_onehot = pd.get_dummies(data['dong'])\n",
    "dong_onehot.shape"
   ]
  },
  {
   "cell_type": "code",
   "execution_count": 50,
   "metadata": {},
   "outputs": [
    {
     "data": {
      "text/plain": [
       "(513528, 6765)"
      ]
     },
     "execution_count": 50,
     "metadata": {},
     "output_type": "execute_result"
    }
   ],
   "source": [
    "# 변수 'apt'에 대해서\n",
    "apt_onehot = pd.get_dummies(data['apt'])\n",
    "apt_onehot.shape"
   ]
  },
  {
   "cell_type": "markdown",
   "metadata": {},
   "source": [
    "변수 'dong'과 'apt' 모두 unique한 값이 매우 많아 지나치게 많은 column을 가진 데이터프레임이 생성되었다. 따라서 원핫 인코딩은 적절하지 못하다."
   ]
  },
  {
   "cell_type": "markdown",
   "metadata": {},
   "source": [
    "### 5.2 레이블(label) 인코딩 - transaction_year"
   ]
  },
  {
   "cell_type": "code",
   "execution_count": 51,
   "metadata": {},
   "outputs": [],
   "source": [
    "from sklearn.preprocessing import LabelEncoder\n",
    "\n",
    "le = LabelEncoder()\n",
    "data['transaction_year'] = le.fit_transform(data['transaction_year'])"
   ]
  },
  {
   "cell_type": "code",
   "execution_count": 52,
   "metadata": {},
   "outputs": [
    {
     "data": {
      "text/html": [
       "<div>\n",
       "<style scoped>\n",
       "    .dataframe tbody tr th:only-of-type {\n",
       "        vertical-align: middle;\n",
       "    }\n",
       "\n",
       "    .dataframe tbody tr th {\n",
       "        vertical-align: top;\n",
       "    }\n",
       "\n",
       "    .dataframe thead th {\n",
       "        text-align: right;\n",
       "    }\n",
       "</style>\n",
       "<table border=\"1\" class=\"dataframe\">\n",
       "  <thead>\n",
       "    <tr style=\"text-align: right;\">\n",
       "      <th></th>\n",
       "      <th>dong</th>\n",
       "      <th>apt</th>\n",
       "      <th>exclusive_use_area</th>\n",
       "      <th>floor</th>\n",
       "      <th>price</th>\n",
       "      <th>transaction_year</th>\n",
       "      <th>until_trans</th>\n",
       "      <th>sin_date</th>\n",
       "      <th>cos_date</th>\n",
       "    </tr>\n",
       "  </thead>\n",
       "  <tbody>\n",
       "    <tr>\n",
       "      <th>0</th>\n",
       "      <td>사직동</td>\n",
       "      <td>광화문풍림스페이스본(9-0)</td>\n",
       "      <td>95.88</td>\n",
       "      <td>6</td>\n",
       "      <td>70000</td>\n",
       "      <td>0</td>\n",
       "      <td>14</td>\n",
       "      <td>-1.000000e+00</td>\n",
       "      <td>-1.836970e-16</td>\n",
       "    </tr>\n",
       "    <tr>\n",
       "      <th>1</th>\n",
       "      <td>사직동</td>\n",
       "      <td>광화문풍림스페이스본(9-0)</td>\n",
       "      <td>108.55</td>\n",
       "      <td>11</td>\n",
       "      <td>100500</td>\n",
       "      <td>0</td>\n",
       "      <td>14</td>\n",
       "      <td>-2.449294e-16</td>\n",
       "      <td>1.000000e+00</td>\n",
       "    </tr>\n",
       "    <tr>\n",
       "      <th>2</th>\n",
       "      <td>사직동</td>\n",
       "      <td>광화문풍림스페이스본(9-0)</td>\n",
       "      <td>94.51</td>\n",
       "      <td>1</td>\n",
       "      <td>65800</td>\n",
       "      <td>0</td>\n",
       "      <td>14</td>\n",
       "      <td>-2.449294e-16</td>\n",
       "      <td>1.000000e+00</td>\n",
       "    </tr>\n",
       "    <tr>\n",
       "      <th>3</th>\n",
       "      <td>수송동</td>\n",
       "      <td>로얄팰리스스위트</td>\n",
       "      <td>42.87</td>\n",
       "      <td>8</td>\n",
       "      <td>30500</td>\n",
       "      <td>0</td>\n",
       "      <td>17</td>\n",
       "      <td>-1.000000e+00</td>\n",
       "      <td>-1.836970e-16</td>\n",
       "    </tr>\n",
       "    <tr>\n",
       "      <th>4</th>\n",
       "      <td>수송동</td>\n",
       "      <td>로얄팰리스스위트</td>\n",
       "      <td>39.67</td>\n",
       "      <td>15</td>\n",
       "      <td>30500</td>\n",
       "      <td>0</td>\n",
       "      <td>17</td>\n",
       "      <td>1.000000e+00</td>\n",
       "      <td>3.061617e-16</td>\n",
       "    </tr>\n",
       "  </tbody>\n",
       "</table>\n",
       "</div>"
      ],
      "text/plain": [
       "  dong              apt  exclusive_use_area  floor   price  transaction_year  \\\n",
       "0  사직동  광화문풍림스페이스본(9-0)               95.88      6   70000                 0   \n",
       "1  사직동  광화문풍림스페이스본(9-0)              108.55     11  100500                 0   \n",
       "2  사직동  광화문풍림스페이스본(9-0)               94.51      1   65800                 0   \n",
       "3  수송동         로얄팰리스스위트               42.87      8   30500                 0   \n",
       "4  수송동         로얄팰리스스위트               39.67     15   30500                 0   \n",
       "\n",
       "   until_trans      sin_date      cos_date  \n",
       "0           14 -1.000000e+00 -1.836970e-16  \n",
       "1           14 -2.449294e-16  1.000000e+00  \n",
       "2           14 -2.449294e-16  1.000000e+00  \n",
       "3           17 -1.000000e+00 -1.836970e-16  \n",
       "4           17  1.000000e+00  3.061617e-16  "
      ]
     },
     "execution_count": 52,
     "metadata": {},
     "output_type": "execute_result"
    }
   ],
   "source": [
    "data.head()"
   ]
  },
  {
   "cell_type": "markdown",
   "metadata": {},
   "source": [
    "2.2의 시각화 결과에 따르면 거래 연도와 거래 횟수, 그리고 거래 연도와 거래 가격 간에 선형적 증가 또는 선형적 감소의 관계가 존재하지 않기 때문에 레이블 인코딩을 통해 관찰값을 일괄적인 숫자 값으로 변환함으로써 숫자의 크기를 특성으로 작용하게끔 하는 것은 부적절할 것으로 보인다."
   ]
  },
  {
   "cell_type": "markdown",
   "metadata": {},
   "source": [
    "### 5.3 레이블(label) 인코딩"
   ]
  },
  {
   "cell_type": "code",
   "execution_count": 53,
   "metadata": {},
   "outputs": [],
   "source": [
    "data_label = data\n",
    "data_label['dong'] = le.fit_transform(data['dong'])\n",
    "data_label['apt'] = le.fit_transform(data['apt'])"
   ]
  },
  {
   "cell_type": "code",
   "execution_count": 54,
   "metadata": {},
   "outputs": [
    {
     "data": {
      "text/html": [
       "<div>\n",
       "<style scoped>\n",
       "    .dataframe tbody tr th:only-of-type {\n",
       "        vertical-align: middle;\n",
       "    }\n",
       "\n",
       "    .dataframe tbody tr th {\n",
       "        vertical-align: top;\n",
       "    }\n",
       "\n",
       "    .dataframe thead th {\n",
       "        text-align: right;\n",
       "    }\n",
       "</style>\n",
       "<table border=\"1\" class=\"dataframe\">\n",
       "  <thead>\n",
       "    <tr style=\"text-align: right;\">\n",
       "      <th></th>\n",
       "      <th>dong</th>\n",
       "      <th>apt</th>\n",
       "      <th>exclusive_use_area</th>\n",
       "      <th>floor</th>\n",
       "      <th>price</th>\n",
       "      <th>transaction_year</th>\n",
       "      <th>until_trans</th>\n",
       "      <th>sin_date</th>\n",
       "      <th>cos_date</th>\n",
       "    </tr>\n",
       "  </thead>\n",
       "  <tbody>\n",
       "    <tr>\n",
       "      <th>0</th>\n",
       "      <td>130</td>\n",
       "      <td>805</td>\n",
       "      <td>95.88</td>\n",
       "      <td>6</td>\n",
       "      <td>70000</td>\n",
       "      <td>0</td>\n",
       "      <td>14</td>\n",
       "      <td>-1.000000e+00</td>\n",
       "      <td>-1.836970e-16</td>\n",
       "    </tr>\n",
       "    <tr>\n",
       "      <th>1</th>\n",
       "      <td>130</td>\n",
       "      <td>805</td>\n",
       "      <td>108.55</td>\n",
       "      <td>11</td>\n",
       "      <td>100500</td>\n",
       "      <td>0</td>\n",
       "      <td>14</td>\n",
       "      <td>-2.449294e-16</td>\n",
       "      <td>1.000000e+00</td>\n",
       "    </tr>\n",
       "    <tr>\n",
       "      <th>2</th>\n",
       "      <td>130</td>\n",
       "      <td>805</td>\n",
       "      <td>94.51</td>\n",
       "      <td>1</td>\n",
       "      <td>65800</td>\n",
       "      <td>0</td>\n",
       "      <td>14</td>\n",
       "      <td>-2.449294e-16</td>\n",
       "      <td>1.000000e+00</td>\n",
       "    </tr>\n",
       "    <tr>\n",
       "      <th>3</th>\n",
       "      <td>164</td>\n",
       "      <td>2042</td>\n",
       "      <td>42.87</td>\n",
       "      <td>8</td>\n",
       "      <td>30500</td>\n",
       "      <td>0</td>\n",
       "      <td>17</td>\n",
       "      <td>-1.000000e+00</td>\n",
       "      <td>-1.836970e-16</td>\n",
       "    </tr>\n",
       "    <tr>\n",
       "      <th>4</th>\n",
       "      <td>164</td>\n",
       "      <td>2042</td>\n",
       "      <td>39.67</td>\n",
       "      <td>15</td>\n",
       "      <td>30500</td>\n",
       "      <td>0</td>\n",
       "      <td>17</td>\n",
       "      <td>1.000000e+00</td>\n",
       "      <td>3.061617e-16</td>\n",
       "    </tr>\n",
       "  </tbody>\n",
       "</table>\n",
       "</div>"
      ],
      "text/plain": [
       "   dong   apt  exclusive_use_area  floor   price  transaction_year  \\\n",
       "0   130   805               95.88      6   70000                 0   \n",
       "1   130   805              108.55     11  100500                 0   \n",
       "2   130   805               94.51      1   65800                 0   \n",
       "3   164  2042               42.87      8   30500                 0   \n",
       "4   164  2042               39.67     15   30500                 0   \n",
       "\n",
       "   until_trans      sin_date      cos_date  \n",
       "0           14 -1.000000e+00 -1.836970e-16  \n",
       "1           14 -2.449294e-16  1.000000e+00  \n",
       "2           14 -2.449294e-16  1.000000e+00  \n",
       "3           17 -1.000000e+00 -1.836970e-16  \n",
       "4           17  1.000000e+00  3.061617e-16  "
      ]
     },
     "execution_count": 54,
     "metadata": {},
     "output_type": "execute_result"
    }
   ],
   "source": [
    "data_label.head()"
   ]
  },
  {
   "cell_type": "markdown",
   "metadata": {},
   "source": [
    "변수 'dong'과 'apt'에 대해 이전에 진행했던 임베딩 및 인코딩 방식과 달리 레이블 인코딩의 경우 불필요하게 column의 개수를 늘리지 않고서 값들을 처리할 수 있어 분명한 이점이 있을 것으로 생각되지만, 이 역시 분석 시에 순서 개념을 전제하여 학습될 수 있음을 경계해야 한다."
   ]
  },
  {
   "cell_type": "markdown",
   "metadata": {},
   "source": [
    "### 5.3 mean encoding"
   ]
  },
  {
   "cell_type": "code",
   "execution_count": 55,
   "metadata": {},
   "outputs": [],
   "source": [
    "target = 'price'\n",
    "apt_mean = data.groupby('apt')[target].mean()"
   ]
  },
  {
   "cell_type": "code",
   "execution_count": 56,
   "metadata": {},
   "outputs": [],
   "source": [
    "data['apt'] = data['apt'].map(apt_mean)"
   ]
  },
  {
   "cell_type": "code",
   "execution_count": 57,
   "metadata": {},
   "outputs": [
    {
     "data": {
      "text/html": [
       "<div>\n",
       "<style scoped>\n",
       "    .dataframe tbody tr th:only-of-type {\n",
       "        vertical-align: middle;\n",
       "    }\n",
       "\n",
       "    .dataframe tbody tr th {\n",
       "        vertical-align: top;\n",
       "    }\n",
       "\n",
       "    .dataframe thead th {\n",
       "        text-align: right;\n",
       "    }\n",
       "</style>\n",
       "<table border=\"1\" class=\"dataframe\">\n",
       "  <thead>\n",
       "    <tr style=\"text-align: right;\">\n",
       "      <th></th>\n",
       "      <th>dong</th>\n",
       "      <th>apt</th>\n",
       "      <th>exclusive_use_area</th>\n",
       "      <th>floor</th>\n",
       "      <th>price</th>\n",
       "      <th>transaction_year</th>\n",
       "      <th>until_trans</th>\n",
       "      <th>sin_date</th>\n",
       "      <th>cos_date</th>\n",
       "    </tr>\n",
       "  </thead>\n",
       "  <tbody>\n",
       "    <tr>\n",
       "      <th>0</th>\n",
       "      <td>130</td>\n",
       "      <td>91174.766355</td>\n",
       "      <td>95.88</td>\n",
       "      <td>6</td>\n",
       "      <td>70000</td>\n",
       "      <td>0</td>\n",
       "      <td>14</td>\n",
       "      <td>-1.000000e+00</td>\n",
       "      <td>-1.836970e-16</td>\n",
       "    </tr>\n",
       "    <tr>\n",
       "      <th>1</th>\n",
       "      <td>130</td>\n",
       "      <td>91174.766355</td>\n",
       "      <td>108.55</td>\n",
       "      <td>11</td>\n",
       "      <td>100500</td>\n",
       "      <td>0</td>\n",
       "      <td>14</td>\n",
       "      <td>-2.449294e-16</td>\n",
       "      <td>1.000000e+00</td>\n",
       "    </tr>\n",
       "    <tr>\n",
       "      <th>2</th>\n",
       "      <td>130</td>\n",
       "      <td>91174.766355</td>\n",
       "      <td>94.51</td>\n",
       "      <td>1</td>\n",
       "      <td>65800</td>\n",
       "      <td>0</td>\n",
       "      <td>14</td>\n",
       "      <td>-2.449294e-16</td>\n",
       "      <td>1.000000e+00</td>\n",
       "    </tr>\n",
       "    <tr>\n",
       "      <th>3</th>\n",
       "      <td>164</td>\n",
       "      <td>36609.649123</td>\n",
       "      <td>42.87</td>\n",
       "      <td>8</td>\n",
       "      <td>30500</td>\n",
       "      <td>0</td>\n",
       "      <td>17</td>\n",
       "      <td>-1.000000e+00</td>\n",
       "      <td>-1.836970e-16</td>\n",
       "    </tr>\n",
       "    <tr>\n",
       "      <th>4</th>\n",
       "      <td>164</td>\n",
       "      <td>36609.649123</td>\n",
       "      <td>39.67</td>\n",
       "      <td>15</td>\n",
       "      <td>30500</td>\n",
       "      <td>0</td>\n",
       "      <td>17</td>\n",
       "      <td>1.000000e+00</td>\n",
       "      <td>3.061617e-16</td>\n",
       "    </tr>\n",
       "  </tbody>\n",
       "</table>\n",
       "</div>"
      ],
      "text/plain": [
       "   dong           apt  exclusive_use_area  floor   price  transaction_year  \\\n",
       "0   130  91174.766355               95.88      6   70000                 0   \n",
       "1   130  91174.766355              108.55     11  100500                 0   \n",
       "2   130  91174.766355               94.51      1   65800                 0   \n",
       "3   164  36609.649123               42.87      8   30500                 0   \n",
       "4   164  36609.649123               39.67     15   30500                 0   \n",
       "\n",
       "   until_trans      sin_date      cos_date  \n",
       "0           14 -1.000000e+00 -1.836970e-16  \n",
       "1           14 -2.449294e-16  1.000000e+00  \n",
       "2           14 -2.449294e-16  1.000000e+00  \n",
       "3           17 -1.000000e+00 -1.836970e-16  \n",
       "4           17  1.000000e+00  3.061617e-16  "
      ]
     },
     "execution_count": 57,
     "metadata": {},
     "output_type": "execute_result"
    }
   ],
   "source": [
    "data.head()"
   ]
  },
  {
   "cell_type": "markdown",
   "metadata": {},
   "source": [
    "mean encoding을 진행한 결과 column의 개수가 늘어나지 않아 차원의 저주 문제도 없고, 범주형 특성을 인코딩 결과에 담았기에 보다 향상된 예측을 담보할 수 있다는 이점이 있을 것으로 생각된다. 그러나 그와 동시에 예측값에 대한 정보를 데이터셋에 직접적으로 반영했기 때문에 오버피팅의 문제가 발생할 수 있을 것으로도 보인다."
   ]
  }
 ],
 "metadata": {
  "kernelspec": {
   "display_name": "Python 3",
   "language": "python",
   "name": "python3"
  },
  "language_info": {
   "codemirror_mode": {
    "name": "ipython",
    "version": 3
   },
   "file_extension": ".py",
   "mimetype": "text/x-python",
   "name": "python",
   "nbconvert_exporter": "python",
   "pygments_lexer": "ipython3",
   "version": "3.8.5"
  }
 },
 "nbformat": 4,
 "nbformat_minor": 4
}
