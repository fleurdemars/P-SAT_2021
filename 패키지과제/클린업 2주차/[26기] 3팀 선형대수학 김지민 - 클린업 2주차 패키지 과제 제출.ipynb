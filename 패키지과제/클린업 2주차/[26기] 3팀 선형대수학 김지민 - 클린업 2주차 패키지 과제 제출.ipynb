{
 "cells": [
  {
   "cell_type": "markdown",
   "metadata": {},
   "source": [
    "# 클린업 2주차 패키지 과제 - 3팀 선형대수학팀 김지민"
   ]
  },
  {
   "cell_type": "markdown",
   "metadata": {},
   "source": [
    " "
   ]
  },
  {
   "cell_type": "markdown",
   "metadata": {},
   "source": [
    "## Chapter 1. 모델링을 위한 전처리"
   ]
  },
  {
   "cell_type": "markdown",
   "metadata": {},
   "source": [
    "### 문제 0 기본 세팅"
   ]
  },
  {
   "cell_type": "code",
   "execution_count": 1,
   "metadata": {},
   "outputs": [
    {
     "name": "stderr",
     "output_type": "stream",
     "text": [
      "-- \u001b[1mAttaching packages\u001b[22m ------------------------------------------------------------------------------- tidyverse 1.3.0 --\n",
      "\n",
      "\u001b[32m√\u001b[39m \u001b[34mggplot2\u001b[39m 3.3.3     \u001b[32m√\u001b[39m \u001b[34mpurrr  \u001b[39m 0.3.4\n",
      "\u001b[32m√\u001b[39m \u001b[34mtibble \u001b[39m 3.0.4     \u001b[32m√\u001b[39m \u001b[34mdplyr  \u001b[39m 1.0.2\n",
      "\u001b[32m√\u001b[39m \u001b[34mtidyr  \u001b[39m 1.1.2     \u001b[32m√\u001b[39m \u001b[34mstringr\u001b[39m 1.4.0\n",
      "\u001b[32m√\u001b[39m \u001b[34mreadr  \u001b[39m 1.4.0     \u001b[32m√\u001b[39m \u001b[34mforcats\u001b[39m 0.5.0\n",
      "\n",
      "-- \u001b[1mConflicts\u001b[22m ---------------------------------------------------------------------------------- tidyverse_conflicts() --\n",
      "\u001b[31mx\u001b[39m \u001b[34mdplyr\u001b[39m::\u001b[32mfilter()\u001b[39m masks \u001b[34mstats\u001b[39m::filter()\n",
      "\u001b[31mx\u001b[39m \u001b[34mdplyr\u001b[39m::\u001b[32mlag()\u001b[39m    masks \u001b[34mstats\u001b[39m::lag()\n",
      "\n",
      "\n",
      "Attaching package: 'data.table'\n",
      "\n",
      "\n",
      "The following objects are masked from 'package:dplyr':\n",
      "\n",
      "    between, first, last\n",
      "\n",
      "\n",
      "The following object is masked from 'package:purrr':\n",
      "\n",
      "    transpose\n",
      "\n",
      "\n",
      "Warning message:\n",
      "\"package 'VIM' was built under R version 4.0.4\"\n",
      "Loading required package: colorspace\n",
      "\n",
      "Loading required package: grid\n",
      "\n",
      "VIM is ready to use.\n",
      "\n",
      "\n",
      "Suggestions and bug-reports can be submitted at: https://github.com/statistikat/VIM/issues\n",
      "\n",
      "\n",
      "Attaching package: 'VIM'\n",
      "\n",
      "\n",
      "The following object is masked from 'package:datasets':\n",
      "\n",
      "    sleep\n",
      "\n",
      "\n"
     ]
    }
   ],
   "source": [
    "library(tidyverse)\n",
    "library(data.table)\n",
    "library(VIM)"
   ]
  },
  {
   "cell_type": "code",
   "execution_count": 2,
   "metadata": {},
   "outputs": [],
   "source": [
    "setwd('C:/Users/fleur/2021 P-SAT/패키지과제/클린업 2주차')"
   ]
  },
  {
   "cell_type": "code",
   "execution_count": 3,
   "metadata": {},
   "outputs": [],
   "source": [
    "dataset = fread('data.csv', data.table = FALSE)"
   ]
  },
  {
   "cell_type": "code",
   "execution_count": 4,
   "metadata": {},
   "outputs": [
    {
     "data": {
      "text/html": [
       "<table>\n",
       "<caption>A data.frame: 6 × 43</caption>\n",
       "<thead>\n",
       "\t<tr><th></th><th scope=col>OC</th><th scope=col>bedCount</th><th scope=col>revenue1</th><th scope=col>salescost1</th><th scope=col>sga1</th><th scope=col>salary1</th><th scope=col>noi1</th><th scope=col>noe1</th><th scope=col>interest1</th><th scope=col>ctax1</th><th scope=col>...</th><th scope=col>inventoryAsset2</th><th scope=col>nonCAsset2</th><th scope=col>tanAsset2</th><th scope=col>OnonCAsset2</th><th scope=col>receivableL2</th><th scope=col>debt2</th><th scope=col>surplus2</th><th scope=col>employee1</th><th scope=col>employee2</th><th scope=col>ownerChange</th></tr>\n",
       "\t<tr><th></th><th scope=col>&lt;chr&gt;</th><th scope=col>&lt;int&gt;</th><th scope=col>&lt;dbl&gt;</th><th scope=col>&lt;dbl&gt;</th><th scope=col>&lt;dbl&gt;</th><th scope=col>&lt;dbl&gt;</th><th scope=col>&lt;int64&gt;</th><th scope=col>&lt;int64&gt;</th><th scope=col>&lt;int64&gt;</th><th scope=col>&lt;int64&gt;</th><th scope=col>...</th><th scope=col>&lt;int&gt;</th><th scope=col>&lt;dbl&gt;</th><th scope=col>&lt;dbl&gt;</th><th scope=col>&lt;dbl&gt;</th><th scope=col>&lt;int&gt;</th><th scope=col>&lt;int64&gt;</th><th scope=col>&lt;int64&gt;</th><th scope=col>&lt;int&gt;</th><th scope=col>&lt;int&gt;</th><th scope=col>&lt;chr&gt;</th></tr>\n",
       "</thead>\n",
       "<tbody>\n",
       "\t<tr><th scope=row>1</th><td>open</td><td>175</td><td> 4217530010</td><td>         0</td><td> 3961134739</td><td> 2033835290</td><td> 15652441</td><td>  15236236</td><td>  13236236</td><td> 31641798</td><td>...</td><td>  13598970</td><td> 2548114776</td><td> 2386262842</td><td> 145898600</td><td> 0</td><td>  758993742</td><td>1271224493</td><td> 62</td><td> 64</td><td>same</td></tr>\n",
       "\t<tr><th scope=row>2</th><td>open</td><td>410</td><td>         NA</td><td>        NA</td><td>         NA</td><td>         NA</td><td>       NA</td><td>        NA</td><td>        NA</td><td>       NA</td><td>...</td><td>        NA</td><td>         NA</td><td>         NA</td><td>        NA</td><td>NA</td><td>         NA</td><td>        NA</td><td>801</td><td>813</td><td>same</td></tr>\n",
       "\t<tr><th scope=row>3</th><td>open</td><td>468</td><td> 1004521989</td><td> 515483669</td><td>  447219722</td><td>  296402310</td><td>    76156</td><td>     30000</td><td>         0</td><td>        0</td><td>...</td><td>         0</td><td>          0</td><td>          0</td><td>         0</td><td> 0</td><td>          0</td><td>         0</td><td>234</td><td>  1</td><td>same</td></tr>\n",
       "\t<tr><th scope=row>4</th><td>open</td><td>353</td><td>72507342181</td><td>         0</td><td>70677397660</td><td>31786048663</td><td>506223059</td><td>1259567512</td><td>1196881219</td><td>173769780</td><td>...</td><td>1235180960</td><td>39583561930</td><td>34855762555</td><td>3915906050</td><td> 0</td><td>37755010512</td><td>7740829037</td><td>663</td><td>663</td><td>same</td></tr>\n",
       "\t<tr><th scope=row>5</th><td>open</td><td>196</td><td>49043538016</td><td>         0</td><td>47656051197</td><td>24460782270</td><td>112352259</td><td>1419089382</td><td>1307248652</td><td>        0</td><td>...</td><td> 442759131</td><td>46531378337</td><td>45629447727</td><td> 789340700</td><td> 0</td><td>51432592890</td><td>9025549604</td><td>206</td><td>197</td><td>same</td></tr>\n",
       "\t<tr><th scope=row>6</th><td>open</td><td>243</td><td>33580536703</td><td>9222996930</td><td>23727912054</td><td>16655333342</td><td> 65414325</td><td> 741269419</td><td> 336462245</td><td>        0</td><td>...</td><td> 143561784</td><td>22127146425</td><td>21861133888</td><td> 191046000</td><td> 0</td><td>          0</td><td>5879003604</td><td>397</td><td>390</td><td>same</td></tr>\n",
       "</tbody>\n",
       "</table>\n"
      ],
      "text/latex": [
       "A data.frame: 6 × 43\n",
       "\\begin{tabular}{r|lllllllllllllllllllll}\n",
       "  & OC & bedCount & revenue1 & salescost1 & sga1 & salary1 & noi1 & noe1 & interest1 & ctax1 & ... & inventoryAsset2 & nonCAsset2 & tanAsset2 & OnonCAsset2 & receivableL2 & debt2 & surplus2 & employee1 & employee2 & ownerChange\\\\\n",
       "  & <chr> & <int> & <dbl> & <dbl> & <dbl> & <dbl> & <int64> & <int64> & <int64> & <int64> & ... & <int> & <dbl> & <dbl> & <dbl> & <int> & <int64> & <int64> & <int> & <int> & <chr>\\\\\n",
       "\\hline\n",
       "\t1 & open & 175 &  4217530010 &          0 &  3961134739 &  2033835290 &  15652441 &   15236236 &   13236236 &  31641798 & ... &   13598970 &  2548114776 &  2386262842 &  145898600 &  0 &   758993742 & 1271224493 &  62 &  64 & same\\\\\n",
       "\t2 & open & 410 &          NA &         NA &          NA &          NA &        NA &         NA &         NA &        NA & ... &         NA &          NA &          NA &         NA & NA &          NA &         NA & 801 & 813 & same\\\\\n",
       "\t3 & open & 468 &  1004521989 &  515483669 &   447219722 &   296402310 &     76156 &      30000 &          0 &         0 & ... &          0 &           0 &           0 &          0 &  0 &           0 &          0 & 234 &   1 & same\\\\\n",
       "\t4 & open & 353 & 72507342181 &          0 & 70677397660 & 31786048663 & 506223059 & 1259567512 & 1196881219 & 173769780 & ... & 1235180960 & 39583561930 & 34855762555 & 3915906050 &  0 & 37755010512 & 7740829037 & 663 & 663 & same\\\\\n",
       "\t5 & open & 196 & 49043538016 &          0 & 47656051197 & 24460782270 & 112352259 & 1419089382 & 1307248652 &         0 & ... &  442759131 & 46531378337 & 45629447727 &  789340700 &  0 & 51432592890 & 9025549604 & 206 & 197 & same\\\\\n",
       "\t6 & open & 243 & 33580536703 & 9222996930 & 23727912054 & 16655333342 &  65414325 &  741269419 &  336462245 &         0 & ... &  143561784 & 22127146425 & 21861133888 &  191046000 &  0 &           0 & 5879003604 & 397 & 390 & same\\\\\n",
       "\\end{tabular}\n"
      ],
      "text/markdown": [
       "\n",
       "A data.frame: 6 × 43\n",
       "\n",
       "| <!--/--> | OC &lt;chr&gt; | bedCount &lt;int&gt; | revenue1 &lt;dbl&gt; | salescost1 &lt;dbl&gt; | sga1 &lt;dbl&gt; | salary1 &lt;dbl&gt; | noi1 &lt;int64&gt; | noe1 &lt;int64&gt; | interest1 &lt;int64&gt; | ctax1 &lt;int64&gt; | ... ... | inventoryAsset2 &lt;int&gt; | nonCAsset2 &lt;dbl&gt; | tanAsset2 &lt;dbl&gt; | OnonCAsset2 &lt;dbl&gt; | receivableL2 &lt;int&gt; | debt2 &lt;int64&gt; | surplus2 &lt;int64&gt; | employee1 &lt;int&gt; | employee2 &lt;int&gt; | ownerChange &lt;chr&gt; |\n",
       "|---|---|---|---|---|---|---|---|---|---|---|---|---|---|---|---|---|---|---|---|---|---|\n",
       "| 1 | open | 175 |  4217530010 |          0 |  3961134739 |  2033835290 |  15652441 |   15236236 |   13236236 |  31641798 | ... |   13598970 |  2548114776 |  2386262842 |  145898600 |  0 |   758993742 | 1271224493 |  62 |  64 | same |\n",
       "| 2 | open | 410 |          NA |         NA |          NA |          NA |        NA |         NA |         NA |        NA | ... |         NA |          NA |          NA |         NA | NA |          NA |         NA | 801 | 813 | same |\n",
       "| 3 | open | 468 |  1004521989 |  515483669 |   447219722 |   296402310 |     76156 |      30000 |          0 |         0 | ... |          0 |           0 |           0 |          0 |  0 |           0 |          0 | 234 |   1 | same |\n",
       "| 4 | open | 353 | 72507342181 |          0 | 70677397660 | 31786048663 | 506223059 | 1259567512 | 1196881219 | 173769780 | ... | 1235180960 | 39583561930 | 34855762555 | 3915906050 |  0 | 37755010512 | 7740829037 | 663 | 663 | same |\n",
       "| 5 | open | 196 | 49043538016 |          0 | 47656051197 | 24460782270 | 112352259 | 1419089382 | 1307248652 |         0 | ... |  442759131 | 46531378337 | 45629447727 |  789340700 |  0 | 51432592890 | 9025549604 | 206 | 197 | same |\n",
       "| 6 | open | 243 | 33580536703 | 9222996930 | 23727912054 | 16655333342 |  65414325 |  741269419 |  336462245 |         0 | ... |  143561784 | 22127146425 | 21861133888 |  191046000 |  0 |           0 | 5879003604 | 397 | 390 | same |\n",
       "\n"
      ],
      "text/plain": [
       "  OC   bedCount revenue1    salescost1 sga1        salary1     noi1     \n",
       "1 open 175       4217530010          0  3961134739  2033835290  15652441\n",
       "2 open 410               NA         NA          NA          NA        NA\n",
       "3 open 468       1004521989  515483669   447219722   296402310     76156\n",
       "4 open 353      72507342181          0 70677397660 31786048663 506223059\n",
       "5 open 196      49043538016          0 47656051197 24460782270 112352259\n",
       "6 open 243      33580536703 9222996930 23727912054 16655333342  65414325\n",
       "  noe1       interest1  ctax1     ... inventoryAsset2 nonCAsset2  tanAsset2  \n",
       "1   15236236   13236236  31641798 ...   13598970       2548114776  2386262842\n",
       "2         NA         NA        NA ...         NA               NA          NA\n",
       "3      30000          0         0 ...          0                0           0\n",
       "4 1259567512 1196881219 173769780 ... 1235180960      39583561930 34855762555\n",
       "5 1419089382 1307248652         0 ...  442759131      46531378337 45629447727\n",
       "6  741269419  336462245         0 ...  143561784      22127146425 21861133888\n",
       "  OnonCAsset2 receivableL2 debt2       surplus2   employee1 employee2\n",
       "1  145898600   0             758993742 1271224493  62        64      \n",
       "2         NA  NA                    NA         NA 801       813      \n",
       "3          0   0                     0          0 234         1      \n",
       "4 3915906050   0           37755010512 7740829037 663       663      \n",
       "5  789340700   0           51432592890 9025549604 206       197      \n",
       "6  191046000   0                     0 5879003604 397       390      \n",
       "  ownerChange\n",
       "1 same       \n",
       "2 same       \n",
       "3 same       \n",
       "4 same       \n",
       "5 same       \n",
       "6 same       "
      ]
     },
     "metadata": {},
     "output_type": "display_data"
    }
   ],
   "source": [
    "dataset %>% head()"
   ]
  },
  {
   "cell_type": "markdown",
   "metadata": {},
   "source": [
    "### 문제 1 '2'로 끝나는 변수 제거"
   ]
  },
  {
   "cell_type": "code",
   "execution_count": 5,
   "metadata": {},
   "outputs": [
    {
     "data": {
      "text/html": [
       "<table>\n",
       "<caption>A data.frame: 6 × 23</caption>\n",
       "<thead>\n",
       "\t<tr><th></th><th scope=col>OC</th><th scope=col>bedCount</th><th scope=col>revenue1</th><th scope=col>salescost1</th><th scope=col>sga1</th><th scope=col>salary1</th><th scope=col>noi1</th><th scope=col>noe1</th><th scope=col>interest1</th><th scope=col>ctax1</th><th scope=col>...</th><th scope=col>receivableS1</th><th scope=col>inventoryAsset1</th><th scope=col>nonCAsset1</th><th scope=col>tanAsset1</th><th scope=col>OnonCAsset1</th><th scope=col>receivableL1</th><th scope=col>debt1</th><th scope=col>surplus1</th><th scope=col>employee1</th><th scope=col>ownerChange</th></tr>\n",
       "\t<tr><th></th><th scope=col>&lt;chr&gt;</th><th scope=col>&lt;int&gt;</th><th scope=col>&lt;dbl&gt;</th><th scope=col>&lt;dbl&gt;</th><th scope=col>&lt;dbl&gt;</th><th scope=col>&lt;dbl&gt;</th><th scope=col>&lt;int64&gt;</th><th scope=col>&lt;int64&gt;</th><th scope=col>&lt;int64&gt;</th><th scope=col>&lt;int64&gt;</th><th scope=col>...</th><th scope=col>&lt;dbl&gt;</th><th scope=col>&lt;int&gt;</th><th scope=col>&lt;dbl&gt;</th><th scope=col>&lt;dbl&gt;</th><th scope=col>&lt;dbl&gt;</th><th scope=col>&lt;int&gt;</th><th scope=col>&lt;int64&gt;</th><th scope=col>&lt;dbl&gt;</th><th scope=col>&lt;int&gt;</th><th scope=col>&lt;chr&gt;</th></tr>\n",
       "</thead>\n",
       "<tbody>\n",
       "\t<tr><th scope=row>1</th><td>open</td><td>175</td><td> 4217530010</td><td>         0</td><td> 3961134739</td><td> 2033835290</td><td> 15652441</td><td>  15236236</td><td>  13236236</td><td> 31641798</td><td>...</td><td> 470055740</td><td>  15027807</td><td> 2514586477</td><td> 2360683543</td><td> 143449600</td><td> 0</td><td>  682825991</td><td>1496394171</td><td> 62</td><td>same</td></tr>\n",
       "\t<tr><th scope=row>2</th><td>open</td><td>410</td><td>         NA</td><td>        NA</td><td>         NA</td><td>         NA</td><td>       NA</td><td>        NA</td><td>        NA</td><td>       NA</td><td>...</td><td>        NA</td><td>        NA</td><td>         NA</td><td>         NA</td><td>        NA</td><td>NA</td><td>         NA</td><td>        NA</td><td>801</td><td>same</td></tr>\n",
       "\t<tr><th scope=row>3</th><td>open</td><td>468</td><td> 1004521989</td><td> 515483669</td><td>  447219722</td><td>  296402310</td><td>    76156</td><td>     30000</td><td>         0</td><td>        0</td><td>...</td><td>   8095950</td><td>  18759968</td><td>  120481028</td><td>  120481028</td><td>         0</td><td> 0</td><td>   92414342</td><td>         0</td><td>234</td><td>same</td></tr>\n",
       "\t<tr><th scope=row>4</th><td>open</td><td>353</td><td>72507342181</td><td>         0</td><td>70677397660</td><td>31786048663</td><td>506223059</td><td>1259567512</td><td>1196881219</td><td>173769780</td><td>...</td><td>         0</td><td>1506793440</td><td>43179356963</td><td>38320784344</td><td>3945208068</td><td> 0</td><td>42363797762</td><td>8643659325</td><td>663</td><td>same</td></tr>\n",
       "\t<tr><th scope=row>5</th><td>open</td><td>196</td><td>49043538016</td><td>         0</td><td>47656051197</td><td>24460782270</td><td>112352259</td><td>1419089382</td><td>1307248652</td><td>        0</td><td>...</td><td>4099320115</td><td> 443818577</td><td>43667333124</td><td>43306130668</td><td> 222340000</td><td> 0</td><td>49898105519</td><td>9025549604</td><td>206</td><td>same</td></tr>\n",
       "\t<tr><th scope=row>6</th><td>open</td><td>243</td><td>33580536703</td><td>9222996930</td><td>23727912054</td><td>16655333342</td><td> 65414325</td><td> 741269419</td><td> 336462245</td><td>        0</td><td>...</td><td> 663481970</td><td> 153424635</td><td>18649703167</td><td>18499383217</td><td> 136458178</td><td> 0</td><td>          0</td><td>3664918487</td><td>397</td><td>same</td></tr>\n",
       "</tbody>\n",
       "</table>\n"
      ],
      "text/latex": [
       "A data.frame: 6 × 23\n",
       "\\begin{tabular}{r|lllllllllllllllllllll}\n",
       "  & OC & bedCount & revenue1 & salescost1 & sga1 & salary1 & noi1 & noe1 & interest1 & ctax1 & ... & receivableS1 & inventoryAsset1 & nonCAsset1 & tanAsset1 & OnonCAsset1 & receivableL1 & debt1 & surplus1 & employee1 & ownerChange\\\\\n",
       "  & <chr> & <int> & <dbl> & <dbl> & <dbl> & <dbl> & <int64> & <int64> & <int64> & <int64> & ... & <dbl> & <int> & <dbl> & <dbl> & <dbl> & <int> & <int64> & <dbl> & <int> & <chr>\\\\\n",
       "\\hline\n",
       "\t1 & open & 175 &  4217530010 &          0 &  3961134739 &  2033835290 &  15652441 &   15236236 &   13236236 &  31641798 & ... &  470055740 &   15027807 &  2514586477 &  2360683543 &  143449600 &  0 &   682825991 & 1496394171 &  62 & same\\\\\n",
       "\t2 & open & 410 &          NA &         NA &          NA &          NA &        NA &         NA &         NA &        NA & ... &         NA &         NA &          NA &          NA &         NA & NA &          NA &         NA & 801 & same\\\\\n",
       "\t3 & open & 468 &  1004521989 &  515483669 &   447219722 &   296402310 &     76156 &      30000 &          0 &         0 & ... &    8095950 &   18759968 &   120481028 &   120481028 &          0 &  0 &    92414342 &          0 & 234 & same\\\\\n",
       "\t4 & open & 353 & 72507342181 &          0 & 70677397660 & 31786048663 & 506223059 & 1259567512 & 1196881219 & 173769780 & ... &          0 & 1506793440 & 43179356963 & 38320784344 & 3945208068 &  0 & 42363797762 & 8643659325 & 663 & same\\\\\n",
       "\t5 & open & 196 & 49043538016 &          0 & 47656051197 & 24460782270 & 112352259 & 1419089382 & 1307248652 &         0 & ... & 4099320115 &  443818577 & 43667333124 & 43306130668 &  222340000 &  0 & 49898105519 & 9025549604 & 206 & same\\\\\n",
       "\t6 & open & 243 & 33580536703 & 9222996930 & 23727912054 & 16655333342 &  65414325 &  741269419 &  336462245 &         0 & ... &  663481970 &  153424635 & 18649703167 & 18499383217 &  136458178 &  0 &           0 & 3664918487 & 397 & same\\\\\n",
       "\\end{tabular}\n"
      ],
      "text/markdown": [
       "\n",
       "A data.frame: 6 × 23\n",
       "\n",
       "| <!--/--> | OC &lt;chr&gt; | bedCount &lt;int&gt; | revenue1 &lt;dbl&gt; | salescost1 &lt;dbl&gt; | sga1 &lt;dbl&gt; | salary1 &lt;dbl&gt; | noi1 &lt;int64&gt; | noe1 &lt;int64&gt; | interest1 &lt;int64&gt; | ctax1 &lt;int64&gt; | ... ... | receivableS1 &lt;dbl&gt; | inventoryAsset1 &lt;int&gt; | nonCAsset1 &lt;dbl&gt; | tanAsset1 &lt;dbl&gt; | OnonCAsset1 &lt;dbl&gt; | receivableL1 &lt;int&gt; | debt1 &lt;int64&gt; | surplus1 &lt;dbl&gt; | employee1 &lt;int&gt; | ownerChange &lt;chr&gt; |\n",
       "|---|---|---|---|---|---|---|---|---|---|---|---|---|---|---|---|---|---|---|---|---|---|\n",
       "| 1 | open | 175 |  4217530010 |          0 |  3961134739 |  2033835290 |  15652441 |   15236236 |   13236236 |  31641798 | ... |  470055740 |   15027807 |  2514586477 |  2360683543 |  143449600 |  0 |   682825991 | 1496394171 |  62 | same |\n",
       "| 2 | open | 410 |          NA |         NA |          NA |          NA |        NA |         NA |         NA |        NA | ... |         NA |         NA |          NA |          NA |         NA | NA |          NA |         NA | 801 | same |\n",
       "| 3 | open | 468 |  1004521989 |  515483669 |   447219722 |   296402310 |     76156 |      30000 |          0 |         0 | ... |    8095950 |   18759968 |   120481028 |   120481028 |          0 |  0 |    92414342 |          0 | 234 | same |\n",
       "| 4 | open | 353 | 72507342181 |          0 | 70677397660 | 31786048663 | 506223059 | 1259567512 | 1196881219 | 173769780 | ... |          0 | 1506793440 | 43179356963 | 38320784344 | 3945208068 |  0 | 42363797762 | 8643659325 | 663 | same |\n",
       "| 5 | open | 196 | 49043538016 |          0 | 47656051197 | 24460782270 | 112352259 | 1419089382 | 1307248652 |         0 | ... | 4099320115 |  443818577 | 43667333124 | 43306130668 |  222340000 |  0 | 49898105519 | 9025549604 | 206 | same |\n",
       "| 6 | open | 243 | 33580536703 | 9222996930 | 23727912054 | 16655333342 |  65414325 |  741269419 |  336462245 |         0 | ... |  663481970 |  153424635 | 18649703167 | 18499383217 |  136458178 |  0 |           0 | 3664918487 | 397 | same |\n",
       "\n"
      ],
      "text/plain": [
       "  OC   bedCount revenue1    salescost1 sga1        salary1     noi1     \n",
       "1 open 175       4217530010          0  3961134739  2033835290  15652441\n",
       "2 open 410               NA         NA          NA          NA        NA\n",
       "3 open 468       1004521989  515483669   447219722   296402310     76156\n",
       "4 open 353      72507342181          0 70677397660 31786048663 506223059\n",
       "5 open 196      49043538016          0 47656051197 24460782270 112352259\n",
       "6 open 243      33580536703 9222996930 23727912054 16655333342  65414325\n",
       "  noe1       interest1  ctax1     ... receivableS1 inventoryAsset1 nonCAsset1 \n",
       "1   15236236   13236236  31641798 ...  470055740     15027807       2514586477\n",
       "2         NA         NA        NA ...         NA           NA               NA\n",
       "3      30000          0         0 ...    8095950     18759968        120481028\n",
       "4 1259567512 1196881219 173769780 ...          0   1506793440      43179356963\n",
       "5 1419089382 1307248652         0 ... 4099320115    443818577      43667333124\n",
       "6  741269419  336462245         0 ...  663481970    153424635      18649703167\n",
       "  tanAsset1   OnonCAsset1 receivableL1 debt1       surplus1   employee1\n",
       "1  2360683543  143449600   0             682825991 1496394171  62      \n",
       "2          NA         NA  NA                    NA         NA 801      \n",
       "3   120481028          0   0              92414342          0 234      \n",
       "4 38320784344 3945208068   0           42363797762 8643659325 663      \n",
       "5 43306130668  222340000   0           49898105519 9025549604 206      \n",
       "6 18499383217  136458178   0                     0 3664918487 397      \n",
       "  ownerChange\n",
       "1 same       \n",
       "2 same       \n",
       "3 same       \n",
       "4 same       \n",
       "5 same       \n",
       "6 same       "
      ]
     },
     "metadata": {},
     "output_type": "display_data"
    }
   ],
   "source": [
    "dataset = dataset[,-which(substr(colnames(dataset), nchar(colnames(dataset)), nchar(colnames(dataset))) == 2)]\n",
    "dataset %>% head()"
   ]
  },
  {
   "cell_type": "markdown",
   "metadata": {},
   "source": [
    "### 문제 2 'VIM' 패키지로 데이터셋의 NA 시각화"
   ]
  },
  {
   "cell_type": "code",
   "execution_count": 6,
   "metadata": {},
   "outputs": [
    {
     "data": {
      "image/png": "[encoded data removed]",
      "text/plain": [
       "plot without title"
      ]
     },
     "metadata": {
      "image/png": {
       "height": 300,
       "width": 600
      }
     },
     "output_type": "display_data"
    }
   ],
   "source": [
    "options(repr.plot.width = 10, repr.plot.height = 5)\n",
    "dataset %>% aggr(col = c('lightyellow','pink'),\n",
    "             prop = FALSE, numbers = TRUE)"
   ]
  },
  {
   "cell_type": "markdown",
   "metadata": {},
   "source": [
    "시각화 결과, NA가 하나도 없는 행은 총 279개인 것으로 나타났다. 즉 NA의 총 개수는 179개인 반면 행을 기준으로 보았을 때에는 총 301행 중 22행에만 NA가 있는 것이다. 또한 오른쪽 플랏을 통해 상당히 많은 변수에서 동시에 missing이 일어난 경우가 있음을 직관적으로 파악할 수 있어 완전히 랜덤하게 생긴 NA가 아닌, 특정 관찰값에의 문제로 인해 생긴 NA가 다수 존재하는 것으로 결론내릴 수 있었다. 더불어 타겟 변수인 변수 'OC'에는 다행히 NA가 없었으며, 변수 'ownerChange'에 가장 많은 NA가 있는 것으로 나타났다."
   ]
  },
  {
   "cell_type": "markdown",
   "metadata": {},
   "source": [
    "### 문제 3-1 숫자 데이터 NA - mean imputation"
   ]
  },
  {
   "cell_type": "code",
   "execution_count": 7,
   "metadata": {},
   "outputs": [],
   "source": [
    "mean_imp = function(x) replace(x, is.na(x), mean(x, na.rm = TRUE))"
   ]
  },
  {
   "cell_type": "code",
   "execution_count": 8,
   "metadata": {},
   "outputs": [],
   "source": [
    "dataset[sapply(dataset, is.numeric)] = dataset[sapply(dataset, is.numeric)] %>% lapply(mean_imp) %>% as.data.frame()"
   ]
  },
  {
   "cell_type": "code",
   "execution_count": 9,
   "metadata": {},
   "outputs": [
    {
     "data": {
      "text/html": [
       "0"
      ],
      "text/latex": [
       "0"
      ],
      "text/markdown": [
       "0"
      ],
      "text/plain": [
       "[1] 0"
      ]
     },
     "metadata": {},
     "output_type": "display_data"
    }
   ],
   "source": [
    "# 숫자 데이터 NA 개수\n",
    "dataset[,2:22] %>% is.na %>% sum"
   ]
  },
  {
   "cell_type": "markdown",
   "metadata": {},
   "source": [
    "### 문제 3-2 범주 데이터 NA - mode imputation"
   ]
  },
  {
   "cell_type": "code",
   "execution_count": 10,
   "metadata": {},
   "outputs": [
    {
     "data": {
      "text/html": [
       "0"
      ],
      "text/latex": [
       "0"
      ],
      "text/markdown": [
       "0"
      ],
      "text/plain": [
       "[1] 0"
      ]
     },
     "metadata": {},
     "output_type": "display_data"
    },
    {
     "data": {
      "text/html": [
       "12"
      ],
      "text/latex": [
       "12"
      ],
      "text/markdown": [
       "12"
      ],
      "text/plain": [
       "[1] 12"
      ]
     },
     "metadata": {},
     "output_type": "display_data"
    }
   ],
   "source": [
    "# 범주 데이터의 현 NA 개수\n",
    "dataset[,1] %>% is.na %>% sum\n",
    "dataset[,23] %>% is.na %>% sum"
   ]
  },
  {
   "cell_type": "code",
   "execution_count": 11,
   "metadata": {},
   "outputs": [],
   "source": [
    "mode = function(x){\n",
    "    unq = unique(x)\n",
    "    mode = unq[which.max(tabulate(match(x, unq)))]\n",
    "    mode\n",
    "}"
   ]
  },
  {
   "cell_type": "code",
   "execution_count": 12,
   "metadata": {},
   "outputs": [],
   "source": [
    "# NA가 있는 23번째 열 'ownerChange'에 대해서\n",
    "temp = as.matrix(dataset[,23])\n",
    "temp[is.na(temp)] = mode(dataset[!is.na(dataset[,23]),23])\n",
    "dataset[,23] = temp"
   ]
  },
  {
   "cell_type": "code",
   "execution_count": 13,
   "metadata": {},
   "outputs": [
    {
     "data": {
      "text/html": [
       "0"
      ],
      "text/latex": [
       "0"
      ],
      "text/markdown": [
       "0"
      ],
      "text/plain": [
       "[1] 0"
      ]
     },
     "metadata": {},
     "output_type": "display_data"
    }
   ],
   "source": [
    "dataset %>% is.na %>% sum"
   ]
  },
  {
   "cell_type": "markdown",
   "metadata": {},
   "source": [
    "### 문제 4 타겟 변수 'OC(병원 개/폐업 여부)' 값 변환('open' > 1 & 'close' > 0)"
   ]
  },
  {
   "cell_type": "code",
   "execution_count": 14,
   "metadata": {},
   "outputs": [
    {
     "data": {
      "text/html": [
       "<table>\n",
       "<caption>A data.frame: 6 × 23</caption>\n",
       "<thead>\n",
       "\t<tr><th></th><th scope=col>OC</th><th scope=col>bedCount</th><th scope=col>revenue1</th><th scope=col>salescost1</th><th scope=col>sga1</th><th scope=col>salary1</th><th scope=col>noi1</th><th scope=col>noe1</th><th scope=col>interest1</th><th scope=col>ctax1</th><th scope=col>...</th><th scope=col>receivableS1</th><th scope=col>inventoryAsset1</th><th scope=col>nonCAsset1</th><th scope=col>tanAsset1</th><th scope=col>OnonCAsset1</th><th scope=col>receivableL1</th><th scope=col>debt1</th><th scope=col>surplus1</th><th scope=col>employee1</th><th scope=col>ownerChange</th></tr>\n",
       "\t<tr><th></th><th scope=col>&lt;dbl&gt;</th><th scope=col>&lt;dbl&gt;</th><th scope=col>&lt;dbl&gt;</th><th scope=col>&lt;dbl&gt;</th><th scope=col>&lt;dbl&gt;</th><th scope=col>&lt;dbl&gt;</th><th scope=col>&lt;int64&gt;</th><th scope=col>&lt;int64&gt;</th><th scope=col>&lt;int64&gt;</th><th scope=col>&lt;int64&gt;</th><th scope=col>...</th><th scope=col>&lt;dbl&gt;</th><th scope=col>&lt;dbl&gt;</th><th scope=col>&lt;dbl&gt;</th><th scope=col>&lt;dbl&gt;</th><th scope=col>&lt;dbl&gt;</th><th scope=col>&lt;dbl&gt;</th><th scope=col>&lt;int64&gt;</th><th scope=col>&lt;dbl&gt;</th><th scope=col>&lt;dbl&gt;</th><th scope=col>&lt;chr[,1]&gt;</th></tr>\n",
       "</thead>\n",
       "<tbody>\n",
       "\t<tr><th scope=row>1</th><td>1</td><td>175</td><td> 4217530010</td><td>         0</td><td> 3961134739</td><td> 2033835290</td><td> 15652441</td><td>  15236236</td><td>  13236236</td><td> 31641798</td><td>...</td><td> 470055740</td><td>  15027807</td><td> 2514586477</td><td> 2360683543</td><td> 143449600</td><td>     0.0</td><td>  682825991</td><td>1496394171</td><td> 62</td><td>same</td></tr>\n",
       "\t<tr><th scope=row>2</th><td>1</td><td>410</td><td>12881747448</td><td>2014902795</td><td>10332439064</td><td> 5654114567</td><td>269615124</td><td> 511587022</td><td> 186896557</td><td> 78473220</td><td>...</td><td> 697586158</td><td> 115453344</td><td>11406727757</td><td>10534082118</td><td> 340650297</td><td>251680.2</td><td> 8765309695</td><td>1265934904</td><td>801</td><td>same</td></tr>\n",
       "\t<tr><th scope=row>3</th><td>1</td><td>468</td><td> 1004521989</td><td> 515483669</td><td>  447219722</td><td>  296402310</td><td>    76156</td><td>     30000</td><td>         0</td><td>        0</td><td>...</td><td>   8095950</td><td>  18759968</td><td>  120481028</td><td>  120481028</td><td>         0</td><td>     0.0</td><td>   92414342</td><td>         0</td><td>234</td><td>same</td></tr>\n",
       "\t<tr><th scope=row>4</th><td>1</td><td>353</td><td>72507342181</td><td>         0</td><td>70677397660</td><td>31786048663</td><td>506223059</td><td>1259567512</td><td>1196881219</td><td>173769780</td><td>...</td><td>         0</td><td>1506793440</td><td>43179356963</td><td>38320784344</td><td>3945208068</td><td>     0.0</td><td>42363797762</td><td>8643659325</td><td>663</td><td>same</td></tr>\n",
       "\t<tr><th scope=row>5</th><td>1</td><td>196</td><td>49043538016</td><td>         0</td><td>47656051197</td><td>24460782270</td><td>112352259</td><td>1419089382</td><td>1307248652</td><td>        0</td><td>...</td><td>4099320115</td><td> 443818577</td><td>43667333124</td><td>43306130668</td><td> 222340000</td><td>     0.0</td><td>49898105519</td><td>9025549604</td><td>206</td><td>same</td></tr>\n",
       "\t<tr><th scope=row>6</th><td>1</td><td>243</td><td>33580536703</td><td>9222996930</td><td>23727912054</td><td>16655333342</td><td> 65414325</td><td> 741269419</td><td> 336462245</td><td>        0</td><td>...</td><td> 663481970</td><td> 153424635</td><td>18649703167</td><td>18499383217</td><td> 136458178</td><td>     0.0</td><td>          0</td><td>3664918487</td><td>397</td><td>same</td></tr>\n",
       "</tbody>\n",
       "</table>\n"
      ],
      "text/latex": [
       "A data.frame: 6 × 23\n",
       "\\begin{tabular}{r|lllllllllllllllllllll}\n",
       "  & OC & bedCount & revenue1 & salescost1 & sga1 & salary1 & noi1 & noe1 & interest1 & ctax1 & ... & receivableS1 & inventoryAsset1 & nonCAsset1 & tanAsset1 & OnonCAsset1 & receivableL1 & debt1 & surplus1 & employee1 & ownerChange\\\\\n",
       "  & <dbl> & <dbl> & <dbl> & <dbl> & <dbl> & <dbl> & <int64> & <int64> & <int64> & <int64> & ... & <dbl> & <dbl> & <dbl> & <dbl> & <dbl> & <dbl> & <int64> & <dbl> & <dbl> & <chr{[},1{]}>\\\\\n",
       "\\hline\n",
       "\t1 & 1 & 175 &  4217530010 &          0 &  3961134739 &  2033835290 &  15652441 &   15236236 &   13236236 &  31641798 & ... &  470055740 &   15027807 &  2514586477 &  2360683543 &  143449600 &      0.0 &   682825991 & 1496394171 &  62 & same\\\\\n",
       "\t2 & 1 & 410 & 12881747448 & 2014902795 & 10332439064 &  5654114567 & 269615124 &  511587022 &  186896557 &  78473220 & ... &  697586158 &  115453344 & 11406727757 & 10534082118 &  340650297 & 251680.2 &  8765309695 & 1265934904 & 801 & same\\\\\n",
       "\t3 & 1 & 468 &  1004521989 &  515483669 &   447219722 &   296402310 &     76156 &      30000 &          0 &         0 & ... &    8095950 &   18759968 &   120481028 &   120481028 &          0 &      0.0 &    92414342 &          0 & 234 & same\\\\\n",
       "\t4 & 1 & 353 & 72507342181 &          0 & 70677397660 & 31786048663 & 506223059 & 1259567512 & 1196881219 & 173769780 & ... &          0 & 1506793440 & 43179356963 & 38320784344 & 3945208068 &      0.0 & 42363797762 & 8643659325 & 663 & same\\\\\n",
       "\t5 & 1 & 196 & 49043538016 &          0 & 47656051197 & 24460782270 & 112352259 & 1419089382 & 1307248652 &         0 & ... & 4099320115 &  443818577 & 43667333124 & 43306130668 &  222340000 &      0.0 & 49898105519 & 9025549604 & 206 & same\\\\\n",
       "\t6 & 1 & 243 & 33580536703 & 9222996930 & 23727912054 & 16655333342 &  65414325 &  741269419 &  336462245 &         0 & ... &  663481970 &  153424635 & 18649703167 & 18499383217 &  136458178 &      0.0 &           0 & 3664918487 & 397 & same\\\\\n",
       "\\end{tabular}\n"
      ],
      "text/markdown": [
       "\n",
       "A data.frame: 6 × 23\n",
       "\n",
       "| <!--/--> | OC &lt;dbl&gt; | bedCount &lt;dbl&gt; | revenue1 &lt;dbl&gt; | salescost1 &lt;dbl&gt; | sga1 &lt;dbl&gt; | salary1 &lt;dbl&gt; | noi1 &lt;int64&gt; | noe1 &lt;int64&gt; | interest1 &lt;int64&gt; | ctax1 &lt;int64&gt; | ... ... | receivableS1 &lt;dbl&gt; | inventoryAsset1 &lt;dbl&gt; | nonCAsset1 &lt;dbl&gt; | tanAsset1 &lt;dbl&gt; | OnonCAsset1 &lt;dbl&gt; | receivableL1 &lt;dbl&gt; | debt1 &lt;int64&gt; | surplus1 &lt;dbl&gt; | employee1 &lt;dbl&gt; | ownerChange &lt;chr[,1]&gt; |\n",
       "|---|---|---|---|---|---|---|---|---|---|---|---|---|---|---|---|---|---|---|---|---|---|\n",
       "| 1 | 1 | 175 |  4217530010 |          0 |  3961134739 |  2033835290 |  15652441 |   15236236 |   13236236 |  31641798 | ... |  470055740 |   15027807 |  2514586477 |  2360683543 |  143449600 |      0.0 |   682825991 | 1496394171 |  62 | same |\n",
       "| 2 | 1 | 410 | 12881747448 | 2014902795 | 10332439064 |  5654114567 | 269615124 |  511587022 |  186896557 |  78473220 | ... |  697586158 |  115453344 | 11406727757 | 10534082118 |  340650297 | 251680.2 |  8765309695 | 1265934904 | 801 | same |\n",
       "| 3 | 1 | 468 |  1004521989 |  515483669 |   447219722 |   296402310 |     76156 |      30000 |          0 |         0 | ... |    8095950 |   18759968 |   120481028 |   120481028 |          0 |      0.0 |    92414342 |          0 | 234 | same |\n",
       "| 4 | 1 | 353 | 72507342181 |          0 | 70677397660 | 31786048663 | 506223059 | 1259567512 | 1196881219 | 173769780 | ... |          0 | 1506793440 | 43179356963 | 38320784344 | 3945208068 |      0.0 | 42363797762 | 8643659325 | 663 | same |\n",
       "| 5 | 1 | 196 | 49043538016 |          0 | 47656051197 | 24460782270 | 112352259 | 1419089382 | 1307248652 |         0 | ... | 4099320115 |  443818577 | 43667333124 | 43306130668 |  222340000 |      0.0 | 49898105519 | 9025549604 | 206 | same |\n",
       "| 6 | 1 | 243 | 33580536703 | 9222996930 | 23727912054 | 16655333342 |  65414325 |  741269419 |  336462245 |         0 | ... |  663481970 |  153424635 | 18649703167 | 18499383217 |  136458178 |      0.0 |           0 | 3664918487 | 397 | same |\n",
       "\n"
      ],
      "text/plain": [
       "  OC bedCount revenue1    salescost1 sga1        salary1     noi1     \n",
       "1 1  175       4217530010          0  3961134739  2033835290  15652441\n",
       "2 1  410      12881747448 2014902795 10332439064  5654114567 269615124\n",
       "3 1  468       1004521989  515483669   447219722   296402310     76156\n",
       "4 1  353      72507342181          0 70677397660 31786048663 506223059\n",
       "5 1  196      49043538016          0 47656051197 24460782270 112352259\n",
       "6 1  243      33580536703 9222996930 23727912054 16655333342  65414325\n",
       "  noe1       interest1  ctax1     ... receivableS1 inventoryAsset1 nonCAsset1 \n",
       "1   15236236   13236236  31641798 ...  470055740     15027807       2514586477\n",
       "2  511587022  186896557  78473220 ...  697586158    115453344      11406727757\n",
       "3      30000          0         0 ...    8095950     18759968        120481028\n",
       "4 1259567512 1196881219 173769780 ...          0   1506793440      43179356963\n",
       "5 1419089382 1307248652         0 ... 4099320115    443818577      43667333124\n",
       "6  741269419  336462245         0 ...  663481970    153424635      18649703167\n",
       "  tanAsset1   OnonCAsset1 receivableL1 debt1       surplus1   employee1\n",
       "1  2360683543  143449600       0.0       682825991 1496394171  62      \n",
       "2 10534082118  340650297  251680.2      8765309695 1265934904 801      \n",
       "3   120481028          0       0.0        92414342          0 234      \n",
       "4 38320784344 3945208068       0.0     42363797762 8643659325 663      \n",
       "5 43306130668  222340000       0.0     49898105519 9025549604 206      \n",
       "6 18499383217  136458178       0.0               0 3664918487 397      \n",
       "  ownerChange\n",
       "1 same       \n",
       "2 same       \n",
       "3 same       \n",
       "4 same       \n",
       "5 same       \n",
       "6 same       "
      ]
     },
     "metadata": {},
     "output_type": "display_data"
    }
   ],
   "source": [
    "dataset$OC = ifelse(dataset$OC == 'open', 1, 0)\n",
    "dataset %>% head()"
   ]
  },
  {
   "cell_type": "markdown",
   "metadata": {},
   "source": [
    "### 문제 5 integer 자료형인 숫자 데이터의 numeric 자료형으로의 변환"
   ]
  },
  {
   "cell_type": "code",
   "execution_count": 15,
   "metadata": {},
   "outputs": [
    {
     "name": "stderr",
     "output_type": "stream",
     "text": [
      "Warning message in if (class(x) == \"integer64\") as.numeric(x) else x:\n",
      "\"length > 1 이라는 조건이 있고, 첫번째 요소만이 사용될 것입니다\"\n"
     ]
    }
   ],
   "source": [
    "dataset = dataset %>% lapply(function(x){if(class(x) == 'integer64') as.numeric(x) else x}) %>% as.data.frame()"
   ]
  },
  {
   "cell_type": "code",
   "execution_count": 16,
   "metadata": {},
   "outputs": [
    {
     "name": "stdout",
     "output_type": "stream",
     "text": [
      "'data.frame':\t301 obs. of  23 variables:\n",
      " $ OC             : num  1 1 1 1 1 1 1 1 1 1 ...\n",
      " $ bedCount       : num  175 410 468 353 196 243 213 250 280 55 ...\n",
      " $ revenue1       : num  4.22e+09 1.29e+10 1.00e+09 7.25e+10 4.90e+10 ...\n",
      " $ salescost1     : num  0.00 2.01e+09 5.15e+08 0.00 0.00 ...\n",
      " $ sga1           : num  3.96e+09 1.03e+10 4.47e+08 7.07e+10 4.77e+10 ...\n",
      " $ salary1        : num  2.03e+09 5.65e+09 2.96e+08 3.18e+10 2.45e+10 ...\n",
      " $ noi1           : num  1.57e+07 2.70e+08 7.62e+04 5.06e+08 1.12e+08 ...\n",
      " $ noe1           : num  1.52e+07 5.12e+08 3.00e+04 1.26e+09 1.42e+09 ...\n",
      " $ interest1      : num  1.32e+07 1.87e+08 0.00 1.20e+09 1.31e+09 ...\n",
      " $ ctax1          : num  3.16e+07 7.85e+07 0.00 1.74e+08 0.00 ...\n",
      " $ profit1        : num  2.25e+08 2.10e+08 4.19e+07 9.03e+08 8.07e+07 ...\n",
      " $ liquidAsset1   : num  1.01e+09 3.54e+09 2.72e+08 1.30e+10 6.32e+09 ...\n",
      " $ quickAsset1    : num  9.98e+08 3.41e+09 2.54e+08 1.15e+10 5.87e+09 ...\n",
      " $ receivableS1   : num  4.70e+08 6.98e+08 8.10e+06 0.00 4.10e+09 ...\n",
      " $ inventoryAsset1: num  1.50e+07 1.15e+08 1.88e+07 1.51e+09 4.44e+08 ...\n",
      " $ nonCAsset1     : num  2.51e+09 1.14e+10 1.20e+08 4.32e+10 4.37e+10 ...\n",
      " $ tanAsset1      : num  2.36e+09 1.05e+10 1.20e+08 3.83e+10 4.33e+10 ...\n",
      " $ OnonCAsset1    : num  1.43e+08 3.41e+08 0.00 3.95e+09 2.22e+08 ...\n",
      " $ receivableL1   : num  0 251680 0 0 0 ...\n",
      " $ debt1          : num  6.83e+08 8.77e+09 9.24e+07 4.24e+10 4.99e+10 ...\n",
      " $ surplus1       : num  1.50e+09 1.27e+09 0.00 8.64e+09 9.03e+09 ...\n",
      " $ employee1      : num  62 801 234 663 206 397 221 489 243 370 ...\n",
      " $ ownerChange    : chr  \"same\" \"same\" \"same\" \"same\" ...\n"
     ]
    }
   ],
   "source": [
    "dataset %>% str()"
   ]
  },
  {
   "cell_type": "markdown",
   "metadata": {},
   "source": [
    "  "
   ]
  },
  {
   "cell_type": "markdown",
   "metadata": {},
   "source": [
    "  "
   ]
  },
  {
   "cell_type": "markdown",
   "metadata": {},
   "source": [
    "  "
   ]
  },
  {
   "cell_type": "markdown",
   "metadata": {},
   "source": [
    "## Chapter 2. 분류 모델"
   ]
  },
  {
   "cell_type": "code",
   "execution_count": 17,
   "metadata": {},
   "outputs": [
    {
     "name": "stderr",
     "output_type": "stream",
     "text": [
      "Warning message:\n",
      "\"package 'caret' was built under R version 4.0.4\"\n",
      "Loading required package: lattice\n",
      "\n",
      "\n",
      "Attaching package: 'caret'\n",
      "\n",
      "\n",
      "The following object is masked from 'package:purrr':\n",
      "\n",
      "    lift\n",
      "\n",
      "\n",
      "Warning message:\n",
      "\"package 'MLmetrics' was built under R version 4.0.4\"\n",
      "\n",
      "Attaching package: 'MLmetrics'\n",
      "\n",
      "\n",
      "The following objects are masked from 'package:caret':\n",
      "\n",
      "    MAE, RMSE\n",
      "\n",
      "\n",
      "The following object is masked from 'package:base':\n",
      "\n",
      "    Recall\n",
      "\n",
      "\n",
      "Warning message:\n",
      "\"package 'randomForest' was built under R version 4.0.4\"\n",
      "randomForest 4.6-14\n",
      "\n",
      "Type rfNews() to see new features/changes/bug fixes.\n",
      "\n",
      "\n",
      "Attaching package: 'randomForest'\n",
      "\n",
      "\n",
      "The following object is masked from 'package:dplyr':\n",
      "\n",
      "    combine\n",
      "\n",
      "\n",
      "The following object is masked from 'package:ggplot2':\n",
      "\n",
      "    margin\n",
      "\n",
      "\n"
     ]
    }
   ],
   "source": [
    "library(caret)\n",
    "library(MLmetrics)\n",
    "library(randomForest)"
   ]
  },
  {
   "cell_type": "markdown",
   "metadata": {},
   "source": [
    "### [ 모델 1 로지스틱 회귀 ]"
   ]
  },
  {
   "cell_type": "markdown",
   "metadata": {},
   "source": [
    "### 문제 1 train set과 validation set 생성"
   ]
  },
  {
   "cell_type": "code",
   "execution_count": 18,
   "metadata": {},
   "outputs": [],
   "source": [
    "dataset$OC = dataset$OC %>% as.factor"
   ]
  },
  {
   "cell_type": "code",
   "execution_count": 19,
   "metadata": {},
   "outputs": [],
   "source": [
    "set.seed(1234)\n",
    "val_idx = dataset$OC %>% createDataPartition(p = 0.3, list = FALSE)\n",
    "train = dataset[-val_idx, ]\n",
    "val = dataset[val_idx, ]"
   ]
  },
  {
   "cell_type": "code",
   "execution_count": 20,
   "metadata": {},
   "outputs": [
    {
     "data": {
      "text/html": [
       "210"
      ],
      "text/latex": [
       "210"
      ],
      "text/markdown": [
       "210"
      ],
      "text/plain": [
       "[1] 210"
      ]
     },
     "metadata": {},
     "output_type": "display_data"
    },
    {
     "data": {
      "text/html": [
       "91"
      ],
      "text/latex": [
       "91"
      ],
      "text/markdown": [
       "91"
      ],
      "text/plain": [
       "[1] 91"
      ]
     },
     "metadata": {},
     "output_type": "display_data"
    }
   ],
   "source": [
    "train %>% nrow\n",
    "val %>% nrow"
   ]
  },
  {
   "cell_type": "markdown",
   "metadata": {},
   "source": [
    "### 문제 2 Hold-out"
   ]
  },
  {
   "cell_type": "code",
   "execution_count": 21,
   "metadata": {},
   "outputs": [
    {
     "name": "stderr",
     "output_type": "stream",
     "text": [
      "Warning message:\n",
      "\"glm.fit: fitted probabilities numerically 0 or 1 occurred\"\n"
     ]
    }
   ],
   "source": [
    "logis_fit = glm(OC ~ ., data = train, family = binomial, maxit = 100)"
   ]
  },
  {
   "cell_type": "code",
   "execution_count": 22,
   "metadata": {},
   "outputs": [
    {
     "data": {
      "text/html": [
       "0.868131868131868"
      ],
      "text/latex": [
       "0.868131868131868"
      ],
      "text/markdown": [
       "0.868131868131868"
      ],
      "text/plain": [
       "[1] 0.8681319"
      ]
     },
     "metadata": {},
     "output_type": "display_data"
    }
   ],
   "source": [
    "yhat = predict(logis_fit, val, type = 'response')\n",
    "yhat = ifelse(yhat > 0.5, 1, 0)\n",
    "MLmetrics::Accuracy(yhat, val$OC)"
   ]
  },
  {
   "cell_type": "markdown",
   "metadata": {},
   "source": [
    "### 문제 3 Feature selection & Hold-out"
   ]
  },
  {
   "cell_type": "code",
   "execution_count": 23,
   "metadata": {},
   "outputs": [
    {
     "name": "stdout",
     "output_type": "stream",
     "text": [
      "Start:  AIC=85.21\n",
      "OC ~ bedCount + revenue1 + salescost1 + sga1 + salary1 + noi1 + \n",
      "    noe1 + interest1 + ctax1 + profit1 + liquidAsset1 + quickAsset1 + \n",
      "    receivableS1 + inventoryAsset1 + nonCAsset1 + tanAsset1 + \n",
      "    OnonCAsset1 + receivableL1 + debt1 + surplus1 + employee1 + \n",
      "    ownerChange\n",
      "\n"
     ]
    },
    {
     "name": "stderr",
     "output_type": "stream",
     "text": [
      "Warning message:\n",
      "\"glm.fit: fitted probabilities numerically 0 or 1 occurred\"\n",
      "Warning message:\n",
      "\"glm.fit: fitted probabilities numerically 0 or 1 occurred\"\n",
      "Warning message:\n",
      "\"glm.fit: fitted probabilities numerically 0 or 1 occurred\"\n",
      "Warning message:\n",
      "\"glm.fit: fitted probabilities numerically 0 or 1 occurred\"\n",
      "Warning message:\n",
      "\"glm.fit: fitted probabilities numerically 0 or 1 occurred\"\n",
      "Warning message:\n",
      "\"glm.fit: fitted probabilities numerically 0 or 1 occurred\"\n",
      "Warning message:\n",
      "\"glm.fit: fitted probabilities numerically 0 or 1 occurred\"\n",
      "Warning message:\n",
      "\"glm.fit: fitted probabilities numerically 0 or 1 occurred\"\n",
      "Warning message:\n",
      "\"glm.fit: fitted probabilities numerically 0 or 1 occurred\"\n",
      "Warning message:\n",
      "\"glm.fit: fitted probabilities numerically 0 or 1 occurred\"\n",
      "Warning message:\n",
      "\"glm.fit: fitted probabilities numerically 0 or 1 occurred\"\n",
      "Warning message:\n",
      "\"glm.fit: fitted probabilities numerically 0 or 1 occurred\"\n",
      "Warning message:\n",
      "\"glm.fit: fitted probabilities numerically 0 or 1 occurred\"\n",
      "Warning message:\n",
      "\"glm.fit: fitted probabilities numerically 0 or 1 occurred\"\n",
      "Warning message:\n",
      "\"glm.fit: fitted probabilities numerically 0 or 1 occurred\"\n",
      "Warning message:\n",
      "\"glm.fit: fitted probabilities numerically 0 or 1 occurred\"\n",
      "Warning message:\n",
      "\"glm.fit: fitted probabilities numerically 0 or 1 occurred\"\n",
      "Warning message:\n",
      "\"glm.fit: fitted probabilities numerically 0 or 1 occurred\"\n",
      "Warning message:\n",
      "\"glm.fit: fitted probabilities numerically 0 or 1 occurred\"\n",
      "Warning message:\n",
      "\"glm.fit: fitted probabilities numerically 0 or 1 occurred\"\n",
      "Warning message:\n",
      "\"glm.fit: fitted probabilities numerically 0 or 1 occurred\"\n",
      "Warning message:\n",
      "\"glm.fit: fitted probabilities numerically 0 or 1 occurred\"\n"
     ]
    },
    {
     "name": "stdout",
     "output_type": "stream",
     "text": [
      "                  Df Deviance     AIC\n",
      "- receivableL1     1    39.21   83.21\n",
      "- salary1          1    39.23   83.23\n",
      "- bedCount         1    39.34   83.34\n",
      "- OnonCAsset1      1    39.34   83.34\n",
      "- ctax1            1    39.65   83.65\n",
      "- ownerChange      1    39.86   83.86\n",
      "- employee1        1    40.02   84.02\n",
      "- sga1             1    40.20   84.20\n",
      "- revenue1         1    40.22   84.22\n",
      "- salescost1       1    40.22   84.22\n",
      "- profit1          1    40.24   84.24\n",
      "- noe1             1    40.25   84.25\n",
      "- noi1             1    40.30   84.30\n",
      "- surplus1         1    40.85   84.85\n",
      "<none>                  39.21   85.21\n",
      "- debt1            1    41.26   85.26\n",
      "- receivableS1     1    41.41   85.41\n",
      "- inventoryAsset1  1    42.97   86.97\n",
      "- liquidAsset1     1    43.31   87.31\n",
      "- quickAsset1      1    43.35   87.35\n",
      "- nonCAsset1       1    44.53   88.53\n",
      "- interest1        1    46.71   90.71\n",
      "- tanAsset1        1  1225.48 1269.48\n"
     ]
    },
    {
     "name": "stderr",
     "output_type": "stream",
     "text": [
      "Warning message:\n",
      "\"glm.fit: fitted probabilities numerically 0 or 1 occurred\"\n"
     ]
    },
    {
     "name": "stdout",
     "output_type": "stream",
     "text": [
      "\n",
      "Step:  AIC=83.21\n",
      "OC ~ bedCount + revenue1 + salescost1 + sga1 + salary1 + noi1 + \n",
      "    noe1 + interest1 + ctax1 + profit1 + liquidAsset1 + quickAsset1 + \n",
      "    receivableS1 + inventoryAsset1 + nonCAsset1 + tanAsset1 + \n",
      "    OnonCAsset1 + debt1 + surplus1 + employee1 + ownerChange\n",
      "\n"
     ]
    },
    {
     "name": "stderr",
     "output_type": "stream",
     "text": [
      "Warning message:\n",
      "\"glm.fit: fitted probabilities numerically 0 or 1 occurred\"\n",
      "Warning message:\n",
      "\"glm.fit: fitted probabilities numerically 0 or 1 occurred\"\n",
      "Warning message:\n",
      "\"glm.fit: fitted probabilities numerically 0 or 1 occurred\"\n",
      "Warning message:\n",
      "\"glm.fit: fitted probabilities numerically 0 or 1 occurred\"\n",
      "Warning message:\n",
      "\"glm.fit: fitted probabilities numerically 0 or 1 occurred\"\n",
      "Warning message:\n",
      "\"glm.fit: fitted probabilities numerically 0 or 1 occurred\"\n",
      "Warning message:\n",
      "\"glm.fit: fitted probabilities numerically 0 or 1 occurred\"\n",
      "Warning message:\n",
      "\"glm.fit: fitted probabilities numerically 0 or 1 occurred\"\n",
      "Warning message:\n",
      "\"glm.fit: fitted probabilities numerically 0 or 1 occurred\"\n",
      "Warning message:\n",
      "\"glm.fit: fitted probabilities numerically 0 or 1 occurred\"\n",
      "Warning message:\n",
      "\"glm.fit: fitted probabilities numerically 0 or 1 occurred\"\n",
      "Warning message:\n",
      "\"glm.fit: fitted probabilities numerically 0 or 1 occurred\"\n",
      "Warning message:\n",
      "\"glm.fit: fitted probabilities numerically 0 or 1 occurred\"\n",
      "Warning message:\n",
      "\"glm.fit: fitted probabilities numerically 0 or 1 occurred\"\n",
      "Warning message:\n",
      "\"glm.fit: fitted probabilities numerically 0 or 1 occurred\"\n",
      "Warning message:\n",
      "\"glm.fit: fitted probabilities numerically 0 or 1 occurred\"\n",
      "Warning message:\n",
      "\"glm.fit: fitted probabilities numerically 0 or 1 occurred\"\n",
      "Warning message:\n",
      "\"glm.fit: fitted probabilities numerically 0 or 1 occurred\"\n",
      "Warning message:\n",
      "\"glm.fit: fitted probabilities numerically 0 or 1 occurred\"\n",
      "Warning message:\n",
      "\"glm.fit: fitted probabilities numerically 0 or 1 occurred\"\n",
      "Warning message:\n",
      "\"glm.fit: fitted probabilities numerically 0 or 1 occurred\"\n",
      "Warning message:\n",
      "\"glm.fit: fitted probabilities numerically 0 or 1 occurred\"\n",
      "Warning message:\n",
      "\"glm.fit: fitted probabilities numerically 0 or 1 occurred\"\n"
     ]
    },
    {
     "name": "stdout",
     "output_type": "stream",
     "text": [
      "                  Df Deviance    AIC\n",
      "- salary1          1    39.23  81.23\n",
      "- bedCount         1    39.34  81.34\n",
      "- OnonCAsset1      1    39.34  81.34\n",
      "- ctax1            1    39.65  81.65\n",
      "- ownerChange      1    39.86  81.86\n",
      "- employee1        1    40.02  82.02\n",
      "- sga1             1    40.20  82.20\n",
      "- revenue1         1    40.22  82.22\n",
      "- salescost1       1    40.22  82.22\n",
      "- profit1          1    40.24  82.24\n",
      "- noe1             1    40.25  82.25\n",
      "- noi1             1    40.30  82.30\n",
      "- surplus1         1    40.85  82.85\n",
      "<none>                  39.21  83.21\n",
      "- debt1            1    41.26  83.26\n",
      "- receivableS1     1    41.41  83.41\n",
      "- inventoryAsset1  1    42.97  84.97\n",
      "+ receivableL1     1    39.21  85.21\n",
      "- liquidAsset1     1    43.31  85.31\n",
      "- quickAsset1      1    43.35  85.35\n",
      "- tanAsset1        1    43.73  85.73\n",
      "- interest1        1    46.71  88.71\n",
      "- nonCAsset1       1   937.13 979.13\n"
     ]
    },
    {
     "name": "stderr",
     "output_type": "stream",
     "text": [
      "Warning message:\n",
      "\"glm.fit: fitted probabilities numerically 0 or 1 occurred\"\n"
     ]
    },
    {
     "name": "stdout",
     "output_type": "stream",
     "text": [
      "\n",
      "Step:  AIC=81.23\n",
      "OC ~ bedCount + revenue1 + salescost1 + sga1 + noi1 + noe1 + \n",
      "    interest1 + ctax1 + profit1 + liquidAsset1 + quickAsset1 + \n",
      "    receivableS1 + inventoryAsset1 + nonCAsset1 + tanAsset1 + \n",
      "    OnonCAsset1 + debt1 + surplus1 + employee1 + ownerChange\n",
      "\n"
     ]
    },
    {
     "name": "stderr",
     "output_type": "stream",
     "text": [
      "Warning message:\n",
      "\"glm.fit: fitted probabilities numerically 0 or 1 occurred\"\n",
      "Warning message:\n",
      "\"glm.fit: fitted probabilities numerically 0 or 1 occurred\"\n",
      "Warning message:\n",
      "\"glm.fit: fitted probabilities numerically 0 or 1 occurred\"\n",
      "Warning message:\n",
      "\"glm.fit: fitted probabilities numerically 0 or 1 occurred\"\n",
      "Warning message:\n",
      "\"glm.fit: fitted probabilities numerically 0 or 1 occurred\"\n",
      "Warning message:\n",
      "\"glm.fit: fitted probabilities numerically 0 or 1 occurred\"\n",
      "Warning message:\n",
      "\"glm.fit: fitted probabilities numerically 0 or 1 occurred\"\n",
      "Warning message:\n",
      "\"glm.fit: fitted probabilities numerically 0 or 1 occurred\"\n",
      "Warning message:\n",
      "\"glm.fit: fitted probabilities numerically 0 or 1 occurred\"\n",
      "Warning message:\n",
      "\"glm.fit: fitted probabilities numerically 0 or 1 occurred\"\n",
      "Warning message:\n",
      "\"glm.fit: fitted probabilities numerically 0 or 1 occurred\"\n",
      "Warning message:\n",
      "\"glm.fit: fitted probabilities numerically 0 or 1 occurred\"\n",
      "Warning message:\n",
      "\"glm.fit: fitted probabilities numerically 0 or 1 occurred\"\n",
      "Warning message:\n",
      "\"glm.fit: fitted probabilities numerically 0 or 1 occurred\"\n",
      "Warning message:\n",
      "\"glm.fit: fitted probabilities numerically 0 or 1 occurred\"\n",
      "Warning message:\n",
      "\"glm.fit: fitted probabilities numerically 0 or 1 occurred\"\n",
      "Warning message:\n",
      "\"glm.fit: fitted probabilities numerically 0 or 1 occurred\"\n",
      "Warning message:\n",
      "\"glm.fit: fitted probabilities numerically 0 or 1 occurred\"\n",
      "Warning message:\n",
      "\"glm.fit: fitted probabilities numerically 0 or 1 occurred\"\n",
      "Warning message:\n",
      "\"glm.fit: fitted probabilities numerically 0 or 1 occurred\"\n",
      "Warning message:\n",
      "\"glm.fit: fitted probabilities numerically 0 or 1 occurred\"\n",
      "Warning message:\n",
      "\"glm.fit: fitted probabilities numerically 0 or 1 occurred\"\n",
      "Warning message:\n",
      "\"glm.fit: fitted probabilities numerically 0 or 1 occurred\"\n"
     ]
    },
    {
     "name": "stdout",
     "output_type": "stream",
     "text": [
      "                  Df Deviance    AIC\n",
      "- OnonCAsset1      1    39.35  79.35\n",
      "- bedCount         1    39.40  79.40\n",
      "- ctax1            1    39.69  79.69\n",
      "- ownerChange      1    39.89  79.89\n",
      "- employee1        1    40.13  80.13\n",
      "- sga1             1    40.23  80.23\n",
      "- revenue1         1    40.24  80.24\n",
      "- salescost1       1    40.25  80.25\n",
      "- profit1          1    40.27  80.27\n",
      "- noe1             1    40.28  80.28\n",
      "- noi1             1    40.34  80.34\n",
      "- surplus1         1    40.89  80.89\n",
      "<none>                  39.23  81.23\n",
      "- debt1            1    41.29  81.29\n",
      "- receivableS1     1    41.99  81.99\n",
      "+ salary1          1    39.21  83.21\n",
      "+ receivableL1     1    39.23  83.23\n",
      "- inventoryAsset1  1    43.49  83.49\n",
      "- liquidAsset1     1    43.84  83.84\n",
      "- quickAsset1      1    43.88  83.88\n",
      "- tanAsset1        1    43.98  83.98\n",
      "- interest1        1    46.71  86.71\n",
      "- nonCAsset1       1   720.87 760.87\n"
     ]
    },
    {
     "name": "stderr",
     "output_type": "stream",
     "text": [
      "Warning message:\n",
      "\"glm.fit: fitted probabilities numerically 0 or 1 occurred\"\n"
     ]
    },
    {
     "name": "stdout",
     "output_type": "stream",
     "text": [
      "\n",
      "Step:  AIC=79.35\n",
      "OC ~ bedCount + revenue1 + salescost1 + sga1 + noi1 + noe1 + \n",
      "    interest1 + ctax1 + profit1 + liquidAsset1 + quickAsset1 + \n",
      "    receivableS1 + inventoryAsset1 + nonCAsset1 + tanAsset1 + \n",
      "    debt1 + surplus1 + employee1 + ownerChange\n",
      "\n"
     ]
    },
    {
     "name": "stderr",
     "output_type": "stream",
     "text": [
      "Warning message:\n",
      "\"glm.fit: fitted probabilities numerically 0 or 1 occurred\"\n",
      "Warning message:\n",
      "\"glm.fit: fitted probabilities numerically 0 or 1 occurred\"\n",
      "Warning message:\n",
      "\"glm.fit: fitted probabilities numerically 0 or 1 occurred\"\n",
      "Warning message:\n",
      "\"glm.fit: fitted probabilities numerically 0 or 1 occurred\"\n",
      "Warning message:\n",
      "\"glm.fit: fitted probabilities numerically 0 or 1 occurred\"\n",
      "Warning message:\n",
      "\"glm.fit: fitted probabilities numerically 0 or 1 occurred\"\n",
      "Warning message:\n",
      "\"glm.fit: fitted probabilities numerically 0 or 1 occurred\"\n",
      "Warning message:\n",
      "\"glm.fit: fitted probabilities numerically 0 or 1 occurred\"\n",
      "Warning message:\n",
      "\"glm.fit: fitted probabilities numerically 0 or 1 occurred\"\n",
      "Warning message:\n",
      "\"glm.fit: fitted probabilities numerically 0 or 1 occurred\"\n",
      "Warning message:\n",
      "\"glm.fit: fitted probabilities numerically 0 or 1 occurred\"\n",
      "Warning message:\n",
      "\"glm.fit: fitted probabilities numerically 0 or 1 occurred\"\n",
      "Warning message:\n",
      "\"glm.fit: fitted probabilities numerically 0 or 1 occurred\"\n",
      "Warning message:\n",
      "\"glm.fit: fitted probabilities numerically 0 or 1 occurred\"\n",
      "Warning message:\n",
      "\"glm.fit: fitted probabilities numerically 0 or 1 occurred\"\n",
      "Warning message:\n",
      "\"glm.fit: fitted probabilities numerically 0 or 1 occurred\"\n",
      "Warning message:\n",
      "\"glm.fit: fitted probabilities numerically 0 or 1 occurred\"\n",
      "Warning message:\n",
      "\"glm.fit: fitted probabilities numerically 0 or 1 occurred\"\n",
      "Warning message:\n",
      "\"glm.fit: fitted probabilities numerically 0 or 1 occurred\"\n",
      "Warning message:\n",
      "\"glm.fit: fitted probabilities numerically 0 or 1 occurred\"\n",
      "Warning message:\n",
      "\"glm.fit: fitted probabilities numerically 0 or 1 occurred\"\n",
      "Warning message:\n",
      "\"glm.fit: fitted probabilities numerically 0 or 1 occurred\"\n",
      "Warning message:\n",
      "\"glm.fit: fitted probabilities numerically 0 or 1 occurred\"\n"
     ]
    },
    {
     "name": "stdout",
     "output_type": "stream",
     "text": [
      "                  Df Deviance    AIC\n",
      "- bedCount         1   39.472 77.472\n",
      "- ctax1            1   39.780 77.780\n",
      "- ownerChange      1   40.100 78.100\n",
      "- employee1        1   40.243 78.243\n",
      "- sga1             1   40.336 78.336\n",
      "- revenue1         1   40.357 78.357\n",
      "- salescost1       1   40.362 78.362\n",
      "- profit1          1   40.390 78.390\n",
      "- noe1             1   40.397 78.397\n",
      "- noi1             1   40.463 78.463\n",
      "- surplus1         1   41.033 79.033\n",
      "<none>                 39.349 79.349\n",
      "- debt1            1   42.054 80.054\n",
      "- receivableS1     1   42.429 80.429\n",
      "+ OnonCAsset1      1   39.235 81.235\n",
      "+ salary1          1   39.339 81.339\n",
      "+ receivableL1     1   39.349 81.349\n",
      "- inventoryAsset1  1   43.595 81.595\n",
      "- liquidAsset1     1   43.977 81.977\n",
      "- quickAsset1      1   44.014 82.014\n",
      "- tanAsset1        1   44.363 82.363\n",
      "- nonCAsset1       1   45.165 83.165\n",
      "- interest1        1   47.444 85.444\n"
     ]
    },
    {
     "name": "stderr",
     "output_type": "stream",
     "text": [
      "Warning message:\n",
      "\"glm.fit: fitted probabilities numerically 0 or 1 occurred\"\n"
     ]
    },
    {
     "name": "stdout",
     "output_type": "stream",
     "text": [
      "\n",
      "Step:  AIC=77.47\n",
      "OC ~ revenue1 + salescost1 + sga1 + noi1 + noe1 + interest1 + \n",
      "    ctax1 + profit1 + liquidAsset1 + quickAsset1 + receivableS1 + \n",
      "    inventoryAsset1 + nonCAsset1 + tanAsset1 + debt1 + surplus1 + \n",
      "    employee1 + ownerChange\n",
      "\n"
     ]
    },
    {
     "name": "stderr",
     "output_type": "stream",
     "text": [
      "Warning message:\n",
      "\"glm.fit: fitted probabilities numerically 0 or 1 occurred\"\n",
      "Warning message:\n",
      "\"glm.fit: fitted probabilities numerically 0 or 1 occurred\"\n",
      "Warning message:\n",
      "\"glm.fit: fitted probabilities numerically 0 or 1 occurred\"\n",
      "Warning message:\n",
      "\"glm.fit: fitted probabilities numerically 0 or 1 occurred\"\n",
      "Warning message:\n",
      "\"glm.fit: fitted probabilities numerically 0 or 1 occurred\"\n",
      "Warning message:\n",
      "\"glm.fit: fitted probabilities numerically 0 or 1 occurred\"\n",
      "Warning message:\n",
      "\"glm.fit: fitted probabilities numerically 0 or 1 occurred\"\n",
      "Warning message:\n",
      "\"glm.fit: fitted probabilities numerically 0 or 1 occurred\"\n",
      "Warning message:\n",
      "\"glm.fit: fitted probabilities numerically 0 or 1 occurred\"\n",
      "Warning message:\n",
      "\"glm.fit: fitted probabilities numerically 0 or 1 occurred\"\n",
      "Warning message:\n",
      "\"glm.fit: fitted probabilities numerically 0 or 1 occurred\"\n",
      "Warning message:\n",
      "\"glm.fit: fitted probabilities numerically 0 or 1 occurred\"\n",
      "Warning message:\n",
      "\"glm.fit: fitted probabilities numerically 0 or 1 occurred\"\n",
      "Warning message:\n",
      "\"glm.fit: fitted probabilities numerically 0 or 1 occurred\"\n",
      "Warning message:\n",
      "\"glm.fit: fitted probabilities numerically 0 or 1 occurred\"\n",
      "Warning message:\n",
      "\"glm.fit: fitted probabilities numerically 0 or 1 occurred\"\n",
      "Warning message:\n",
      "\"glm.fit: fitted probabilities numerically 0 or 1 occurred\"\n",
      "Warning message:\n",
      "\"glm.fit: fitted probabilities numerically 0 or 1 occurred\"\n",
      "Warning message:\n",
      "\"glm.fit: fitted probabilities numerically 0 or 1 occurred\"\n",
      "Warning message:\n",
      "\"glm.fit: fitted probabilities numerically 0 or 1 occurred\"\n",
      "Warning message:\n",
      "\"glm.fit: fitted probabilities numerically 0 or 1 occurred\"\n",
      "Warning message:\n",
      "\"glm.fit: fitted probabilities numerically 0 or 1 occurred\"\n",
      "Warning message:\n",
      "\"glm.fit: fitted probabilities numerically 0 or 1 occurred\"\n"
     ]
    },
    {
     "name": "stdout",
     "output_type": "stream",
     "text": [
      "                  Df Deviance    AIC\n",
      "- ctax1            1   39.857 75.857\n",
      "- ownerChange      1   40.267 76.267\n",
      "- sga1             1   40.389 76.389\n",
      "- revenue1         1   40.409 76.409\n",
      "- salescost1       1   40.413 76.413\n",
      "- profit1          1   40.440 76.440\n",
      "- noe1             1   40.448 76.448\n",
      "- noi1             1   40.500 76.500\n",
      "- surplus1         1   41.222 77.222\n",
      "- employee1        1   41.235 77.235\n",
      "<none>                 39.472 77.472\n",
      "- debt1            1   42.129 78.129\n",
      "- receivableS1     1   42.770 78.770\n",
      "+ bedCount         1   39.349 79.349\n",
      "+ OnonCAsset1      1   39.404 79.404\n",
      "+ salary1          1   39.439 79.439\n",
      "+ receivableL1     1   39.472 79.472\n",
      "- inventoryAsset1  1   43.595 79.595\n",
      "- liquidAsset1     1   43.977 79.977\n",
      "- quickAsset1      1   44.014 80.014\n",
      "- tanAsset1        1   44.688 80.688\n",
      "- nonCAsset1       1   45.723 81.723\n",
      "- interest1        1   47.583 83.583\n"
     ]
    },
    {
     "name": "stderr",
     "output_type": "stream",
     "text": [
      "Warning message:\n",
      "\"glm.fit: fitted probabilities numerically 0 or 1 occurred\"\n"
     ]
    },
    {
     "name": "stdout",
     "output_type": "stream",
     "text": [
      "\n",
      "Step:  AIC=75.86\n",
      "OC ~ revenue1 + salescost1 + sga1 + noi1 + noe1 + interest1 + \n",
      "    profit1 + liquidAsset1 + quickAsset1 + receivableS1 + inventoryAsset1 + \n",
      "    nonCAsset1 + tanAsset1 + debt1 + surplus1 + employee1 + ownerChange\n",
      "\n"
     ]
    },
    {
     "name": "stderr",
     "output_type": "stream",
     "text": [
      "Warning message:\n",
      "\"glm.fit: fitted probabilities numerically 0 or 1 occurred\"\n",
      "Warning message:\n",
      "\"glm.fit: fitted probabilities numerically 0 or 1 occurred\"\n",
      "Warning message:\n",
      "\"glm.fit: fitted probabilities numerically 0 or 1 occurred\"\n",
      "Warning message:\n",
      "\"glm.fit: fitted probabilities numerically 0 or 1 occurred\"\n",
      "Warning message:\n",
      "\"glm.fit: fitted probabilities numerically 0 or 1 occurred\"\n",
      "Warning message:\n",
      "\"glm.fit: fitted probabilities numerically 0 or 1 occurred\"\n",
      "Warning message:\n",
      "\"glm.fit: fitted probabilities numerically 0 or 1 occurred\"\n",
      "Warning message:\n",
      "\"glm.fit: fitted probabilities numerically 0 or 1 occurred\"\n",
      "Warning message:\n",
      "\"glm.fit: fitted probabilities numerically 0 or 1 occurred\"\n",
      "Warning message:\n",
      "\"glm.fit: fitted probabilities numerically 0 or 1 occurred\"\n",
      "Warning message:\n",
      "\"glm.fit: fitted probabilities numerically 0 or 1 occurred\"\n",
      "Warning message:\n",
      "\"glm.fit: fitted probabilities numerically 0 or 1 occurred\"\n",
      "Warning message:\n",
      "\"glm.fit: fitted probabilities numerically 0 or 1 occurred\"\n",
      "Warning message:\n",
      "\"glm.fit: fitted probabilities numerically 0 or 1 occurred\"\n",
      "Warning message:\n",
      "\"glm.fit: fitted probabilities numerically 0 or 1 occurred\"\n",
      "Warning message:\n",
      "\"glm.fit: fitted probabilities numerically 0 or 1 occurred\"\n",
      "Warning message:\n",
      "\"glm.fit: fitted probabilities numerically 0 or 1 occurred\"\n",
      "Warning message:\n",
      "\"glm.fit: fitted probabilities numerically 0 or 1 occurred\"\n",
      "Warning message:\n",
      "\"glm.fit: fitted probabilities numerically 0 or 1 occurred\"\n",
      "Warning message:\n",
      "\"glm.fit: fitted probabilities numerically 0 or 1 occurred\"\n",
      "Warning message:\n",
      "\"glm.fit: fitted probabilities numerically 0 or 1 occurred\"\n",
      "Warning message:\n",
      "\"glm.fit: fitted probabilities numerically 0 or 1 occurred\"\n",
      "Warning message:\n",
      "\"glm.fit: fitted probabilities numerically 0 or 1 occurred\"\n"
     ]
    },
    {
     "name": "stdout",
     "output_type": "stream",
     "text": [
      "                  Df Deviance    AIC\n",
      "- ownerChange      1   40.768 74.768\n",
      "- surplus1         1   41.222 75.222\n",
      "<none>                 39.857 75.857\n",
      "- employee1        1   41.989 75.989\n",
      "- debt1            1   42.843 76.843\n",
      "- receivableS1     1   42.904 76.904\n",
      "+ ctax1            1   39.472 77.472\n",
      "+ bedCount         1   39.780 77.780\n",
      "+ OnonCAsset1      1   39.804 77.804\n",
      "+ salary1          1   39.830 77.830\n",
      "+ receivableL1     1   39.857 77.857\n",
      "- sga1             1   44.019 78.019\n",
      "- inventoryAsset1  1   44.127 78.127\n",
      "- revenue1         1   44.245 78.245\n",
      "- salescost1       1   44.304 78.304\n",
      "- noe1             1   44.394 78.394\n",
      "- liquidAsset1     1   44.603 78.603\n",
      "- profit1          1   44.616 78.616\n",
      "- quickAsset1      1   44.639 78.639\n",
      "- tanAsset1        1   44.688 78.688\n",
      "- noi1             1   45.422 79.422\n",
      "- nonCAsset1       1   45.723 79.723\n",
      "- interest1        1   48.247 82.247\n"
     ]
    },
    {
     "name": "stderr",
     "output_type": "stream",
     "text": [
      "Warning message:\n",
      "\"glm.fit: fitted probabilities numerically 0 or 1 occurred\"\n"
     ]
    },
    {
     "name": "stdout",
     "output_type": "stream",
     "text": [
      "\n",
      "Step:  AIC=74.77\n",
      "OC ~ revenue1 + salescost1 + sga1 + noi1 + noe1 + interest1 + \n",
      "    profit1 + liquidAsset1 + quickAsset1 + receivableS1 + inventoryAsset1 + \n",
      "    nonCAsset1 + tanAsset1 + debt1 + surplus1 + employee1\n",
      "\n"
     ]
    },
    {
     "name": "stderr",
     "output_type": "stream",
     "text": [
      "Warning message:\n",
      "\"glm.fit: fitted probabilities numerically 0 or 1 occurred\"\n",
      "Warning message:\n",
      "\"glm.fit: fitted probabilities numerically 0 or 1 occurred\"\n",
      "Warning message:\n",
      "\"glm.fit: fitted probabilities numerically 0 or 1 occurred\"\n",
      "Warning message:\n",
      "\"glm.fit: fitted probabilities numerically 0 or 1 occurred\"\n",
      "Warning message:\n",
      "\"glm.fit: fitted probabilities numerically 0 or 1 occurred\"\n",
      "Warning message:\n",
      "\"glm.fit: fitted probabilities numerically 0 or 1 occurred\"\n",
      "Warning message:\n",
      "\"glm.fit: fitted probabilities numerically 0 or 1 occurred\"\n",
      "Warning message:\n",
      "\"glm.fit: fitted probabilities numerically 0 or 1 occurred\"\n",
      "Warning message:\n",
      "\"glm.fit: fitted probabilities numerically 0 or 1 occurred\"\n",
      "Warning message:\n",
      "\"glm.fit: fitted probabilities numerically 0 or 1 occurred\"\n",
      "Warning message:\n",
      "\"glm.fit: fitted probabilities numerically 0 or 1 occurred\"\n",
      "Warning message:\n",
      "\"glm.fit: fitted probabilities numerically 0 or 1 occurred\"\n",
      "Warning message:\n",
      "\"glm.fit: fitted probabilities numerically 0 or 1 occurred\"\n",
      "Warning message:\n",
      "\"glm.fit: fitted probabilities numerically 0 or 1 occurred\"\n",
      "Warning message:\n",
      "\"glm.fit: fitted probabilities numerically 0 or 1 occurred\"\n",
      "Warning message:\n",
      "\"glm.fit: fitted probabilities numerically 0 or 1 occurred\"\n",
      "Warning message:\n",
      "\"glm.fit: fitted probabilities numerically 0 or 1 occurred\"\n",
      "Warning message:\n",
      "\"glm.fit: fitted probabilities numerically 0 or 1 occurred\"\n",
      "Warning message:\n",
      "\"glm.fit: fitted probabilities numerically 0 or 1 occurred\"\n",
      "Warning message:\n",
      "\"glm.fit: fitted probabilities numerically 0 or 1 occurred\"\n",
      "Warning message:\n",
      "\"glm.fit: fitted probabilities numerically 0 or 1 occurred\"\n",
      "Warning message:\n",
      "\"glm.fit: fitted probabilities numerically 0 or 1 occurred\"\n",
      "Warning message:\n",
      "\"glm.fit: fitted probabilities numerically 0 or 1 occurred\"\n"
     ]
    },
    {
     "name": "stdout",
     "output_type": "stream",
     "text": [
      "                  Df Deviance    AIC\n",
      "- surplus1         1   41.913 73.913\n",
      "<none>                 40.768 74.768\n",
      "- employee1        1   43.327 75.327\n",
      "- receivableS1     1   43.842 75.842\n",
      "+ ownerChange      1   39.857 75.857\n",
      "+ ctax1            1   40.267 76.267\n",
      "- sga1             1   44.529 76.529\n",
      "+ OnonCAsset1      1   40.623 76.623\n",
      "+ bedCount         1   40.664 76.664\n",
      "+ salary1          1   40.752 76.752\n",
      "- revenue1         1   44.766 76.766\n",
      "+ receivableL1     1   40.768 76.768\n",
      "- salescost1       1   44.817 76.817\n",
      "- debt1            1   44.866 76.866\n",
      "- noe1             1   44.933 76.933\n",
      "- profit1          1   45.174 77.174\n",
      "- tanAsset1        1   45.605 77.605\n",
      "- inventoryAsset1  1   45.857 77.857\n",
      "- noi1             1   45.952 77.952\n",
      "- liquidAsset1     1   46.559 78.559\n",
      "- quickAsset1      1   46.592 78.592\n",
      "- nonCAsset1       1   46.928 78.928\n",
      "- interest1        1   51.020 83.020\n"
     ]
    },
    {
     "name": "stderr",
     "output_type": "stream",
     "text": [
      "Warning message:\n",
      "\"glm.fit: fitted probabilities numerically 0 or 1 occurred\"\n"
     ]
    },
    {
     "name": "stdout",
     "output_type": "stream",
     "text": [
      "\n",
      "Step:  AIC=73.91\n",
      "OC ~ revenue1 + salescost1 + sga1 + noi1 + noe1 + interest1 + \n",
      "    profit1 + liquidAsset1 + quickAsset1 + receivableS1 + inventoryAsset1 + \n",
      "    nonCAsset1 + tanAsset1 + debt1 + employee1\n",
      "\n"
     ]
    },
    {
     "name": "stderr",
     "output_type": "stream",
     "text": [
      "Warning message:\n",
      "\"glm.fit: fitted probabilities numerically 0 or 1 occurred\"\n",
      "Warning message:\n",
      "\"glm.fit: fitted probabilities numerically 0 or 1 occurred\"\n",
      "Warning message:\n",
      "\"glm.fit: fitted probabilities numerically 0 or 1 occurred\"\n",
      "Warning message:\n",
      "\"glm.fit: fitted probabilities numerically 0 or 1 occurred\"\n",
      "Warning message:\n",
      "\"glm.fit: fitted probabilities numerically 0 or 1 occurred\"\n",
      "Warning message:\n",
      "\"glm.fit: fitted probabilities numerically 0 or 1 occurred\"\n",
      "Warning message:\n",
      "\"glm.fit: fitted probabilities numerically 0 or 1 occurred\"\n",
      "Warning message:\n",
      "\"glm.fit: fitted probabilities numerically 0 or 1 occurred\"\n",
      "Warning message:\n",
      "\"glm.fit: fitted probabilities numerically 0 or 1 occurred\"\n",
      "Warning message:\n",
      "\"glm.fit: fitted probabilities numerically 0 or 1 occurred\"\n",
      "Warning message:\n",
      "\"glm.fit: fitted probabilities numerically 0 or 1 occurred\"\n",
      "Warning message:\n",
      "\"glm.fit: fitted probabilities numerically 0 or 1 occurred\"\n",
      "Warning message:\n",
      "\"glm.fit: fitted probabilities numerically 0 or 1 occurred\"\n",
      "Warning message:\n",
      "\"glm.fit: fitted probabilities numerically 0 or 1 occurred\"\n",
      "Warning message:\n",
      "\"glm.fit: fitted probabilities numerically 0 or 1 occurred\"\n",
      "Warning message:\n",
      "\"glm.fit: fitted probabilities numerically 0 or 1 occurred\"\n",
      "Warning message:\n",
      "\"glm.fit: fitted probabilities numerically 0 or 1 occurred\"\n",
      "Warning message:\n",
      "\"glm.fit: fitted probabilities numerically 0 or 1 occurred\"\n",
      "Warning message:\n",
      "\"glm.fit: fitted probabilities numerically 0 or 1 occurred\"\n",
      "Warning message:\n",
      "\"glm.fit: fitted probabilities numerically 0 or 1 occurred\"\n",
      "Warning message:\n",
      "\"glm.fit: fitted probabilities numerically 0 or 1 occurred\"\n",
      "Warning message:\n",
      "\"glm.fit: fitted probabilities numerically 0 or 1 occurred\"\n",
      "Warning message:\n",
      "\"glm.fit: fitted probabilities numerically 0 or 1 occurred\"\n"
     ]
    },
    {
     "name": "stdout",
     "output_type": "stream",
     "text": [
      "                  Df Deviance    AIC\n",
      "<none>                 41.913 73.913\n",
      "+ surplus1         1   40.768 74.768\n",
      "- sga1             1   44.822 74.822\n",
      "- receivableS1     1   44.987 74.987\n",
      "- revenue1         1   45.104 75.104\n",
      "- salescost1       1   45.172 75.172\n",
      "- employee1        1   45.181 75.181\n",
      "- noe1             1   45.221 75.221\n",
      "+ ownerChange      1   41.222 75.222\n",
      "- debt1            1   45.370 75.370\n",
      "- profit1          1   45.598 75.598\n",
      "+ bedCount         1   41.655 75.655\n",
      "+ OnonCAsset1      1   41.830 75.830\n",
      "- tanAsset1        1   45.847 75.847\n",
      "+ salary1          1   41.892 75.892\n",
      "+ receivableL1     1   41.913 75.913\n",
      "+ ctax1            1   41.913 75.913\n",
      "- noi1             1   46.110 76.110\n",
      "- nonCAsset1       1   47.031 77.031\n",
      "- inventoryAsset1  1   49.319 79.319\n",
      "- liquidAsset1     1   49.995 79.995\n",
      "- quickAsset1      1   50.045 80.045\n",
      "- interest1        1   51.947 81.947\n"
     ]
    }
   ],
   "source": [
    "stepwise = step(logis_fit, direction = 'both')"
   ]
  },
  {
   "cell_type": "code",
   "execution_count": 24,
   "metadata": {},
   "outputs": [
    {
     "data": {
      "text/plain": [
       "\n",
       "Call:\n",
       "glm(formula = OC ~ revenue1 + salescost1 + sga1 + noi1 + noe1 + \n",
       "    interest1 + profit1 + liquidAsset1 + quickAsset1 + receivableS1 + \n",
       "    inventoryAsset1 + nonCAsset1 + tanAsset1 + debt1 + employee1, \n",
       "    family = binomial, data = train, maxit = 100)\n",
       "\n",
       "Deviance Residuals: \n",
       "     Min        1Q    Median        3Q       Max  \n",
       "-2.70186   0.00000   0.03618   0.19289   1.29194  \n",
       "\n",
       "Coefficients:\n",
       "                  Estimate Std. Error z value Pr(>|z|)    \n",
       "(Intercept)      3.071e+00  8.601e-01   3.571 0.000356 ***\n",
       "revenue1         3.274e-08  2.998e-08   1.092 0.274823    \n",
       "salescost1      -3.293e-08  3.000e-08  -1.098 0.272419    \n",
       "sga1            -3.170e-08  2.993e-08  -1.059 0.289511    \n",
       "noi1             3.871e-08  3.082e-08   1.256 0.209169    \n",
       "noe1            -3.487e-08  3.069e-08  -1.136 0.255963    \n",
       "interest1       -1.853e-08  7.333e-09  -2.527 0.011513 *  \n",
       "profit1         -3.428e-08  3.009e-08  -1.140 0.254481    \n",
       "liquidAsset1     3.129e-03  1.535e-01   0.020 0.983733    \n",
       "quickAsset1     -3.129e-03  1.535e-01  -0.020 0.983733    \n",
       "receivableS1    -1.219e-09  6.978e-10  -1.746 0.080765 .  \n",
       "inventoryAsset1 -3.129e-03  1.535e-01  -0.020 0.983733    \n",
       "nonCAsset1      -2.200e-09  1.225e-09  -1.796 0.072514 .  \n",
       "tanAsset1        2.142e-09  1.335e-09   1.605 0.108532    \n",
       "debt1            7.086e-10  4.706e-10   1.506 0.132185    \n",
       "employee1       -9.294e-03  5.010e-03  -1.855 0.063563 .  \n",
       "---\n",
       "Signif. codes:  0 '***' 0.001 '**' 0.01 '*' 0.05 '.' 0.1 ' ' 1\n",
       "\n",
       "(Dispersion parameter for binomial family taken to be 1)\n",
       "\n",
       "    Null deviance: 80.407  on 209  degrees of freedom\n",
       "Residual deviance: 41.913  on 194  degrees of freedom\n",
       "AIC: 73.913\n",
       "\n",
       "Number of Fisher Scoring iterations: 34\n"
      ]
     },
     "metadata": {},
     "output_type": "display_data"
    }
   ],
   "source": [
    "summary(stepwise)"
   ]
  },
  {
   "cell_type": "markdown",
   "metadata": {},
   "source": [
    "단계적 선택법 결과 선택된 변수들:  \n",
    "* revenue1             \n",
    "* salescost1          \n",
    "* sga1                \n",
    "* noi1            \n",
    "* noe1             \n",
    "* interest1        \n",
    "* profit1          \n",
    "* liquidAsset1       \n",
    "* quickAsset1      \n",
    "* receivableS1    \n",
    "* inventoryAsset1 \n",
    "* nonCAsset1       \n",
    "* tanAsset1         \n",
    "* debt1              \n",
    "* employee1    "
   ]
  },
  {
   "cell_type": "code",
   "execution_count": 25,
   "metadata": {},
   "outputs": [
    {
     "data": {
      "text/html": [
       "0.89010989010989"
      ],
      "text/latex": [
       "0.89010989010989"
      ],
      "text/markdown": [
       "0.89010989010989"
      ],
      "text/plain": [
       "[1] 0.8901099"
      ]
     },
     "metadata": {},
     "output_type": "display_data"
    }
   ],
   "source": [
    "yhat = predict(stepwise, val, type = 'response')\n",
    "yhat = ifelse(yhat > 0.5, 1, 0)\n",
    "MLmetrics::Accuracy(yhat, val$OC)"
   ]
  },
  {
   "cell_type": "markdown",
   "metadata": {},
   "source": [
    "### [ 모델 2 랜덤포레스트 ]"
   ]
  },
  {
   "cell_type": "markdown",
   "metadata": {},
   "source": [
    "### 문제 4 그리드서치 결과 담을 데이터프레임 생성"
   ]
  },
  {
   "cell_type": "code",
   "execution_count": 26,
   "metadata": {},
   "outputs": [
    {
     "data": {
      "text/html": [
       "<table>\n",
       "<caption>A data.frame: 3 × 2</caption>\n",
       "<thead>\n",
       "\t<tr><th scope=col>mtry</th><th scope=col>acc</th></tr>\n",
       "\t<tr><th scope=col>&lt;dbl&gt;</th><th scope=col>&lt;lgl&gt;</th></tr>\n",
       "</thead>\n",
       "<tbody>\n",
       "\t<tr><td>3</td><td>NA</td></tr>\n",
       "\t<tr><td>4</td><td>NA</td></tr>\n",
       "\t<tr><td>5</td><td>NA</td></tr>\n",
       "</tbody>\n",
       "</table>\n"
      ],
      "text/latex": [
       "A data.frame: 3 × 2\n",
       "\\begin{tabular}{ll}\n",
       " mtry & acc\\\\\n",
       " <dbl> & <lgl>\\\\\n",
       "\\hline\n",
       "\t 3 & NA\\\\\n",
       "\t 4 & NA\\\\\n",
       "\t 5 & NA\\\\\n",
       "\\end{tabular}\n"
      ],
      "text/markdown": [
       "\n",
       "A data.frame: 3 × 2\n",
       "\n",
       "| mtry &lt;dbl&gt; | acc &lt;lgl&gt; |\n",
       "|---|---|\n",
       "| 3 | NA |\n",
       "| 4 | NA |\n",
       "| 5 | NA |\n",
       "\n"
      ],
      "text/plain": [
       "  mtry acc\n",
       "1 3    NA \n",
       "2 4    NA \n",
       "3 5    NA "
      ]
     },
     "metadata": {},
     "output_type": "display_data"
    }
   ],
   "source": [
    "acc_rf = expand.grid(mtry = c(3,4,5), acc = NA)\n",
    "acc_rf"
   ]
  },
  {
   "cell_type": "markdown",
   "metadata": {},
   "source": [
    "### 문제 5 randomforest 5-fold CV 그리드서치"
   ]
  },
  {
   "cell_type": "code",
   "execution_count": 27,
   "metadata": {},
   "outputs": [
    {
     "name": "stdout",
     "output_type": "stream",
     "text": [
      "[1] \"mtry : 3, ntree : 10\"\n",
      "[1] \"FOLD : 1\"\n",
      "[1] \"FOLD : 2\"\n",
      "[1] \"FOLD : 3\"\n",
      "[1] \"FOLD : 4\"\n",
      "[1] \"FOLD : 5\"\n",
      "[1] \"mtry : 4, ntree : 10\"\n",
      "[1] \"FOLD : 1\"\n",
      "[1] \"FOLD : 2\"\n",
      "[1] \"FOLD : 3\"\n",
      "[1] \"FOLD : 4\"\n",
      "[1] \"FOLD : 5\"\n",
      "[1] \"mtry : 5, ntree : 10\"\n",
      "[1] \"FOLD : 1\"\n",
      "[1] \"FOLD : 2\"\n",
      "[1] \"FOLD : 3\"\n",
      "[1] \"FOLD : 4\"\n",
      "[1] \"FOLD : 5\"\n"
     ]
    }
   ],
   "source": [
    "set.seed(1234)\n",
    "rf.cv <- createFolds(train$OC, k = 5, list = TRUE)\n",
    "\n",
    "train <- train %>% mutate_if(is.character, as.factor)\n",
    "\n",
    "for (i in 1:nrow(acc_rf)){\n",
    "  print(paste0(\"mtry : \", acc_rf$mtry[i], \", ntree : 10\"))\n",
    "  rf.acc_temp <- c()\n",
    "  \n",
    "  for (j in 1:5){\n",
    "    print(paste0(\"FOLD : \", j))\n",
    "    \n",
    "    rf.vali_inx <- rf.cv[[j]] \n",
    "    rf.train <- train[-rf.vali_inx,]\n",
    "    rf.val <- train[rf.vali_inx,]\n",
    "    \n",
    "    set.seed(1234)\n",
    "    rf_model <- randomForest(OC ~ revenue1 + salescost1 + sga1 + noi1 + noe1 + \n",
    "                                interest1 + profit1 + liquidAsset1 + quickAsset1 +\n",
    "                                receivableS1 + inventoryAsset1 + nonCAsset1 + tanAsset1 + \n",
    "                                debt1 + employee1, \n",
    "                                data = rf.train, mtry = acc_rf$mtry[i], ntree = 10)\n",
    "    \n",
    "    rf.yhat = predict(rf_model, newdata = dplyr::select(rf.val, c(revenue1, salescost1, sga1, noi1, noe1, \n",
    "                             interest1, profit1, liquidAsset1, quickAsset1, receivableS1, inventoryAsset1, \n",
    "                             nonCAsset1, tanAsset1, debt1, employee1)))\n",
    "    rf.acc = MLmetrics::Accuracy(rf.yhat, rf.val$OC)\n",
    "    rf.acc_temp[j] = rf.acc\n",
    "  }\n",
    "  acc_rf[i,\"acc\"] = mean(rf.acc_temp)\n",
    "}"
   ]
  },
  {
   "cell_type": "code",
   "execution_count": 28,
   "metadata": {},
   "outputs": [
    {
     "data": {
      "text/html": [
       "<table>\n",
       "<caption>A data.frame: 3 × 2</caption>\n",
       "<thead>\n",
       "\t<tr><th scope=col>mtry</th><th scope=col>acc</th></tr>\n",
       "\t<tr><th scope=col>&lt;dbl&gt;</th><th scope=col>&lt;dbl&gt;</th></tr>\n",
       "</thead>\n",
       "<tbody>\n",
       "\t<tr><td>3</td><td>0.9380952</td></tr>\n",
       "\t<tr><td>4</td><td>0.9380952</td></tr>\n",
       "\t<tr><td>5</td><td>0.9333333</td></tr>\n",
       "</tbody>\n",
       "</table>\n"
      ],
      "text/latex": [
       "A data.frame: 3 × 2\n",
       "\\begin{tabular}{ll}\n",
       " mtry & acc\\\\\n",
       " <dbl> & <dbl>\\\\\n",
       "\\hline\n",
       "\t 3 & 0.9380952\\\\\n",
       "\t 4 & 0.9380952\\\\\n",
       "\t 5 & 0.9333333\\\\\n",
       "\\end{tabular}\n"
      ],
      "text/markdown": [
       "\n",
       "A data.frame: 3 × 2\n",
       "\n",
       "| mtry &lt;dbl&gt; | acc &lt;dbl&gt; |\n",
       "|---|---|\n",
       "| 3 | 0.9380952 |\n",
       "| 4 | 0.9380952 |\n",
       "| 5 | 0.9333333 |\n",
       "\n"
      ],
      "text/plain": [
       "  mtry acc      \n",
       "1 3    0.9380952\n",
       "2 4    0.9380952\n",
       "3 5    0.9333333"
      ]
     },
     "metadata": {},
     "output_type": "display_data"
    }
   ],
   "source": [
    "acc_rf"
   ]
  },
  {
   "cell_type": "markdown",
   "metadata": {},
   "source": [
    "### 문제 6 Accuracy가 가장 높은 파라미터 조합"
   ]
  },
  {
   "cell_type": "code",
   "execution_count": 29,
   "metadata": {},
   "outputs": [
    {
     "data": {
      "text/html": [
       "<table>\n",
       "<caption>A data.frame: 2 × 2</caption>\n",
       "<thead>\n",
       "\t<tr><th></th><th scope=col>mtry</th><th scope=col>acc</th></tr>\n",
       "\t<tr><th></th><th scope=col>&lt;dbl&gt;</th><th scope=col>&lt;dbl&gt;</th></tr>\n",
       "</thead>\n",
       "<tbody>\n",
       "\t<tr><th scope=row>1</th><td>3</td><td>0.9380952</td></tr>\n",
       "\t<tr><th scope=row>2</th><td>4</td><td>0.9380952</td></tr>\n",
       "</tbody>\n",
       "</table>\n"
      ],
      "text/latex": [
       "A data.frame: 2 × 2\n",
       "\\begin{tabular}{r|ll}\n",
       "  & mtry & acc\\\\\n",
       "  & <dbl> & <dbl>\\\\\n",
       "\\hline\n",
       "\t1 & 3 & 0.9380952\\\\\n",
       "\t2 & 4 & 0.9380952\\\\\n",
       "\\end{tabular}\n"
      ],
      "text/markdown": [
       "\n",
       "A data.frame: 2 × 2\n",
       "\n",
       "| <!--/--> | mtry &lt;dbl&gt; | acc &lt;dbl&gt; |\n",
       "|---|---|---|\n",
       "| 1 | 3 | 0.9380952 |\n",
       "| 2 | 4 | 0.9380952 |\n",
       "\n"
      ],
      "text/plain": [
       "  mtry acc      \n",
       "1 3    0.9380952\n",
       "2 4    0.9380952"
      ]
     },
     "metadata": {},
     "output_type": "display_data"
    }
   ],
   "source": [
    "acc_rf %>% subset(acc_rf$acc == max(acc_rf$acc))"
   ]
  },
  {
   "cell_type": "markdown",
   "metadata": {},
   "source": [
    "### 문제 7 최적의 파라미터로 모델 학습"
   ]
  },
  {
   "cell_type": "code",
   "execution_count": 30,
   "metadata": {},
   "outputs": [],
   "source": [
    "set.seed(1234)\n",
    "rf_fit <- randomForest(OC ~ revenue1 + salescost1 + sga1 + noi1 + noe1 + \n",
    "                       interest1 + profit1 + liquidAsset1 + quickAsset1 + \n",
    "                       receivableS1 + inventoryAsset1 + nonCAsset1 + tanAsset1 + \n",
    "                       debt1 + employee1,\n",
    "                       data = train, mtry = 3, ntree = 10)"
   ]
  },
  {
   "cell_type": "code",
   "execution_count": 31,
   "metadata": {},
   "outputs": [
    {
     "data": {
      "image/png": "[encoded data removed]",
      "text/plain": [
       "Plot with title \"rf_fit\""
      ]
     },
     "metadata": {
      "image/png": {
       "height": 300,
       "width": 600
      }
     },
     "output_type": "display_data"
    }
   ],
   "source": [
    "impplot = varImpPlot(rf_fit) %>% as.data.frame()\n",
    "impplot$variable = rownames(impplot)"
   ]
  },
  {
   "cell_type": "code",
   "execution_count": 32,
   "metadata": {},
   "outputs": [
    {
     "data": {
      "image/png": "[encoded data removed]",
      "text/plain": [
       "plot without title"
      ]
     },
     "metadata": {
      "image/png": {
       "height": 300,
       "width": 540
      }
     },
     "output_type": "display_data"
    }
   ],
   "source": [
    "options(repr.plot.width = 9, repr.plot.height = 5)\n",
    "impplot %>% ggplot(aes(x = MeanDecreaseGini, y = reorder(variable, MeanDecreaseGini))) + \n",
    "  geom_bar(stat = 'identity', aes(fill = 'pink'), show.legend = FALSE, width = 0.03) +\n",
    "  geom_point(aes(color = 'pink'), show.legend = FALSE) +\n",
    "  labs(y = 'Variable Name') +\n",
    "  theme(axis.line = element_line(colour = \"black\"),\n",
    "        panel.background = element_blank())"
   ]
  },
  {
   "cell_type": "markdown",
   "metadata": {},
   "source": [
    "MeanDecreaseGini값을 통해 quickAsset1 변수가 의사결정, 특히 노드 불순도 개선에 있어 가장 높은 중요도를 가지는 것으로 나타났고, revenu1, sga1, interest1, profit1 등이 그 뒤를 이었다. 이 변수들을 사용하면 불확실성을 줄여 더욱 정확하고 만족스러운 classification 결과를 얻을 수 있을 것으로 보인다. 반면 가장 중요치 않은 것으로 나타난 변수는 nonCAsset1이었다."
   ]
  },
  {
   "cell_type": "markdown",
   "metadata": {},
   "source": [
    "  "
   ]
  },
  {
   "cell_type": "markdown",
   "metadata": {},
   "source": [
    "  "
   ]
  },
  {
   "cell_type": "markdown",
   "metadata": {},
   "source": [
    "  "
   ]
  },
  {
   "cell_type": "markdown",
   "metadata": {},
   "source": [
    "## Chapter 3. 회귀 모델"
   ]
  },
  {
   "cell_type": "code",
   "execution_count": 33,
   "metadata": {},
   "outputs": [
    {
     "name": "stderr",
     "output_type": "stream",
     "text": [
      "\n",
      "Attaching package: 'MASS'\n",
      "\n",
      "\n",
      "The following object is masked from 'package:dplyr':\n",
      "\n",
      "    select\n",
      "\n",
      "\n"
     ]
    }
   ],
   "source": [
    "library(MASS)"
   ]
  },
  {
   "cell_type": "markdown",
   "metadata": {},
   "source": [
    "### 문제 1 train set과 test set 생성"
   ]
  },
  {
   "cell_type": "code",
   "execution_count": 34,
   "metadata": {},
   "outputs": [
    {
     "data": {
      "text/html": [
       "<table>\n",
       "<caption>A data.frame: 6 × 14</caption>\n",
       "<thead>\n",
       "\t<tr><th></th><th scope=col>crim</th><th scope=col>zn</th><th scope=col>indus</th><th scope=col>chas</th><th scope=col>nox</th><th scope=col>rm</th><th scope=col>age</th><th scope=col>dis</th><th scope=col>rad</th><th scope=col>tax</th><th scope=col>ptratio</th><th scope=col>black</th><th scope=col>lstat</th><th scope=col>medv</th></tr>\n",
       "\t<tr><th></th><th scope=col>&lt;dbl&gt;</th><th scope=col>&lt;dbl&gt;</th><th scope=col>&lt;dbl&gt;</th><th scope=col>&lt;int&gt;</th><th scope=col>&lt;dbl&gt;</th><th scope=col>&lt;dbl&gt;</th><th scope=col>&lt;dbl&gt;</th><th scope=col>&lt;dbl&gt;</th><th scope=col>&lt;int&gt;</th><th scope=col>&lt;dbl&gt;</th><th scope=col>&lt;dbl&gt;</th><th scope=col>&lt;dbl&gt;</th><th scope=col>&lt;dbl&gt;</th><th scope=col>&lt;dbl&gt;</th></tr>\n",
       "</thead>\n",
       "<tbody>\n",
       "\t<tr><th scope=row>1</th><td>0.00632</td><td>18</td><td>2.31</td><td>0</td><td>0.538</td><td>6.575</td><td>65.2</td><td>4.0900</td><td>1</td><td>296</td><td>15.3</td><td>396.90</td><td>4.98</td><td>24.0</td></tr>\n",
       "\t<tr><th scope=row>2</th><td>0.02731</td><td> 0</td><td>7.07</td><td>0</td><td>0.469</td><td>6.421</td><td>78.9</td><td>4.9671</td><td>2</td><td>242</td><td>17.8</td><td>396.90</td><td>9.14</td><td>21.6</td></tr>\n",
       "\t<tr><th scope=row>3</th><td>0.02729</td><td> 0</td><td>7.07</td><td>0</td><td>0.469</td><td>7.185</td><td>61.1</td><td>4.9671</td><td>2</td><td>242</td><td>17.8</td><td>392.83</td><td>4.03</td><td>34.7</td></tr>\n",
       "\t<tr><th scope=row>4</th><td>0.03237</td><td> 0</td><td>2.18</td><td>0</td><td>0.458</td><td>6.998</td><td>45.8</td><td>6.0622</td><td>3</td><td>222</td><td>18.7</td><td>394.63</td><td>2.94</td><td>33.4</td></tr>\n",
       "\t<tr><th scope=row>5</th><td>0.06905</td><td> 0</td><td>2.18</td><td>0</td><td>0.458</td><td>7.147</td><td>54.2</td><td>6.0622</td><td>3</td><td>222</td><td>18.7</td><td>396.90</td><td>5.33</td><td>36.2</td></tr>\n",
       "\t<tr><th scope=row>6</th><td>0.02985</td><td> 0</td><td>2.18</td><td>0</td><td>0.458</td><td>6.430</td><td>58.7</td><td>6.0622</td><td>3</td><td>222</td><td>18.7</td><td>394.12</td><td>5.21</td><td>28.7</td></tr>\n",
       "</tbody>\n",
       "</table>\n"
      ],
      "text/latex": [
       "A data.frame: 6 × 14\n",
       "\\begin{tabular}{r|llllllllllllll}\n",
       "  & crim & zn & indus & chas & nox & rm & age & dis & rad & tax & ptratio & black & lstat & medv\\\\\n",
       "  & <dbl> & <dbl> & <dbl> & <int> & <dbl> & <dbl> & <dbl> & <dbl> & <int> & <dbl> & <dbl> & <dbl> & <dbl> & <dbl>\\\\\n",
       "\\hline\n",
       "\t1 & 0.00632 & 18 & 2.31 & 0 & 0.538 & 6.575 & 65.2 & 4.0900 & 1 & 296 & 15.3 & 396.90 & 4.98 & 24.0\\\\\n",
       "\t2 & 0.02731 &  0 & 7.07 & 0 & 0.469 & 6.421 & 78.9 & 4.9671 & 2 & 242 & 17.8 & 396.90 & 9.14 & 21.6\\\\\n",
       "\t3 & 0.02729 &  0 & 7.07 & 0 & 0.469 & 7.185 & 61.1 & 4.9671 & 2 & 242 & 17.8 & 392.83 & 4.03 & 34.7\\\\\n",
       "\t4 & 0.03237 &  0 & 2.18 & 0 & 0.458 & 6.998 & 45.8 & 6.0622 & 3 & 222 & 18.7 & 394.63 & 2.94 & 33.4\\\\\n",
       "\t5 & 0.06905 &  0 & 2.18 & 0 & 0.458 & 7.147 & 54.2 & 6.0622 & 3 & 222 & 18.7 & 396.90 & 5.33 & 36.2\\\\\n",
       "\t6 & 0.02985 &  0 & 2.18 & 0 & 0.458 & 6.430 & 58.7 & 6.0622 & 3 & 222 & 18.7 & 394.12 & 5.21 & 28.7\\\\\n",
       "\\end{tabular}\n"
      ],
      "text/markdown": [
       "\n",
       "A data.frame: 6 × 14\n",
       "\n",
       "| <!--/--> | crim &lt;dbl&gt; | zn &lt;dbl&gt; | indus &lt;dbl&gt; | chas &lt;int&gt; | nox &lt;dbl&gt; | rm &lt;dbl&gt; | age &lt;dbl&gt; | dis &lt;dbl&gt; | rad &lt;int&gt; | tax &lt;dbl&gt; | ptratio &lt;dbl&gt; | black &lt;dbl&gt; | lstat &lt;dbl&gt; | medv &lt;dbl&gt; |\n",
       "|---|---|---|---|---|---|---|---|---|---|---|---|---|---|---|\n",
       "| 1 | 0.00632 | 18 | 2.31 | 0 | 0.538 | 6.575 | 65.2 | 4.0900 | 1 | 296 | 15.3 | 396.90 | 4.98 | 24.0 |\n",
       "| 2 | 0.02731 |  0 | 7.07 | 0 | 0.469 | 6.421 | 78.9 | 4.9671 | 2 | 242 | 17.8 | 396.90 | 9.14 | 21.6 |\n",
       "| 3 | 0.02729 |  0 | 7.07 | 0 | 0.469 | 7.185 | 61.1 | 4.9671 | 2 | 242 | 17.8 | 392.83 | 4.03 | 34.7 |\n",
       "| 4 | 0.03237 |  0 | 2.18 | 0 | 0.458 | 6.998 | 45.8 | 6.0622 | 3 | 222 | 18.7 | 394.63 | 2.94 | 33.4 |\n",
       "| 5 | 0.06905 |  0 | 2.18 | 0 | 0.458 | 7.147 | 54.2 | 6.0622 | 3 | 222 | 18.7 | 396.90 | 5.33 | 36.2 |\n",
       "| 6 | 0.02985 |  0 | 2.18 | 0 | 0.458 | 6.430 | 58.7 | 6.0622 | 3 | 222 | 18.7 | 394.12 | 5.21 | 28.7 |\n",
       "\n"
      ],
      "text/plain": [
       "  crim    zn indus chas nox   rm    age  dis    rad tax ptratio black  lstat\n",
       "1 0.00632 18 2.31  0    0.538 6.575 65.2 4.0900 1   296 15.3    396.90 4.98 \n",
       "2 0.02731  0 7.07  0    0.469 6.421 78.9 4.9671 2   242 17.8    396.90 9.14 \n",
       "3 0.02729  0 7.07  0    0.469 7.185 61.1 4.9671 2   242 17.8    392.83 4.03 \n",
       "4 0.03237  0 2.18  0    0.458 6.998 45.8 6.0622 3   222 18.7    394.63 2.94 \n",
       "5 0.06905  0 2.18  0    0.458 7.147 54.2 6.0622 3   222 18.7    396.90 5.33 \n",
       "6 0.02985  0 2.18  0    0.458 6.430 58.7 6.0622 3   222 18.7    394.12 5.21 \n",
       "  medv\n",
       "1 24.0\n",
       "2 21.6\n",
       "3 34.7\n",
       "4 33.4\n",
       "5 36.2\n",
       "6 28.7"
      ]
     },
     "metadata": {},
     "output_type": "display_data"
    }
   ],
   "source": [
    "Boston %>% head()"
   ]
  },
  {
   "cell_type": "code",
   "execution_count": 35,
   "metadata": {},
   "outputs": [],
   "source": [
    "set.seed(1234)\n",
    "test_idx = Boston$medv %>% createDataPartition(p = 0.2, list = FALSE)\n",
    "Bostrain = Boston[-test_idx, ]\n",
    "Bostest = Boston[test_idx, ]"
   ]
  },
  {
   "cell_type": "code",
   "execution_count": 36,
   "metadata": {},
   "outputs": [
    {
     "data": {
      "text/html": [
       "403"
      ],
      "text/latex": [
       "403"
      ],
      "text/markdown": [
       "403"
      ],
      "text/plain": [
       "[1] 403"
      ]
     },
     "metadata": {},
     "output_type": "display_data"
    },
    {
     "data": {
      "text/html": [
       "103"
      ],
      "text/latex": [
       "103"
      ],
      "text/markdown": [
       "103"
      ],
      "text/plain": [
       "[1] 103"
      ]
     },
     "metadata": {},
     "output_type": "display_data"
    }
   ],
   "source": [
    "Bostrain %>% nrow\n",
    "Bostest %>% nrow"
   ]
  },
  {
   "cell_type": "markdown",
   "metadata": {},
   "source": [
    "### 문제 2 그리드서치 결과 담을 데이터프레임 생성"
   ]
  },
  {
   "cell_type": "code",
   "execution_count": 37,
   "metadata": {},
   "outputs": [
    {
     "data": {
      "text/html": [
       "<table>\n",
       "<caption>A data.frame: 9 × 3</caption>\n",
       "<thead>\n",
       "\t<tr><th scope=col>mtry</th><th scope=col>ntree</th><th scope=col>RMSE</th></tr>\n",
       "\t<tr><th scope=col>&lt;dbl&gt;</th><th scope=col>&lt;dbl&gt;</th><th scope=col>&lt;lgl&gt;</th></tr>\n",
       "</thead>\n",
       "<tbody>\n",
       "\t<tr><td>3</td><td> 10</td><td>NA</td></tr>\n",
       "\t<tr><td>4</td><td> 10</td><td>NA</td></tr>\n",
       "\t<tr><td>5</td><td> 10</td><td>NA</td></tr>\n",
       "\t<tr><td>3</td><td>100</td><td>NA</td></tr>\n",
       "\t<tr><td>4</td><td>100</td><td>NA</td></tr>\n",
       "\t<tr><td>5</td><td>100</td><td>NA</td></tr>\n",
       "\t<tr><td>3</td><td>200</td><td>NA</td></tr>\n",
       "\t<tr><td>4</td><td>200</td><td>NA</td></tr>\n",
       "\t<tr><td>5</td><td>200</td><td>NA</td></tr>\n",
       "</tbody>\n",
       "</table>\n"
      ],
      "text/latex": [
       "A data.frame: 9 × 3\n",
       "\\begin{tabular}{lll}\n",
       " mtry & ntree & RMSE\\\\\n",
       " <dbl> & <dbl> & <lgl>\\\\\n",
       "\\hline\n",
       "\t 3 &  10 & NA\\\\\n",
       "\t 4 &  10 & NA\\\\\n",
       "\t 5 &  10 & NA\\\\\n",
       "\t 3 & 100 & NA\\\\\n",
       "\t 4 & 100 & NA\\\\\n",
       "\t 5 & 100 & NA\\\\\n",
       "\t 3 & 200 & NA\\\\\n",
       "\t 4 & 200 & NA\\\\\n",
       "\t 5 & 200 & NA\\\\\n",
       "\\end{tabular}\n"
      ],
      "text/markdown": [
       "\n",
       "A data.frame: 9 × 3\n",
       "\n",
       "| mtry &lt;dbl&gt; | ntree &lt;dbl&gt; | RMSE &lt;lgl&gt; |\n",
       "|---|---|---|\n",
       "| 3 |  10 | NA |\n",
       "| 4 |  10 | NA |\n",
       "| 5 |  10 | NA |\n",
       "| 3 | 100 | NA |\n",
       "| 4 | 100 | NA |\n",
       "| 5 | 100 | NA |\n",
       "| 3 | 200 | NA |\n",
       "| 4 | 200 | NA |\n",
       "| 5 | 200 | NA |\n",
       "\n"
      ],
      "text/plain": [
       "  mtry ntree RMSE\n",
       "1 3     10   NA  \n",
       "2 4     10   NA  \n",
       "3 5     10   NA  \n",
       "4 3    100   NA  \n",
       "5 4    100   NA  \n",
       "6 5    100   NA  \n",
       "7 3    200   NA  \n",
       "8 4    200   NA  \n",
       "9 5    200   NA  "
      ]
     },
     "metadata": {},
     "output_type": "display_data"
    }
   ],
   "source": [
    "RMSE_rf = expand.grid(mtry = c(3,4,5), ntree = c(10,100,200), RMSE = NA)\n",
    "RMSE_rf"
   ]
  },
  {
   "cell_type": "markdown",
   "metadata": {},
   "source": [
    "### 문제 3 randomforest 5-fold CV 그리드서치"
   ]
  },
  {
   "cell_type": "code",
   "execution_count": 38,
   "metadata": {},
   "outputs": [
    {
     "name": "stdout",
     "output_type": "stream",
     "text": [
      "[1] \"mtry : 3, ntree : 10\"\n",
      "[1] \"FOLD : 1\"\n",
      "[1] \"FOLD : 2\"\n",
      "[1] \"FOLD : 3\"\n",
      "[1] \"FOLD : 4\"\n",
      "[1] \"FOLD : 5\"\n",
      "[1] \"mtry : 4, ntree : 10\"\n",
      "[1] \"FOLD : 1\"\n",
      "[1] \"FOLD : 2\"\n",
      "[1] \"FOLD : 3\"\n",
      "[1] \"FOLD : 4\"\n",
      "[1] \"FOLD : 5\"\n",
      "[1] \"mtry : 5, ntree : 10\"\n",
      "[1] \"FOLD : 1\"\n",
      "[1] \"FOLD : 2\"\n",
      "[1] \"FOLD : 3\"\n",
      "[1] \"FOLD : 4\"\n",
      "[1] \"FOLD : 5\"\n",
      "[1] \"mtry : 3, ntree : 100\"\n",
      "[1] \"FOLD : 1\"\n",
      "[1] \"FOLD : 2\"\n",
      "[1] \"FOLD : 3\"\n",
      "[1] \"FOLD : 4\"\n",
      "[1] \"FOLD : 5\"\n",
      "[1] \"mtry : 4, ntree : 100\"\n",
      "[1] \"FOLD : 1\"\n",
      "[1] \"FOLD : 2\"\n",
      "[1] \"FOLD : 3\"\n",
      "[1] \"FOLD : 4\"\n",
      "[1] \"FOLD : 5\"\n",
      "[1] \"mtry : 5, ntree : 100\"\n",
      "[1] \"FOLD : 1\"\n",
      "[1] \"FOLD : 2\"\n",
      "[1] \"FOLD : 3\"\n",
      "[1] \"FOLD : 4\"\n",
      "[1] \"FOLD : 5\"\n",
      "[1] \"mtry : 3, ntree : 200\"\n",
      "[1] \"FOLD : 1\"\n",
      "[1] \"FOLD : 2\"\n",
      "[1] \"FOLD : 3\"\n",
      "[1] \"FOLD : 4\"\n",
      "[1] \"FOLD : 5\"\n",
      "[1] \"mtry : 4, ntree : 200\"\n",
      "[1] \"FOLD : 1\"\n",
      "[1] \"FOLD : 2\"\n",
      "[1] \"FOLD : 3\"\n",
      "[1] \"FOLD : 4\"\n",
      "[1] \"FOLD : 5\"\n",
      "[1] \"mtry : 5, ntree : 200\"\n",
      "[1] \"FOLD : 1\"\n",
      "[1] \"FOLD : 2\"\n",
      "[1] \"FOLD : 3\"\n",
      "[1] \"FOLD : 4\"\n",
      "[1] \"FOLD : 5\"\n"
     ]
    }
   ],
   "source": [
    "set.seed(1234)\n",
    "rf.cv <- createFolds(Bostrain$medv, k = 5, list = TRUE)\n",
    "\n",
    "Bostrain$chas <- Bostrain$chas %>% as.factor()\n",
    "\n",
    "for (i in 1:nrow(RMSE_rf)){\n",
    "  print(paste0(\"mtry : \", RMSE_rf$mtry[i], \", ntree : \", RMSE_rf$ntree[i]))\n",
    "  rf.RMSE_temp <- c()\n",
    "  \n",
    "  for (j in 1:5){\n",
    "    print(paste0(\"FOLD : \", j))\n",
    "    \n",
    "    rf.vali_inx <- rf.cv[[j]] \n",
    "    rf.train <- Bostrain[-rf.vali_inx,]\n",
    "    rf.val <- Bostrain[rf.vali_inx,]\n",
    "    \n",
    "    set.seed(1234)\n",
    "    rf_model <- randomForest(medv ~ ., data = rf.train, mtry = RMSE_rf$mtry[i], ntree = RMSE_rf$ntree[i])\n",
    "    rf.yhat = predict(rf_model, newdata = dplyr::select(rf.val, -medv))\n",
    "      \n",
    "    rf.RMSE = MLmetrics::RMSE(rf.yhat, rf.val$medv)\n",
    "    rf.RMSE_temp[j] = rf.RMSE\n",
    "  }\n",
    "  RMSE_rf[i,\"RMSE\"] = mean(rf.RMSE_temp)\n",
    "}"
   ]
  },
  {
   "cell_type": "code",
   "execution_count": 39,
   "metadata": {},
   "outputs": [
    {
     "data": {
      "text/html": [
       "<table>\n",
       "<caption>A data.frame: 9 × 3</caption>\n",
       "<thead>\n",
       "\t<tr><th scope=col>mtry</th><th scope=col>ntree</th><th scope=col>RMSE</th></tr>\n",
       "\t<tr><th scope=col>&lt;dbl&gt;</th><th scope=col>&lt;dbl&gt;</th><th scope=col>&lt;dbl&gt;</th></tr>\n",
       "</thead>\n",
       "<tbody>\n",
       "\t<tr><td>3</td><td> 10</td><td>3.751175</td></tr>\n",
       "\t<tr><td>4</td><td> 10</td><td>3.750996</td></tr>\n",
       "\t<tr><td>5</td><td> 10</td><td>3.706612</td></tr>\n",
       "\t<tr><td>3</td><td>100</td><td>3.527113</td></tr>\n",
       "\t<tr><td>4</td><td>100</td><td>3.521439</td></tr>\n",
       "\t<tr><td>5</td><td>100</td><td>3.518209</td></tr>\n",
       "\t<tr><td>3</td><td>200</td><td>3.538739</td></tr>\n",
       "\t<tr><td>4</td><td>200</td><td>3.504482</td></tr>\n",
       "\t<tr><td>5</td><td>200</td><td>3.488622</td></tr>\n",
       "</tbody>\n",
       "</table>\n"
      ],
      "text/latex": [
       "A data.frame: 9 × 3\n",
       "\\begin{tabular}{lll}\n",
       " mtry & ntree & RMSE\\\\\n",
       " <dbl> & <dbl> & <dbl>\\\\\n",
       "\\hline\n",
       "\t 3 &  10 & 3.751175\\\\\n",
       "\t 4 &  10 & 3.750996\\\\\n",
       "\t 5 &  10 & 3.706612\\\\\n",
       "\t 3 & 100 & 3.527113\\\\\n",
       "\t 4 & 100 & 3.521439\\\\\n",
       "\t 5 & 100 & 3.518209\\\\\n",
       "\t 3 & 200 & 3.538739\\\\\n",
       "\t 4 & 200 & 3.504482\\\\\n",
       "\t 5 & 200 & 3.488622\\\\\n",
       "\\end{tabular}\n"
      ],
      "text/markdown": [
       "\n",
       "A data.frame: 9 × 3\n",
       "\n",
       "| mtry &lt;dbl&gt; | ntree &lt;dbl&gt; | RMSE &lt;dbl&gt; |\n",
       "|---|---|---|\n",
       "| 3 |  10 | 3.751175 |\n",
       "| 4 |  10 | 3.750996 |\n",
       "| 5 |  10 | 3.706612 |\n",
       "| 3 | 100 | 3.527113 |\n",
       "| 4 | 100 | 3.521439 |\n",
       "| 5 | 100 | 3.518209 |\n",
       "| 3 | 200 | 3.538739 |\n",
       "| 4 | 200 | 3.504482 |\n",
       "| 5 | 200 | 3.488622 |\n",
       "\n"
      ],
      "text/plain": [
       "  mtry ntree RMSE    \n",
       "1 3     10   3.751175\n",
       "2 4     10   3.750996\n",
       "3 5     10   3.706612\n",
       "4 3    100   3.527113\n",
       "5 4    100   3.521439\n",
       "6 5    100   3.518209\n",
       "7 3    200   3.538739\n",
       "8 4    200   3.504482\n",
       "9 5    200   3.488622"
      ]
     },
     "metadata": {},
     "output_type": "display_data"
    }
   ],
   "source": [
    "RMSE_rf"
   ]
  },
  {
   "cell_type": "markdown",
   "metadata": {},
   "source": [
    "### 문제 4 RMSE가 가장 낮은 파라미터 조합"
   ]
  },
  {
   "cell_type": "code",
   "execution_count": 40,
   "metadata": {},
   "outputs": [
    {
     "data": {
      "text/html": [
       "<table>\n",
       "<caption>A data.frame: 1 × 3</caption>\n",
       "<thead>\n",
       "\t<tr><th></th><th scope=col>mtry</th><th scope=col>ntree</th><th scope=col>RMSE</th></tr>\n",
       "\t<tr><th></th><th scope=col>&lt;dbl&gt;</th><th scope=col>&lt;dbl&gt;</th><th scope=col>&lt;dbl&gt;</th></tr>\n",
       "</thead>\n",
       "<tbody>\n",
       "\t<tr><th scope=row>9</th><td>5</td><td>200</td><td>3.488622</td></tr>\n",
       "</tbody>\n",
       "</table>\n"
      ],
      "text/latex": [
       "A data.frame: 1 × 3\n",
       "\\begin{tabular}{r|lll}\n",
       "  & mtry & ntree & RMSE\\\\\n",
       "  & <dbl> & <dbl> & <dbl>\\\\\n",
       "\\hline\n",
       "\t9 & 5 & 200 & 3.488622\\\\\n",
       "\\end{tabular}\n"
      ],
      "text/markdown": [
       "\n",
       "A data.frame: 1 × 3\n",
       "\n",
       "| <!--/--> | mtry &lt;dbl&gt; | ntree &lt;dbl&gt; | RMSE &lt;dbl&gt; |\n",
       "|---|---|---|---|\n",
       "| 9 | 5 | 200 | 3.488622 |\n",
       "\n"
      ],
      "text/plain": [
       "  mtry ntree RMSE    \n",
       "9 5    200   3.488622"
      ]
     },
     "metadata": {},
     "output_type": "display_data"
    }
   ],
   "source": [
    "RMSE_rf %>% subset(RMSE_rf$RMSE == min(RMSE_rf$RMSE))"
   ]
  },
  {
   "cell_type": "markdown",
   "metadata": {},
   "source": [
    "### 문제 5 최적의 파라미터로 모델 학습"
   ]
  },
  {
   "cell_type": "code",
   "execution_count": 41,
   "metadata": {},
   "outputs": [
    {
     "data": {
      "text/html": [
       "4.08438522035639"
      ],
      "text/latex": [
       "4.08438522035639"
      ],
      "text/markdown": [
       "4.08438522035639"
      ],
      "text/plain": [
       "[1] 4.084385"
      ]
     },
     "metadata": {},
     "output_type": "display_data"
    }
   ],
   "source": [
    "Bostest$chas = Bostest$chas %>% as.factor()\n",
    "\n",
    "set.seed(1234)\n",
    "rf_fit = randomForest(medv ~ ., data = Bostrain, mtry = 5, ntree = 200)\n",
    "rf.yhat = predict(rf_fit, newdata = dplyr::select(Bostest, -medv))\n",
    "MLmetrics::RMSE(rf.yhat, Bostest$medv)"
   ]
  }
 ],
 "metadata": {
  "kernelspec": {
   "display_name": "R 4.0.3",
   "language": "R",
   "name": "ir403"
  },
  "language_info": {
   "codemirror_mode": "r",
   "file_extension": ".r",
   "mimetype": "text/x-r-source",
   "name": "R",
   "pygments_lexer": "r",
   "version": "4.0.3"
  }
 },
 "nbformat": 4,
 "nbformat_minor": 4
}
